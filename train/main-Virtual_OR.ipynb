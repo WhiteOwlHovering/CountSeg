{
 "cells": [
  {
   "cell_type": "markdown",
   "metadata": {},
   "source": [
    "## Weakly Supervised Instance Segmentation using Class Peak Response \n",
    "### Training code"
   ]
  },
  {
   "cell_type": "code",
   "execution_count": 1,
   "metadata": {
    "scrolled": true
   },
   "outputs": [
    {
     "name": "stdout",
     "output_type": "stream",
     "text": [
      "loading annotations into memory...\n",
      "Done (t=4.29s)\n",
      "creating index...\n",
      "index created!\n",
      "5524\n",
      "loading annotations into memory...\n",
      "Done (t=1.05s)\n",
      "creating index...\n",
      "index created!\n",
      "789\n",
      "<function PeakResponseMapping._median_filter at 0x7f9a253d88c8>\n",
      "addedmodule5\n",
      "enable_peak_stimulation on\n",
      "[2019-11-10 11:24:47,480] _name: network_trainer\n",
      "data_loaders:\n",
      "  _name: fetch_data\n",
      "  dataset: \n",
      "    _name: virtual_OR_classification\n",
      "    data_dir: ../../../../../../../media/James/BigData/Virtual_OR_Dataset/     \n",
      "    year: 2019\n",
      "  batch_size: 20\n",
      "  num_workers: 4\n",
      "  dataloader_flag: counting    ##control how to load data\n",
      "  transform:\n",
      "    _name: image_transform\n",
      "    image_size: [448, 448]\n",
      "    mean: [0.485, 0.456, 0.406]\n",
      "    std: [0.229, 0.224, 0.225]\n",
      "  train_augmentation:\n",
      "    horizontal_flip: 0.5\n",
      "  test_batch_size: 1          ## only support test batch of 1\n",
      "  train_splits:\n",
      "    - train\n",
      "  test_splits:\n",
      "    - val\n",
      "model:\n",
      "  _name: peak_response_mapping\n",
      "  backbone:\n",
      "    _name: fc_resnet50\n",
      "    channels: 30\n",
      "  win_size: 3\n",
      "  sub_pixel_locating_factor: 1\n",
      "  enable_peak_stimulation: true\n",
      "  peak_stimulation: addedmodule5\n",
      "criterion1:\n",
      "  _name: class_reg_loss98_6                ## loss used in the first stage of the algorithm\n",
      "criterion2:\n",
      "  _name: class_reg_loss96_7_6               ## loss used in the second stage of the algorithm\n",
      "optimizer:\n",
      "  _name: sgd_optimizer\n",
      "  lr: 0.01\n",
      "  momentum: 0.9\n",
      "  weight_decay: 1.0e-4\n",
      "parameter:\n",
      "  _name: finetune\n",
      "  base_lr: 0.01\n",
      "  groups:\n",
      "    'features': 0.01\n",
      "meters:\n",
      "  loss:\n",
      "    _name: loss_meter\n",
      "max_epoch: 300\n",
      "device: cuda\n",
      "epoch_stage1: 20\n",
      "train_method: joint_train\n",
      "path_history: ../../../../../../../media/James/BigData/CountSeg_output/vOR_counting        ## path for saving checkpoints and training history\n",
      "hooks:\n",
      "  on_start:\n",
      "    -\n",
      "      _name: print_state\n",
      "      formats:\n",
      "        - '@CONFIG'\n",
      "        - 'Model: {model}'\n",
      "      join_str: '\\n'\n",
      "  on_end_epoch: \n",
      "    - \n",
      "      _name: print_state\n",
      "      formats:\n",
      "        - 'epoch: {epoch_idx}'\n",
      "        - 'classification_loss: {metrics[train_loss]:.4f}'\n",
      "  save_checkpoints: \n",
      "    -\n",
      "      _name: checkpoint\n",
      "      save_step: 1     ## save checkpoint step, negative step means not saving\n",
      "Model: DataParallel(\n",
      "  (module): PeakResponseMapping(\n",
      "    (backbond): FC_ResNet(\n",
      "      (features): Sequential(\n",
      "        (0): Conv2d(3, 64, kernel_size=(7, 7), stride=(2, 2), padding=(3, 3), bias=False)\n",
      "        (1): BatchNorm2d(64, eps=1e-05, momentum=0.1, affine=True, track_running_stats=True)\n",
      "        (2): ReLU(inplace)\n",
      "        (3): MaxPool2d(kernel_size=3, stride=2, padding=1, dilation=1, ceil_mode=False)\n",
      "        (4): Sequential(\n",
      "          (0): Bottleneck(\n",
      "            (conv1): Conv2d(64, 64, kernel_size=(1, 1), stride=(1, 1), bias=False)\n",
      "            (bn1): BatchNorm2d(64, eps=1e-05, momentum=0.1, affine=True, track_running_stats=True)\n",
      "            (conv2): Conv2d(64, 64, kernel_size=(3, 3), stride=(1, 1), padding=(1, 1), bias=False)\n",
      "            (bn2): BatchNorm2d(64, eps=1e-05, momentum=0.1, affine=True, track_running_stats=True)\n",
      "            (conv3): Conv2d(64, 256, kernel_size=(1, 1), stride=(1, 1), bias=False)\n",
      "            (bn3): BatchNorm2d(256, eps=1e-05, momentum=0.1, affine=True, track_running_stats=True)\n",
      "            (relu): ReLU(inplace)\n",
      "            (downsample): Sequential(\n",
      "              (0): Conv2d(64, 256, kernel_size=(1, 1), stride=(1, 1), bias=False)\n",
      "              (1): BatchNorm2d(256, eps=1e-05, momentum=0.1, affine=True, track_running_stats=True)\n",
      "            )\n",
      "          )\n",
      "          (1): Bottleneck(\n",
      "            (conv1): Conv2d(256, 64, kernel_size=(1, 1), stride=(1, 1), bias=False)\n",
      "            (bn1): BatchNorm2d(64, eps=1e-05, momentum=0.1, affine=True, track_running_stats=True)\n",
      "            (conv2): Conv2d(64, 64, kernel_size=(3, 3), stride=(1, 1), padding=(1, 1), bias=False)\n",
      "            (bn2): BatchNorm2d(64, eps=1e-05, momentum=0.1, affine=True, track_running_stats=True)\n",
      "            (conv3): Conv2d(64, 256, kernel_size=(1, 1), stride=(1, 1), bias=False)\n",
      "            (bn3): BatchNorm2d(256, eps=1e-05, momentum=0.1, affine=True, track_running_stats=True)\n",
      "            (relu): ReLU(inplace)\n",
      "          )\n",
      "          (2): Bottleneck(\n",
      "            (conv1): Conv2d(256, 64, kernel_size=(1, 1), stride=(1, 1), bias=False)\n",
      "            (bn1): BatchNorm2d(64, eps=1e-05, momentum=0.1, affine=True, track_running_stats=True)\n",
      "            (conv2): Conv2d(64, 64, kernel_size=(3, 3), stride=(1, 1), padding=(1, 1), bias=False)\n",
      "            (bn2): BatchNorm2d(64, eps=1e-05, momentum=0.1, affine=True, track_running_stats=True)\n",
      "            (conv3): Conv2d(64, 256, kernel_size=(1, 1), stride=(1, 1), bias=False)\n",
      "            (bn3): BatchNorm2d(256, eps=1e-05, momentum=0.1, affine=True, track_running_stats=True)\n",
      "            (relu): ReLU(inplace)\n",
      "          )\n",
      "        )\n",
      "        (5): Sequential(\n",
      "          (0): Bottleneck(\n",
      "            (conv1): Conv2d(256, 128, kernel_size=(1, 1), stride=(1, 1), bias=False)\n",
      "            (bn1): BatchNorm2d(128, eps=1e-05, momentum=0.1, affine=True, track_running_stats=True)\n",
      "            (conv2): Conv2d(128, 128, kernel_size=(3, 3), stride=(2, 2), padding=(1, 1), bias=False)\n",
      "            (bn2): BatchNorm2d(128, eps=1e-05, momentum=0.1, affine=True, track_running_stats=True)\n",
      "            (conv3): Conv2d(128, 512, kernel_size=(1, 1), stride=(1, 1), bias=False)\n",
      "            (bn3): BatchNorm2d(512, eps=1e-05, momentum=0.1, affine=True, track_running_stats=True)\n",
      "            (relu): ReLU(inplace)\n",
      "            (downsample): Sequential(\n",
      "              (0): Conv2d(256, 512, kernel_size=(1, 1), stride=(2, 2), bias=False)\n",
      "              (1): BatchNorm2d(512, eps=1e-05, momentum=0.1, affine=True, track_running_stats=True)\n",
      "            )\n",
      "          )\n",
      "          (1): Bottleneck(\n",
      "            (conv1): Conv2d(512, 128, kernel_size=(1, 1), stride=(1, 1), bias=False)\n",
      "            (bn1): BatchNorm2d(128, eps=1e-05, momentum=0.1, affine=True, track_running_stats=True)\n",
      "            (conv2): Conv2d(128, 128, kernel_size=(3, 3), stride=(1, 1), padding=(1, 1), bias=False)\n",
      "            (bn2): BatchNorm2d(128, eps=1e-05, momentum=0.1, affine=True, track_running_stats=True)\n",
      "            (conv3): Conv2d(128, 512, kernel_size=(1, 1), stride=(1, 1), bias=False)\n",
      "            (bn3): BatchNorm2d(512, eps=1e-05, momentum=0.1, affine=True, track_running_stats=True)\n",
      "            (relu): ReLU(inplace)\n",
      "          )\n",
      "          (2): Bottleneck(\n",
      "            (conv1): Conv2d(512, 128, kernel_size=(1, 1), stride=(1, 1), bias=False)\n",
      "            (bn1): BatchNorm2d(128, eps=1e-05, momentum=0.1, affine=True, track_running_stats=True)\n",
      "            (conv2): Conv2d(128, 128, kernel_size=(3, 3), stride=(1, 1), padding=(1, 1), bias=False)\n",
      "            (bn2): BatchNorm2d(128, eps=1e-05, momentum=0.1, affine=True, track_running_stats=True)\n",
      "            (conv3): Conv2d(128, 512, kernel_size=(1, 1), stride=(1, 1), bias=False)\n",
      "            (bn3): BatchNorm2d(512, eps=1e-05, momentum=0.1, affine=True, track_running_stats=True)\n",
      "            (relu): ReLU(inplace)\n",
      "          )\n",
      "          (3): Bottleneck(\n",
      "            (conv1): Conv2d(512, 128, kernel_size=(1, 1), stride=(1, 1), bias=False)\n",
      "            (bn1): BatchNorm2d(128, eps=1e-05, momentum=0.1, affine=True, track_running_stats=True)\n",
      "            (conv2): Conv2d(128, 128, kernel_size=(3, 3), stride=(1, 1), padding=(1, 1), bias=False)\n",
      "            (bn2): BatchNorm2d(128, eps=1e-05, momentum=0.1, affine=True, track_running_stats=True)\n",
      "            (conv3): Conv2d(128, 512, kernel_size=(1, 1), stride=(1, 1), bias=False)\n",
      "            (bn3): BatchNorm2d(512, eps=1e-05, momentum=0.1, affine=True, track_running_stats=True)\n",
      "            (relu): ReLU(inplace)\n",
      "          )\n",
      "        )\n",
      "        (6): Sequential(\n",
      "          (0): Bottleneck(\n",
      "            (conv1): Conv2d(512, 256, kernel_size=(1, 1), stride=(1, 1), bias=False)\n",
      "            (bn1): BatchNorm2d(256, eps=1e-05, momentum=0.1, affine=True, track_running_stats=True)\n",
      "            (conv2): Conv2d(256, 256, kernel_size=(3, 3), stride=(2, 2), padding=(1, 1), bias=False)\n",
      "            (bn2): BatchNorm2d(256, eps=1e-05, momentum=0.1, affine=True, track_running_stats=True)\n",
      "            (conv3): Conv2d(256, 1024, kernel_size=(1, 1), stride=(1, 1), bias=False)\n",
      "            (bn3): BatchNorm2d(1024, eps=1e-05, momentum=0.1, affine=True, track_running_stats=True)\n",
      "            (relu): ReLU(inplace)\n",
      "            (downsample): Sequential(\n",
      "              (0): Conv2d(512, 1024, kernel_size=(1, 1), stride=(2, 2), bias=False)\n",
      "              (1): BatchNorm2d(1024, eps=1e-05, momentum=0.1, affine=True, track_running_stats=True)\n",
      "            )\n",
      "          )\n",
      "          (1): Bottleneck(\n",
      "            (conv1): Conv2d(1024, 256, kernel_size=(1, 1), stride=(1, 1), bias=False)\n",
      "            (bn1): BatchNorm2d(256, eps=1e-05, momentum=0.1, affine=True, track_running_stats=True)\n",
      "            (conv2): Conv2d(256, 256, kernel_size=(3, 3), stride=(1, 1), padding=(1, 1), bias=False)\n",
      "            (bn2): BatchNorm2d(256, eps=1e-05, momentum=0.1, affine=True, track_running_stats=True)\n",
      "            (conv3): Conv2d(256, 1024, kernel_size=(1, 1), stride=(1, 1), bias=False)\n",
      "            (bn3): BatchNorm2d(1024, eps=1e-05, momentum=0.1, affine=True, track_running_stats=True)\n",
      "            (relu): ReLU(inplace)\n",
      "          )\n",
      "          (2): Bottleneck(\n",
      "            (conv1): Conv2d(1024, 256, kernel_size=(1, 1), stride=(1, 1), bias=False)\n",
      "            (bn1): BatchNorm2d(256, eps=1e-05, momentum=0.1, affine=True, track_running_stats=True)\n",
      "            (conv2): Conv2d(256, 256, kernel_size=(3, 3), stride=(1, 1), padding=(1, 1), bias=False)\n",
      "            (bn2): BatchNorm2d(256, eps=1e-05, momentum=0.1, affine=True, track_running_stats=True)\n",
      "            (conv3): Conv2d(256, 1024, kernel_size=(1, 1), stride=(1, 1), bias=False)\n",
      "            (bn3): BatchNorm2d(1024, eps=1e-05, momentum=0.1, affine=True, track_running_stats=True)\n",
      "            (relu): ReLU(inplace)\n",
      "          )\n",
      "          (3): Bottleneck(\n",
      "            (conv1): Conv2d(1024, 256, kernel_size=(1, 1), stride=(1, 1), bias=False)\n",
      "            (bn1): BatchNorm2d(256, eps=1e-05, momentum=0.1, affine=True, track_running_stats=True)\n",
      "            (conv2): Conv2d(256, 256, kernel_size=(3, 3), stride=(1, 1), padding=(1, 1), bias=False)\n",
      "            (bn2): BatchNorm2d(256, eps=1e-05, momentum=0.1, affine=True, track_running_stats=True)\n",
      "            (conv3): Conv2d(256, 1024, kernel_size=(1, 1), stride=(1, 1), bias=False)\n",
      "            (bn3): BatchNorm2d(1024, eps=1e-05, momentum=0.1, affine=True, track_running_stats=True)\n",
      "            (relu): ReLU(inplace)\n",
      "          )\n",
      "          (4): Bottleneck(\n",
      "            (conv1): Conv2d(1024, 256, kernel_size=(1, 1), stride=(1, 1), bias=False)\n",
      "            (bn1): BatchNorm2d(256, eps=1e-05, momentum=0.1, affine=True, track_running_stats=True)\n",
      "            (conv2): Conv2d(256, 256, kernel_size=(3, 3), stride=(1, 1), padding=(1, 1), bias=False)\n",
      "            (bn2): BatchNorm2d(256, eps=1e-05, momentum=0.1, affine=True, track_running_stats=True)\n",
      "            (conv3): Conv2d(256, 1024, kernel_size=(1, 1), stride=(1, 1), bias=False)\n",
      "            (bn3): BatchNorm2d(1024, eps=1e-05, momentum=0.1, affine=True, track_running_stats=True)\n",
      "            (relu): ReLU(inplace)\n",
      "          )\n",
      "          (5): Bottleneck(\n",
      "            (conv1): Conv2d(1024, 256, kernel_size=(1, 1), stride=(1, 1), bias=False)\n",
      "            (bn1): BatchNorm2d(256, eps=1e-05, momentum=0.1, affine=True, track_running_stats=True)\n",
      "            (conv2): Conv2d(256, 256, kernel_size=(3, 3), stride=(1, 1), padding=(1, 1), bias=False)\n",
      "            (bn2): BatchNorm2d(256, eps=1e-05, momentum=0.1, affine=True, track_running_stats=True)\n",
      "            (conv3): Conv2d(256, 1024, kernel_size=(1, 1), stride=(1, 1), bias=False)\n",
      "            (bn3): BatchNorm2d(1024, eps=1e-05, momentum=0.1, affine=True, track_running_stats=True)\n",
      "            (relu): ReLU(inplace)\n",
      "          )\n",
      "        )\n",
      "        (7): Sequential(\n",
      "          (0): Bottleneck(\n",
      "            (conv1): Conv2d(1024, 512, kernel_size=(1, 1), stride=(1, 1), bias=False)\n",
      "            (bn1): BatchNorm2d(512, eps=1e-05, momentum=0.1, affine=True, track_running_stats=True)\n",
      "            (conv2): Conv2d(512, 512, kernel_size=(3, 3), stride=(2, 2), padding=(1, 1), bias=False)\n",
      "            (bn2): BatchNorm2d(512, eps=1e-05, momentum=0.1, affine=True, track_running_stats=True)\n",
      "            (conv3): Conv2d(512, 2048, kernel_size=(1, 1), stride=(1, 1), bias=False)\n",
      "            (bn3): BatchNorm2d(2048, eps=1e-05, momentum=0.1, affine=True, track_running_stats=True)\n",
      "            (relu): ReLU(inplace)\n",
      "            (downsample): Sequential(\n",
      "              (0): Conv2d(1024, 2048, kernel_size=(1, 1), stride=(2, 2), bias=False)\n",
      "              (1): BatchNorm2d(2048, eps=1e-05, momentum=0.1, affine=True, track_running_stats=True)\n",
      "            )\n",
      "          )\n",
      "          (1): Bottleneck(\n",
      "            (conv1): Conv2d(2048, 512, kernel_size=(1, 1), stride=(1, 1), bias=False)\n",
      "            (bn1): BatchNorm2d(512, eps=1e-05, momentum=0.1, affine=True, track_running_stats=True)\n",
      "            (conv2): Conv2d(512, 512, kernel_size=(3, 3), stride=(1, 1), padding=(1, 1), bias=False)\n",
      "            (bn2): BatchNorm2d(512, eps=1e-05, momentum=0.1, affine=True, track_running_stats=True)\n",
      "            (conv3): Conv2d(512, 2048, kernel_size=(1, 1), stride=(1, 1), bias=False)\n",
      "            (bn3): BatchNorm2d(2048, eps=1e-05, momentum=0.1, affine=True, track_running_stats=True)\n",
      "            (relu): ReLU(inplace)\n",
      "          )\n",
      "          (2): Bottleneck(\n",
      "            (conv1): Conv2d(2048, 512, kernel_size=(1, 1), stride=(1, 1), bias=False)\n",
      "            (bn1): BatchNorm2d(512, eps=1e-05, momentum=0.1, affine=True, track_running_stats=True)\n",
      "            (conv2): Conv2d(512, 512, kernel_size=(3, 3), stride=(1, 1), padding=(1, 1), bias=False)\n",
      "            (bn2): BatchNorm2d(512, eps=1e-05, momentum=0.1, affine=True, track_running_stats=True)\n",
      "            (conv3): Conv2d(512, 2048, kernel_size=(1, 1), stride=(1, 1), bias=False)\n",
      "            (bn3): BatchNorm2d(2048, eps=1e-05, momentum=0.1, affine=True, track_running_stats=True)\n",
      "            (relu): ReLU(inplace)\n",
      "          )\n",
      "        )\n",
      "      )\n",
      "      (classifier): Sequential(\n",
      "        (0): Conv2d(2048, 30, kernel_size=(1, 1), stride=(1, 1))\n",
      "      )\n",
      "    )\n",
      "    (addedmodule): Addedmodule(\n",
      "      (branch1): Sequential(\n",
      "        (0): BatchNorm2d(15, eps=1e-05, momentum=0.1, affine=True, track_running_stats=True)\n",
      "        (1): ReLU(inplace)\n",
      "        (2): Conv2d(15, 10, kernel_size=(1, 1), stride=(1, 1))\n",
      "      )\n",
      "      (branch2): Sequential(\n",
      "        (0): BatchNorm2d(15, eps=1e-05, momentum=0.1, affine=True, track_running_stats=True)\n",
      "        (1): ReLU(inplace)\n",
      "        (2): Conv2d(15, 10, kernel_size=(1, 1), stride=(1, 1))\n",
      "      )\n",
      "    )\n",
      "    (jointable): Jointable()\n",
      "  )\n",
      ")\n"
     ]
    },
    {
     "data": {
      "application/vnd.jupyter.widget-view+json": {
       "model_id": "7489142f9ae54b93a35e4516ceddf633",
       "version_major": 2,
       "version_minor": 0
      },
      "text/plain": [
       "HBox(children=(IntProgress(value=0, max=300), HTML(value='')))"
      ]
     },
     "metadata": {},
     "output_type": "display_data"
    },
    {
     "name": "stdout",
     "output_type": "stream",
     "text": [
      "learning rate: 0.0001\n",
      "learning rate: 0.01\n",
      "stage 1 of the training: using criterion1\n"
     ]
    },
    {
     "data": {
      "application/vnd.jupyter.widget-view+json": {
       "model_id": "",
       "version_major": 2,
       "version_minor": 0
      },
      "text/plain": [
       "HBox(children=(IntProgress(value=0, description='train', max=277, style=ProgressStyle(description_width='initi…"
      ]
     },
     "metadata": {},
     "output_type": "display_data"
    },
    {
     "name": "stdout",
     "output_type": "stream",
     "text": [
      "validation start\n"
     ]
    },
    {
     "data": {
      "application/vnd.jupyter.widget-view+json": {
       "model_id": "",
       "version_major": 2,
       "version_minor": 0
      },
      "text/plain": [
       "HBox(children=(IntProgress(value=0, description='val', max=789, style=ProgressStyle(description_width='initial…"
      ]
     },
     "metadata": {},
     "output_type": "display_data"
    },
    {
     "name": "stdout",
     "output_type": "stream",
     "text": [
      "mrmse_nz: 0.848249, rmrmse_nz: 0.436588, mrmse: 0.383096, rmrmse: 0.211621 \n",
      "[2019-11-10 11:27:07,701] epoch: 0 | classification_loss: 1.0824\n",
      "[2019-11-10 11:27:09,505] checkpoint created at /media/James/BigData/CountSeg_output/vOR_counting/model_0.pt\n",
      "[2019-11-10 11:27:10,804] checkpoint created at /media/James/BigData/CountSeg_output/vOR_counting/model_latest.pt\n",
      "[2019-11-10 11:27:12,224] checkpoint created at /media/James/BigData/CountSeg_output/vOR_counting/model_rmrmse.pt\n",
      "\n",
      "--------------------------------------------------------\n",
      "\n",
      "learning rate: 0.0001\n",
      "learning rate: 0.01\n",
      "stage 1 of the training: using criterion1\n"
     ]
    },
    {
     "data": {
      "application/vnd.jupyter.widget-view+json": {
       "model_id": "",
       "version_major": 2,
       "version_minor": 0
      },
      "text/plain": [
       "HBox(children=(IntProgress(value=0, description='train', max=277, style=ProgressStyle(description_width='initi…"
      ]
     },
     "metadata": {},
     "output_type": "display_data"
    },
    {
     "name": "stdout",
     "output_type": "stream",
     "text": [
      "validation start\n"
     ]
    },
    {
     "data": {
      "application/vnd.jupyter.widget-view+json": {
       "model_id": "",
       "version_major": 2,
       "version_minor": 0
      },
      "text/plain": [
       "HBox(children=(IntProgress(value=0, description='val', max=789, style=ProgressStyle(description_width='initial…"
      ]
     },
     "metadata": {},
     "output_type": "display_data"
    },
    {
     "name": "stdout",
     "output_type": "stream",
     "text": [
      "mrmse_nz: 0.608683, rmrmse_nz: 0.319226, mrmse: 0.270983, rmrmse: 0.143012 \n",
      "[2019-11-10 11:29:12,065] epoch: 1 | classification_loss: 0.3920\n",
      "[2019-11-10 11:29:13,337] checkpoint created at /media/James/BigData/CountSeg_output/vOR_counting/model_1.pt\n",
      "[2019-11-10 11:29:14,600] checkpoint created at /media/James/BigData/CountSeg_output/vOR_counting/model_latest.pt\n",
      "[2019-11-10 11:29:15,956] checkpoint created at /media/James/BigData/CountSeg_output/vOR_counting/model_rmrmse.pt\n",
      "\n",
      "--------------------------------------------------------\n",
      "\n",
      "learning rate: 0.0001\n",
      "learning rate: 0.01\n",
      "stage 1 of the training: using criterion1\n"
     ]
    },
    {
     "data": {
      "application/vnd.jupyter.widget-view+json": {
       "model_id": "",
       "version_major": 2,
       "version_minor": 0
      },
      "text/plain": [
       "HBox(children=(IntProgress(value=0, description='train', max=277, style=ProgressStyle(description_width='initi…"
      ]
     },
     "metadata": {},
     "output_type": "display_data"
    },
    {
     "name": "stdout",
     "output_type": "stream",
     "text": [
      "validation start\n"
     ]
    },
    {
     "data": {
      "application/vnd.jupyter.widget-view+json": {
       "model_id": "",
       "version_major": 2,
       "version_minor": 0
      },
      "text/plain": [
       "HBox(children=(IntProgress(value=0, description='val', max=789, style=ProgressStyle(description_width='initial…"
      ]
     },
     "metadata": {},
     "output_type": "display_data"
    },
    {
     "name": "stdout",
     "output_type": "stream",
     "text": [
      "mrmse_nz: 0.484878, rmrmse_nz: 0.249767, mrmse: 0.214471, rmrmse: 0.110703 \n",
      "[2019-11-10 11:31:18,236] epoch: 2 | classification_loss: 0.2465\n",
      "[2019-11-10 11:31:19,477] checkpoint created at /media/James/BigData/CountSeg_output/vOR_counting/model_2.pt\n",
      "[2019-11-10 11:31:20,730] checkpoint created at /media/James/BigData/CountSeg_output/vOR_counting/model_latest.pt\n",
      "[2019-11-10 11:31:22,031] checkpoint created at /media/James/BigData/CountSeg_output/vOR_counting/model_rmrmse.pt\n",
      "\n",
      "--------------------------------------------------------\n",
      "\n",
      "learning rate: 0.0001\n",
      "learning rate: 0.01\n",
      "stage 1 of the training: using criterion1\n"
     ]
    },
    {
     "data": {
      "application/vnd.jupyter.widget-view+json": {
       "model_id": "",
       "version_major": 2,
       "version_minor": 0
      },
      "text/plain": [
       "HBox(children=(IntProgress(value=0, description='train', max=277, style=ProgressStyle(description_width='initi…"
      ]
     },
     "metadata": {},
     "output_type": "display_data"
    },
    {
     "name": "stdout",
     "output_type": "stream",
     "text": [
      "validation start\n"
     ]
    },
    {
     "data": {
      "application/vnd.jupyter.widget-view+json": {
       "model_id": "",
       "version_major": 2,
       "version_minor": 0
      },
      "text/plain": [
       "HBox(children=(IntProgress(value=0, description='val', max=789, style=ProgressStyle(description_width='initial…"
      ]
     },
     "metadata": {},
     "output_type": "display_data"
    },
    {
     "name": "stdout",
     "output_type": "stream",
     "text": [
      "mrmse_nz: 0.373720, rmrmse_nz: 0.183493, mrmse: 0.166399, rmrmse: 0.082794 \n",
      "[2019-11-10 11:33:23,974] epoch: 3 | classification_loss: 0.1773\n",
      "[2019-11-10 11:33:25,212] checkpoint created at /media/James/BigData/CountSeg_output/vOR_counting/model_3.pt\n",
      "[2019-11-10 11:33:26,475] checkpoint created at /media/James/BigData/CountSeg_output/vOR_counting/model_latest.pt\n",
      "[2019-11-10 11:33:27,771] checkpoint created at /media/James/BigData/CountSeg_output/vOR_counting/model_rmrmse.pt\n",
      "\n",
      "--------------------------------------------------------\n",
      "\n",
      "learning rate: 0.0001\n",
      "learning rate: 0.01\n",
      "stage 1 of the training: using criterion1\n"
     ]
    },
    {
     "data": {
      "application/vnd.jupyter.widget-view+json": {
       "model_id": "",
       "version_major": 2,
       "version_minor": 0
      },
      "text/plain": [
       "HBox(children=(IntProgress(value=0, description='train', max=277, style=ProgressStyle(description_width='initi…"
      ]
     },
     "metadata": {},
     "output_type": "display_data"
    },
    {
     "name": "stdout",
     "output_type": "stream",
     "text": [
      "validation start\n"
     ]
    },
    {
     "data": {
      "application/vnd.jupyter.widget-view+json": {
       "model_id": "",
       "version_major": 2,
       "version_minor": 0
      },
      "text/plain": [
       "HBox(children=(IntProgress(value=0, description='val', max=789, style=ProgressStyle(description_width='initial…"
      ]
     },
     "metadata": {},
     "output_type": "display_data"
    },
    {
     "name": "stdout",
     "output_type": "stream",
     "text": [
      "mrmse_nz: 0.353942, rmrmse_nz: 0.184278, mrmse: 0.160442, rmrmse: 0.083895 \n",
      "[2019-11-10 11:35:29,286] epoch: 4 | classification_loss: 0.1403\n",
      "[2019-11-10 11:35:30,561] checkpoint created at /media/James/BigData/CountSeg_output/vOR_counting/model_4.pt\n",
      "[2019-11-10 11:35:31,727] checkpoint created at /media/James/BigData/CountSeg_output/vOR_counting/model_latest.pt\n",
      "[2019-11-10 11:35:32,906] checkpoint created at /media/James/BigData/CountSeg_output/vOR_counting/model_mrmse.pt\n",
      "\n",
      "--------------------------------------------------------\n",
      "\n",
      "learning rate: 0.0001\n",
      "learning rate: 0.01\n",
      "stage 1 of the training: using criterion1\n"
     ]
    },
    {
     "data": {
      "application/vnd.jupyter.widget-view+json": {
       "model_id": "",
       "version_major": 2,
       "version_minor": 0
      },
      "text/plain": [
       "HBox(children=(IntProgress(value=0, description='train', max=277, style=ProgressStyle(description_width='initi…"
      ]
     },
     "metadata": {},
     "output_type": "display_data"
    },
    {
     "name": "stdout",
     "output_type": "stream",
     "text": [
      "validation start\n"
     ]
    },
    {
     "data": {
      "application/vnd.jupyter.widget-view+json": {
       "model_id": "",
       "version_major": 2,
       "version_minor": 0
      },
      "text/plain": [
       "HBox(children=(IntProgress(value=0, description='val', max=789, style=ProgressStyle(description_width='initial…"
      ]
     },
     "metadata": {},
     "output_type": "display_data"
    },
    {
     "name": "stdout",
     "output_type": "stream",
     "text": [
      "mrmse_nz: 0.306704, rmrmse_nz: 0.143496, mrmse: 0.135647, rmrmse: 0.063402 \n",
      "[2019-11-10 11:37:34,586] epoch: 5 | classification_loss: 0.1195\n",
      "[2019-11-10 11:37:36,025] checkpoint created at /media/James/BigData/CountSeg_output/vOR_counting/model_5.pt\n",
      "[2019-11-10 11:37:37,238] checkpoint created at /media/James/BigData/CountSeg_output/vOR_counting/model_latest.pt\n",
      "[2019-11-10 11:37:38,502] checkpoint created at /media/James/BigData/CountSeg_output/vOR_counting/model_rmrmse.pt\n",
      "\n",
      "--------------------------------------------------------\n",
      "\n",
      "learning rate: 0.0001\n",
      "learning rate: 0.01\n",
      "stage 1 of the training: using criterion1\n"
     ]
    },
    {
     "data": {
      "application/vnd.jupyter.widget-view+json": {
       "model_id": "",
       "version_major": 2,
       "version_minor": 0
      },
      "text/plain": [
       "HBox(children=(IntProgress(value=0, description='train', max=277, style=ProgressStyle(description_width='initi…"
      ]
     },
     "metadata": {},
     "output_type": "display_data"
    },
    {
     "name": "stdout",
     "output_type": "stream",
     "text": [
      "validation start\n"
     ]
    },
    {
     "data": {
      "application/vnd.jupyter.widget-view+json": {
       "model_id": "",
       "version_major": 2,
       "version_minor": 0
      },
      "text/plain": [
       "HBox(children=(IntProgress(value=0, description='val', max=789, style=ProgressStyle(description_width='initial…"
      ]
     },
     "metadata": {},
     "output_type": "display_data"
    },
    {
     "name": "stdout",
     "output_type": "stream",
     "text": [
      "mrmse_nz: 0.309768, rmrmse_nz: 0.151512, mrmse: 0.137025, rmrmse: 0.067315 \n",
      "[2019-11-10 11:39:40,348] epoch: 6 | classification_loss: 0.0929\n",
      "[2019-11-10 11:39:41,593] checkpoint created at /media/James/BigData/CountSeg_output/vOR_counting/model_6.pt\n",
      "[2019-11-10 11:39:42,782] checkpoint created at /media/James/BigData/CountSeg_output/vOR_counting/model_latest.pt\n",
      "\n",
      "--------------------------------------------------------\n",
      "\n",
      "learning rate: 0.0001\n",
      "learning rate: 0.01\n",
      "stage 1 of the training: using criterion1\n"
     ]
    },
    {
     "data": {
      "application/vnd.jupyter.widget-view+json": {
       "model_id": "",
       "version_major": 2,
       "version_minor": 0
      },
      "text/plain": [
       "HBox(children=(IntProgress(value=0, description='train', max=277, style=ProgressStyle(description_width='initi…"
      ]
     },
     "metadata": {},
     "output_type": "display_data"
    },
    {
     "name": "stdout",
     "output_type": "stream",
     "text": [
      "validation start\n"
     ]
    },
    {
     "data": {
      "application/vnd.jupyter.widget-view+json": {
       "model_id": "",
       "version_major": 2,
       "version_minor": 0
      },
      "text/plain": [
       "HBox(children=(IntProgress(value=0, description='val', max=789, style=ProgressStyle(description_width='initial…"
      ]
     },
     "metadata": {},
     "output_type": "display_data"
    },
    {
     "name": "stdout",
     "output_type": "stream",
     "text": [
      "mrmse_nz: 0.301506, rmrmse_nz: 0.150614, mrmse: 0.136136, rmrmse: 0.068306 \n",
      "[2019-11-10 11:41:44,612] epoch: 7 | classification_loss: 0.0872\n",
      "[2019-11-10 11:41:45,822] checkpoint created at /media/James/BigData/CountSeg_output/vOR_counting/model_7.pt\n",
      "[2019-11-10 11:41:47,026] checkpoint created at /media/James/BigData/CountSeg_output/vOR_counting/model_latest.pt\n",
      "[2019-11-10 11:41:48,237] checkpoint created at /media/James/BigData/CountSeg_output/vOR_counting/model_mrmse_nz.pt\n",
      "\n",
      "--------------------------------------------------------\n",
      "\n",
      "learning rate: 0.0001\n",
      "learning rate: 0.01\n",
      "stage 1 of the training: using criterion1\n"
     ]
    },
    {
     "data": {
      "application/vnd.jupyter.widget-view+json": {
       "model_id": "",
       "version_major": 2,
       "version_minor": 0
      },
      "text/plain": [
       "HBox(children=(IntProgress(value=0, description='train', max=277, style=ProgressStyle(description_width='initi…"
      ]
     },
     "metadata": {},
     "output_type": "display_data"
    },
    {
     "name": "stdout",
     "output_type": "stream",
     "text": [
      "validation start\n"
     ]
    },
    {
     "data": {
      "application/vnd.jupyter.widget-view+json": {
       "model_id": "",
       "version_major": 2,
       "version_minor": 0
      },
      "text/plain": [
       "HBox(children=(IntProgress(value=0, description='val', max=789, style=ProgressStyle(description_width='initial…"
      ]
     },
     "metadata": {},
     "output_type": "display_data"
    },
    {
     "name": "stdout",
     "output_type": "stream",
     "text": [
      "mrmse_nz: 0.295020, rmrmse_nz: 0.134240, mrmse: 0.129757, rmrmse: 0.058980 \n",
      "[2019-11-10 11:43:48,989] epoch: 8 | classification_loss: 0.0739\n",
      "[2019-11-10 11:43:50,153] checkpoint created at /media/James/BigData/CountSeg_output/vOR_counting/model_8.pt\n",
      "[2019-11-10 11:43:51,287] checkpoint created at /media/James/BigData/CountSeg_output/vOR_counting/model_latest.pt\n",
      "[2019-11-10 11:43:52,506] checkpoint created at /media/James/BigData/CountSeg_output/vOR_counting/model_rmrmse.pt\n",
      "\n",
      "--------------------------------------------------------\n",
      "\n",
      "learning rate: 0.0001\n",
      "learning rate: 0.01\n",
      "stage 1 of the training: using criterion1\n"
     ]
    },
    {
     "data": {
      "application/vnd.jupyter.widget-view+json": {
       "model_id": "",
       "version_major": 2,
       "version_minor": 0
      },
      "text/plain": [
       "HBox(children=(IntProgress(value=0, description='train', max=277, style=ProgressStyle(description_width='initi…"
      ]
     },
     "metadata": {},
     "output_type": "display_data"
    },
    {
     "name": "stdout",
     "output_type": "stream",
     "text": [
      "validation start\n"
     ]
    },
    {
     "data": {
      "application/vnd.jupyter.widget-view+json": {
       "model_id": "",
       "version_major": 2,
       "version_minor": 0
      },
      "text/plain": [
       "HBox(children=(IntProgress(value=0, description='val', max=789, style=ProgressStyle(description_width='initial…"
      ]
     },
     "metadata": {},
     "output_type": "display_data"
    },
    {
     "name": "stdout",
     "output_type": "stream",
     "text": [
      "mrmse_nz: 0.237251, rmrmse_nz: 0.114363, mrmse: 0.106696, rmrmse: 0.051237 \n",
      "[2019-11-10 11:45:54,050] epoch: 9 | classification_loss: 0.0739\n",
      "[2019-11-10 11:45:55,340] checkpoint created at /media/James/BigData/CountSeg_output/vOR_counting/model_9.pt\n",
      "[2019-11-10 11:45:56,520] checkpoint created at /media/James/BigData/CountSeg_output/vOR_counting/model_latest.pt\n",
      "[2019-11-10 11:45:57,704] checkpoint created at /media/James/BigData/CountSeg_output/vOR_counting/model_rmrmse.pt\n",
      "\n",
      "--------------------------------------------------------\n",
      "\n",
      "learning rate: 0.0001\n",
      "learning rate: 0.01\n",
      "stage 1 of the training: using criterion1\n"
     ]
    },
    {
     "data": {
      "application/vnd.jupyter.widget-view+json": {
       "model_id": "",
       "version_major": 2,
       "version_minor": 0
      },
      "text/plain": [
       "HBox(children=(IntProgress(value=0, description='train', max=277, style=ProgressStyle(description_width='initi…"
      ]
     },
     "metadata": {},
     "output_type": "display_data"
    },
    {
     "name": "stdout",
     "output_type": "stream",
     "text": [
      "validation start\n"
     ]
    },
    {
     "data": {
      "application/vnd.jupyter.widget-view+json": {
       "model_id": "",
       "version_major": 2,
       "version_minor": 0
      },
      "text/plain": [
       "HBox(children=(IntProgress(value=0, description='val', max=789, style=ProgressStyle(description_width='initial…"
      ]
     },
     "metadata": {},
     "output_type": "display_data"
    },
    {
     "name": "stdout",
     "output_type": "stream",
     "text": [
      "mrmse_nz: 0.227487, rmrmse_nz: 0.113287, mrmse: 0.102148, rmrmse: 0.050301 \n",
      "[2019-11-10 11:47:59,565] epoch: 10 | classification_loss: 0.0634\n",
      "[2019-11-10 11:48:00,782] checkpoint created at /media/James/BigData/CountSeg_output/vOR_counting/model_10.pt\n",
      "[2019-11-10 11:48:02,010] checkpoint created at /media/James/BigData/CountSeg_output/vOR_counting/model_latest.pt\n",
      "[2019-11-10 11:48:03,189] checkpoint created at /media/James/BigData/CountSeg_output/vOR_counting/model_rmrmse.pt\n",
      "\n",
      "--------------------------------------------------------\n",
      "\n",
      "learning rate: 0.0001\n",
      "learning rate: 0.01\n",
      "stage 1 of the training: using criterion1\n"
     ]
    },
    {
     "data": {
      "application/vnd.jupyter.widget-view+json": {
       "model_id": "",
       "version_major": 2,
       "version_minor": 0
      },
      "text/plain": [
       "HBox(children=(IntProgress(value=0, description='train', max=277, style=ProgressStyle(description_width='initi…"
      ]
     },
     "metadata": {},
     "output_type": "display_data"
    },
    {
     "name": "stdout",
     "output_type": "stream",
     "text": [
      "validation start\n"
     ]
    },
    {
     "data": {
      "application/vnd.jupyter.widget-view+json": {
       "model_id": "",
       "version_major": 2,
       "version_minor": 0
      },
      "text/plain": [
       "HBox(children=(IntProgress(value=0, description='val', max=789, style=ProgressStyle(description_width='initial…"
      ]
     },
     "metadata": {},
     "output_type": "display_data"
    },
    {
     "name": "stdout",
     "output_type": "stream",
     "text": [
      "mrmse_nz: 0.264086, rmrmse_nz: 0.122533, mrmse: 0.117344, rmrmse: 0.054591 \n",
      "[2019-11-10 11:50:05,134] epoch: 11 | classification_loss: 0.0614\n",
      "[2019-11-10 11:50:06,320] checkpoint created at /media/James/BigData/CountSeg_output/vOR_counting/model_11.pt\n",
      "[2019-11-10 11:50:07,525] checkpoint created at /media/James/BigData/CountSeg_output/vOR_counting/model_latest.pt\n",
      "\n",
      "--------------------------------------------------------\n",
      "\n",
      "learning rate: 0.0001\n",
      "learning rate: 0.01\n",
      "stage 1 of the training: using criterion1\n"
     ]
    },
    {
     "data": {
      "application/vnd.jupyter.widget-view+json": {
       "model_id": "",
       "version_major": 2,
       "version_minor": 0
      },
      "text/plain": [
       "HBox(children=(IntProgress(value=0, description='train', max=277, style=ProgressStyle(description_width='initi…"
      ]
     },
     "metadata": {},
     "output_type": "display_data"
    },
    {
     "name": "stdout",
     "output_type": "stream",
     "text": [
      "validation start\n"
     ]
    },
    {
     "data": {
      "application/vnd.jupyter.widget-view+json": {
       "model_id": "",
       "version_major": 2,
       "version_minor": 0
      },
      "text/plain": [
       "HBox(children=(IntProgress(value=0, description='val', max=789, style=ProgressStyle(description_width='initial…"
      ]
     },
     "metadata": {},
     "output_type": "display_data"
    },
    {
     "name": "stdout",
     "output_type": "stream",
     "text": [
      "mrmse_nz: 0.202021, rmrmse_nz: 0.096921, mrmse: 0.090738, rmrmse: 0.043395 \n",
      "[2019-11-10 11:52:09,172] epoch: 12 | classification_loss: 0.0613\n",
      "[2019-11-10 11:52:10,448] checkpoint created at /media/James/BigData/CountSeg_output/vOR_counting/model_12.pt\n",
      "[2019-11-10 11:52:11,632] checkpoint created at /media/James/BigData/CountSeg_output/vOR_counting/model_latest.pt\n",
      "[2019-11-10 11:52:12,878] checkpoint created at /media/James/BigData/CountSeg_output/vOR_counting/model_rmrmse.pt\n",
      "\n",
      "--------------------------------------------------------\n",
      "\n",
      "learning rate: 0.0001\n",
      "learning rate: 0.01\n",
      "stage 1 of the training: using criterion1\n"
     ]
    },
    {
     "data": {
      "application/vnd.jupyter.widget-view+json": {
       "model_id": "",
       "version_major": 2,
       "version_minor": 0
      },
      "text/plain": [
       "HBox(children=(IntProgress(value=0, description='train', max=277, style=ProgressStyle(description_width='initi…"
      ]
     },
     "metadata": {},
     "output_type": "display_data"
    },
    {
     "name": "stdout",
     "output_type": "stream",
     "text": [
      "validation start\n"
     ]
    },
    {
     "data": {
      "application/vnd.jupyter.widget-view+json": {
       "model_id": "",
       "version_major": 2,
       "version_minor": 0
      },
      "text/plain": [
       "HBox(children=(IntProgress(value=0, description='val', max=789, style=ProgressStyle(description_width='initial…"
      ]
     },
     "metadata": {},
     "output_type": "display_data"
    },
    {
     "name": "stdout",
     "output_type": "stream",
     "text": [
      "mrmse_nz: 0.221253, rmrmse_nz: 0.105308, mrmse: 0.099520, rmrmse: 0.047201 \n",
      "[2019-11-10 11:54:14,266] epoch: 13 | classification_loss: 0.0577\n",
      "[2019-11-10 11:54:15,504] checkpoint created at /media/James/BigData/CountSeg_output/vOR_counting/model_13.pt\n",
      "[2019-11-10 11:54:16,696] checkpoint created at /media/James/BigData/CountSeg_output/vOR_counting/model_latest.pt\n",
      "\n",
      "--------------------------------------------------------\n",
      "\n",
      "learning rate: 0.0001\n",
      "learning rate: 0.01\n",
      "stage 1 of the training: using criterion1\n"
     ]
    },
    {
     "data": {
      "application/vnd.jupyter.widget-view+json": {
       "model_id": "",
       "version_major": 2,
       "version_minor": 0
      },
      "text/plain": [
       "HBox(children=(IntProgress(value=0, description='train', max=277, style=ProgressStyle(description_width='initi…"
      ]
     },
     "metadata": {},
     "output_type": "display_data"
    },
    {
     "name": "stdout",
     "output_type": "stream",
     "text": [
      "validation start\n"
     ]
    },
    {
     "data": {
      "application/vnd.jupyter.widget-view+json": {
       "model_id": "",
       "version_major": 2,
       "version_minor": 0
      },
      "text/plain": [
       "HBox(children=(IntProgress(value=0, description='val', max=789, style=ProgressStyle(description_width='initial…"
      ]
     },
     "metadata": {},
     "output_type": "display_data"
    },
    {
     "name": "stdout",
     "output_type": "stream",
     "text": [
      "mrmse_nz: 0.256252, rmrmse_nz: 0.114360, mrmse: 0.114258, rmrmse: 0.050991 \n",
      "[2019-11-10 11:56:18,072] epoch: 14 | classification_loss: 0.0512\n",
      "[2019-11-10 11:56:19,353] checkpoint created at /media/James/BigData/CountSeg_output/vOR_counting/model_14.pt\n",
      "[2019-11-10 11:56:20,599] checkpoint created at /media/James/BigData/CountSeg_output/vOR_counting/model_latest.pt\n",
      "\n",
      "--------------------------------------------------------\n",
      "\n",
      "learning rate: 0.0001\n",
      "learning rate: 0.01\n",
      "stage 1 of the training: using criterion1\n"
     ]
    },
    {
     "data": {
      "application/vnd.jupyter.widget-view+json": {
       "model_id": "",
       "version_major": 2,
       "version_minor": 0
      },
      "text/plain": [
       "HBox(children=(IntProgress(value=0, description='train', max=277, style=ProgressStyle(description_width='initi…"
      ]
     },
     "metadata": {},
     "output_type": "display_data"
    },
    {
     "name": "stdout",
     "output_type": "stream",
     "text": [
      "validation start\n"
     ]
    },
    {
     "data": {
      "application/vnd.jupyter.widget-view+json": {
       "model_id": "",
       "version_major": 2,
       "version_minor": 0
      },
      "text/plain": [
       "HBox(children=(IntProgress(value=0, description='val', max=789, style=ProgressStyle(description_width='initial…"
      ]
     },
     "metadata": {},
     "output_type": "display_data"
    },
    {
     "name": "stdout",
     "output_type": "stream",
     "text": [
      "mrmse_nz: 0.214772, rmrmse_nz: 0.094444, mrmse: 0.096639, rmrmse: 0.042926 \n",
      "[2019-11-10 11:58:22,536] epoch: 15 | classification_loss: 0.0570\n",
      "[2019-11-10 11:58:23,785] checkpoint created at /media/James/BigData/CountSeg_output/vOR_counting/model_15.pt\n",
      "[2019-11-10 11:58:25,008] checkpoint created at /media/James/BigData/CountSeg_output/vOR_counting/model_latest.pt\n",
      "[2019-11-10 11:58:26,249] checkpoint created at /media/James/BigData/CountSeg_output/vOR_counting/model_rmrmse.pt\n",
      "\n",
      "--------------------------------------------------------\n",
      "\n",
      "learning rate: 0.0001\n",
      "learning rate: 0.01\n",
      "stage 1 of the training: using criterion1\n"
     ]
    },
    {
     "data": {
      "application/vnd.jupyter.widget-view+json": {
       "model_id": "",
       "version_major": 2,
       "version_minor": 0
      },
      "text/plain": [
       "HBox(children=(IntProgress(value=0, description='train', max=277, style=ProgressStyle(description_width='initi…"
      ]
     },
     "metadata": {},
     "output_type": "display_data"
    },
    {
     "name": "stdout",
     "output_type": "stream",
     "text": [
      "validation start\n"
     ]
    },
    {
     "data": {
      "application/vnd.jupyter.widget-view+json": {
       "model_id": "",
       "version_major": 2,
       "version_minor": 0
      },
      "text/plain": [
       "HBox(children=(IntProgress(value=0, description='val', max=789, style=ProgressStyle(description_width='initial…"
      ]
     },
     "metadata": {},
     "output_type": "display_data"
    },
    {
     "name": "stdout",
     "output_type": "stream",
     "text": [
      "mrmse_nz: 0.196492, rmrmse_nz: 0.093884, mrmse: 0.088232, rmrmse: 0.041942 \n",
      "[2019-11-10 12:00:27,945] epoch: 16 | classification_loss: 0.0611\n",
      "[2019-11-10 12:00:29,246] checkpoint created at /media/James/BigData/CountSeg_output/vOR_counting/model_16.pt\n",
      "[2019-11-10 12:00:30,435] checkpoint created at /media/James/BigData/CountSeg_output/vOR_counting/model_latest.pt\n",
      "[2019-11-10 12:00:31,673] checkpoint created at /media/James/BigData/CountSeg_output/vOR_counting/model_rmrmse.pt\n",
      "\n",
      "--------------------------------------------------------\n",
      "\n",
      "learning rate: 0.0001\n",
      "learning rate: 0.01\n",
      "stage 1 of the training: using criterion1\n"
     ]
    },
    {
     "data": {
      "application/vnd.jupyter.widget-view+json": {
       "model_id": "",
       "version_major": 2,
       "version_minor": 0
      },
      "text/plain": [
       "HBox(children=(IntProgress(value=0, description='train', max=277, style=ProgressStyle(description_width='initi…"
      ]
     },
     "metadata": {},
     "output_type": "display_data"
    },
    {
     "name": "stdout",
     "output_type": "stream",
     "text": [
      "validation start\n"
     ]
    },
    {
     "data": {
      "application/vnd.jupyter.widget-view+json": {
       "model_id": "",
       "version_major": 2,
       "version_minor": 0
      },
      "text/plain": [
       "HBox(children=(IntProgress(value=0, description='val', max=789, style=ProgressStyle(description_width='initial…"
      ]
     },
     "metadata": {},
     "output_type": "display_data"
    },
    {
     "name": "stdout",
     "output_type": "stream",
     "text": [
      "mrmse_nz: 0.206339, rmrmse_nz: 0.094822, mrmse: 0.093268, rmrmse: 0.042475 \n",
      "[2019-11-10 12:02:33,575] epoch: 17 | classification_loss: 0.0524\n",
      "[2019-11-10 12:02:34,871] checkpoint created at /media/James/BigData/CountSeg_output/vOR_counting/model_17.pt\n",
      "[2019-11-10 12:02:36,105] checkpoint created at /media/James/BigData/CountSeg_output/vOR_counting/model_latest.pt\n",
      "\n",
      "--------------------------------------------------------\n",
      "\n",
      "learning rate: 0.0001\n",
      "learning rate: 0.01\n",
      "stage 1 of the training: using criterion1\n"
     ]
    },
    {
     "data": {
      "application/vnd.jupyter.widget-view+json": {
       "model_id": "",
       "version_major": 2,
       "version_minor": 0
      },
      "text/plain": [
       "HBox(children=(IntProgress(value=0, description='train', max=277, style=ProgressStyle(description_width='initi…"
      ]
     },
     "metadata": {},
     "output_type": "display_data"
    },
    {
     "name": "stdout",
     "output_type": "stream",
     "text": [
      "validation start\n"
     ]
    },
    {
     "data": {
      "application/vnd.jupyter.widget-view+json": {
       "model_id": "",
       "version_major": 2,
       "version_minor": 0
      },
      "text/plain": [
       "HBox(children=(IntProgress(value=0, description='val', max=789, style=ProgressStyle(description_width='initial…"
      ]
     },
     "metadata": {},
     "output_type": "display_data"
    },
    {
     "name": "stdout",
     "output_type": "stream",
     "text": [
      "mrmse_nz: 0.189081, rmrmse_nz: 0.087285, mrmse: 0.084700, rmrmse: 0.038782 \n",
      "[2019-11-10 12:04:37,867] epoch: 18 | classification_loss: 0.0486\n",
      "[2019-11-10 12:04:39,143] checkpoint created at /media/James/BigData/CountSeg_output/vOR_counting/model_18.pt\n",
      "[2019-11-10 12:04:40,341] checkpoint created at /media/James/BigData/CountSeg_output/vOR_counting/model_latest.pt\n",
      "[2019-11-10 12:04:41,558] checkpoint created at /media/James/BigData/CountSeg_output/vOR_counting/model_rmrmse.pt\n",
      "\n",
      "--------------------------------------------------------\n",
      "\n",
      "learning rate: 0.0001\n",
      "learning rate: 0.01\n",
      "stage 1 of the training: using criterion1\n"
     ]
    },
    {
     "data": {
      "application/vnd.jupyter.widget-view+json": {
       "model_id": "",
       "version_major": 2,
       "version_minor": 0
      },
      "text/plain": [
       "HBox(children=(IntProgress(value=0, description='train', max=277, style=ProgressStyle(description_width='initi…"
      ]
     },
     "metadata": {},
     "output_type": "display_data"
    },
    {
     "name": "stdout",
     "output_type": "stream",
     "text": [
      "validation start\n"
     ]
    },
    {
     "data": {
      "application/vnd.jupyter.widget-view+json": {
       "model_id": "",
       "version_major": 2,
       "version_minor": 0
      },
      "text/plain": [
       "HBox(children=(IntProgress(value=0, description='val', max=789, style=ProgressStyle(description_width='initial…"
      ]
     },
     "metadata": {},
     "output_type": "display_data"
    },
    {
     "name": "stdout",
     "output_type": "stream",
     "text": [
      "mrmse_nz: 0.215783, rmrmse_nz: 0.093987, mrmse: 0.098488, rmrmse: 0.042740 \n",
      "[2019-11-10 12:06:43,668] epoch: 19 | classification_loss: 0.0433\n",
      "[2019-11-10 12:06:44,901] checkpoint created at /media/James/BigData/CountSeg_output/vOR_counting/model_19.pt\n",
      "[2019-11-10 12:06:46,113] checkpoint created at /media/James/BigData/CountSeg_output/vOR_counting/model_latest.pt\n",
      "\n",
      "--------------------------------------------------------\n",
      "\n",
      "learning rate: 0.0001\n",
      "learning rate: 0.01\n",
      "stage 2 of the training: using criterion2\n"
     ]
    },
    {
     "data": {
      "application/vnd.jupyter.widget-view+json": {
       "model_id": "",
       "version_major": 2,
       "version_minor": 0
      },
      "text/plain": [
       "HBox(children=(IntProgress(value=0, description='train', max=277, style=ProgressStyle(description_width='initi…"
      ]
     },
     "metadata": {},
     "output_type": "display_data"
    },
    {
     "name": "stdout",
     "output_type": "stream",
     "text": [
      "validation start\n"
     ]
    },
    {
     "data": {
      "application/vnd.jupyter.widget-view+json": {
       "model_id": "",
       "version_major": 2,
       "version_minor": 0
      },
      "text/plain": [
       "HBox(children=(IntProgress(value=0, description='val', max=789, style=ProgressStyle(description_width='initial…"
      ]
     },
     "metadata": {},
     "output_type": "display_data"
    },
    {
     "name": "stdout",
     "output_type": "stream",
     "text": [
      "mrmse_nz: 1.300139, rmrmse_nz: 0.579361, mrmse: 0.574170, rmrmse: 0.255073 \n",
      "[2019-11-10 12:08:48,414] epoch: 20 | classification_loss: 0.7499\n",
      "[2019-11-10 12:08:49,700] checkpoint created at /media/James/BigData/CountSeg_output/vOR_counting/model_20.pt\n",
      "[2019-11-10 12:08:50,958] checkpoint created at /media/James/BigData/CountSeg_output/vOR_counting/model_latest.pt\n",
      "\n",
      "--------------------------------------------------------\n",
      "\n",
      "learning rate: 0.0001\n",
      "learning rate: 0.01\n",
      "stage 2 of the training: using criterion2\n"
     ]
    },
    {
     "data": {
      "application/vnd.jupyter.widget-view+json": {
       "model_id": "",
       "version_major": 2,
       "version_minor": 0
      },
      "text/plain": [
       "HBox(children=(IntProgress(value=0, description='train', max=277, style=ProgressStyle(description_width='initi…"
      ]
     },
     "metadata": {},
     "output_type": "display_data"
    },
    {
     "name": "stdout",
     "output_type": "stream",
     "text": [
      "validation start\n"
     ]
    },
    {
     "data": {
      "application/vnd.jupyter.widget-view+json": {
       "model_id": "",
       "version_major": 2,
       "version_minor": 0
      },
      "text/plain": [
       "HBox(children=(IntProgress(value=0, description='val', max=789, style=ProgressStyle(description_width='initial…"
      ]
     },
     "metadata": {},
     "output_type": "display_data"
    },
    {
     "name": "stdout",
     "output_type": "stream",
     "text": [
      "mrmse_nz: 1.463400, rmrmse_nz: 0.649937, mrmse: 0.645000, rmrmse: 0.285775 \n",
      "[2019-11-10 12:10:52,951] epoch: 21 | classification_loss: 0.6745\n",
      "[2019-11-10 12:10:54,216] checkpoint created at /media/James/BigData/CountSeg_output/vOR_counting/model_21.pt\n",
      "[2019-11-10 12:10:55,451] checkpoint created at /media/James/BigData/CountSeg_output/vOR_counting/model_latest.pt\n",
      "\n",
      "--------------------------------------------------------\n",
      "\n",
      "learning rate: 0.0001\n",
      "learning rate: 0.01\n",
      "stage 2 of the training: using criterion2\n"
     ]
    },
    {
     "data": {
      "application/vnd.jupyter.widget-view+json": {
       "model_id": "",
       "version_major": 2,
       "version_minor": 0
      },
      "text/plain": [
       "HBox(children=(IntProgress(value=0, description='train', max=277, style=ProgressStyle(description_width='initi…"
      ]
     },
     "metadata": {},
     "output_type": "display_data"
    },
    {
     "name": "stdout",
     "output_type": "stream",
     "text": [
      "validation start\n"
     ]
    },
    {
     "data": {
      "application/vnd.jupyter.widget-view+json": {
       "model_id": "",
       "version_major": 2,
       "version_minor": 0
      },
      "text/plain": [
       "HBox(children=(IntProgress(value=0, description='val', max=789, style=ProgressStyle(description_width='initial…"
      ]
     },
     "metadata": {},
     "output_type": "display_data"
    },
    {
     "name": "stdout",
     "output_type": "stream",
     "text": [
      "mrmse_nz: 1.467937, rmrmse_nz: 0.651728, mrmse: 0.647547, rmrmse: 0.286760 \n",
      "[2019-11-10 12:12:57,362] epoch: 22 | classification_loss: 0.6652\n",
      "[2019-11-10 12:12:58,609] checkpoint created at /media/James/BigData/CountSeg_output/vOR_counting/model_22.pt\n",
      "[2019-11-10 12:12:59,758] checkpoint created at /media/James/BigData/CountSeg_output/vOR_counting/model_latest.pt\n",
      "\n",
      "--------------------------------------------------------\n",
      "\n",
      "learning rate: 0.0001\n",
      "learning rate: 0.01\n",
      "stage 2 of the training: using criterion2\n"
     ]
    },
    {
     "data": {
      "application/vnd.jupyter.widget-view+json": {
       "model_id": "",
       "version_major": 2,
       "version_minor": 0
      },
      "text/plain": [
       "HBox(children=(IntProgress(value=0, description='train', max=277, style=ProgressStyle(description_width='initi…"
      ]
     },
     "metadata": {},
     "output_type": "display_data"
    },
    {
     "name": "stdout",
     "output_type": "stream",
     "text": [
      "validation start\n"
     ]
    },
    {
     "data": {
      "application/vnd.jupyter.widget-view+json": {
       "model_id": "",
       "version_major": 2,
       "version_minor": 0
      },
      "text/plain": [
       "HBox(children=(IntProgress(value=0, description='val', max=789, style=ProgressStyle(description_width='initial…"
      ]
     },
     "metadata": {},
     "output_type": "display_data"
    },
    {
     "name": "stdout",
     "output_type": "stream",
     "text": [
      "mrmse_nz: 1.468335, rmrmse_nz: 0.648027, mrmse: 0.646944, rmrmse: 0.284620 \n",
      "[2019-11-10 12:15:02,310] epoch: 23 | classification_loss: 0.6629\n",
      "[2019-11-10 12:15:03,559] checkpoint created at /media/James/BigData/CountSeg_output/vOR_counting/model_23.pt\n",
      "[2019-11-10 12:15:04,802] checkpoint created at /media/James/BigData/CountSeg_output/vOR_counting/model_latest.pt\n",
      "\n",
      "--------------------------------------------------------\n",
      "\n",
      "learning rate: 0.0001\n",
      "learning rate: 0.01\n",
      "stage 2 of the training: using criterion2\n"
     ]
    },
    {
     "data": {
      "application/vnd.jupyter.widget-view+json": {
       "model_id": "",
       "version_major": 2,
       "version_minor": 0
      },
      "text/plain": [
       "HBox(children=(IntProgress(value=0, description='train', max=277, style=ProgressStyle(description_width='initi…"
      ]
     },
     "metadata": {},
     "output_type": "display_data"
    },
    {
     "name": "stdout",
     "output_type": "stream",
     "text": [
      "validation start\n"
     ]
    },
    {
     "data": {
      "application/vnd.jupyter.widget-view+json": {
       "model_id": "",
       "version_major": 2,
       "version_minor": 0
      },
      "text/plain": [
       "HBox(children=(IntProgress(value=0, description='val', max=789, style=ProgressStyle(description_width='initial…"
      ]
     },
     "metadata": {},
     "output_type": "display_data"
    },
    {
     "name": "stdout",
     "output_type": "stream",
     "text": [
      "mrmse_nz: 1.467121, rmrmse_nz: 0.648262, mrmse: 0.645732, rmrmse: 0.284414 \n",
      "[2019-11-10 12:17:06,678] epoch: 24 | classification_loss: 0.6616\n",
      "[2019-11-10 12:17:07,978] checkpoint created at /media/James/BigData/CountSeg_output/vOR_counting/model_24.pt\n",
      "[2019-11-10 12:17:09,224] checkpoint created at /media/James/BigData/CountSeg_output/vOR_counting/model_latest.pt\n",
      "\n",
      "--------------------------------------------------------\n",
      "\n",
      "learning rate: 0.0001\n",
      "learning rate: 0.01\n",
      "stage 2 of the training: using criterion2\n"
     ]
    },
    {
     "data": {
      "application/vnd.jupyter.widget-view+json": {
       "model_id": "",
       "version_major": 2,
       "version_minor": 0
      },
      "text/plain": [
       "HBox(children=(IntProgress(value=0, description='train', max=277, style=ProgressStyle(description_width='initi…"
      ]
     },
     "metadata": {},
     "output_type": "display_data"
    },
    {
     "name": "stdout",
     "output_type": "stream",
     "text": [
      "validation start\n"
     ]
    },
    {
     "data": {
      "application/vnd.jupyter.widget-view+json": {
       "model_id": "",
       "version_major": 2,
       "version_minor": 0
      },
      "text/plain": [
       "HBox(children=(IntProgress(value=0, description='val', max=789, style=ProgressStyle(description_width='initial…"
      ]
     },
     "metadata": {},
     "output_type": "display_data"
    },
    {
     "name": "stdout",
     "output_type": "stream",
     "text": [
      "mrmse_nz: 1.412840, rmrmse_nz: 0.622611, mrmse: 0.622873, rmrmse: 0.273549 \n",
      "[2019-11-10 12:19:10,764] epoch: 25 | classification_loss: 0.6601\n",
      "[2019-11-10 12:19:12,112] checkpoint created at /media/James/BigData/CountSeg_output/vOR_counting/model_25.pt\n",
      "[2019-11-10 12:19:13,382] checkpoint created at /media/James/BigData/CountSeg_output/vOR_counting/model_latest.pt\n",
      "\n",
      "--------------------------------------------------------\n",
      "\n",
      "learning rate: 0.0001\n",
      "learning rate: 0.01\n",
      "stage 2 of the training: using criterion2\n"
     ]
    },
    {
     "data": {
      "application/vnd.jupyter.widget-view+json": {
       "model_id": "",
       "version_major": 2,
       "version_minor": 0
      },
      "text/plain": [
       "HBox(children=(IntProgress(value=0, description='train', max=277, style=ProgressStyle(description_width='initi…"
      ]
     },
     "metadata": {},
     "output_type": "display_data"
    },
    {
     "name": "stdout",
     "output_type": "stream",
     "text": [
      "validation start\n"
     ]
    },
    {
     "data": {
      "application/vnd.jupyter.widget-view+json": {
       "model_id": "",
       "version_major": 2,
       "version_minor": 0
      },
      "text/plain": [
       "HBox(children=(IntProgress(value=0, description='val', max=789, style=ProgressStyle(description_width='initial…"
      ]
     },
     "metadata": {},
     "output_type": "display_data"
    },
    {
     "name": "stdout",
     "output_type": "stream",
     "text": [
      "mrmse_nz: 1.388012, rmrmse_nz: 0.609059, mrmse: 0.608454, rmrmse: 0.265804 \n",
      "[2019-11-10 12:21:14,673] epoch: 26 | classification_loss: 0.6599\n",
      "[2019-11-10 12:21:15,944] checkpoint created at /media/James/BigData/CountSeg_output/vOR_counting/model_26.pt\n",
      "[2019-11-10 12:21:17,193] checkpoint created at /media/James/BigData/CountSeg_output/vOR_counting/model_latest.pt\n",
      "\n",
      "--------------------------------------------------------\n",
      "\n",
      "learning rate: 0.0001\n",
      "learning rate: 0.01\n",
      "stage 2 of the training: using criterion2\n"
     ]
    },
    {
     "data": {
      "application/vnd.jupyter.widget-view+json": {
       "model_id": "",
       "version_major": 2,
       "version_minor": 0
      },
      "text/plain": [
       "HBox(children=(IntProgress(value=0, description='train', max=277, style=ProgressStyle(description_width='initi…"
      ]
     },
     "metadata": {},
     "output_type": "display_data"
    },
    {
     "name": "stdout",
     "output_type": "stream",
     "text": [
      "validation start\n"
     ]
    },
    {
     "data": {
      "application/vnd.jupyter.widget-view+json": {
       "model_id": "",
       "version_major": 2,
       "version_minor": 0
      },
      "text/plain": [
       "HBox(children=(IntProgress(value=0, description='val', max=789, style=ProgressStyle(description_width='initial…"
      ]
     },
     "metadata": {},
     "output_type": "display_data"
    },
    {
     "name": "stdout",
     "output_type": "stream",
     "text": [
      "mrmse_nz: 1.429689, rmrmse_nz: 0.625358, mrmse: 0.630326, rmrmse: 0.274654 \n",
      "[2019-11-10 12:23:18,696] epoch: 27 | classification_loss: 0.6653\n",
      "[2019-11-10 12:23:19,953] checkpoint created at /media/James/BigData/CountSeg_output/vOR_counting/model_27.pt\n",
      "[2019-11-10 12:23:21,196] checkpoint created at /media/James/BigData/CountSeg_output/vOR_counting/model_latest.pt\n",
      "\n",
      "--------------------------------------------------------\n",
      "\n",
      "learning rate: 0.0001\n",
      "learning rate: 0.01\n",
      "stage 2 of the training: using criterion2\n"
     ]
    },
    {
     "data": {
      "application/vnd.jupyter.widget-view+json": {
       "model_id": "",
       "version_major": 2,
       "version_minor": 0
      },
      "text/plain": [
       "HBox(children=(IntProgress(value=0, description='train', max=277, style=ProgressStyle(description_width='initi…"
      ]
     },
     "metadata": {},
     "output_type": "display_data"
    },
    {
     "name": "stdout",
     "output_type": "stream",
     "text": [
      "validation start\n"
     ]
    },
    {
     "data": {
      "application/vnd.jupyter.widget-view+json": {
       "model_id": "",
       "version_major": 2,
       "version_minor": 0
      },
      "text/plain": [
       "HBox(children=(IntProgress(value=0, description='val', max=789, style=ProgressStyle(description_width='initial…"
      ]
     },
     "metadata": {},
     "output_type": "display_data"
    },
    {
     "name": "stdout",
     "output_type": "stream",
     "text": [
      "mrmse_nz: 1.397690, rmrmse_nz: 0.610772, mrmse: 0.609040, rmrmse: 0.264981 \n",
      "[2019-11-10 12:25:23,355] epoch: 28 | classification_loss: 0.6580\n",
      "[2019-11-10 12:25:24,609] checkpoint created at /media/James/BigData/CountSeg_output/vOR_counting/model_28.pt\n",
      "[2019-11-10 12:25:25,860] checkpoint created at /media/James/BigData/CountSeg_output/vOR_counting/model_latest.pt\n",
      "\n",
      "--------------------------------------------------------\n",
      "\n",
      "learning rate: 0.0001\n",
      "learning rate: 0.01\n",
      "stage 2 of the training: using criterion2\n"
     ]
    },
    {
     "data": {
      "application/vnd.jupyter.widget-view+json": {
       "model_id": "",
       "version_major": 2,
       "version_minor": 0
      },
      "text/plain": [
       "HBox(children=(IntProgress(value=0, description='train', max=277, style=ProgressStyle(description_width='initi…"
      ]
     },
     "metadata": {},
     "output_type": "display_data"
    },
    {
     "name": "stdout",
     "output_type": "stream",
     "text": [
      "validation start\n"
     ]
    },
    {
     "data": {
      "application/vnd.jupyter.widget-view+json": {
       "model_id": "",
       "version_major": 2,
       "version_minor": 0
      },
      "text/plain": [
       "HBox(children=(IntProgress(value=0, description='val', max=789, style=ProgressStyle(description_width='initial…"
      ]
     },
     "metadata": {},
     "output_type": "display_data"
    },
    {
     "name": "stdout",
     "output_type": "stream",
     "text": [
      "mrmse_nz: 1.399535, rmrmse_nz: 0.610295, mrmse: 0.615683, rmrmse: 0.267333 \n",
      "[2019-11-10 12:27:27,455] epoch: 29 | classification_loss: 0.6569\n",
      "[2019-11-10 12:27:28,748] checkpoint created at /media/James/BigData/CountSeg_output/vOR_counting/model_29.pt\n",
      "[2019-11-10 12:27:29,955] checkpoint created at /media/James/BigData/CountSeg_output/vOR_counting/model_latest.pt\n",
      "\n",
      "--------------------------------------------------------\n",
      "\n",
      "learning rate: 0.0001\n",
      "learning rate: 0.01\n",
      "stage 2 of the training: using criterion2\n"
     ]
    },
    {
     "data": {
      "application/vnd.jupyter.widget-view+json": {
       "model_id": "",
       "version_major": 2,
       "version_minor": 0
      },
      "text/plain": [
       "HBox(children=(IntProgress(value=0, description='train', max=277, style=ProgressStyle(description_width='initi…"
      ]
     },
     "metadata": {},
     "output_type": "display_data"
    },
    {
     "name": "stdout",
     "output_type": "stream",
     "text": [
      "validation start\n"
     ]
    },
    {
     "data": {
      "application/vnd.jupyter.widget-view+json": {
       "model_id": "",
       "version_major": 2,
       "version_minor": 0
      },
      "text/plain": [
       "HBox(children=(IntProgress(value=0, description='val', max=789, style=ProgressStyle(description_width='initial…"
      ]
     },
     "metadata": {},
     "output_type": "display_data"
    },
    {
     "name": "stdout",
     "output_type": "stream",
     "text": [
      "mrmse_nz: 1.329752, rmrmse_nz: 0.580204, mrmse: 0.582839, rmrmse: 0.253100 \n",
      "[2019-11-10 12:29:31,735] epoch: 30 | classification_loss: 0.6564\n",
      "[2019-11-10 12:29:32,988] checkpoint created at /media/James/BigData/CountSeg_output/vOR_counting/model_30.pt\n",
      "[2019-11-10 12:29:34,250] checkpoint created at /media/James/BigData/CountSeg_output/vOR_counting/model_latest.pt\n",
      "\n",
      "--------------------------------------------------------\n",
      "\n",
      "learning rate: 0.0001\n",
      "learning rate: 0.01\n",
      "stage 2 of the training: using criterion2\n"
     ]
    },
    {
     "data": {
      "application/vnd.jupyter.widget-view+json": {
       "model_id": "",
       "version_major": 2,
       "version_minor": 0
      },
      "text/plain": [
       "HBox(children=(IntProgress(value=0, description='train', max=277, style=ProgressStyle(description_width='initi…"
      ]
     },
     "metadata": {},
     "output_type": "display_data"
    },
    {
     "name": "stdout",
     "output_type": "stream",
     "text": [
      "validation start\n"
     ]
    },
    {
     "data": {
      "application/vnd.jupyter.widget-view+json": {
       "model_id": "",
       "version_major": 2,
       "version_minor": 0
      },
      "text/plain": [
       "HBox(children=(IntProgress(value=0, description='val', max=789, style=ProgressStyle(description_width='initial…"
      ]
     },
     "metadata": {},
     "output_type": "display_data"
    },
    {
     "name": "stdout",
     "output_type": "stream",
     "text": [
      "mrmse_nz: 1.404585, rmrmse_nz: 0.610840, mrmse: 0.618649, rmrmse: 0.267854 \n",
      "[2019-11-10 12:31:36,087] epoch: 31 | classification_loss: 0.6575\n",
      "[2019-11-10 12:31:37,290] checkpoint created at /media/James/BigData/CountSeg_output/vOR_counting/model_31.pt\n",
      "[2019-11-10 12:31:38,454] checkpoint created at /media/James/BigData/CountSeg_output/vOR_counting/model_latest.pt\n",
      "\n",
      "--------------------------------------------------------\n",
      "\n",
      "learning rate: 0.0001\n",
      "learning rate: 0.01\n",
      "stage 2 of the training: using criterion2\n"
     ]
    },
    {
     "data": {
      "application/vnd.jupyter.widget-view+json": {
       "model_id": "",
       "version_major": 2,
       "version_minor": 0
      },
      "text/plain": [
       "HBox(children=(IntProgress(value=0, description='train', max=277, style=ProgressStyle(description_width='initi…"
      ]
     },
     "metadata": {},
     "output_type": "display_data"
    },
    {
     "name": "stdout",
     "output_type": "stream",
     "text": [
      "validation start\n"
     ]
    },
    {
     "data": {
      "application/vnd.jupyter.widget-view+json": {
       "model_id": "",
       "version_major": 2,
       "version_minor": 0
      },
      "text/plain": [
       "HBox(children=(IntProgress(value=0, description='val', max=789, style=ProgressStyle(description_width='initial…"
      ]
     },
     "metadata": {},
     "output_type": "display_data"
    },
    {
     "name": "stdout",
     "output_type": "stream",
     "text": [
      "mrmse_nz: 1.358571, rmrmse_nz: 0.588864, mrmse: 0.596408, rmrmse: 0.257283 \n",
      "[2019-11-10 12:33:40,122] epoch: 32 | classification_loss: 0.6550\n",
      "[2019-11-10 12:33:41,438] checkpoint created at /media/James/BigData/CountSeg_output/vOR_counting/model_32.pt\n",
      "[2019-11-10 12:33:42,643] checkpoint created at /media/James/BigData/CountSeg_output/vOR_counting/model_latest.pt\n",
      "\n",
      "--------------------------------------------------------\n",
      "\n",
      "learning rate: 0.0001\n",
      "learning rate: 0.01\n",
      "stage 2 of the training: using criterion2\n"
     ]
    },
    {
     "data": {
      "application/vnd.jupyter.widget-view+json": {
       "model_id": "",
       "version_major": 2,
       "version_minor": 0
      },
      "text/plain": [
       "HBox(children=(IntProgress(value=0, description='train', max=277, style=ProgressStyle(description_width='initi…"
      ]
     },
     "metadata": {},
     "output_type": "display_data"
    },
    {
     "name": "stdout",
     "output_type": "stream",
     "text": [
      "validation start\n"
     ]
    },
    {
     "data": {
      "application/vnd.jupyter.widget-view+json": {
       "model_id": "",
       "version_major": 2,
       "version_minor": 0
      },
      "text/plain": [
       "HBox(children=(IntProgress(value=0, description='val', max=789, style=ProgressStyle(description_width='initial…"
      ]
     },
     "metadata": {},
     "output_type": "display_data"
    },
    {
     "name": "stdout",
     "output_type": "stream",
     "text": [
      "mrmse_nz: 1.317299, rmrmse_nz: 0.569445, mrmse: 0.578956, rmrmse: 0.249036 \n",
      "[2019-11-10 12:35:45,047] epoch: 33 | classification_loss: 0.6554\n",
      "[2019-11-10 12:35:46,328] checkpoint created at /media/James/BigData/CountSeg_output/vOR_counting/model_33.pt\n",
      "[2019-11-10 12:35:47,577] checkpoint created at /media/James/BigData/CountSeg_output/vOR_counting/model_latest.pt\n",
      "\n",
      "--------------------------------------------------------\n",
      "\n",
      "learning rate: 0.0001\n",
      "learning rate: 0.01\n",
      "stage 2 of the training: using criterion2\n"
     ]
    },
    {
     "data": {
      "application/vnd.jupyter.widget-view+json": {
       "model_id": "",
       "version_major": 2,
       "version_minor": 0
      },
      "text/plain": [
       "HBox(children=(IntProgress(value=0, description='train', max=277, style=ProgressStyle(description_width='initi…"
      ]
     },
     "metadata": {},
     "output_type": "display_data"
    },
    {
     "name": "stdout",
     "output_type": "stream",
     "text": [
      "validation start\n"
     ]
    },
    {
     "data": {
      "application/vnd.jupyter.widget-view+json": {
       "model_id": "",
       "version_major": 2,
       "version_minor": 0
      },
      "text/plain": [
       "HBox(children=(IntProgress(value=0, description='val', max=789, style=ProgressStyle(description_width='initial…"
      ]
     },
     "metadata": {},
     "output_type": "display_data"
    },
    {
     "name": "stdout",
     "output_type": "stream",
     "text": [
      "mrmse_nz: 1.308116, rmrmse_nz: 0.559022, mrmse: 0.579234, rmrmse: 0.246660 \n",
      "[2019-11-10 12:37:50,109] epoch: 34 | classification_loss: 0.6549\n",
      "[2019-11-10 12:37:51,428] checkpoint created at /media/James/BigData/CountSeg_output/vOR_counting/model_34.pt\n",
      "[2019-11-10 12:37:52,668] checkpoint created at /media/James/BigData/CountSeg_output/vOR_counting/model_latest.pt\n",
      "\n",
      "--------------------------------------------------------\n",
      "\n",
      "learning rate: 0.0001\n",
      "learning rate: 0.01\n",
      "stage 2 of the training: using criterion2\n"
     ]
    },
    {
     "data": {
      "application/vnd.jupyter.widget-view+json": {
       "model_id": "",
       "version_major": 2,
       "version_minor": 0
      },
      "text/plain": [
       "HBox(children=(IntProgress(value=0, description='train', max=277, style=ProgressStyle(description_width='initi…"
      ]
     },
     "metadata": {},
     "output_type": "display_data"
    },
    {
     "name": "stdout",
     "output_type": "stream",
     "text": [
      "validation start\n"
     ]
    },
    {
     "data": {
      "application/vnd.jupyter.widget-view+json": {
       "model_id": "",
       "version_major": 2,
       "version_minor": 0
      },
      "text/plain": [
       "HBox(children=(IntProgress(value=0, description='val', max=789, style=ProgressStyle(description_width='initial…"
      ]
     },
     "metadata": {},
     "output_type": "display_data"
    },
    {
     "name": "stdout",
     "output_type": "stream",
     "text": [
      "mrmse_nz: 1.270497, rmrmse_nz: 0.542842, mrmse: 0.560891, rmrmse: 0.238671 \n",
      "[2019-11-10 12:39:55,220] epoch: 35 | classification_loss: 0.6537\n",
      "[2019-11-10 12:39:56,455] checkpoint created at /media/James/BigData/CountSeg_output/vOR_counting/model_35.pt\n",
      "[2019-11-10 12:39:57,708] checkpoint created at /media/James/BigData/CountSeg_output/vOR_counting/model_latest.pt\n",
      "\n",
      "--------------------------------------------------------\n",
      "\n",
      "learning rate: 0.0001\n",
      "learning rate: 0.01\n",
      "stage 2 of the training: using criterion2\n"
     ]
    },
    {
     "data": {
      "application/vnd.jupyter.widget-view+json": {
       "model_id": "",
       "version_major": 2,
       "version_minor": 0
      },
      "text/plain": [
       "HBox(children=(IntProgress(value=0, description='train', max=277, style=ProgressStyle(description_width='initi…"
      ]
     },
     "metadata": {},
     "output_type": "display_data"
    },
    {
     "name": "stdout",
     "output_type": "stream",
     "text": [
      "validation start\n"
     ]
    },
    {
     "data": {
      "application/vnd.jupyter.widget-view+json": {
       "model_id": "",
       "version_major": 2,
       "version_minor": 0
      },
      "text/plain": [
       "HBox(children=(IntProgress(value=0, description='val', max=789, style=ProgressStyle(description_width='initial…"
      ]
     },
     "metadata": {},
     "output_type": "display_data"
    },
    {
     "name": "stdout",
     "output_type": "stream",
     "text": [
      "mrmse_nz: 1.300543, rmrmse_nz: 0.555076, mrmse: 0.572298, rmrmse: 0.243401 \n",
      "[2019-11-10 12:42:00,231] epoch: 36 | classification_loss: 0.6530\n",
      "[2019-11-10 12:42:01,507] checkpoint created at /media/James/BigData/CountSeg_output/vOR_counting/model_36.pt\n",
      "[2019-11-10 12:42:02,693] checkpoint created at /media/James/BigData/CountSeg_output/vOR_counting/model_latest.pt\n",
      "\n",
      "--------------------------------------------------------\n",
      "\n",
      "learning rate: 0.0001\n",
      "learning rate: 0.01\n",
      "stage 2 of the training: using criterion2\n"
     ]
    },
    {
     "data": {
      "application/vnd.jupyter.widget-view+json": {
       "model_id": "",
       "version_major": 2,
       "version_minor": 0
      },
      "text/plain": [
       "HBox(children=(IntProgress(value=0, description='train', max=277, style=ProgressStyle(description_width='initi…"
      ]
     },
     "metadata": {},
     "output_type": "display_data"
    },
    {
     "name": "stdout",
     "output_type": "stream",
     "text": [
      "validation start\n"
     ]
    },
    {
     "data": {
      "application/vnd.jupyter.widget-view+json": {
       "model_id": "",
       "version_major": 2,
       "version_minor": 0
      },
      "text/plain": [
       "HBox(children=(IntProgress(value=0, description='val', max=789, style=ProgressStyle(description_width='initial…"
      ]
     },
     "metadata": {},
     "output_type": "display_data"
    },
    {
     "name": "stdout",
     "output_type": "stream",
     "text": [
      "mrmse_nz: 1.259066, rmrmse_nz: 0.532784, mrmse: 0.555716, rmrmse: 0.234261 \n",
      "[2019-11-10 12:44:05,508] epoch: 37 | classification_loss: 0.6519\n",
      "[2019-11-10 12:44:06,766] checkpoint created at /media/James/BigData/CountSeg_output/vOR_counting/model_37.pt\n",
      "[2019-11-10 12:44:07,992] checkpoint created at /media/James/BigData/CountSeg_output/vOR_counting/model_latest.pt\n",
      "\n",
      "--------------------------------------------------------\n",
      "\n",
      "learning rate: 0.0001\n",
      "learning rate: 0.01\n",
      "stage 2 of the training: using criterion2\n"
     ]
    },
    {
     "data": {
      "application/vnd.jupyter.widget-view+json": {
       "model_id": "",
       "version_major": 2,
       "version_minor": 0
      },
      "text/plain": [
       "HBox(children=(IntProgress(value=0, description='train', max=277, style=ProgressStyle(description_width='initi…"
      ]
     },
     "metadata": {},
     "output_type": "display_data"
    },
    {
     "name": "stdout",
     "output_type": "stream",
     "text": [
      "validation start\n"
     ]
    },
    {
     "data": {
      "application/vnd.jupyter.widget-view+json": {
       "model_id": "",
       "version_major": 2,
       "version_minor": 0
      },
      "text/plain": [
       "HBox(children=(IntProgress(value=0, description='val', max=789, style=ProgressStyle(description_width='initial…"
      ]
     },
     "metadata": {},
     "output_type": "display_data"
    },
    {
     "name": "stdout",
     "output_type": "stream",
     "text": [
      "mrmse_nz: 1.197335, rmrmse_nz: 0.503404, mrmse: 0.529175, rmrmse: 0.221673 \n",
      "[2019-11-10 12:46:10,990] epoch: 38 | classification_loss: 0.6517\n",
      "[2019-11-10 12:46:12,214] checkpoint created at /media/James/BigData/CountSeg_output/vOR_counting/model_38.pt\n",
      "[2019-11-10 12:46:13,453] checkpoint created at /media/James/BigData/CountSeg_output/vOR_counting/model_latest.pt\n",
      "\n",
      "--------------------------------------------------------\n",
      "\n",
      "learning rate: 0.0001\n",
      "learning rate: 0.01\n",
      "stage 2 of the training: using criterion2\n"
     ]
    },
    {
     "data": {
      "application/vnd.jupyter.widget-view+json": {
       "model_id": "",
       "version_major": 2,
       "version_minor": 0
      },
      "text/plain": [
       "HBox(children=(IntProgress(value=0, description='train', max=277, style=ProgressStyle(description_width='initi…"
      ]
     },
     "metadata": {},
     "output_type": "display_data"
    },
    {
     "name": "stdout",
     "output_type": "stream",
     "text": [
      "validation start\n"
     ]
    },
    {
     "data": {
      "application/vnd.jupyter.widget-view+json": {
       "model_id": "",
       "version_major": 2,
       "version_minor": 0
      },
      "text/plain": [
       "HBox(children=(IntProgress(value=0, description='val', max=789, style=ProgressStyle(description_width='initial…"
      ]
     },
     "metadata": {},
     "output_type": "display_data"
    },
    {
     "name": "stdout",
     "output_type": "stream",
     "text": [
      "mrmse_nz: 1.203096, rmrmse_nz: 0.507152, mrmse: 0.530235, rmrmse: 0.222674 \n",
      "[2019-11-10 12:48:16,048] epoch: 39 | classification_loss: 0.6551\n",
      "[2019-11-10 12:48:17,283] checkpoint created at /media/James/BigData/CountSeg_output/vOR_counting/model_39.pt\n",
      "[2019-11-10 12:48:18,451] checkpoint created at /media/James/BigData/CountSeg_output/vOR_counting/model_latest.pt\n",
      "\n",
      "--------------------------------------------------------\n",
      "\n",
      "learning rate: 0.0001\n",
      "learning rate: 0.01\n",
      "stage 2 of the training: using criterion2\n"
     ]
    },
    {
     "data": {
      "application/vnd.jupyter.widget-view+json": {
       "model_id": "",
       "version_major": 2,
       "version_minor": 0
      },
      "text/plain": [
       "HBox(children=(IntProgress(value=0, description='train', max=277, style=ProgressStyle(description_width='initi…"
      ]
     },
     "metadata": {},
     "output_type": "display_data"
    },
    {
     "name": "stdout",
     "output_type": "stream",
     "text": [
      "validation start\n"
     ]
    },
    {
     "data": {
      "application/vnd.jupyter.widget-view+json": {
       "model_id": "",
       "version_major": 2,
       "version_minor": 0
      },
      "text/plain": [
       "HBox(children=(IntProgress(value=0, description='val', max=789, style=ProgressStyle(description_width='initial…"
      ]
     },
     "metadata": {},
     "output_type": "display_data"
    },
    {
     "name": "stdout",
     "output_type": "stream",
     "text": [
      "mrmse_nz: 1.176644, rmrmse_nz: 0.495001, mrmse: 0.519277, rmrmse: 0.217660 \n",
      "[2019-11-10 12:50:20,061] epoch: 40 | classification_loss: 0.6514\n",
      "[2019-11-10 12:50:21,340] checkpoint created at /media/James/BigData/CountSeg_output/vOR_counting/model_40.pt\n",
      "[2019-11-10 12:50:22,567] checkpoint created at /media/James/BigData/CountSeg_output/vOR_counting/model_latest.pt\n",
      "\n",
      "--------------------------------------------------------\n",
      "\n",
      "learning rate: 0.0001\n",
      "learning rate: 0.01\n",
      "stage 2 of the training: using criterion2\n"
     ]
    },
    {
     "data": {
      "application/vnd.jupyter.widget-view+json": {
       "model_id": "",
       "version_major": 2,
       "version_minor": 0
      },
      "text/plain": [
       "HBox(children=(IntProgress(value=0, description='train', max=277, style=ProgressStyle(description_width='initi…"
      ]
     },
     "metadata": {},
     "output_type": "display_data"
    },
    {
     "name": "stdout",
     "output_type": "stream",
     "text": [
      "validation start\n"
     ]
    },
    {
     "data": {
      "application/vnd.jupyter.widget-view+json": {
       "model_id": "",
       "version_major": 2,
       "version_minor": 0
      },
      "text/plain": [
       "HBox(children=(IntProgress(value=0, description='val', max=789, style=ProgressStyle(description_width='initial…"
      ]
     },
     "metadata": {},
     "output_type": "display_data"
    },
    {
     "name": "stdout",
     "output_type": "stream",
     "text": [
      "mrmse_nz: 1.173503, rmrmse_nz: 0.496052, mrmse: 0.517570, rmrmse: 0.218536 \n",
      "[2019-11-10 12:52:24,193] epoch: 41 | classification_loss: 0.6514\n",
      "[2019-11-10 12:52:25,484] checkpoint created at /media/James/BigData/CountSeg_output/vOR_counting/model_41.pt\n",
      "[2019-11-10 12:52:26,687] checkpoint created at /media/James/BigData/CountSeg_output/vOR_counting/model_latest.pt\n",
      "\n",
      "--------------------------------------------------------\n",
      "\n",
      "learning rate: 0.0001\n",
      "learning rate: 0.01\n",
      "stage 2 of the training: using criterion2\n"
     ]
    },
    {
     "data": {
      "application/vnd.jupyter.widget-view+json": {
       "model_id": "",
       "version_major": 2,
       "version_minor": 0
      },
      "text/plain": [
       "HBox(children=(IntProgress(value=0, description='train', max=277, style=ProgressStyle(description_width='initi…"
      ]
     },
     "metadata": {},
     "output_type": "display_data"
    },
    {
     "name": "stdout",
     "output_type": "stream",
     "text": [
      "validation start\n"
     ]
    },
    {
     "data": {
      "application/vnd.jupyter.widget-view+json": {
       "model_id": "",
       "version_major": 2,
       "version_minor": 0
      },
      "text/plain": [
       "HBox(children=(IntProgress(value=0, description='val', max=789, style=ProgressStyle(description_width='initial…"
      ]
     },
     "metadata": {},
     "output_type": "display_data"
    },
    {
     "name": "stdout",
     "output_type": "stream",
     "text": [
      "mrmse_nz: 1.160141, rmrmse_nz: 0.485052, mrmse: 0.512635, rmrmse: 0.213633 \n",
      "[2019-11-10 12:54:28,871] epoch: 42 | classification_loss: 0.6506\n",
      "[2019-11-10 12:54:30,148] checkpoint created at /media/James/BigData/CountSeg_output/vOR_counting/model_42.pt\n",
      "[2019-11-10 12:54:31,359] checkpoint created at /media/James/BigData/CountSeg_output/vOR_counting/model_latest.pt\n",
      "\n",
      "--------------------------------------------------------\n",
      "\n",
      "learning rate: 0.0001\n",
      "learning rate: 0.01\n",
      "stage 2 of the training: using criterion2\n"
     ]
    },
    {
     "data": {
      "application/vnd.jupyter.widget-view+json": {
       "model_id": "",
       "version_major": 2,
       "version_minor": 0
      },
      "text/plain": [
       "HBox(children=(IntProgress(value=0, description='train', max=277, style=ProgressStyle(description_width='initi…"
      ]
     },
     "metadata": {},
     "output_type": "display_data"
    },
    {
     "name": "stdout",
     "output_type": "stream",
     "text": [
      "validation start\n"
     ]
    },
    {
     "data": {
      "application/vnd.jupyter.widget-view+json": {
       "model_id": "",
       "version_major": 2,
       "version_minor": 0
      },
      "text/plain": [
       "HBox(children=(IntProgress(value=0, description='val', max=789, style=ProgressStyle(description_width='initial…"
      ]
     },
     "metadata": {},
     "output_type": "display_data"
    },
    {
     "name": "stdout",
     "output_type": "stream",
     "text": [
      "mrmse_nz: 1.162204, rmrmse_nz: 0.486855, mrmse: 0.515372, rmrmse: 0.215177 \n",
      "[2019-11-10 12:56:33,168] epoch: 43 | classification_loss: 0.6511\n",
      "[2019-11-10 12:56:34,422] checkpoint created at /media/James/BigData/CountSeg_output/vOR_counting/model_43.pt\n",
      "[2019-11-10 12:56:35,668] checkpoint created at /media/James/BigData/CountSeg_output/vOR_counting/model_latest.pt\n",
      "\n",
      "--------------------------------------------------------\n",
      "\n",
      "learning rate: 0.0001\n",
      "learning rate: 0.01\n",
      "stage 2 of the training: using criterion2\n"
     ]
    },
    {
     "data": {
      "application/vnd.jupyter.widget-view+json": {
       "model_id": "",
       "version_major": 2,
       "version_minor": 0
      },
      "text/plain": [
       "HBox(children=(IntProgress(value=0, description='train', max=277, style=ProgressStyle(description_width='initi…"
      ]
     },
     "metadata": {},
     "output_type": "display_data"
    },
    {
     "name": "stdout",
     "output_type": "stream",
     "text": [
      "validation start\n"
     ]
    },
    {
     "data": {
      "application/vnd.jupyter.widget-view+json": {
       "model_id": "",
       "version_major": 2,
       "version_minor": 0
      },
      "text/plain": [
       "HBox(children=(IntProgress(value=0, description='val', max=789, style=ProgressStyle(description_width='initial…"
      ]
     },
     "metadata": {},
     "output_type": "display_data"
    },
    {
     "name": "stdout",
     "output_type": "stream",
     "text": [
      "mrmse_nz: 1.169298, rmrmse_nz: 0.492383, mrmse: 0.514399, rmrmse: 0.216489 \n",
      "[2019-11-10 12:58:37,666] epoch: 44 | classification_loss: 0.6508\n",
      "[2019-11-10 12:58:38,971] checkpoint created at /media/James/BigData/CountSeg_output/vOR_counting/model_44.pt\n",
      "[2019-11-10 12:58:40,166] checkpoint created at /media/James/BigData/CountSeg_output/vOR_counting/model_latest.pt\n",
      "\n",
      "--------------------------------------------------------\n",
      "\n",
      "learning rate: 0.0001\n",
      "learning rate: 0.01\n",
      "stage 2 of the training: using criterion2\n"
     ]
    },
    {
     "data": {
      "application/vnd.jupyter.widget-view+json": {
       "model_id": "",
       "version_major": 2,
       "version_minor": 0
      },
      "text/plain": [
       "HBox(children=(IntProgress(value=0, description='train', max=277, style=ProgressStyle(description_width='initi…"
      ]
     },
     "metadata": {},
     "output_type": "display_data"
    },
    {
     "name": "stdout",
     "output_type": "stream",
     "text": [
      "validation start\n"
     ]
    },
    {
     "data": {
      "application/vnd.jupyter.widget-view+json": {
       "model_id": "",
       "version_major": 2,
       "version_minor": 0
      },
      "text/plain": [
       "HBox(children=(IntProgress(value=0, description='val', max=789, style=ProgressStyle(description_width='initial…"
      ]
     },
     "metadata": {},
     "output_type": "display_data"
    },
    {
     "name": "stdout",
     "output_type": "stream",
     "text": [
      "mrmse_nz: 1.096453, rmrmse_nz: 0.456954, mrmse: 0.489240, rmrmse: 0.203347 \n",
      "[2019-11-10 13:00:43,147] epoch: 45 | classification_loss: 0.6503\n",
      "[2019-11-10 13:00:44,431] checkpoint created at /media/James/BigData/CountSeg_output/vOR_counting/model_45.pt\n",
      "[2019-11-10 13:00:45,647] checkpoint created at /media/James/BigData/CountSeg_output/vOR_counting/model_latest.pt\n",
      "\n",
      "--------------------------------------------------------\n",
      "\n",
      "learning rate: 0.0001\n",
      "learning rate: 0.01\n",
      "stage 2 of the training: using criterion2\n"
     ]
    },
    {
     "data": {
      "application/vnd.jupyter.widget-view+json": {
       "model_id": "",
       "version_major": 2,
       "version_minor": 0
      },
      "text/plain": [
       "HBox(children=(IntProgress(value=0, description='train', max=277, style=ProgressStyle(description_width='initi…"
      ]
     },
     "metadata": {},
     "output_type": "display_data"
    },
    {
     "name": "stdout",
     "output_type": "stream",
     "text": [
      "validation start\n"
     ]
    },
    {
     "data": {
      "application/vnd.jupyter.widget-view+json": {
       "model_id": "",
       "version_major": 2,
       "version_minor": 0
      },
      "text/plain": [
       "HBox(children=(IntProgress(value=0, description='val', max=789, style=ProgressStyle(description_width='initial…"
      ]
     },
     "metadata": {},
     "output_type": "display_data"
    },
    {
     "name": "stdout",
     "output_type": "stream",
     "text": [
      "mrmse_nz: 1.102793, rmrmse_nz: 0.460021, mrmse: 0.489882, rmrmse: 0.203899 \n",
      "[2019-11-10 13:02:47,490] epoch: 46 | classification_loss: 0.6499\n",
      "[2019-11-10 13:02:48,773] checkpoint created at /media/James/BigData/CountSeg_output/vOR_counting/model_46.pt\n",
      "[2019-11-10 13:02:50,033] checkpoint created at /media/James/BigData/CountSeg_output/vOR_counting/model_latest.pt\n",
      "\n",
      "--------------------------------------------------------\n",
      "\n",
      "learning rate: 0.0001\n",
      "learning rate: 0.01\n",
      "stage 2 of the training: using criterion2\n"
     ]
    },
    {
     "data": {
      "application/vnd.jupyter.widget-view+json": {
       "model_id": "",
       "version_major": 2,
       "version_minor": 0
      },
      "text/plain": [
       "HBox(children=(IntProgress(value=0, description='train', max=277, style=ProgressStyle(description_width='initi…"
      ]
     },
     "metadata": {},
     "output_type": "display_data"
    },
    {
     "name": "stdout",
     "output_type": "stream",
     "text": [
      "validation start\n"
     ]
    },
    {
     "data": {
      "application/vnd.jupyter.widget-view+json": {
       "model_id": "",
       "version_major": 2,
       "version_minor": 0
      },
      "text/plain": [
       "HBox(children=(IntProgress(value=0, description='val', max=789, style=ProgressStyle(description_width='initial…"
      ]
     },
     "metadata": {},
     "output_type": "display_data"
    },
    {
     "name": "stdout",
     "output_type": "stream",
     "text": [
      "mrmse_nz: 1.073850, rmrmse_nz: 0.448839, mrmse: 0.472738, rmrmse: 0.197174 \n",
      "[2019-11-10 13:04:52,179] epoch: 47 | classification_loss: 0.6500\n",
      "[2019-11-10 13:04:53,356] checkpoint created at /media/James/BigData/CountSeg_output/vOR_counting/model_47.pt\n",
      "[2019-11-10 13:04:54,537] checkpoint created at /media/James/BigData/CountSeg_output/vOR_counting/model_latest.pt\n",
      "\n",
      "--------------------------------------------------------\n",
      "\n",
      "learning rate: 0.0001\n",
      "learning rate: 0.01\n",
      "stage 2 of the training: using criterion2\n"
     ]
    },
    {
     "data": {
      "application/vnd.jupyter.widget-view+json": {
       "model_id": "",
       "version_major": 2,
       "version_minor": 0
      },
      "text/plain": [
       "HBox(children=(IntProgress(value=0, description='train', max=277, style=ProgressStyle(description_width='initi…"
      ]
     },
     "metadata": {},
     "output_type": "display_data"
    },
    {
     "name": "stdout",
     "output_type": "stream",
     "text": [
      "validation start\n"
     ]
    },
    {
     "data": {
      "application/vnd.jupyter.widget-view+json": {
       "model_id": "",
       "version_major": 2,
       "version_minor": 0
      },
      "text/plain": [
       "HBox(children=(IntProgress(value=0, description='val', max=789, style=ProgressStyle(description_width='initial…"
      ]
     },
     "metadata": {},
     "output_type": "display_data"
    },
    {
     "name": "stdout",
     "output_type": "stream",
     "text": [
      "mrmse_nz: 1.115448, rmrmse_nz: 0.463481, mrmse: 0.494137, rmrmse: 0.204793 \n",
      "[2019-11-10 13:06:55,668] epoch: 48 | classification_loss: 0.6490\n",
      "[2019-11-10 13:06:56,946] checkpoint created at /media/James/BigData/CountSeg_output/vOR_counting/model_48.pt\n",
      "[2019-11-10 13:06:58,148] checkpoint created at /media/James/BigData/CountSeg_output/vOR_counting/model_latest.pt\n",
      "\n",
      "--------------------------------------------------------\n",
      "\n",
      "learning rate: 0.0001\n",
      "learning rate: 0.01\n",
      "stage 2 of the training: using criterion2\n"
     ]
    },
    {
     "data": {
      "application/vnd.jupyter.widget-view+json": {
       "model_id": "",
       "version_major": 2,
       "version_minor": 0
      },
      "text/plain": [
       "HBox(children=(IntProgress(value=0, description='train', max=277, style=ProgressStyle(description_width='initi…"
      ]
     },
     "metadata": {},
     "output_type": "display_data"
    },
    {
     "name": "stdout",
     "output_type": "stream",
     "text": [
      "validation start\n"
     ]
    },
    {
     "data": {
      "application/vnd.jupyter.widget-view+json": {
       "model_id": "",
       "version_major": 2,
       "version_minor": 0
      },
      "text/plain": [
       "HBox(children=(IntProgress(value=0, description='val', max=789, style=ProgressStyle(description_width='initial…"
      ]
     },
     "metadata": {},
     "output_type": "display_data"
    },
    {
     "name": "stdout",
     "output_type": "stream",
     "text": [
      "mrmse_nz: 1.169324, rmrmse_nz: 0.484840, mrmse: 0.519031, rmrmse: 0.214680 \n",
      "[2019-11-10 13:08:59,731] epoch: 49 | classification_loss: 0.6481\n",
      "[2019-11-10 13:09:00,998] checkpoint created at /media/James/BigData/CountSeg_output/vOR_counting/model_49.pt\n",
      "[2019-11-10 13:09:02,276] checkpoint created at /media/James/BigData/CountSeg_output/vOR_counting/model_latest.pt\n",
      "\n",
      "--------------------------------------------------------\n",
      "\n",
      "learning rate: 5e-05\n",
      "learning rate: 0.005\n",
      "stage 2 of the training: using criterion2\n"
     ]
    },
    {
     "data": {
      "application/vnd.jupyter.widget-view+json": {
       "model_id": "",
       "version_major": 2,
       "version_minor": 0
      },
      "text/plain": [
       "HBox(children=(IntProgress(value=0, description='train', max=277, style=ProgressStyle(description_width='initi…"
      ]
     },
     "metadata": {},
     "output_type": "display_data"
    },
    {
     "name": "stdout",
     "output_type": "stream",
     "text": [
      "validation start\n"
     ]
    },
    {
     "data": {
      "application/vnd.jupyter.widget-view+json": {
       "model_id": "",
       "version_major": 2,
       "version_minor": 0
      },
      "text/plain": [
       "HBox(children=(IntProgress(value=0, description='val', max=789, style=ProgressStyle(description_width='initial…"
      ]
     },
     "metadata": {},
     "output_type": "display_data"
    },
    {
     "name": "stdout",
     "output_type": "stream",
     "text": [
      "mrmse_nz: 1.107617, rmrmse_nz: 0.458918, mrmse: 0.488913, rmrmse: 0.202192 \n",
      "[2019-11-10 13:11:04,632] epoch: 50 | classification_loss: 0.6493\n",
      "[2019-11-10 13:11:05,867] checkpoint created at /media/James/BigData/CountSeg_output/vOR_counting/model_50.pt\n",
      "[2019-11-10 13:11:07,072] checkpoint created at /media/James/BigData/CountSeg_output/vOR_counting/model_latest.pt\n",
      "\n",
      "--------------------------------------------------------\n",
      "\n",
      "learning rate: 5e-05\n",
      "learning rate: 0.005\n",
      "stage 2 of the training: using criterion2\n"
     ]
    },
    {
     "data": {
      "application/vnd.jupyter.widget-view+json": {
       "model_id": "",
       "version_major": 2,
       "version_minor": 0
      },
      "text/plain": [
       "HBox(children=(IntProgress(value=0, description='train', max=277, style=ProgressStyle(description_width='initi…"
      ]
     },
     "metadata": {},
     "output_type": "display_data"
    },
    {
     "name": "stdout",
     "output_type": "stream",
     "text": [
      "validation start\n"
     ]
    },
    {
     "data": {
      "application/vnd.jupyter.widget-view+json": {
       "model_id": "",
       "version_major": 2,
       "version_minor": 0
      },
      "text/plain": [
       "HBox(children=(IntProgress(value=0, description='val', max=789, style=ProgressStyle(description_width='initial…"
      ]
     },
     "metadata": {},
     "output_type": "display_data"
    },
    {
     "name": "stdout",
     "output_type": "stream",
     "text": [
      "mrmse_nz: 1.091173, rmrmse_nz: 0.449668, mrmse: 0.484666, rmrmse: 0.199199 \n",
      "[2019-11-10 13:13:09,531] epoch: 51 | classification_loss: 0.6489\n",
      "[2019-11-10 13:13:10,876] checkpoint created at /media/James/BigData/CountSeg_output/vOR_counting/model_51.pt\n",
      "[2019-11-10 13:13:12,090] checkpoint created at /media/James/BigData/CountSeg_output/vOR_counting/model_latest.pt\n",
      "\n",
      "--------------------------------------------------------\n",
      "\n",
      "learning rate: 5e-05\n",
      "learning rate: 0.005\n",
      "stage 2 of the training: using criterion2\n"
     ]
    },
    {
     "data": {
      "application/vnd.jupyter.widget-view+json": {
       "model_id": "",
       "version_major": 2,
       "version_minor": 0
      },
      "text/plain": [
       "HBox(children=(IntProgress(value=0, description='train', max=277, style=ProgressStyle(description_width='initi…"
      ]
     },
     "metadata": {},
     "output_type": "display_data"
    },
    {
     "name": "stdout",
     "output_type": "stream",
     "text": [
      "validation start\n"
     ]
    },
    {
     "data": {
      "application/vnd.jupyter.widget-view+json": {
       "model_id": "",
       "version_major": 2,
       "version_minor": 0
      },
      "text/plain": [
       "HBox(children=(IntProgress(value=0, description='val', max=789, style=ProgressStyle(description_width='initial…"
      ]
     },
     "metadata": {},
     "output_type": "display_data"
    },
    {
     "name": "stdout",
     "output_type": "stream",
     "text": [
      "mrmse_nz: 1.088661, rmrmse_nz: 0.450715, mrmse: 0.482770, rmrmse: 0.199287 \n",
      "[2019-11-10 13:15:14,780] epoch: 52 | classification_loss: 0.6484\n",
      "[2019-11-10 13:15:16,079] checkpoint created at /media/James/BigData/CountSeg_output/vOR_counting/model_52.pt\n",
      "[2019-11-10 13:15:17,305] checkpoint created at /media/James/BigData/CountSeg_output/vOR_counting/model_latest.pt\n",
      "\n",
      "--------------------------------------------------------\n",
      "\n",
      "learning rate: 5e-05\n",
      "learning rate: 0.005\n",
      "stage 2 of the training: using criterion2\n"
     ]
    },
    {
     "data": {
      "application/vnd.jupyter.widget-view+json": {
       "model_id": "",
       "version_major": 2,
       "version_minor": 0
      },
      "text/plain": [
       "HBox(children=(IntProgress(value=0, description='train', max=277, style=ProgressStyle(description_width='initi…"
      ]
     },
     "metadata": {},
     "output_type": "display_data"
    },
    {
     "name": "stdout",
     "output_type": "stream",
     "text": [
      "validation start\n"
     ]
    },
    {
     "data": {
      "application/vnd.jupyter.widget-view+json": {
       "model_id": "",
       "version_major": 2,
       "version_minor": 0
      },
      "text/plain": [
       "HBox(children=(IntProgress(value=0, description='val', max=789, style=ProgressStyle(description_width='initial…"
      ]
     },
     "metadata": {},
     "output_type": "display_data"
    },
    {
     "name": "stdout",
     "output_type": "stream",
     "text": [
      "mrmse_nz: 1.056052, rmrmse_nz: 0.438130, mrmse: 0.469156, rmrmse: 0.194169 \n",
      "[2019-11-10 13:17:19,670] epoch: 53 | classification_loss: 0.6484\n",
      "[2019-11-10 13:17:20,956] checkpoint created at /media/James/BigData/CountSeg_output/vOR_counting/model_53.pt\n",
      "[2019-11-10 13:17:22,169] checkpoint created at /media/James/BigData/CountSeg_output/vOR_counting/model_latest.pt\n",
      "\n",
      "--------------------------------------------------------\n",
      "\n",
      "learning rate: 5e-05\n",
      "learning rate: 0.005\n",
      "stage 2 of the training: using criterion2\n"
     ]
    },
    {
     "data": {
      "application/vnd.jupyter.widget-view+json": {
       "model_id": "",
       "version_major": 2,
       "version_minor": 0
      },
      "text/plain": [
       "HBox(children=(IntProgress(value=0, description='train', max=277, style=ProgressStyle(description_width='initi…"
      ]
     },
     "metadata": {},
     "output_type": "display_data"
    },
    {
     "name": "stdout",
     "output_type": "stream",
     "text": [
      "validation start\n"
     ]
    },
    {
     "data": {
      "application/vnd.jupyter.widget-view+json": {
       "model_id": "",
       "version_major": 2,
       "version_minor": 0
      },
      "text/plain": [
       "HBox(children=(IntProgress(value=0, description='val', max=789, style=ProgressStyle(description_width='initial…"
      ]
     },
     "metadata": {},
     "output_type": "display_data"
    },
    {
     "name": "stdout",
     "output_type": "stream",
     "text": [
      "mrmse_nz: 1.097466, rmrmse_nz: 0.454096, mrmse: 0.487293, rmrmse: 0.201291 \n",
      "[2019-11-10 13:19:23,555] epoch: 54 | classification_loss: 0.6487\n",
      "[2019-11-10 13:19:24,790] checkpoint created at /media/James/BigData/CountSeg_output/vOR_counting/model_54.pt\n",
      "[2019-11-10 13:19:25,983] checkpoint created at /media/James/BigData/CountSeg_output/vOR_counting/model_latest.pt\n",
      "\n",
      "--------------------------------------------------------\n",
      "\n",
      "learning rate: 5e-05\n",
      "learning rate: 0.005\n",
      "stage 2 of the training: using criterion2\n"
     ]
    },
    {
     "data": {
      "application/vnd.jupyter.widget-view+json": {
       "model_id": "",
       "version_major": 2,
       "version_minor": 0
      },
      "text/plain": [
       "HBox(children=(IntProgress(value=0, description='train', max=277, style=ProgressStyle(description_width='initi…"
      ]
     },
     "metadata": {},
     "output_type": "display_data"
    },
    {
     "name": "stdout",
     "output_type": "stream",
     "text": [
      "validation start\n"
     ]
    },
    {
     "data": {
      "application/vnd.jupyter.widget-view+json": {
       "model_id": "",
       "version_major": 2,
       "version_minor": 0
      },
      "text/plain": [
       "HBox(children=(IntProgress(value=0, description='val', max=789, style=ProgressStyle(description_width='initial…"
      ]
     },
     "metadata": {},
     "output_type": "display_data"
    },
    {
     "name": "stdout",
     "output_type": "stream",
     "text": [
      "mrmse_nz: 1.156747, rmrmse_nz: 0.478185, mrmse: 0.515738, rmrmse: 0.212712 \n",
      "[2019-11-10 13:21:27,497] epoch: 55 | classification_loss: 0.6489\n",
      "[2019-11-10 13:21:28,767] checkpoint created at /media/James/BigData/CountSeg_output/vOR_counting/model_55.pt\n",
      "[2019-11-10 13:21:29,932] checkpoint created at /media/James/BigData/CountSeg_output/vOR_counting/model_latest.pt\n",
      "\n",
      "--------------------------------------------------------\n",
      "\n",
      "learning rate: 5e-05\n",
      "learning rate: 0.005\n",
      "stage 2 of the training: using criterion2\n"
     ]
    },
    {
     "data": {
      "application/vnd.jupyter.widget-view+json": {
       "model_id": "",
       "version_major": 2,
       "version_minor": 0
      },
      "text/plain": [
       "HBox(children=(IntProgress(value=0, description='train', max=277, style=ProgressStyle(description_width='initi…"
      ]
     },
     "metadata": {},
     "output_type": "display_data"
    },
    {
     "name": "stdout",
     "output_type": "stream",
     "text": [
      "validation start\n"
     ]
    },
    {
     "data": {
      "application/vnd.jupyter.widget-view+json": {
       "model_id": "",
       "version_major": 2,
       "version_minor": 0
      },
      "text/plain": [
       "HBox(children=(IntProgress(value=0, description='val', max=789, style=ProgressStyle(description_width='initial…"
      ]
     },
     "metadata": {},
     "output_type": "display_data"
    },
    {
     "name": "stdout",
     "output_type": "stream",
     "text": [
      "mrmse_nz: 1.096774, rmrmse_nz: 0.456856, mrmse: 0.481194, rmrmse: 0.200285 \n",
      "[2019-11-10 13:23:32,566] epoch: 56 | classification_loss: 0.6483\n",
      "[2019-11-10 13:23:33,855] checkpoint created at /media/James/BigData/CountSeg_output/vOR_counting/model_56.pt\n",
      "[2019-11-10 13:23:35,081] checkpoint created at /media/James/BigData/CountSeg_output/vOR_counting/model_latest.pt\n",
      "\n",
      "--------------------------------------------------------\n",
      "\n",
      "learning rate: 5e-05\n",
      "learning rate: 0.005\n",
      "stage 2 of the training: using criterion2\n"
     ]
    },
    {
     "data": {
      "application/vnd.jupyter.widget-view+json": {
       "model_id": "",
       "version_major": 2,
       "version_minor": 0
      },
      "text/plain": [
       "HBox(children=(IntProgress(value=0, description='train', max=277, style=ProgressStyle(description_width='initi…"
      ]
     },
     "metadata": {},
     "output_type": "display_data"
    },
    {
     "name": "stdout",
     "output_type": "stream",
     "text": [
      "validation start\n"
     ]
    },
    {
     "data": {
      "application/vnd.jupyter.widget-view+json": {
       "model_id": "",
       "version_major": 2,
       "version_minor": 0
      },
      "text/plain": [
       "HBox(children=(IntProgress(value=0, description='val', max=789, style=ProgressStyle(description_width='initial…"
      ]
     },
     "metadata": {},
     "output_type": "display_data"
    },
    {
     "name": "stdout",
     "output_type": "stream",
     "text": [
      "mrmse_nz: 1.063118, rmrmse_nz: 0.438203, mrmse: 0.472413, rmrmse: 0.194319 \n",
      "[2019-11-10 13:25:36,991] epoch: 57 | classification_loss: 0.6477\n",
      "[2019-11-10 13:25:38,292] checkpoint created at /media/James/BigData/CountSeg_output/vOR_counting/model_57.pt\n",
      "[2019-11-10 13:25:39,478] checkpoint created at /media/James/BigData/CountSeg_output/vOR_counting/model_latest.pt\n",
      "\n",
      "--------------------------------------------------------\n",
      "\n",
      "learning rate: 5e-05\n",
      "learning rate: 0.005\n",
      "stage 2 of the training: using criterion2\n"
     ]
    },
    {
     "data": {
      "application/vnd.jupyter.widget-view+json": {
       "model_id": "",
       "version_major": 2,
       "version_minor": 0
      },
      "text/plain": [
       "HBox(children=(IntProgress(value=0, description='train', max=277, style=ProgressStyle(description_width='initi…"
      ]
     },
     "metadata": {},
     "output_type": "display_data"
    },
    {
     "name": "stdout",
     "output_type": "stream",
     "text": [
      "validation start\n"
     ]
    },
    {
     "data": {
      "application/vnd.jupyter.widget-view+json": {
       "model_id": "",
       "version_major": 2,
       "version_minor": 0
      },
      "text/plain": [
       "HBox(children=(IntProgress(value=0, description='val', max=789, style=ProgressStyle(description_width='initial…"
      ]
     },
     "metadata": {},
     "output_type": "display_data"
    },
    {
     "name": "stdout",
     "output_type": "stream",
     "text": [
      "mrmse_nz: 1.098024, rmrmse_nz: 0.457226, mrmse: 0.487900, rmrmse: 0.202630 \n",
      "[2019-11-10 13:27:42,143] epoch: 58 | classification_loss: 0.6481\n",
      "[2019-11-10 13:27:43,393] checkpoint created at /media/James/BigData/CountSeg_output/vOR_counting/model_58.pt\n",
      "[2019-11-10 13:27:44,647] checkpoint created at /media/James/BigData/CountSeg_output/vOR_counting/model_latest.pt\n",
      "\n",
      "--------------------------------------------------------\n",
      "\n",
      "learning rate: 5e-05\n",
      "learning rate: 0.005\n",
      "stage 2 of the training: using criterion2\n"
     ]
    },
    {
     "data": {
      "application/vnd.jupyter.widget-view+json": {
       "model_id": "",
       "version_major": 2,
       "version_minor": 0
      },
      "text/plain": [
       "HBox(children=(IntProgress(value=0, description='train', max=277, style=ProgressStyle(description_width='initi…"
      ]
     },
     "metadata": {},
     "output_type": "display_data"
    },
    {
     "name": "stdout",
     "output_type": "stream",
     "text": [
      "validation start\n"
     ]
    },
    {
     "data": {
      "application/vnd.jupyter.widget-view+json": {
       "model_id": "",
       "version_major": 2,
       "version_minor": 0
      },
      "text/plain": [
       "HBox(children=(IntProgress(value=0, description='val', max=789, style=ProgressStyle(description_width='initial…"
      ]
     },
     "metadata": {},
     "output_type": "display_data"
    },
    {
     "name": "stdout",
     "output_type": "stream",
     "text": [
      "mrmse_nz: 1.133063, rmrmse_nz: 0.466923, mrmse: 0.502963, rmrmse: 0.206704 \n",
      "[2019-11-10 13:29:47,991] epoch: 59 | classification_loss: 0.6477\n",
      "[2019-11-10 13:29:49,200] checkpoint created at /media/James/BigData/CountSeg_output/vOR_counting/model_59.pt\n",
      "[2019-11-10 13:29:50,402] checkpoint created at /media/James/BigData/CountSeg_output/vOR_counting/model_latest.pt\n",
      "\n",
      "--------------------------------------------------------\n",
      "\n",
      "learning rate: 5e-05\n",
      "learning rate: 0.005\n",
      "stage 2 of the training: using criterion2\n"
     ]
    },
    {
     "data": {
      "application/vnd.jupyter.widget-view+json": {
       "model_id": "",
       "version_major": 2,
       "version_minor": 0
      },
      "text/plain": [
       "HBox(children=(IntProgress(value=0, description='train', max=277, style=ProgressStyle(description_width='initi…"
      ]
     },
     "metadata": {},
     "output_type": "display_data"
    },
    {
     "name": "stdout",
     "output_type": "stream",
     "text": [
      "validation start\n"
     ]
    },
    {
     "data": {
      "application/vnd.jupyter.widget-view+json": {
       "model_id": "",
       "version_major": 2,
       "version_minor": 0
      },
      "text/plain": [
       "HBox(children=(IntProgress(value=0, description='val', max=789, style=ProgressStyle(description_width='initial…"
      ]
     },
     "metadata": {},
     "output_type": "display_data"
    },
    {
     "name": "stdout",
     "output_type": "stream",
     "text": [
      "mrmse_nz: 1.062649, rmrmse_nz: 0.440028, mrmse: 0.469918, rmrmse: 0.194180 \n",
      "[2019-11-10 13:31:53,029] epoch: 60 | classification_loss: 0.6472\n",
      "[2019-11-10 13:31:54,257] checkpoint created at /media/James/BigData/CountSeg_output/vOR_counting/model_60.pt\n",
      "[2019-11-10 13:31:55,475] checkpoint created at /media/James/BigData/CountSeg_output/vOR_counting/model_latest.pt\n",
      "\n",
      "--------------------------------------------------------\n",
      "\n",
      "learning rate: 5e-05\n",
      "learning rate: 0.005\n",
      "stage 2 of the training: using criterion2\n"
     ]
    },
    {
     "data": {
      "application/vnd.jupyter.widget-view+json": {
       "model_id": "",
       "version_major": 2,
       "version_minor": 0
      },
      "text/plain": [
       "HBox(children=(IntProgress(value=0, description='train', max=277, style=ProgressStyle(description_width='initi…"
      ]
     },
     "metadata": {},
     "output_type": "display_data"
    },
    {
     "name": "stdout",
     "output_type": "stream",
     "text": [
      "validation start\n"
     ]
    },
    {
     "data": {
      "application/vnd.jupyter.widget-view+json": {
       "model_id": "",
       "version_major": 2,
       "version_minor": 0
      },
      "text/plain": [
       "HBox(children=(IntProgress(value=0, description='val', max=789, style=ProgressStyle(description_width='initial…"
      ]
     },
     "metadata": {},
     "output_type": "display_data"
    },
    {
     "name": "stdout",
     "output_type": "stream",
     "text": [
      "mrmse_nz: 1.159005, rmrmse_nz: 0.476621, mrmse: 0.515151, rmrmse: 0.211313 \n",
      "[2019-11-10 13:33:57,459] epoch: 61 | classification_loss: 0.6472\n",
      "[2019-11-10 13:33:58,726] checkpoint created at /media/James/BigData/CountSeg_output/vOR_counting/model_61.pt\n",
      "[2019-11-10 13:33:59,977] checkpoint created at /media/James/BigData/CountSeg_output/vOR_counting/model_latest.pt\n",
      "\n",
      "--------------------------------------------------------\n",
      "\n",
      "learning rate: 5e-05\n",
      "learning rate: 0.005\n",
      "stage 2 of the training: using criterion2\n"
     ]
    },
    {
     "data": {
      "application/vnd.jupyter.widget-view+json": {
       "model_id": "",
       "version_major": 2,
       "version_minor": 0
      },
      "text/plain": [
       "HBox(children=(IntProgress(value=0, description='train', max=277, style=ProgressStyle(description_width='initi…"
      ]
     },
     "metadata": {},
     "output_type": "display_data"
    },
    {
     "name": "stdout",
     "output_type": "stream",
     "text": [
      "validation start\n"
     ]
    },
    {
     "data": {
      "application/vnd.jupyter.widget-view+json": {
       "model_id": "",
       "version_major": 2,
       "version_minor": 0
      },
      "text/plain": [
       "HBox(children=(IntProgress(value=0, description='val', max=789, style=ProgressStyle(description_width='initial…"
      ]
     },
     "metadata": {},
     "output_type": "display_data"
    },
    {
     "name": "stdout",
     "output_type": "stream",
     "text": [
      "mrmse_nz: 1.109721, rmrmse_nz: 0.461117, mrmse: 0.490397, rmrmse: 0.203592 \n",
      "[2019-11-10 13:36:02,971] epoch: 62 | classification_loss: 0.6469\n",
      "[2019-11-10 13:36:04,268] checkpoint created at /media/James/BigData/CountSeg_output/vOR_counting/model_62.pt\n",
      "[2019-11-10 13:36:05,506] checkpoint created at /media/James/BigData/CountSeg_output/vOR_counting/model_latest.pt\n",
      "\n",
      "--------------------------------------------------------\n",
      "\n",
      "learning rate: 5e-05\n",
      "learning rate: 0.005\n",
      "stage 2 of the training: using criterion2\n"
     ]
    },
    {
     "data": {
      "application/vnd.jupyter.widget-view+json": {
       "model_id": "",
       "version_major": 2,
       "version_minor": 0
      },
      "text/plain": [
       "HBox(children=(IntProgress(value=0, description='train', max=277, style=ProgressStyle(description_width='initi…"
      ]
     },
     "metadata": {},
     "output_type": "display_data"
    },
    {
     "name": "stdout",
     "output_type": "stream",
     "text": [
      "validation start\n"
     ]
    },
    {
     "data": {
      "application/vnd.jupyter.widget-view+json": {
       "model_id": "",
       "version_major": 2,
       "version_minor": 0
      },
      "text/plain": [
       "HBox(children=(IntProgress(value=0, description='val', max=789, style=ProgressStyle(description_width='initial…"
      ]
     },
     "metadata": {},
     "output_type": "display_data"
    },
    {
     "name": "stdout",
     "output_type": "stream",
     "text": [
      "mrmse_nz: 1.040732, rmrmse_nz: 0.436704, mrmse: 0.457692, rmrmse: 0.192264 \n",
      "[2019-11-10 13:38:08,301] epoch: 63 | classification_loss: 0.6472\n",
      "[2019-11-10 13:38:09,980] checkpoint created at /media/James/BigData/CountSeg_output/vOR_counting/model_63.pt\n",
      "[2019-11-10 13:38:11,235] checkpoint created at /media/James/BigData/CountSeg_output/vOR_counting/model_latest.pt\n",
      "\n",
      "--------------------------------------------------------\n",
      "\n",
      "learning rate: 5e-05\n",
      "learning rate: 0.005\n",
      "stage 2 of the training: using criterion2\n"
     ]
    },
    {
     "data": {
      "application/vnd.jupyter.widget-view+json": {
       "model_id": "",
       "version_major": 2,
       "version_minor": 0
      },
      "text/plain": [
       "HBox(children=(IntProgress(value=0, description='train', max=277, style=ProgressStyle(description_width='initi…"
      ]
     },
     "metadata": {},
     "output_type": "display_data"
    },
    {
     "name": "stdout",
     "output_type": "stream",
     "text": [
      "validation start\n"
     ]
    },
    {
     "data": {
      "application/vnd.jupyter.widget-view+json": {
       "model_id": "",
       "version_major": 2,
       "version_minor": 0
      },
      "text/plain": [
       "HBox(children=(IntProgress(value=0, description='val', max=789, style=ProgressStyle(description_width='initial…"
      ]
     },
     "metadata": {},
     "output_type": "display_data"
    },
    {
     "name": "stdout",
     "output_type": "stream",
     "text": [
      "mrmse_nz: 1.039821, rmrmse_nz: 0.426707, mrmse: 0.467835, rmrmse: 0.191605 \n",
      "[2019-11-10 13:40:14,219] epoch: 64 | classification_loss: 0.6469\n",
      "[2019-11-10 13:40:15,487] checkpoint created at /media/James/BigData/CountSeg_output/vOR_counting/model_64.pt\n",
      "[2019-11-10 13:40:16,724] checkpoint created at /media/James/BigData/CountSeg_output/vOR_counting/model_latest.pt\n",
      "\n",
      "--------------------------------------------------------\n",
      "\n",
      "learning rate: 5e-05\n",
      "learning rate: 0.005\n",
      "stage 2 of the training: using criterion2\n"
     ]
    },
    {
     "data": {
      "application/vnd.jupyter.widget-view+json": {
       "model_id": "",
       "version_major": 2,
       "version_minor": 0
      },
      "text/plain": [
       "HBox(children=(IntProgress(value=0, description='train', max=277, style=ProgressStyle(description_width='initi…"
      ]
     },
     "metadata": {},
     "output_type": "display_data"
    },
    {
     "name": "stdout",
     "output_type": "stream",
     "text": [
      "validation start\n"
     ]
    },
    {
     "data": {
      "application/vnd.jupyter.widget-view+json": {
       "model_id": "",
       "version_major": 2,
       "version_minor": 0
      },
      "text/plain": [
       "HBox(children=(IntProgress(value=0, description='val', max=789, style=ProgressStyle(description_width='initial…"
      ]
     },
     "metadata": {},
     "output_type": "display_data"
    },
    {
     "name": "stdout",
     "output_type": "stream",
     "text": [
      "mrmse_nz: 1.088138, rmrmse_nz: 0.445692, mrmse: 0.483510, rmrmse: 0.197570 \n",
      "[2019-11-10 13:42:19,463] epoch: 65 | classification_loss: 0.6466\n",
      "[2019-11-10 13:42:20,761] checkpoint created at /media/James/BigData/CountSeg_output/vOR_counting/model_65.pt\n",
      "[2019-11-10 13:42:21,967] checkpoint created at /media/James/BigData/CountSeg_output/vOR_counting/model_latest.pt\n",
      "\n",
      "--------------------------------------------------------\n",
      "\n",
      "learning rate: 5e-05\n",
      "learning rate: 0.005\n",
      "stage 2 of the training: using criterion2\n"
     ]
    },
    {
     "data": {
      "application/vnd.jupyter.widget-view+json": {
       "model_id": "",
       "version_major": 2,
       "version_minor": 0
      },
      "text/plain": [
       "HBox(children=(IntProgress(value=0, description='train', max=277, style=ProgressStyle(description_width='initi…"
      ]
     },
     "metadata": {},
     "output_type": "display_data"
    },
    {
     "name": "stdout",
     "output_type": "stream",
     "text": [
      "validation start\n"
     ]
    },
    {
     "data": {
      "application/vnd.jupyter.widget-view+json": {
       "model_id": "",
       "version_major": 2,
       "version_minor": 0
      },
      "text/plain": [
       "HBox(children=(IntProgress(value=0, description='val', max=789, style=ProgressStyle(description_width='initial…"
      ]
     },
     "metadata": {},
     "output_type": "display_data"
    },
    {
     "name": "stdout",
     "output_type": "stream",
     "text": [
      "mrmse_nz: 1.048785, rmrmse_nz: 0.431283, mrmse: 0.465621, rmrmse: 0.191039 \n",
      "[2019-11-10 13:44:24,048] epoch: 66 | classification_loss: 0.6475\n",
      "[2019-11-10 13:44:25,388] checkpoint created at /media/James/BigData/CountSeg_output/vOR_counting/model_66.pt\n",
      "[2019-11-10 13:44:26,608] checkpoint created at /media/James/BigData/CountSeg_output/vOR_counting/model_latest.pt\n",
      "\n",
      "--------------------------------------------------------\n",
      "\n",
      "learning rate: 5e-05\n",
      "learning rate: 0.005\n",
      "stage 2 of the training: using criterion2\n"
     ]
    },
    {
     "data": {
      "application/vnd.jupyter.widget-view+json": {
       "model_id": "",
       "version_major": 2,
       "version_minor": 0
      },
      "text/plain": [
       "HBox(children=(IntProgress(value=0, description='train', max=277, style=ProgressStyle(description_width='initi…"
      ]
     },
     "metadata": {},
     "output_type": "display_data"
    },
    {
     "name": "stdout",
     "output_type": "stream",
     "text": [
      "validation start\n"
     ]
    },
    {
     "data": {
      "application/vnd.jupyter.widget-view+json": {
       "model_id": "",
       "version_major": 2,
       "version_minor": 0
      },
      "text/plain": [
       "HBox(children=(IntProgress(value=0, description='val', max=789, style=ProgressStyle(description_width='initial…"
      ]
     },
     "metadata": {},
     "output_type": "display_data"
    },
    {
     "name": "stdout",
     "output_type": "stream",
     "text": [
      "mrmse_nz: 1.053113, rmrmse_nz: 0.431676, mrmse: 0.469254, rmrmse: 0.191941 \n",
      "[2019-11-10 13:46:28,857] epoch: 67 | classification_loss: 0.6464\n",
      "[2019-11-10 13:46:30,091] checkpoint created at /media/James/BigData/CountSeg_output/vOR_counting/model_67.pt\n",
      "[2019-11-10 13:46:31,329] checkpoint created at /media/James/BigData/CountSeg_output/vOR_counting/model_latest.pt\n",
      "\n",
      "--------------------------------------------------------\n",
      "\n",
      "learning rate: 5e-05\n",
      "learning rate: 0.005\n",
      "stage 2 of the training: using criterion2\n"
     ]
    },
    {
     "data": {
      "application/vnd.jupyter.widget-view+json": {
       "model_id": "",
       "version_major": 2,
       "version_minor": 0
      },
      "text/plain": [
       "HBox(children=(IntProgress(value=0, description='train', max=277, style=ProgressStyle(description_width='initi…"
      ]
     },
     "metadata": {},
     "output_type": "display_data"
    },
    {
     "name": "stdout",
     "output_type": "stream",
     "text": [
      "validation start\n"
     ]
    },
    {
     "data": {
      "application/vnd.jupyter.widget-view+json": {
       "model_id": "",
       "version_major": 2,
       "version_minor": 0
      },
      "text/plain": [
       "HBox(children=(IntProgress(value=0, description='val', max=789, style=ProgressStyle(description_width='initial…"
      ]
     },
     "metadata": {},
     "output_type": "display_data"
    },
    {
     "name": "stdout",
     "output_type": "stream",
     "text": [
      "mrmse_nz: 1.060051, rmrmse_nz: 0.439393, mrmse: 0.474416, rmrmse: 0.196058 \n",
      "[2019-11-10 13:48:33,845] epoch: 68 | classification_loss: 0.6462\n",
      "[2019-11-10 13:48:35,148] checkpoint created at /media/James/BigData/CountSeg_output/vOR_counting/model_68.pt\n",
      "[2019-11-10 13:48:36,351] checkpoint created at /media/James/BigData/CountSeg_output/vOR_counting/model_latest.pt\n",
      "\n",
      "--------------------------------------------------------\n",
      "\n",
      "learning rate: 5e-05\n",
      "learning rate: 0.005\n",
      "stage 2 of the training: using criterion2\n"
     ]
    },
    {
     "data": {
      "application/vnd.jupyter.widget-view+json": {
       "model_id": "",
       "version_major": 2,
       "version_minor": 0
      },
      "text/plain": [
       "HBox(children=(IntProgress(value=0, description='train', max=277, style=ProgressStyle(description_width='initi…"
      ]
     },
     "metadata": {},
     "output_type": "display_data"
    },
    {
     "name": "stdout",
     "output_type": "stream",
     "text": [
      "validation start\n"
     ]
    },
    {
     "data": {
      "application/vnd.jupyter.widget-view+json": {
       "model_id": "",
       "version_major": 2,
       "version_minor": 0
      },
      "text/plain": [
       "HBox(children=(IntProgress(value=0, description='val', max=789, style=ProgressStyle(description_width='initial…"
      ]
     },
     "metadata": {},
     "output_type": "display_data"
    },
    {
     "name": "stdout",
     "output_type": "stream",
     "text": [
      "mrmse_nz: 1.071215, rmrmse_nz: 0.438826, mrmse: 0.480120, rmrmse: 0.196258 \n",
      "[2019-11-10 13:50:38,624] epoch: 69 | classification_loss: 0.6464\n",
      "[2019-11-10 13:50:39,918] checkpoint created at /media/James/BigData/CountSeg_output/vOR_counting/model_69.pt\n",
      "[2019-11-10 13:50:41,125] checkpoint created at /media/James/BigData/CountSeg_output/vOR_counting/model_latest.pt\n",
      "\n",
      "--------------------------------------------------------\n",
      "\n",
      "learning rate: 5e-05\n",
      "learning rate: 0.005\n",
      "stage 2 of the training: using criterion2\n"
     ]
    },
    {
     "data": {
      "application/vnd.jupyter.widget-view+json": {
       "model_id": "",
       "version_major": 2,
       "version_minor": 0
      },
      "text/plain": [
       "HBox(children=(IntProgress(value=0, description='train', max=277, style=ProgressStyle(description_width='initi…"
      ]
     },
     "metadata": {},
     "output_type": "display_data"
    },
    {
     "name": "stdout",
     "output_type": "stream",
     "text": [
      "validation start\n"
     ]
    },
    {
     "data": {
      "application/vnd.jupyter.widget-view+json": {
       "model_id": "",
       "version_major": 2,
       "version_minor": 0
      },
      "text/plain": [
       "HBox(children=(IntProgress(value=0, description='val', max=789, style=ProgressStyle(description_width='initial…"
      ]
     },
     "metadata": {},
     "output_type": "display_data"
    },
    {
     "name": "stdout",
     "output_type": "stream",
     "text": [
      "mrmse_nz: 1.047256, rmrmse_nz: 0.436275, mrmse: 0.462007, rmrmse: 0.192333 \n",
      "[2019-11-10 13:52:43,651] epoch: 70 | classification_loss: 0.6465\n",
      "[2019-11-10 13:52:44,938] checkpoint created at /media/James/BigData/CountSeg_output/vOR_counting/model_70.pt\n",
      "[2019-11-10 13:52:46,226] checkpoint created at /media/James/BigData/CountSeg_output/vOR_counting/model_latest.pt\n",
      "\n",
      "--------------------------------------------------------\n",
      "\n",
      "learning rate: 5e-05\n",
      "learning rate: 0.005\n",
      "stage 2 of the training: using criterion2\n"
     ]
    },
    {
     "data": {
      "application/vnd.jupyter.widget-view+json": {
       "model_id": "",
       "version_major": 2,
       "version_minor": 0
      },
      "text/plain": [
       "HBox(children=(IntProgress(value=0, description='train', max=277, style=ProgressStyle(description_width='initi…"
      ]
     },
     "metadata": {},
     "output_type": "display_data"
    },
    {
     "name": "stdout",
     "output_type": "stream",
     "text": [
      "validation start\n"
     ]
    },
    {
     "data": {
      "application/vnd.jupyter.widget-view+json": {
       "model_id": "",
       "version_major": 2,
       "version_minor": 0
      },
      "text/plain": [
       "HBox(children=(IntProgress(value=0, description='val', max=789, style=ProgressStyle(description_width='initial…"
      ]
     },
     "metadata": {},
     "output_type": "display_data"
    },
    {
     "name": "stdout",
     "output_type": "stream",
     "text": [
      "mrmse_nz: 1.121542, rmrmse_nz: 0.461947, mrmse: 0.497133, rmrmse: 0.204514 \n",
      "[2019-11-10 13:54:49,031] epoch: 71 | classification_loss: 0.6459\n",
      "[2019-11-10 13:54:50,289] checkpoint created at /media/James/BigData/CountSeg_output/vOR_counting/model_71.pt\n",
      "[2019-11-10 13:54:51,499] checkpoint created at /media/James/BigData/CountSeg_output/vOR_counting/model_latest.pt\n",
      "\n",
      "--------------------------------------------------------\n",
      "\n",
      "learning rate: 5e-05\n",
      "learning rate: 0.005\n",
      "stage 2 of the training: using criterion2\n"
     ]
    },
    {
     "data": {
      "application/vnd.jupyter.widget-view+json": {
       "model_id": "",
       "version_major": 2,
       "version_minor": 0
      },
      "text/plain": [
       "HBox(children=(IntProgress(value=0, description='train', max=277, style=ProgressStyle(description_width='initi…"
      ]
     },
     "metadata": {},
     "output_type": "display_data"
    },
    {
     "name": "stdout",
     "output_type": "stream",
     "text": [
      "validation start\n"
     ]
    },
    {
     "data": {
      "application/vnd.jupyter.widget-view+json": {
       "model_id": "",
       "version_major": 2,
       "version_minor": 0
      },
      "text/plain": [
       "HBox(children=(IntProgress(value=0, description='val', max=789, style=ProgressStyle(description_width='initial…"
      ]
     },
     "metadata": {},
     "output_type": "display_data"
    },
    {
     "name": "stdout",
     "output_type": "stream",
     "text": [
      "mrmse_nz: 0.984225, rmrmse_nz: 0.410141, mrmse: 0.436880, rmrmse: 0.181663 \n",
      "[2019-11-10 13:56:54,395] epoch: 72 | classification_loss: 0.6466\n",
      "[2019-11-10 13:56:55,664] checkpoint created at /media/James/BigData/CountSeg_output/vOR_counting/model_72.pt\n",
      "[2019-11-10 13:56:56,855] checkpoint created at /media/James/BigData/CountSeg_output/vOR_counting/model_latest.pt\n",
      "\n",
      "--------------------------------------------------------\n",
      "\n",
      "learning rate: 5e-05\n",
      "learning rate: 0.005\n",
      "stage 2 of the training: using criterion2\n"
     ]
    },
    {
     "data": {
      "application/vnd.jupyter.widget-view+json": {
       "model_id": "",
       "version_major": 2,
       "version_minor": 0
      },
      "text/plain": [
       "HBox(children=(IntProgress(value=0, description='train', max=277, style=ProgressStyle(description_width='initi…"
      ]
     },
     "metadata": {},
     "output_type": "display_data"
    },
    {
     "name": "stdout",
     "output_type": "stream",
     "text": [
      "validation start\n"
     ]
    },
    {
     "data": {
      "application/vnd.jupyter.widget-view+json": {
       "model_id": "",
       "version_major": 2,
       "version_minor": 0
      },
      "text/plain": [
       "HBox(children=(IntProgress(value=0, description='val', max=789, style=ProgressStyle(description_width='initial…"
      ]
     },
     "metadata": {},
     "output_type": "display_data"
    },
    {
     "name": "stdout",
     "output_type": "stream",
     "text": [
      "mrmse_nz: 1.078919, rmrmse_nz: 0.442240, mrmse: 0.477973, rmrmse: 0.195691 \n",
      "[2019-11-10 13:58:59,530] epoch: 73 | classification_loss: 0.6465\n",
      "[2019-11-10 13:59:00,805] checkpoint created at /media/James/BigData/CountSeg_output/vOR_counting/model_73.pt\n",
      "[2019-11-10 13:59:02,027] checkpoint created at /media/James/BigData/CountSeg_output/vOR_counting/model_latest.pt\n",
      "\n",
      "--------------------------------------------------------\n",
      "\n",
      "learning rate: 5e-05\n",
      "learning rate: 0.005\n",
      "stage 2 of the training: using criterion2\n"
     ]
    },
    {
     "data": {
      "application/vnd.jupyter.widget-view+json": {
       "model_id": "",
       "version_major": 2,
       "version_minor": 0
      },
      "text/plain": [
       "HBox(children=(IntProgress(value=0, description='train', max=277, style=ProgressStyle(description_width='initi…"
      ]
     },
     "metadata": {},
     "output_type": "display_data"
    },
    {
     "name": "stdout",
     "output_type": "stream",
     "text": [
      "validation start\n"
     ]
    },
    {
     "data": {
      "application/vnd.jupyter.widget-view+json": {
       "model_id": "",
       "version_major": 2,
       "version_minor": 0
      },
      "text/plain": [
       "HBox(children=(IntProgress(value=0, description='val', max=789, style=ProgressStyle(description_width='initial…"
      ]
     },
     "metadata": {},
     "output_type": "display_data"
    },
    {
     "name": "stdout",
     "output_type": "stream",
     "text": [
      "mrmse_nz: 1.092644, rmrmse_nz: 0.451600, mrmse: 0.486955, rmrmse: 0.200862 \n",
      "[2019-11-10 14:01:04,479] epoch: 74 | classification_loss: 0.6462\n",
      "[2019-11-10 14:01:05,746] checkpoint created at /media/James/BigData/CountSeg_output/vOR_counting/model_74.pt\n",
      "[2019-11-10 14:01:06,977] checkpoint created at /media/James/BigData/CountSeg_output/vOR_counting/model_latest.pt\n",
      "\n",
      "--------------------------------------------------------\n",
      "\n",
      "learning rate: 5e-05\n",
      "learning rate: 0.005\n",
      "stage 2 of the training: using criterion2\n"
     ]
    },
    {
     "data": {
      "application/vnd.jupyter.widget-view+json": {
       "model_id": "",
       "version_major": 2,
       "version_minor": 0
      },
      "text/plain": [
       "HBox(children=(IntProgress(value=0, description='train', max=277, style=ProgressStyle(description_width='initi…"
      ]
     },
     "metadata": {},
     "output_type": "display_data"
    },
    {
     "name": "stdout",
     "output_type": "stream",
     "text": [
      "validation start\n"
     ]
    },
    {
     "data": {
      "application/vnd.jupyter.widget-view+json": {
       "model_id": "",
       "version_major": 2,
       "version_minor": 0
      },
      "text/plain": [
       "HBox(children=(IntProgress(value=0, description='val', max=789, style=ProgressStyle(description_width='initial…"
      ]
     },
     "metadata": {},
     "output_type": "display_data"
    },
    {
     "name": "stdout",
     "output_type": "stream",
     "text": [
      "mrmse_nz: 1.085127, rmrmse_nz: 0.444064, mrmse: 0.480136, rmrmse: 0.196320 \n",
      "[2019-11-10 14:03:09,686] epoch: 75 | classification_loss: 0.6457\n",
      "[2019-11-10 14:03:10,940] checkpoint created at /media/James/BigData/CountSeg_output/vOR_counting/model_75.pt\n",
      "[2019-11-10 14:03:12,188] checkpoint created at /media/James/BigData/CountSeg_output/vOR_counting/model_latest.pt\n",
      "\n",
      "--------------------------------------------------------\n",
      "\n",
      "learning rate: 5e-05\n",
      "learning rate: 0.005\n",
      "stage 2 of the training: using criterion2\n"
     ]
    },
    {
     "data": {
      "application/vnd.jupyter.widget-view+json": {
       "model_id": "",
       "version_major": 2,
       "version_minor": 0
      },
      "text/plain": [
       "HBox(children=(IntProgress(value=0, description='train', max=277, style=ProgressStyle(description_width='initi…"
      ]
     },
     "metadata": {},
     "output_type": "display_data"
    },
    {
     "name": "stdout",
     "output_type": "stream",
     "text": [
      "validation start\n"
     ]
    },
    {
     "data": {
      "application/vnd.jupyter.widget-view+json": {
       "model_id": "",
       "version_major": 2,
       "version_minor": 0
      },
      "text/plain": [
       "HBox(children=(IntProgress(value=0, description='val', max=789, style=ProgressStyle(description_width='initial…"
      ]
     },
     "metadata": {},
     "output_type": "display_data"
    },
    {
     "name": "stdout",
     "output_type": "stream",
     "text": [
      "mrmse_nz: 1.064273, rmrmse_nz: 0.435979, mrmse: 0.471721, rmrmse: 0.193139 \n",
      "[2019-11-10 14:05:14,281] epoch: 76 | classification_loss: 0.6457\n",
      "[2019-11-10 14:05:15,588] checkpoint created at /media/James/BigData/CountSeg_output/vOR_counting/model_76.pt\n",
      "[2019-11-10 14:05:16,800] checkpoint created at /media/James/BigData/CountSeg_output/vOR_counting/model_latest.pt\n",
      "\n",
      "--------------------------------------------------------\n",
      "\n",
      "learning rate: 5e-05\n",
      "learning rate: 0.005\n",
      "stage 2 of the training: using criterion2\n"
     ]
    },
    {
     "data": {
      "application/vnd.jupyter.widget-view+json": {
       "model_id": "",
       "version_major": 2,
       "version_minor": 0
      },
      "text/plain": [
       "HBox(children=(IntProgress(value=0, description='train', max=277, style=ProgressStyle(description_width='initi…"
      ]
     },
     "metadata": {},
     "output_type": "display_data"
    },
    {
     "name": "stdout",
     "output_type": "stream",
     "text": [
      "validation start\n"
     ]
    },
    {
     "data": {
      "application/vnd.jupyter.widget-view+json": {
       "model_id": "",
       "version_major": 2,
       "version_minor": 0
      },
      "text/plain": [
       "HBox(children=(IntProgress(value=0, description='val', max=789, style=ProgressStyle(description_width='initial…"
      ]
     },
     "metadata": {},
     "output_type": "display_data"
    },
    {
     "name": "stdout",
     "output_type": "stream",
     "text": [
      "mrmse_nz: 1.077384, rmrmse_nz: 0.444056, mrmse: 0.480674, rmrmse: 0.197566 \n",
      "[2019-11-10 14:07:18,946] epoch: 77 | classification_loss: 0.6457\n",
      "[2019-11-10 14:07:20,225] checkpoint created at /media/James/BigData/CountSeg_output/vOR_counting/model_77.pt\n",
      "[2019-11-10 14:07:21,417] checkpoint created at /media/James/BigData/CountSeg_output/vOR_counting/model_latest.pt\n",
      "\n",
      "--------------------------------------------------------\n",
      "\n",
      "learning rate: 5e-05\n",
      "learning rate: 0.005\n",
      "stage 2 of the training: using criterion2\n"
     ]
    },
    {
     "data": {
      "application/vnd.jupyter.widget-view+json": {
       "model_id": "",
       "version_major": 2,
       "version_minor": 0
      },
      "text/plain": [
       "HBox(children=(IntProgress(value=0, description='train', max=277, style=ProgressStyle(description_width='initi…"
      ]
     },
     "metadata": {},
     "output_type": "display_data"
    },
    {
     "name": "stdout",
     "output_type": "stream",
     "text": [
      "validation start\n"
     ]
    },
    {
     "data": {
      "application/vnd.jupyter.widget-view+json": {
       "model_id": "",
       "version_major": 2,
       "version_minor": 0
      },
      "text/plain": [
       "HBox(children=(IntProgress(value=0, description='val', max=789, style=ProgressStyle(description_width='initial…"
      ]
     },
     "metadata": {},
     "output_type": "display_data"
    },
    {
     "name": "stdout",
     "output_type": "stream",
     "text": [
      "mrmse_nz: 1.015146, rmrmse_nz: 0.425481, mrmse: 0.448854, rmrmse: 0.188585 \n",
      "[2019-11-10 14:09:23,571] epoch: 78 | classification_loss: 0.6458\n",
      "[2019-11-10 14:09:24,843] checkpoint created at /media/James/BigData/CountSeg_output/vOR_counting/model_78.pt\n",
      "[2019-11-10 14:09:26,081] checkpoint created at /media/James/BigData/CountSeg_output/vOR_counting/model_latest.pt\n",
      "\n",
      "--------------------------------------------------------\n",
      "\n",
      "learning rate: 5e-05\n",
      "learning rate: 0.005\n",
      "stage 2 of the training: using criterion2\n"
     ]
    },
    {
     "data": {
      "application/vnd.jupyter.widget-view+json": {
       "model_id": "",
       "version_major": 2,
       "version_minor": 0
      },
      "text/plain": [
       "HBox(children=(IntProgress(value=0, description='train', max=277, style=ProgressStyle(description_width='initi…"
      ]
     },
     "metadata": {},
     "output_type": "display_data"
    },
    {
     "name": "stdout",
     "output_type": "stream",
     "text": [
      "validation start\n"
     ]
    },
    {
     "data": {
      "application/vnd.jupyter.widget-view+json": {
       "model_id": "",
       "version_major": 2,
       "version_minor": 0
      },
      "text/plain": [
       "HBox(children=(IntProgress(value=0, description='val', max=789, style=ProgressStyle(description_width='initial…"
      ]
     },
     "metadata": {},
     "output_type": "display_data"
    },
    {
     "name": "stdout",
     "output_type": "stream",
     "text": [
      "mrmse_nz: 1.078627, rmrmse_nz: 0.441072, mrmse: 0.478385, rmrmse: 0.195378 \n",
      "[2019-11-10 14:11:28,958] epoch: 79 | classification_loss: 0.6454\n",
      "[2019-11-10 14:11:30,234] checkpoint created at /media/James/BigData/CountSeg_output/vOR_counting/model_79.pt\n",
      "[2019-11-10 14:11:31,472] checkpoint created at /media/James/BigData/CountSeg_output/vOR_counting/model_latest.pt\n",
      "\n",
      "--------------------------------------------------------\n",
      "\n",
      "learning rate: 5e-05\n",
      "learning rate: 0.005\n",
      "stage 2 of the training: using criterion2\n"
     ]
    },
    {
     "data": {
      "application/vnd.jupyter.widget-view+json": {
       "model_id": "",
       "version_major": 2,
       "version_minor": 0
      },
      "text/plain": [
       "HBox(children=(IntProgress(value=0, description='train', max=277, style=ProgressStyle(description_width='initi…"
      ]
     },
     "metadata": {},
     "output_type": "display_data"
    },
    {
     "name": "stdout",
     "output_type": "stream",
     "text": [
      "validation start\n"
     ]
    },
    {
     "data": {
      "application/vnd.jupyter.widget-view+json": {
       "model_id": "",
       "version_major": 2,
       "version_minor": 0
      },
      "text/plain": [
       "HBox(children=(IntProgress(value=0, description='val', max=789, style=ProgressStyle(description_width='initial…"
      ]
     },
     "metadata": {},
     "output_type": "display_data"
    },
    {
     "name": "stdout",
     "output_type": "stream",
     "text": [
      "mrmse_nz: 1.079842, rmrmse_nz: 0.442461, mrmse: 0.479044, rmrmse: 0.196078 \n",
      "[2019-11-10 14:13:32,939] epoch: 80 | classification_loss: 0.6457\n",
      "[2019-11-10 14:13:34,211] checkpoint created at /media/James/BigData/CountSeg_output/vOR_counting/model_80.pt\n",
      "[2019-11-10 14:13:35,412] checkpoint created at /media/James/BigData/CountSeg_output/vOR_counting/model_latest.pt\n",
      "\n",
      "--------------------------------------------------------\n",
      "\n",
      "learning rate: 5e-05\n",
      "learning rate: 0.005\n",
      "stage 2 of the training: using criterion2\n"
     ]
    },
    {
     "data": {
      "application/vnd.jupyter.widget-view+json": {
       "model_id": "",
       "version_major": 2,
       "version_minor": 0
      },
      "text/plain": [
       "HBox(children=(IntProgress(value=0, description='train', max=277, style=ProgressStyle(description_width='initi…"
      ]
     },
     "metadata": {},
     "output_type": "display_data"
    },
    {
     "name": "stdout",
     "output_type": "stream",
     "text": [
      "validation start\n"
     ]
    },
    {
     "data": {
      "application/vnd.jupyter.widget-view+json": {
       "model_id": "",
       "version_major": 2,
       "version_minor": 0
      },
      "text/plain": [
       "HBox(children=(IntProgress(value=0, description='val', max=789, style=ProgressStyle(description_width='initial…"
      ]
     },
     "metadata": {},
     "output_type": "display_data"
    },
    {
     "name": "stdout",
     "output_type": "stream",
     "text": [
      "mrmse_nz: 1.050231, rmrmse_nz: 0.430953, mrmse: 0.466672, rmrmse: 0.191302 \n",
      "[2019-11-10 14:15:37,652] epoch: 81 | classification_loss: 0.6454\n",
      "[2019-11-10 14:15:38,921] checkpoint created at /media/James/BigData/CountSeg_output/vOR_counting/model_81.pt\n",
      "[2019-11-10 14:15:40,156] checkpoint created at /media/James/BigData/CountSeg_output/vOR_counting/model_latest.pt\n",
      "\n",
      "--------------------------------------------------------\n",
      "\n",
      "learning rate: 5e-05\n",
      "learning rate: 0.005\n",
      "stage 2 of the training: using criterion2\n"
     ]
    },
    {
     "data": {
      "application/vnd.jupyter.widget-view+json": {
       "model_id": "",
       "version_major": 2,
       "version_minor": 0
      },
      "text/plain": [
       "HBox(children=(IntProgress(value=0, description='train', max=277, style=ProgressStyle(description_width='initi…"
      ]
     },
     "metadata": {},
     "output_type": "display_data"
    },
    {
     "name": "stdout",
     "output_type": "stream",
     "text": [
      "validation start\n"
     ]
    },
    {
     "data": {
      "application/vnd.jupyter.widget-view+json": {
       "model_id": "",
       "version_major": 2,
       "version_minor": 0
      },
      "text/plain": [
       "HBox(children=(IntProgress(value=0, description='val', max=789, style=ProgressStyle(description_width='initial…"
      ]
     },
     "metadata": {},
     "output_type": "display_data"
    },
    {
     "name": "stdout",
     "output_type": "stream",
     "text": [
      "mrmse_nz: 1.035415, rmrmse_nz: 0.426373, mrmse: 0.458897, rmrmse: 0.188939 \n",
      "[2019-11-10 14:17:42,630] epoch: 82 | classification_loss: 0.6453\n",
      "[2019-11-10 14:17:43,902] checkpoint created at /media/James/BigData/CountSeg_output/vOR_counting/model_82.pt\n",
      "[2019-11-10 14:17:45,133] checkpoint created at /media/James/BigData/CountSeg_output/vOR_counting/model_latest.pt\n",
      "\n",
      "--------------------------------------------------------\n",
      "\n",
      "learning rate: 5e-05\n",
      "learning rate: 0.005\n",
      "stage 2 of the training: using criterion2\n"
     ]
    },
    {
     "data": {
      "application/vnd.jupyter.widget-view+json": {
       "model_id": "",
       "version_major": 2,
       "version_minor": 0
      },
      "text/plain": [
       "HBox(children=(IntProgress(value=0, description='train', max=277, style=ProgressStyle(description_width='initi…"
      ]
     },
     "metadata": {},
     "output_type": "display_data"
    },
    {
     "name": "stdout",
     "output_type": "stream",
     "text": [
      "validation start\n"
     ]
    },
    {
     "data": {
      "application/vnd.jupyter.widget-view+json": {
       "model_id": "",
       "version_major": 2,
       "version_minor": 0
      },
      "text/plain": [
       "HBox(children=(IntProgress(value=0, description='val', max=789, style=ProgressStyle(description_width='initial…"
      ]
     },
     "metadata": {},
     "output_type": "display_data"
    },
    {
     "name": "stdout",
     "output_type": "stream",
     "text": [
      "mrmse_nz: 1.041827, rmrmse_nz: 0.433289, mrmse: 0.463208, rmrmse: 0.193558 \n",
      "[2019-11-10 14:19:47,834] epoch: 83 | classification_loss: 0.6459\n",
      "[2019-11-10 14:19:49,092] checkpoint created at /media/James/BigData/CountSeg_output/vOR_counting/model_83.pt\n",
      "[2019-11-10 14:19:50,284] checkpoint created at /media/James/BigData/CountSeg_output/vOR_counting/model_latest.pt\n",
      "\n",
      "--------------------------------------------------------\n",
      "\n",
      "learning rate: 5e-05\n",
      "learning rate: 0.005\n",
      "stage 2 of the training: using criterion2\n"
     ]
    },
    {
     "data": {
      "application/vnd.jupyter.widget-view+json": {
       "model_id": "",
       "version_major": 2,
       "version_minor": 0
      },
      "text/plain": [
       "HBox(children=(IntProgress(value=0, description='train', max=277, style=ProgressStyle(description_width='initi…"
      ]
     },
     "metadata": {},
     "output_type": "display_data"
    },
    {
     "name": "stdout",
     "output_type": "stream",
     "text": [
      "validation start\n"
     ]
    },
    {
     "data": {
      "application/vnd.jupyter.widget-view+json": {
       "model_id": "",
       "version_major": 2,
       "version_minor": 0
      },
      "text/plain": [
       "HBox(children=(IntProgress(value=0, description='val', max=789, style=ProgressStyle(description_width='initial…"
      ]
     },
     "metadata": {},
     "output_type": "display_data"
    },
    {
     "name": "stdout",
     "output_type": "stream",
     "text": [
      "mrmse_nz: 1.023355, rmrmse_nz: 0.424419, mrmse: 0.455342, rmrmse: 0.188540 \n",
      "[2019-11-10 14:21:52,904] epoch: 84 | classification_loss: 0.6467\n",
      "[2019-11-10 14:21:54,137] checkpoint created at /media/James/BigData/CountSeg_output/vOR_counting/model_84.pt\n",
      "[2019-11-10 14:21:55,397] checkpoint created at /media/James/BigData/CountSeg_output/vOR_counting/model_latest.pt\n",
      "\n",
      "--------------------------------------------------------\n",
      "\n",
      "learning rate: 5e-05\n",
      "learning rate: 0.005\n",
      "stage 2 of the training: using criterion2\n"
     ]
    },
    {
     "data": {
      "application/vnd.jupyter.widget-view+json": {
       "model_id": "",
       "version_major": 2,
       "version_minor": 0
      },
      "text/plain": [
       "HBox(children=(IntProgress(value=0, description='train', max=277, style=ProgressStyle(description_width='initi…"
      ]
     },
     "metadata": {},
     "output_type": "display_data"
    },
    {
     "name": "stdout",
     "output_type": "stream",
     "text": [
      "validation start\n"
     ]
    },
    {
     "data": {
      "application/vnd.jupyter.widget-view+json": {
       "model_id": "",
       "version_major": 2,
       "version_minor": 0
      },
      "text/plain": [
       "HBox(children=(IntProgress(value=0, description='val', max=789, style=ProgressStyle(description_width='initial…"
      ]
     },
     "metadata": {},
     "output_type": "display_data"
    },
    {
     "name": "stdout",
     "output_type": "stream",
     "text": [
      "mrmse_nz: 1.030246, rmrmse_nz: 0.426824, mrmse: 0.456060, rmrmse: 0.189300 \n",
      "[2019-11-10 14:23:58,327] epoch: 85 | classification_loss: 0.6457\n",
      "[2019-11-10 14:23:59,641] checkpoint created at /media/James/BigData/CountSeg_output/vOR_counting/model_85.pt\n",
      "[2019-11-10 14:24:00,881] checkpoint created at /media/James/BigData/CountSeg_output/vOR_counting/model_latest.pt\n",
      "\n",
      "--------------------------------------------------------\n",
      "\n",
      "learning rate: 5e-05\n",
      "learning rate: 0.005\n",
      "stage 2 of the training: using criterion2\n"
     ]
    },
    {
     "data": {
      "application/vnd.jupyter.widget-view+json": {
       "model_id": "",
       "version_major": 2,
       "version_minor": 0
      },
      "text/plain": [
       "HBox(children=(IntProgress(value=0, description='train', max=277, style=ProgressStyle(description_width='initi…"
      ]
     },
     "metadata": {},
     "output_type": "display_data"
    },
    {
     "name": "stdout",
     "output_type": "stream",
     "text": [
      "validation start\n"
     ]
    },
    {
     "data": {
      "application/vnd.jupyter.widget-view+json": {
       "model_id": "",
       "version_major": 2,
       "version_minor": 0
      },
      "text/plain": [
       "HBox(children=(IntProgress(value=0, description='val', max=789, style=ProgressStyle(description_width='initial…"
      ]
     },
     "metadata": {},
     "output_type": "display_data"
    },
    {
     "name": "stdout",
     "output_type": "stream",
     "text": [
      "mrmse_nz: 1.002885, rmrmse_nz: 0.415311, mrmse: 0.446488, rmrmse: 0.184462 \n",
      "[2019-11-10 14:26:03,066] epoch: 86 | classification_loss: 0.6451\n",
      "[2019-11-10 14:26:04,351] checkpoint created at /media/James/BigData/CountSeg_output/vOR_counting/model_86.pt\n",
      "[2019-11-10 14:26:05,547] checkpoint created at /media/James/BigData/CountSeg_output/vOR_counting/model_latest.pt\n",
      "\n",
      "--------------------------------------------------------\n",
      "\n",
      "learning rate: 5e-05\n",
      "learning rate: 0.005\n",
      "stage 2 of the training: using criterion2\n"
     ]
    },
    {
     "data": {
      "application/vnd.jupyter.widget-view+json": {
       "model_id": "",
       "version_major": 2,
       "version_minor": 0
      },
      "text/plain": [
       "HBox(children=(IntProgress(value=0, description='train', max=277, style=ProgressStyle(description_width='initi…"
      ]
     },
     "metadata": {},
     "output_type": "display_data"
    },
    {
     "name": "stdout",
     "output_type": "stream",
     "text": [
      "validation start\n"
     ]
    },
    {
     "data": {
      "application/vnd.jupyter.widget-view+json": {
       "model_id": "",
       "version_major": 2,
       "version_minor": 0
      },
      "text/plain": [
       "HBox(children=(IntProgress(value=0, description='val', max=789, style=ProgressStyle(description_width='initial…"
      ]
     },
     "metadata": {},
     "output_type": "display_data"
    },
    {
     "name": "stdout",
     "output_type": "stream",
     "text": [
      "mrmse_nz: 1.031496, rmrmse_nz: 0.418594, mrmse: 0.459604, rmrmse: 0.186311 \n",
      "[2019-11-10 14:28:08,008] epoch: 87 | classification_loss: 0.6456\n",
      "[2019-11-10 14:28:09,266] checkpoint created at /media/James/BigData/CountSeg_output/vOR_counting/model_87.pt\n",
      "[2019-11-10 14:28:10,518] checkpoint created at /media/James/BigData/CountSeg_output/vOR_counting/model_latest.pt\n",
      "\n",
      "--------------------------------------------------------\n",
      "\n",
      "learning rate: 5e-05\n",
      "learning rate: 0.005\n",
      "stage 2 of the training: using criterion2\n"
     ]
    },
    {
     "data": {
      "application/vnd.jupyter.widget-view+json": {
       "model_id": "",
       "version_major": 2,
       "version_minor": 0
      },
      "text/plain": [
       "HBox(children=(IntProgress(value=0, description='train', max=277, style=ProgressStyle(description_width='initi…"
      ]
     },
     "metadata": {},
     "output_type": "display_data"
    },
    {
     "name": "stdout",
     "output_type": "stream",
     "text": [
      "validation start\n"
     ]
    },
    {
     "data": {
      "application/vnd.jupyter.widget-view+json": {
       "model_id": "",
       "version_major": 2,
       "version_minor": 0
      },
      "text/plain": [
       "HBox(children=(IntProgress(value=0, description='val', max=789, style=ProgressStyle(description_width='initial…"
      ]
     },
     "metadata": {},
     "output_type": "display_data"
    },
    {
     "name": "stdout",
     "output_type": "stream",
     "text": [
      "mrmse_nz: 1.029534, rmrmse_nz: 0.429131, mrmse: 0.454780, rmrmse: 0.189892 \n",
      "[2019-11-10 14:30:12,503] epoch: 88 | classification_loss: 0.6452\n",
      "[2019-11-10 14:30:13,792] checkpoint created at /media/James/BigData/CountSeg_output/vOR_counting/model_88.pt\n",
      "[2019-11-10 14:30:15,006] checkpoint created at /media/James/BigData/CountSeg_output/vOR_counting/model_latest.pt\n",
      "\n",
      "--------------------------------------------------------\n",
      "\n",
      "learning rate: 5e-05\n",
      "learning rate: 0.005\n",
      "stage 2 of the training: using criterion2\n"
     ]
    },
    {
     "data": {
      "application/vnd.jupyter.widget-view+json": {
       "model_id": "",
       "version_major": 2,
       "version_minor": 0
      },
      "text/plain": [
       "HBox(children=(IntProgress(value=0, description='train', max=277, style=ProgressStyle(description_width='initi…"
      ]
     },
     "metadata": {},
     "output_type": "display_data"
    },
    {
     "name": "stdout",
     "output_type": "stream",
     "text": [
      "validation start\n"
     ]
    },
    {
     "data": {
      "application/vnd.jupyter.widget-view+json": {
       "model_id": "",
       "version_major": 2,
       "version_minor": 0
      },
      "text/plain": [
       "HBox(children=(IntProgress(value=0, description='val', max=789, style=ProgressStyle(description_width='initial…"
      ]
     },
     "metadata": {},
     "output_type": "display_data"
    },
    {
     "name": "stdout",
     "output_type": "stream",
     "text": [
      "mrmse_nz: 0.960157, rmrmse_nz: 0.396125, mrmse: 0.426975, rmrmse: 0.176273 \n",
      "[2019-11-10 14:32:17,649] epoch: 89 | classification_loss: 0.6452\n",
      "[2019-11-10 14:32:18,942] checkpoint created at /media/James/BigData/CountSeg_output/vOR_counting/model_89.pt\n",
      "[2019-11-10 14:32:20,164] checkpoint created at /media/James/BigData/CountSeg_output/vOR_counting/model_latest.pt\n",
      "\n",
      "--------------------------------------------------------\n",
      "\n",
      "learning rate: 5e-05\n",
      "learning rate: 0.005\n",
      "stage 2 of the training: using criterion2\n"
     ]
    },
    {
     "data": {
      "application/vnd.jupyter.widget-view+json": {
       "model_id": "",
       "version_major": 2,
       "version_minor": 0
      },
      "text/plain": [
       "HBox(children=(IntProgress(value=0, description='train', max=277, style=ProgressStyle(description_width='initi…"
      ]
     },
     "metadata": {},
     "output_type": "display_data"
    },
    {
     "name": "stdout",
     "output_type": "stream",
     "text": [
      "validation start\n"
     ]
    },
    {
     "data": {
      "application/vnd.jupyter.widget-view+json": {
       "model_id": "",
       "version_major": 2,
       "version_minor": 0
      },
      "text/plain": [
       "HBox(children=(IntProgress(value=0, description='val', max=789, style=ProgressStyle(description_width='initial…"
      ]
     },
     "metadata": {},
     "output_type": "display_data"
    },
    {
     "name": "stdout",
     "output_type": "stream",
     "text": [
      "mrmse_nz: 0.991002, rmrmse_nz: 0.409592, mrmse: 0.441615, rmrmse: 0.182640 \n",
      "[2019-11-10 14:34:23,057] epoch: 90 | classification_loss: 0.6460\n",
      "[2019-11-10 14:34:24,293] checkpoint created at /media/James/BigData/CountSeg_output/vOR_counting/model_90.pt\n",
      "[2019-11-10 14:34:25,510] checkpoint created at /media/James/BigData/CountSeg_output/vOR_counting/model_latest.pt\n",
      "\n",
      "--------------------------------------------------------\n",
      "\n",
      "learning rate: 5e-05\n",
      "learning rate: 0.005\n",
      "stage 2 of the training: using criterion2\n"
     ]
    },
    {
     "data": {
      "application/vnd.jupyter.widget-view+json": {
       "model_id": "",
       "version_major": 2,
       "version_minor": 0
      },
      "text/plain": [
       "HBox(children=(IntProgress(value=0, description='train', max=277, style=ProgressStyle(description_width='initi…"
      ]
     },
     "metadata": {},
     "output_type": "display_data"
    },
    {
     "name": "stdout",
     "output_type": "stream",
     "text": [
      "validation start\n"
     ]
    },
    {
     "data": {
      "application/vnd.jupyter.widget-view+json": {
       "model_id": "",
       "version_major": 2,
       "version_minor": 0
      },
      "text/plain": [
       "HBox(children=(IntProgress(value=0, description='val', max=789, style=ProgressStyle(description_width='initial…"
      ]
     },
     "metadata": {},
     "output_type": "display_data"
    },
    {
     "name": "stdout",
     "output_type": "stream",
     "text": [
      "mrmse_nz: 1.064571, rmrmse_nz: 0.431735, mrmse: 0.473856, rmrmse: 0.191991 \n",
      "[2019-11-10 14:36:28,635] epoch: 91 | classification_loss: 0.6450\n",
      "[2019-11-10 14:36:29,951] checkpoint created at /media/James/BigData/CountSeg_output/vOR_counting/model_91.pt\n",
      "[2019-11-10 14:36:31,202] checkpoint created at /media/James/BigData/CountSeg_output/vOR_counting/model_latest.pt\n",
      "\n",
      "--------------------------------------------------------\n",
      "\n",
      "learning rate: 5e-05\n",
      "learning rate: 0.005\n",
      "stage 2 of the training: using criterion2\n"
     ]
    },
    {
     "data": {
      "application/vnd.jupyter.widget-view+json": {
       "model_id": "",
       "version_major": 2,
       "version_minor": 0
      },
      "text/plain": [
       "HBox(children=(IntProgress(value=0, description='train', max=277, style=ProgressStyle(description_width='initi…"
      ]
     },
     "metadata": {},
     "output_type": "display_data"
    },
    {
     "name": "stdout",
     "output_type": "stream",
     "text": [
      "validation start\n"
     ]
    },
    {
     "data": {
      "application/vnd.jupyter.widget-view+json": {
       "model_id": "",
       "version_major": 2,
       "version_minor": 0
      },
      "text/plain": [
       "HBox(children=(IntProgress(value=0, description='val', max=789, style=ProgressStyle(description_width='initial…"
      ]
     },
     "metadata": {},
     "output_type": "display_data"
    },
    {
     "name": "stdout",
     "output_type": "stream",
     "text": [
      "mrmse_nz: 1.027128, rmrmse_nz: 0.420990, mrmse: 0.456990, rmrmse: 0.187158 \n",
      "[2019-11-10 14:38:34,397] epoch: 92 | classification_loss: 0.6450\n",
      "[2019-11-10 14:38:35,691] checkpoint created at /media/James/BigData/CountSeg_output/vOR_counting/model_92.pt\n",
      "[2019-11-10 14:38:36,928] checkpoint created at /media/James/BigData/CountSeg_output/vOR_counting/model_latest.pt\n",
      "\n",
      "--------------------------------------------------------\n",
      "\n",
      "learning rate: 5e-05\n",
      "learning rate: 0.005\n",
      "stage 2 of the training: using criterion2\n"
     ]
    },
    {
     "data": {
      "application/vnd.jupyter.widget-view+json": {
       "model_id": "",
       "version_major": 2,
       "version_minor": 0
      },
      "text/plain": [
       "HBox(children=(IntProgress(value=0, description='train', max=277, style=ProgressStyle(description_width='initi…"
      ]
     },
     "metadata": {},
     "output_type": "display_data"
    },
    {
     "name": "stdout",
     "output_type": "stream",
     "text": [
      "validation start\n"
     ]
    },
    {
     "data": {
      "application/vnd.jupyter.widget-view+json": {
       "model_id": "",
       "version_major": 2,
       "version_minor": 0
      },
      "text/plain": [
       "HBox(children=(IntProgress(value=0, description='val', max=789, style=ProgressStyle(description_width='initial…"
      ]
     },
     "metadata": {},
     "output_type": "display_data"
    },
    {
     "name": "stdout",
     "output_type": "stream",
     "text": [
      "mrmse_nz: 1.006740, rmrmse_nz: 0.420915, mrmse: 0.447627, rmrmse: 0.187666 \n",
      "[2019-11-10 14:40:39,121] epoch: 93 | classification_loss: 0.6453\n",
      "[2019-11-10 14:40:40,417] checkpoint created at /media/James/BigData/CountSeg_output/vOR_counting/model_93.pt\n",
      "[2019-11-10 14:40:41,642] checkpoint created at /media/James/BigData/CountSeg_output/vOR_counting/model_latest.pt\n",
      "\n",
      "--------------------------------------------------------\n",
      "\n",
      "learning rate: 5e-05\n",
      "learning rate: 0.005\n",
      "stage 2 of the training: using criterion2\n"
     ]
    },
    {
     "data": {
      "application/vnd.jupyter.widget-view+json": {
       "model_id": "",
       "version_major": 2,
       "version_minor": 0
      },
      "text/plain": [
       "HBox(children=(IntProgress(value=0, description='train', max=277, style=ProgressStyle(description_width='initi…"
      ]
     },
     "metadata": {},
     "output_type": "display_data"
    },
    {
     "name": "stdout",
     "output_type": "stream",
     "text": [
      "validation start\n"
     ]
    },
    {
     "data": {
      "application/vnd.jupyter.widget-view+json": {
       "model_id": "",
       "version_major": 2,
       "version_minor": 0
      },
      "text/plain": [
       "HBox(children=(IntProgress(value=0, description='val', max=789, style=ProgressStyle(description_width='initial…"
      ]
     },
     "metadata": {},
     "output_type": "display_data"
    },
    {
     "name": "stdout",
     "output_type": "stream",
     "text": [
      "mrmse_nz: 1.019067, rmrmse_nz: 0.419437, mrmse: 0.455111, rmrmse: 0.187176 \n",
      "[2019-11-10 14:42:43,861] epoch: 94 | classification_loss: 0.6452\n",
      "[2019-11-10 14:42:45,155] checkpoint created at /media/James/BigData/CountSeg_output/vOR_counting/model_94.pt\n",
      "[2019-11-10 14:42:46,409] checkpoint created at /media/James/BigData/CountSeg_output/vOR_counting/model_latest.pt\n",
      "\n",
      "--------------------------------------------------------\n",
      "\n",
      "learning rate: 5e-05\n",
      "learning rate: 0.005\n",
      "stage 2 of the training: using criterion2\n"
     ]
    },
    {
     "data": {
      "application/vnd.jupyter.widget-view+json": {
       "model_id": "",
       "version_major": 2,
       "version_minor": 0
      },
      "text/plain": [
       "HBox(children=(IntProgress(value=0, description='train', max=277, style=ProgressStyle(description_width='initi…"
      ]
     },
     "metadata": {},
     "output_type": "display_data"
    },
    {
     "name": "stdout",
     "output_type": "stream",
     "text": [
      "validation start\n"
     ]
    },
    {
     "data": {
      "application/vnd.jupyter.widget-view+json": {
       "model_id": "",
       "version_major": 2,
       "version_minor": 0
      },
      "text/plain": [
       "HBox(children=(IntProgress(value=0, description='val', max=789, style=ProgressStyle(description_width='initial…"
      ]
     },
     "metadata": {},
     "output_type": "display_data"
    },
    {
     "name": "stdout",
     "output_type": "stream",
     "text": [
      "mrmse_nz: 1.054591, rmrmse_nz: 0.432538, mrmse: 0.468034, rmrmse: 0.191808 \n",
      "[2019-11-10 14:44:48,672] epoch: 95 | classification_loss: 0.6452\n",
      "[2019-11-10 14:44:49,945] checkpoint created at /media/James/BigData/CountSeg_output/vOR_counting/model_95.pt\n",
      "[2019-11-10 14:44:51,228] checkpoint created at /media/James/BigData/CountSeg_output/vOR_counting/model_latest.pt\n",
      "\n",
      "--------------------------------------------------------\n",
      "\n",
      "learning rate: 5e-05\n",
      "learning rate: 0.005\n",
      "stage 2 of the training: using criterion2\n"
     ]
    },
    {
     "data": {
      "application/vnd.jupyter.widget-view+json": {
       "model_id": "",
       "version_major": 2,
       "version_minor": 0
      },
      "text/plain": [
       "HBox(children=(IntProgress(value=0, description='train', max=277, style=ProgressStyle(description_width='initi…"
      ]
     },
     "metadata": {},
     "output_type": "display_data"
    },
    {
     "name": "stdout",
     "output_type": "stream",
     "text": [
      "validation start\n"
     ]
    },
    {
     "data": {
      "application/vnd.jupyter.widget-view+json": {
       "model_id": "",
       "version_major": 2,
       "version_minor": 0
      },
      "text/plain": [
       "HBox(children=(IntProgress(value=0, description='val', max=789, style=ProgressStyle(description_width='initial…"
      ]
     },
     "metadata": {},
     "output_type": "display_data"
    },
    {
     "name": "stdout",
     "output_type": "stream",
     "text": [
      "mrmse_nz: 1.007164, rmrmse_nz: 0.411709, mrmse: 0.448289, rmrmse: 0.183001 \n",
      "[2019-11-10 14:46:53,637] epoch: 96 | classification_loss: 0.6445\n",
      "[2019-11-10 14:46:54,969] checkpoint created at /media/James/BigData/CountSeg_output/vOR_counting/model_96.pt\n",
      "[2019-11-10 14:46:56,231] checkpoint created at /media/James/BigData/CountSeg_output/vOR_counting/model_latest.pt\n",
      "\n",
      "--------------------------------------------------------\n",
      "\n",
      "learning rate: 5e-05\n",
      "learning rate: 0.005\n",
      "stage 2 of the training: using criterion2\n"
     ]
    },
    {
     "data": {
      "application/vnd.jupyter.widget-view+json": {
       "model_id": "",
       "version_major": 2,
       "version_minor": 0
      },
      "text/plain": [
       "HBox(children=(IntProgress(value=0, description='train', max=277, style=ProgressStyle(description_width='initi…"
      ]
     },
     "metadata": {},
     "output_type": "display_data"
    },
    {
     "name": "stdout",
     "output_type": "stream",
     "text": [
      "validation start\n"
     ]
    },
    {
     "data": {
      "application/vnd.jupyter.widget-view+json": {
       "model_id": "",
       "version_major": 2,
       "version_minor": 0
      },
      "text/plain": [
       "HBox(children=(IntProgress(value=0, description='val', max=789, style=ProgressStyle(description_width='initial…"
      ]
     },
     "metadata": {},
     "output_type": "display_data"
    },
    {
     "name": "stdout",
     "output_type": "stream",
     "text": [
      "mrmse_nz: 1.005814, rmrmse_nz: 0.413652, mrmse: 0.448020, rmrmse: 0.184315 \n",
      "[2019-11-10 14:48:58,787] epoch: 97 | classification_loss: 0.6444\n",
      "[2019-11-10 14:49:00,069] checkpoint created at /media/James/BigData/CountSeg_output/vOR_counting/model_97.pt\n",
      "[2019-11-10 14:49:01,402] checkpoint created at /media/James/BigData/CountSeg_output/vOR_counting/model_latest.pt\n",
      "\n",
      "--------------------------------------------------------\n",
      "\n",
      "learning rate: 5e-05\n",
      "learning rate: 0.005\n",
      "stage 2 of the training: using criterion2\n"
     ]
    },
    {
     "data": {
      "application/vnd.jupyter.widget-view+json": {
       "model_id": "",
       "version_major": 2,
       "version_minor": 0
      },
      "text/plain": [
       "HBox(children=(IntProgress(value=0, description='train', max=277, style=ProgressStyle(description_width='initi…"
      ]
     },
     "metadata": {},
     "output_type": "display_data"
    },
    {
     "name": "stdout",
     "output_type": "stream",
     "text": [
      "validation start\n"
     ]
    },
    {
     "data": {
      "application/vnd.jupyter.widget-view+json": {
       "model_id": "",
       "version_major": 2,
       "version_minor": 0
      },
      "text/plain": [
       "HBox(children=(IntProgress(value=0, description='val', max=789, style=ProgressStyle(description_width='initial…"
      ]
     },
     "metadata": {},
     "output_type": "display_data"
    },
    {
     "name": "stdout",
     "output_type": "stream",
     "text": [
      "mrmse_nz: 1.044482, rmrmse_nz: 0.432007, mrmse: 0.464689, rmrmse: 0.191982 \n",
      "[2019-11-10 14:51:04,398] epoch: 98 | classification_loss: 0.6445\n",
      "[2019-11-10 14:51:05,716] checkpoint created at /media/James/BigData/CountSeg_output/vOR_counting/model_98.pt\n",
      "[2019-11-10 14:51:06,982] checkpoint created at /media/James/BigData/CountSeg_output/vOR_counting/model_latest.pt\n",
      "\n",
      "--------------------------------------------------------\n",
      "\n",
      "learning rate: 5e-05\n",
      "learning rate: 0.005\n",
      "stage 2 of the training: using criterion2\n"
     ]
    },
    {
     "data": {
      "application/vnd.jupyter.widget-view+json": {
       "model_id": "",
       "version_major": 2,
       "version_minor": 0
      },
      "text/plain": [
       "HBox(children=(IntProgress(value=0, description='train', max=277, style=ProgressStyle(description_width='initi…"
      ]
     },
     "metadata": {},
     "output_type": "display_data"
    },
    {
     "name": "stdout",
     "output_type": "stream",
     "text": [
      "validation start\n"
     ]
    },
    {
     "data": {
      "application/vnd.jupyter.widget-view+json": {
       "model_id": "",
       "version_major": 2,
       "version_minor": 0
      },
      "text/plain": [
       "HBox(children=(IntProgress(value=0, description='val', max=789, style=ProgressStyle(description_width='initial…"
      ]
     },
     "metadata": {},
     "output_type": "display_data"
    },
    {
     "name": "stdout",
     "output_type": "stream",
     "text": [
      "mrmse_nz: 1.027978, rmrmse_nz: 0.430196, mrmse: 0.456523, rmrmse: 0.190466 \n",
      "[2019-11-10 14:53:09,729] epoch: 99 | classification_loss: 0.6444\n",
      "[2019-11-10 14:53:11,032] checkpoint created at /media/James/BigData/CountSeg_output/vOR_counting/model_99.pt\n",
      "[2019-11-10 14:53:12,329] checkpoint created at /media/James/BigData/CountSeg_output/vOR_counting/model_latest.pt\n",
      "\n",
      "--------------------------------------------------------\n",
      "\n",
      "learning rate: 2.5e-05\n",
      "learning rate: 0.0025\n",
      "stage 2 of the training: using criterion2\n"
     ]
    },
    {
     "data": {
      "application/vnd.jupyter.widget-view+json": {
       "model_id": "",
       "version_major": 2,
       "version_minor": 0
      },
      "text/plain": [
       "HBox(children=(IntProgress(value=0, description='train', max=277, style=ProgressStyle(description_width='initi…"
      ]
     },
     "metadata": {},
     "output_type": "display_data"
    },
    {
     "name": "stdout",
     "output_type": "stream",
     "text": [
      "validation start\n"
     ]
    },
    {
     "data": {
      "application/vnd.jupyter.widget-view+json": {
       "model_id": "",
       "version_major": 2,
       "version_minor": 0
      },
      "text/plain": [
       "HBox(children=(IntProgress(value=0, description='val', max=789, style=ProgressStyle(description_width='initial…"
      ]
     },
     "metadata": {},
     "output_type": "display_data"
    },
    {
     "name": "stdout",
     "output_type": "stream",
     "text": [
      "mrmse_nz: 1.003143, rmrmse_nz: 0.409563, mrmse: 0.444719, rmrmse: 0.181778 \n",
      "[2019-11-10 14:55:14,776] epoch: 100 | classification_loss: 0.6444\n",
      "[2019-11-10 14:55:16,096] checkpoint created at /media/James/BigData/CountSeg_output/vOR_counting/model_100.pt\n",
      "[2019-11-10 14:55:17,330] checkpoint created at /media/James/BigData/CountSeg_output/vOR_counting/model_latest.pt\n",
      "\n",
      "--------------------------------------------------------\n",
      "\n",
      "learning rate: 2.5e-05\n",
      "learning rate: 0.0025\n",
      "stage 2 of the training: using criterion2\n"
     ]
    },
    {
     "data": {
      "application/vnd.jupyter.widget-view+json": {
       "model_id": "",
       "version_major": 2,
       "version_minor": 0
      },
      "text/plain": [
       "HBox(children=(IntProgress(value=0, description='train', max=277, style=ProgressStyle(description_width='initi…"
      ]
     },
     "metadata": {},
     "output_type": "display_data"
    },
    {
     "name": "stdout",
     "output_type": "stream",
     "text": [
      "validation start\n"
     ]
    },
    {
     "data": {
      "application/vnd.jupyter.widget-view+json": {
       "model_id": "",
       "version_major": 2,
       "version_minor": 0
      },
      "text/plain": [
       "HBox(children=(IntProgress(value=0, description='val', max=789, style=ProgressStyle(description_width='initial…"
      ]
     },
     "metadata": {},
     "output_type": "display_data"
    },
    {
     "name": "stdout",
     "output_type": "stream",
     "text": [
      "mrmse_nz: 1.025009, rmrmse_nz: 0.417858, mrmse: 0.457663, rmrmse: 0.186400 \n",
      "[2019-11-10 14:57:20,332] epoch: 101 | classification_loss: 0.6446\n",
      "[2019-11-10 14:57:21,600] checkpoint created at /media/James/BigData/CountSeg_output/vOR_counting/model_101.pt\n",
      "[2019-11-10 14:57:22,829] checkpoint created at /media/James/BigData/CountSeg_output/vOR_counting/model_latest.pt\n",
      "\n",
      "--------------------------------------------------------\n",
      "\n",
      "learning rate: 2.5e-05\n",
      "learning rate: 0.0025\n",
      "stage 2 of the training: using criterion2\n"
     ]
    },
    {
     "data": {
      "application/vnd.jupyter.widget-view+json": {
       "model_id": "",
       "version_major": 2,
       "version_minor": 0
      },
      "text/plain": [
       "HBox(children=(IntProgress(value=0, description='train', max=277, style=ProgressStyle(description_width='initi…"
      ]
     },
     "metadata": {},
     "output_type": "display_data"
    },
    {
     "name": "stdout",
     "output_type": "stream",
     "text": [
      "validation start\n"
     ]
    },
    {
     "data": {
      "application/vnd.jupyter.widget-view+json": {
       "model_id": "",
       "version_major": 2,
       "version_minor": 0
      },
      "text/plain": [
       "HBox(children=(IntProgress(value=0, description='val', max=789, style=ProgressStyle(description_width='initial…"
      ]
     },
     "metadata": {},
     "output_type": "display_data"
    },
    {
     "name": "stdout",
     "output_type": "stream",
     "text": [
      "mrmse_nz: 0.995725, rmrmse_nz: 0.416440, mrmse: 0.441832, rmrmse: 0.185082 \n",
      "[2019-11-10 14:59:25,280] epoch: 102 | classification_loss: 0.6443\n",
      "[2019-11-10 14:59:26,614] checkpoint created at /media/James/BigData/CountSeg_output/vOR_counting/model_102.pt\n",
      "[2019-11-10 14:59:27,898] checkpoint created at /media/James/BigData/CountSeg_output/vOR_counting/model_latest.pt\n",
      "\n",
      "--------------------------------------------------------\n",
      "\n",
      "learning rate: 2.5e-05\n",
      "learning rate: 0.0025\n",
      "stage 2 of the training: using criterion2\n"
     ]
    },
    {
     "data": {
      "application/vnd.jupyter.widget-view+json": {
       "model_id": "",
       "version_major": 2,
       "version_minor": 0
      },
      "text/plain": [
       "HBox(children=(IntProgress(value=0, description='train', max=277, style=ProgressStyle(description_width='initi…"
      ]
     },
     "metadata": {},
     "output_type": "display_data"
    },
    {
     "name": "stdout",
     "output_type": "stream",
     "text": [
      "validation start\n"
     ]
    },
    {
     "data": {
      "application/vnd.jupyter.widget-view+json": {
       "model_id": "",
       "version_major": 2,
       "version_minor": 0
      },
      "text/plain": [
       "HBox(children=(IntProgress(value=0, description='val', max=789, style=ProgressStyle(description_width='initial…"
      ]
     },
     "metadata": {},
     "output_type": "display_data"
    },
    {
     "name": "stdout",
     "output_type": "stream",
     "text": [
      "mrmse_nz: 1.052661, rmrmse_nz: 0.430730, mrmse: 0.467778, rmrmse: 0.191062 \n",
      "[2019-11-10 15:01:30,127] epoch: 103 | classification_loss: 0.6443\n",
      "[2019-11-10 15:01:31,433] checkpoint created at /media/James/BigData/CountSeg_output/vOR_counting/model_103.pt\n",
      "[2019-11-10 15:01:32,705] checkpoint created at /media/James/BigData/CountSeg_output/vOR_counting/model_latest.pt\n",
      "\n",
      "--------------------------------------------------------\n",
      "\n",
      "learning rate: 2.5e-05\n",
      "learning rate: 0.0025\n",
      "stage 2 of the training: using criterion2\n"
     ]
    },
    {
     "data": {
      "application/vnd.jupyter.widget-view+json": {
       "model_id": "",
       "version_major": 2,
       "version_minor": 0
      },
      "text/plain": [
       "HBox(children=(IntProgress(value=0, description='train', max=277, style=ProgressStyle(description_width='initi…"
      ]
     },
     "metadata": {},
     "output_type": "display_data"
    },
    {
     "name": "stdout",
     "output_type": "stream",
     "text": [
      "validation start\n"
     ]
    },
    {
     "data": {
      "application/vnd.jupyter.widget-view+json": {
       "model_id": "",
       "version_major": 2,
       "version_minor": 0
      },
      "text/plain": [
       "HBox(children=(IntProgress(value=0, description='val', max=789, style=ProgressStyle(description_width='initial…"
      ]
     },
     "metadata": {},
     "output_type": "display_data"
    },
    {
     "name": "stdout",
     "output_type": "stream",
     "text": [
      "mrmse_nz: 1.011819, rmrmse_nz: 0.418196, mrmse: 0.452673, rmrmse: 0.186743 \n",
      "[2019-11-10 15:03:34,909] epoch: 104 | classification_loss: 0.6442\n",
      "[2019-11-10 15:03:36,238] checkpoint created at /media/James/BigData/CountSeg_output/vOR_counting/model_104.pt\n",
      "[2019-11-10 15:03:37,488] checkpoint created at /media/James/BigData/CountSeg_output/vOR_counting/model_latest.pt\n",
      "\n",
      "--------------------------------------------------------\n",
      "\n",
      "learning rate: 2.5e-05\n",
      "learning rate: 0.0025\n",
      "stage 2 of the training: using criterion2\n"
     ]
    },
    {
     "data": {
      "application/vnd.jupyter.widget-view+json": {
       "model_id": "",
       "version_major": 2,
       "version_minor": 0
      },
      "text/plain": [
       "HBox(children=(IntProgress(value=0, description='train', max=277, style=ProgressStyle(description_width='initi…"
      ]
     },
     "metadata": {},
     "output_type": "display_data"
    },
    {
     "name": "stdout",
     "output_type": "stream",
     "text": [
      "validation start\n"
     ]
    },
    {
     "data": {
      "application/vnd.jupyter.widget-view+json": {
       "model_id": "",
       "version_major": 2,
       "version_minor": 0
      },
      "text/plain": [
       "HBox(children=(IntProgress(value=0, description='val', max=789, style=ProgressStyle(description_width='initial…"
      ]
     },
     "metadata": {},
     "output_type": "display_data"
    },
    {
     "name": "stdout",
     "output_type": "stream",
     "text": [
      "mrmse_nz: 1.019171, rmrmse_nz: 0.416077, mrmse: 0.455581, rmrmse: 0.185763 \n",
      "[2019-11-10 15:05:39,966] epoch: 105 | classification_loss: 0.6448\n",
      "[2019-11-10 15:05:41,268] checkpoint created at /media/James/BigData/CountSeg_output/vOR_counting/model_105.pt\n",
      "[2019-11-10 15:05:42,534] checkpoint created at /media/James/BigData/CountSeg_output/vOR_counting/model_latest.pt\n",
      "\n",
      "--------------------------------------------------------\n",
      "\n",
      "learning rate: 2.5e-05\n",
      "learning rate: 0.0025\n",
      "stage 2 of the training: using criterion2\n"
     ]
    },
    {
     "data": {
      "application/vnd.jupyter.widget-view+json": {
       "model_id": "",
       "version_major": 2,
       "version_minor": 0
      },
      "text/plain": [
       "HBox(children=(IntProgress(value=0, description='train', max=277, style=ProgressStyle(description_width='initi…"
      ]
     },
     "metadata": {},
     "output_type": "display_data"
    },
    {
     "name": "stdout",
     "output_type": "stream",
     "text": [
      "validation start\n"
     ]
    },
    {
     "data": {
      "application/vnd.jupyter.widget-view+json": {
       "model_id": "",
       "version_major": 2,
       "version_minor": 0
      },
      "text/plain": [
       "HBox(children=(IntProgress(value=0, description='val', max=789, style=ProgressStyle(description_width='initial…"
      ]
     },
     "metadata": {},
     "output_type": "display_data"
    },
    {
     "name": "stdout",
     "output_type": "stream",
     "text": [
      "mrmse_nz: 1.050544, rmrmse_nz: 0.436237, mrmse: 0.466488, rmrmse: 0.194220 \n",
      "[2019-11-10 15:07:45,429] epoch: 106 | classification_loss: 0.6445\n",
      "[2019-11-10 15:07:46,761] checkpoint created at /media/James/BigData/CountSeg_output/vOR_counting/model_106.pt\n",
      "[2019-11-10 15:07:48,021] checkpoint created at /media/James/BigData/CountSeg_output/vOR_counting/model_latest.pt\n",
      "\n",
      "--------------------------------------------------------\n",
      "\n",
      "learning rate: 2.5e-05\n",
      "learning rate: 0.0025\n",
      "stage 2 of the training: using criterion2\n"
     ]
    },
    {
     "data": {
      "application/vnd.jupyter.widget-view+json": {
       "model_id": "",
       "version_major": 2,
       "version_minor": 0
      },
      "text/plain": [
       "HBox(children=(IntProgress(value=0, description='train', max=277, style=ProgressStyle(description_width='initi…"
      ]
     },
     "metadata": {},
     "output_type": "display_data"
    },
    {
     "name": "stdout",
     "output_type": "stream",
     "text": [
      "validation start\n"
     ]
    },
    {
     "data": {
      "application/vnd.jupyter.widget-view+json": {
       "model_id": "",
       "version_major": 2,
       "version_minor": 0
      },
      "text/plain": [
       "HBox(children=(IntProgress(value=0, description='val', max=789, style=ProgressStyle(description_width='initial…"
      ]
     },
     "metadata": {},
     "output_type": "display_data"
    },
    {
     "name": "stdout",
     "output_type": "stream",
     "text": [
      "mrmse_nz: 0.976787, rmrmse_nz: 0.396563, mrmse: 0.437161, rmrmse: 0.177379 \n",
      "[2019-11-10 15:09:50,596] epoch: 107 | classification_loss: 0.6442\n",
      "[2019-11-10 15:09:51,858] checkpoint created at /media/James/BigData/CountSeg_output/vOR_counting/model_107.pt\n",
      "[2019-11-10 15:09:53,145] checkpoint created at /media/James/BigData/CountSeg_output/vOR_counting/model_latest.pt\n",
      "\n",
      "--------------------------------------------------------\n",
      "\n",
      "learning rate: 2.5e-05\n",
      "learning rate: 0.0025\n",
      "stage 2 of the training: using criterion2\n"
     ]
    },
    {
     "data": {
      "application/vnd.jupyter.widget-view+json": {
       "model_id": "",
       "version_major": 2,
       "version_minor": 0
      },
      "text/plain": [
       "HBox(children=(IntProgress(value=0, description='train', max=277, style=ProgressStyle(description_width='initi…"
      ]
     },
     "metadata": {},
     "output_type": "display_data"
    },
    {
     "name": "stdout",
     "output_type": "stream",
     "text": [
      "validation start\n"
     ]
    },
    {
     "data": {
      "application/vnd.jupyter.widget-view+json": {
       "model_id": "",
       "version_major": 2,
       "version_minor": 0
      },
      "text/plain": [
       "HBox(children=(IntProgress(value=0, description='val', max=789, style=ProgressStyle(description_width='initial…"
      ]
     },
     "metadata": {},
     "output_type": "display_data"
    },
    {
     "name": "stdout",
     "output_type": "stream",
     "text": [
      "mrmse_nz: 1.003568, rmrmse_nz: 0.416018, mrmse: 0.445614, rmrmse: 0.185142 \n",
      "[2019-11-10 15:11:55,674] epoch: 108 | classification_loss: 0.6445\n",
      "[2019-11-10 15:11:57,033] checkpoint created at /media/James/BigData/CountSeg_output/vOR_counting/model_108.pt\n",
      "[2019-11-10 15:11:58,327] checkpoint created at /media/James/BigData/CountSeg_output/vOR_counting/model_latest.pt\n",
      "\n",
      "--------------------------------------------------------\n",
      "\n",
      "learning rate: 2.5e-05\n",
      "learning rate: 0.0025\n",
      "stage 2 of the training: using criterion2\n"
     ]
    },
    {
     "data": {
      "application/vnd.jupyter.widget-view+json": {
       "model_id": "",
       "version_major": 2,
       "version_minor": 0
      },
      "text/plain": [
       "HBox(children=(IntProgress(value=0, description='train', max=277, style=ProgressStyle(description_width='initi…"
      ]
     },
     "metadata": {},
     "output_type": "display_data"
    },
    {
     "name": "stdout",
     "output_type": "stream",
     "text": [
      "validation start\n"
     ]
    },
    {
     "data": {
      "application/vnd.jupyter.widget-view+json": {
       "model_id": "",
       "version_major": 2,
       "version_minor": 0
      },
      "text/plain": [
       "HBox(children=(IntProgress(value=0, description='val', max=789, style=ProgressStyle(description_width='initial…"
      ]
     },
     "metadata": {},
     "output_type": "display_data"
    },
    {
     "name": "stdout",
     "output_type": "stream",
     "text": [
      "mrmse_nz: 0.972828, rmrmse_nz: 0.410372, mrmse: 0.432943, rmrmse: 0.182402 \n",
      "[2019-11-10 15:14:00,943] epoch: 109 | classification_loss: 0.6445\n",
      "[2019-11-10 15:14:02,224] checkpoint created at /media/James/BigData/CountSeg_output/vOR_counting/model_109.pt\n",
      "[2019-11-10 15:14:03,471] checkpoint created at /media/James/BigData/CountSeg_output/vOR_counting/model_latest.pt\n",
      "\n",
      "--------------------------------------------------------\n",
      "\n",
      "learning rate: 2.5e-05\n",
      "learning rate: 0.0025\n",
      "stage 2 of the training: using criterion2\n"
     ]
    },
    {
     "data": {
      "application/vnd.jupyter.widget-view+json": {
       "model_id": "",
       "version_major": 2,
       "version_minor": 0
      },
      "text/plain": [
       "HBox(children=(IntProgress(value=0, description='train', max=277, style=ProgressStyle(description_width='initi…"
      ]
     },
     "metadata": {},
     "output_type": "display_data"
    },
    {
     "name": "stdout",
     "output_type": "stream",
     "text": [
      "validation start\n"
     ]
    },
    {
     "data": {
      "application/vnd.jupyter.widget-view+json": {
       "model_id": "",
       "version_major": 2,
       "version_minor": 0
      },
      "text/plain": [
       "HBox(children=(IntProgress(value=0, description='val', max=789, style=ProgressStyle(description_width='initial…"
      ]
     },
     "metadata": {},
     "output_type": "display_data"
    },
    {
     "name": "stdout",
     "output_type": "stream",
     "text": [
      "mrmse_nz: 1.006930, rmrmse_nz: 0.410451, mrmse: 0.451181, rmrmse: 0.183775 \n",
      "[2019-11-10 15:16:06,137] epoch: 110 | classification_loss: 0.6447\n",
      "[2019-11-10 15:16:07,466] checkpoint created at /media/James/BigData/CountSeg_output/vOR_counting/model_110.pt\n",
      "[2019-11-10 15:16:08,729] checkpoint created at /media/James/BigData/CountSeg_output/vOR_counting/model_latest.pt\n",
      "\n",
      "--------------------------------------------------------\n",
      "\n",
      "learning rate: 2.5e-05\n",
      "learning rate: 0.0025\n",
      "stage 2 of the training: using criterion2\n"
     ]
    },
    {
     "data": {
      "application/vnd.jupyter.widget-view+json": {
       "model_id": "",
       "version_major": 2,
       "version_minor": 0
      },
      "text/plain": [
       "HBox(children=(IntProgress(value=0, description='train', max=277, style=ProgressStyle(description_width='initi…"
      ]
     },
     "metadata": {},
     "output_type": "display_data"
    },
    {
     "name": "stdout",
     "output_type": "stream",
     "text": [
      "validation start\n"
     ]
    },
    {
     "data": {
      "application/vnd.jupyter.widget-view+json": {
       "model_id": "",
       "version_major": 2,
       "version_minor": 0
      },
      "text/plain": [
       "HBox(children=(IntProgress(value=0, description='val', max=789, style=ProgressStyle(description_width='initial…"
      ]
     },
     "metadata": {},
     "output_type": "display_data"
    },
    {
     "name": "stdout",
     "output_type": "stream",
     "text": [
      "mrmse_nz: 0.958190, rmrmse_nz: 0.395879, mrmse: 0.427986, rmrmse: 0.176632 \n",
      "[2019-11-10 15:18:11,488] epoch: 111 | classification_loss: 0.6441\n",
      "[2019-11-10 15:18:12,773] checkpoint created at /media/James/BigData/CountSeg_output/vOR_counting/model_111.pt\n",
      "[2019-11-10 15:18:14,109] checkpoint created at /media/James/BigData/CountSeg_output/vOR_counting/model_latest.pt\n",
      "\n",
      "--------------------------------------------------------\n",
      "\n",
      "learning rate: 2.5e-05\n",
      "learning rate: 0.0025\n",
      "stage 2 of the training: using criterion2\n"
     ]
    },
    {
     "data": {
      "application/vnd.jupyter.widget-view+json": {
       "model_id": "",
       "version_major": 2,
       "version_minor": 0
      },
      "text/plain": [
       "HBox(children=(IntProgress(value=0, description='train', max=277, style=ProgressStyle(description_width='initi…"
      ]
     },
     "metadata": {},
     "output_type": "display_data"
    },
    {
     "name": "stdout",
     "output_type": "stream",
     "text": [
      "validation start\n"
     ]
    },
    {
     "data": {
      "application/vnd.jupyter.widget-view+json": {
       "model_id": "",
       "version_major": 2,
       "version_minor": 0
      },
      "text/plain": [
       "HBox(children=(IntProgress(value=0, description='val', max=789, style=ProgressStyle(description_width='initial…"
      ]
     },
     "metadata": {},
     "output_type": "display_data"
    },
    {
     "name": "stdout",
     "output_type": "stream",
     "text": [
      "mrmse_nz: 0.956251, rmrmse_nz: 0.412275, mrmse: 0.423091, rmrmse: 0.183395 \n",
      "[2019-11-10 15:20:16,358] epoch: 112 | classification_loss: 0.6450\n",
      "[2019-11-10 15:20:17,702] checkpoint created at /media/James/BigData/CountSeg_output/vOR_counting/model_112.pt\n",
      "[2019-11-10 15:20:18,917] checkpoint created at /media/James/BigData/CountSeg_output/vOR_counting/model_latest.pt\n",
      "\n",
      "--------------------------------------------------------\n",
      "\n",
      "learning rate: 2.5e-05\n",
      "learning rate: 0.0025\n",
      "stage 2 of the training: using criterion2\n"
     ]
    },
    {
     "data": {
      "application/vnd.jupyter.widget-view+json": {
       "model_id": "",
       "version_major": 2,
       "version_minor": 0
      },
      "text/plain": [
       "HBox(children=(IntProgress(value=0, description='train', max=277, style=ProgressStyle(description_width='initi…"
      ]
     },
     "metadata": {},
     "output_type": "display_data"
    },
    {
     "name": "stdout",
     "output_type": "stream",
     "text": [
      "validation start\n"
     ]
    },
    {
     "data": {
      "application/vnd.jupyter.widget-view+json": {
       "model_id": "",
       "version_major": 2,
       "version_minor": 0
      },
      "text/plain": [
       "HBox(children=(IntProgress(value=0, description='val', max=789, style=ProgressStyle(description_width='initial…"
      ]
     },
     "metadata": {},
     "output_type": "display_data"
    },
    {
     "name": "stdout",
     "output_type": "stream",
     "text": [
      "mrmse_nz: 0.976229, rmrmse_nz: 0.407930, mrmse: 0.432265, rmrmse: 0.181273 \n",
      "[2019-11-10 15:22:21,244] epoch: 113 | classification_loss: 0.6447\n",
      "[2019-11-10 15:22:22,562] checkpoint created at /media/James/BigData/CountSeg_output/vOR_counting/model_113.pt\n",
      "[2019-11-10 15:22:23,844] checkpoint created at /media/James/BigData/CountSeg_output/vOR_counting/model_latest.pt\n",
      "\n",
      "--------------------------------------------------------\n",
      "\n",
      "learning rate: 2.5e-05\n",
      "learning rate: 0.0025\n",
      "stage 2 of the training: using criterion2\n"
     ]
    },
    {
     "data": {
      "application/vnd.jupyter.widget-view+json": {
       "model_id": "",
       "version_major": 2,
       "version_minor": 0
      },
      "text/plain": [
       "HBox(children=(IntProgress(value=0, description='train', max=277, style=ProgressStyle(description_width='initi…"
      ]
     },
     "metadata": {},
     "output_type": "display_data"
    },
    {
     "name": "stdout",
     "output_type": "stream",
     "text": [
      "validation start\n"
     ]
    },
    {
     "data": {
      "application/vnd.jupyter.widget-view+json": {
       "model_id": "",
       "version_major": 2,
       "version_minor": 0
      },
      "text/plain": [
       "HBox(children=(IntProgress(value=0, description='val', max=789, style=ProgressStyle(description_width='initial…"
      ]
     },
     "metadata": {},
     "output_type": "display_data"
    },
    {
     "name": "stdout",
     "output_type": "stream",
     "text": [
      "mrmse_nz: 0.907241, rmrmse_nz: 0.381617, mrmse: 0.405637, rmrmse: 0.170879 \n",
      "[2019-11-10 15:24:26,636] epoch: 114 | classification_loss: 0.6452\n",
      "[2019-11-10 15:24:27,952] checkpoint created at /media/James/BigData/CountSeg_output/vOR_counting/model_114.pt\n",
      "[2019-11-10 15:24:29,215] checkpoint created at /media/James/BigData/CountSeg_output/vOR_counting/model_latest.pt\n",
      "\n",
      "--------------------------------------------------------\n",
      "\n",
      "learning rate: 2.5e-05\n",
      "learning rate: 0.0025\n",
      "stage 2 of the training: using criterion2\n"
     ]
    },
    {
     "data": {
      "application/vnd.jupyter.widget-view+json": {
       "model_id": "",
       "version_major": 2,
       "version_minor": 0
      },
      "text/plain": [
       "HBox(children=(IntProgress(value=0, description='train', max=277, style=ProgressStyle(description_width='initi…"
      ]
     },
     "metadata": {},
     "output_type": "display_data"
    },
    {
     "name": "stdout",
     "output_type": "stream",
     "text": [
      "validation start\n"
     ]
    },
    {
     "data": {
      "application/vnd.jupyter.widget-view+json": {
       "model_id": "",
       "version_major": 2,
       "version_minor": 0
      },
      "text/plain": [
       "HBox(children=(IntProgress(value=0, description='val', max=789, style=ProgressStyle(description_width='initial…"
      ]
     },
     "metadata": {},
     "output_type": "display_data"
    },
    {
     "name": "stdout",
     "output_type": "stream",
     "text": [
      "mrmse_nz: 0.984718, rmrmse_nz: 0.409550, mrmse: 0.438639, rmrmse: 0.182171 \n",
      "[2019-11-10 15:26:31,205] epoch: 115 | classification_loss: 0.6448\n",
      "[2019-11-10 15:26:32,480] checkpoint created at /media/James/BigData/CountSeg_output/vOR_counting/model_115.pt\n",
      "[2019-11-10 15:26:33,706] checkpoint created at /media/James/BigData/CountSeg_output/vOR_counting/model_latest.pt\n",
      "\n",
      "--------------------------------------------------------\n",
      "\n",
      "learning rate: 2.5e-05\n",
      "learning rate: 0.0025\n",
      "stage 2 of the training: using criterion2\n"
     ]
    },
    {
     "data": {
      "application/vnd.jupyter.widget-view+json": {
       "model_id": "",
       "version_major": 2,
       "version_minor": 0
      },
      "text/plain": [
       "HBox(children=(IntProgress(value=0, description='train', max=277, style=ProgressStyle(description_width='initi…"
      ]
     },
     "metadata": {},
     "output_type": "display_data"
    },
    {
     "name": "stdout",
     "output_type": "stream",
     "text": [
      "validation start\n"
     ]
    },
    {
     "data": {
      "application/vnd.jupyter.widget-view+json": {
       "model_id": "",
       "version_major": 2,
       "version_minor": 0
      },
      "text/plain": [
       "HBox(children=(IntProgress(value=0, description='val', max=789, style=ProgressStyle(description_width='initial…"
      ]
     },
     "metadata": {},
     "output_type": "display_data"
    },
    {
     "name": "stdout",
     "output_type": "stream",
     "text": [
      "mrmse_nz: 1.024279, rmrmse_nz: 0.426570, mrmse: 0.458561, rmrmse: 0.190055 \n",
      "[2019-11-10 15:28:36,326] epoch: 116 | classification_loss: 0.6443\n",
      "[2019-11-10 15:28:37,605] checkpoint created at /media/James/BigData/CountSeg_output/vOR_counting/model_116.pt\n",
      "[2019-11-10 15:28:38,835] checkpoint created at /media/James/BigData/CountSeg_output/vOR_counting/model_latest.pt\n",
      "\n",
      "--------------------------------------------------------\n",
      "\n",
      "learning rate: 2.5e-05\n",
      "learning rate: 0.0025\n",
      "stage 2 of the training: using criterion2\n"
     ]
    },
    {
     "data": {
      "application/vnd.jupyter.widget-view+json": {
       "model_id": "",
       "version_major": 2,
       "version_minor": 0
      },
      "text/plain": [
       "HBox(children=(IntProgress(value=0, description='train', max=277, style=ProgressStyle(description_width='initi…"
      ]
     },
     "metadata": {},
     "output_type": "display_data"
    },
    {
     "name": "stdout",
     "output_type": "stream",
     "text": [
      "validation start\n"
     ]
    },
    {
     "data": {
      "application/vnd.jupyter.widget-view+json": {
       "model_id": "",
       "version_major": 2,
       "version_minor": 0
      },
      "text/plain": [
       "HBox(children=(IntProgress(value=0, description='val', max=789, style=ProgressStyle(description_width='initial…"
      ]
     },
     "metadata": {},
     "output_type": "display_data"
    },
    {
     "name": "stdout",
     "output_type": "stream",
     "text": [
      "mrmse_nz: 1.003448, rmrmse_nz: 0.411545, mrmse: 0.449436, rmrmse: 0.183888 \n",
      "[2019-11-10 15:30:41,906] epoch: 117 | classification_loss: 0.6443\n",
      "[2019-11-10 15:30:43,262] checkpoint created at /media/James/BigData/CountSeg_output/vOR_counting/model_117.pt\n",
      "[2019-11-10 15:30:44,525] checkpoint created at /media/James/BigData/CountSeg_output/vOR_counting/model_latest.pt\n",
      "\n",
      "--------------------------------------------------------\n",
      "\n",
      "learning rate: 2.5e-05\n",
      "learning rate: 0.0025\n",
      "stage 2 of the training: using criterion2\n"
     ]
    },
    {
     "data": {
      "application/vnd.jupyter.widget-view+json": {
       "model_id": "",
       "version_major": 2,
       "version_minor": 0
      },
      "text/plain": [
       "HBox(children=(IntProgress(value=0, description='train', max=277, style=ProgressStyle(description_width='initi…"
      ]
     },
     "metadata": {},
     "output_type": "display_data"
    },
    {
     "name": "stdout",
     "output_type": "stream",
     "text": [
      "validation start\n"
     ]
    },
    {
     "data": {
      "application/vnd.jupyter.widget-view+json": {
       "model_id": "",
       "version_major": 2,
       "version_minor": 0
      },
      "text/plain": [
       "HBox(children=(IntProgress(value=0, description='val', max=789, style=ProgressStyle(description_width='initial…"
      ]
     },
     "metadata": {},
     "output_type": "display_data"
    },
    {
     "name": "stdout",
     "output_type": "stream",
     "text": [
      "mrmse_nz: 0.963788, rmrmse_nz: 0.398077, mrmse: 0.430948, rmrmse: 0.177572 \n",
      "[2019-11-10 15:32:46,527] epoch: 118 | classification_loss: 0.6447\n",
      "[2019-11-10 15:32:47,789] checkpoint created at /media/James/BigData/CountSeg_output/vOR_counting/model_118.pt\n",
      "[2019-11-10 15:32:49,035] checkpoint created at /media/James/BigData/CountSeg_output/vOR_counting/model_latest.pt\n",
      "\n",
      "--------------------------------------------------------\n",
      "\n",
      "learning rate: 2.5e-05\n",
      "learning rate: 0.0025\n",
      "stage 2 of the training: using criterion2\n"
     ]
    },
    {
     "data": {
      "application/vnd.jupyter.widget-view+json": {
       "model_id": "",
       "version_major": 2,
       "version_minor": 0
      },
      "text/plain": [
       "HBox(children=(IntProgress(value=0, description='train', max=277, style=ProgressStyle(description_width='initi…"
      ]
     },
     "metadata": {},
     "output_type": "display_data"
    },
    {
     "name": "stdout",
     "output_type": "stream",
     "text": [
      "validation start\n"
     ]
    },
    {
     "data": {
      "application/vnd.jupyter.widget-view+json": {
       "model_id": "",
       "version_major": 2,
       "version_minor": 0
      },
      "text/plain": [
       "HBox(children=(IntProgress(value=0, description='val', max=789, style=ProgressStyle(description_width='initial…"
      ]
     },
     "metadata": {},
     "output_type": "display_data"
    },
    {
     "name": "stdout",
     "output_type": "stream",
     "text": [
      "mrmse_nz: 0.989214, rmrmse_nz: 0.411215, mrmse: 0.441854, rmrmse: 0.183479 \n",
      "[2019-11-10 15:34:50,634] epoch: 119 | classification_loss: 0.6443\n",
      "[2019-11-10 15:34:51,891] checkpoint created at /media/James/BigData/CountSeg_output/vOR_counting/model_119.pt\n",
      "[2019-11-10 15:34:53,159] checkpoint created at /media/James/BigData/CountSeg_output/vOR_counting/model_latest.pt\n",
      "\n",
      "--------------------------------------------------------\n",
      "\n",
      "learning rate: 2.5e-05\n",
      "learning rate: 0.0025\n",
      "stage 2 of the training: using criterion2\n"
     ]
    },
    {
     "data": {
      "application/vnd.jupyter.widget-view+json": {
       "model_id": "",
       "version_major": 2,
       "version_minor": 0
      },
      "text/plain": [
       "HBox(children=(IntProgress(value=0, description='train', max=277, style=ProgressStyle(description_width='initi…"
      ]
     },
     "metadata": {},
     "output_type": "display_data"
    },
    {
     "name": "stdout",
     "output_type": "stream",
     "text": [
      "validation start\n"
     ]
    },
    {
     "data": {
      "application/vnd.jupyter.widget-view+json": {
       "model_id": "",
       "version_major": 2,
       "version_minor": 0
      },
      "text/plain": [
       "HBox(children=(IntProgress(value=0, description='val', max=789, style=ProgressStyle(description_width='initial…"
      ]
     },
     "metadata": {},
     "output_type": "display_data"
    },
    {
     "name": "stdout",
     "output_type": "stream",
     "text": [
      "mrmse_nz: 0.990777, rmrmse_nz: 0.401617, mrmse: 0.444118, rmrmse: 0.179971 \n",
      "[2019-11-10 15:36:55,825] epoch: 120 | classification_loss: 0.6441\n",
      "[2019-11-10 15:36:57,156] checkpoint created at /media/James/BigData/CountSeg_output/vOR_counting/model_120.pt\n",
      "[2019-11-10 15:36:58,412] checkpoint created at /media/James/BigData/CountSeg_output/vOR_counting/model_latest.pt\n",
      "\n",
      "--------------------------------------------------------\n",
      "\n",
      "learning rate: 2.5e-05\n",
      "learning rate: 0.0025\n",
      "stage 2 of the training: using criterion2\n"
     ]
    },
    {
     "data": {
      "application/vnd.jupyter.widget-view+json": {
       "model_id": "",
       "version_major": 2,
       "version_minor": 0
      },
      "text/plain": [
       "HBox(children=(IntProgress(value=0, description='train', max=277, style=ProgressStyle(description_width='initi…"
      ]
     },
     "metadata": {},
     "output_type": "display_data"
    },
    {
     "name": "stdout",
     "output_type": "stream",
     "text": [
      "validation start\n"
     ]
    },
    {
     "data": {
      "application/vnd.jupyter.widget-view+json": {
       "model_id": "",
       "version_major": 2,
       "version_minor": 0
      },
      "text/plain": [
       "HBox(children=(IntProgress(value=0, description='val', max=789, style=ProgressStyle(description_width='initial…"
      ]
     },
     "metadata": {},
     "output_type": "display_data"
    },
    {
     "name": "stdout",
     "output_type": "stream",
     "text": [
      "mrmse_nz: 0.990598, rmrmse_nz: 0.415469, mrmse: 0.440445, rmrmse: 0.184600 \n",
      "[2019-11-10 15:39:00,522] epoch: 121 | classification_loss: 0.6442\n",
      "[2019-11-10 15:39:01,810] checkpoint created at /media/James/BigData/CountSeg_output/vOR_counting/model_121.pt\n",
      "[2019-11-10 15:39:03,080] checkpoint created at /media/James/BigData/CountSeg_output/vOR_counting/model_latest.pt\n",
      "\n",
      "--------------------------------------------------------\n",
      "\n",
      "learning rate: 2.5e-05\n",
      "learning rate: 0.0025\n",
      "stage 2 of the training: using criterion2\n"
     ]
    },
    {
     "data": {
      "application/vnd.jupyter.widget-view+json": {
       "model_id": "",
       "version_major": 2,
       "version_minor": 0
      },
      "text/plain": [
       "HBox(children=(IntProgress(value=0, description='train', max=277, style=ProgressStyle(description_width='initi…"
      ]
     },
     "metadata": {},
     "output_type": "display_data"
    },
    {
     "name": "stdout",
     "output_type": "stream",
     "text": [
      "validation start\n"
     ]
    },
    {
     "data": {
      "application/vnd.jupyter.widget-view+json": {
       "model_id": "",
       "version_major": 2,
       "version_minor": 0
      },
      "text/plain": [
       "HBox(children=(IntProgress(value=0, description='val', max=789, style=ProgressStyle(description_width='initial…"
      ]
     },
     "metadata": {},
     "output_type": "display_data"
    },
    {
     "name": "stdout",
     "output_type": "stream",
     "text": [
      "mrmse_nz: 0.983528, rmrmse_nz: 0.400521, mrmse: 0.439666, rmrmse: 0.178855 \n",
      "[2019-11-10 15:41:05,255] epoch: 122 | classification_loss: 0.6442\n",
      "[2019-11-10 15:41:06,536] checkpoint created at /media/James/BigData/CountSeg_output/vOR_counting/model_122.pt\n",
      "[2019-11-10 15:41:07,775] checkpoint created at /media/James/BigData/CountSeg_output/vOR_counting/model_latest.pt\n",
      "\n",
      "--------------------------------------------------------\n",
      "\n",
      "learning rate: 2.5e-05\n",
      "learning rate: 0.0025\n",
      "stage 2 of the training: using criterion2\n"
     ]
    },
    {
     "data": {
      "application/vnd.jupyter.widget-view+json": {
       "model_id": "",
       "version_major": 2,
       "version_minor": 0
      },
      "text/plain": [
       "HBox(children=(IntProgress(value=0, description='train', max=277, style=ProgressStyle(description_width='initi…"
      ]
     },
     "metadata": {},
     "output_type": "display_data"
    },
    {
     "name": "stdout",
     "output_type": "stream",
     "text": [
      "validation start\n"
     ]
    },
    {
     "data": {
      "application/vnd.jupyter.widget-view+json": {
       "model_id": "",
       "version_major": 2,
       "version_minor": 0
      },
      "text/plain": [
       "HBox(children=(IntProgress(value=0, description='val', max=789, style=ProgressStyle(description_width='initial…"
      ]
     },
     "metadata": {},
     "output_type": "display_data"
    },
    {
     "name": "stdout",
     "output_type": "stream",
     "text": [
      "mrmse_nz: 1.000204, rmrmse_nz: 0.403014, mrmse: 0.447375, rmrmse: 0.180079 \n",
      "[2019-11-10 15:43:09,721] epoch: 123 | classification_loss: 0.6437\n",
      "[2019-11-10 15:43:10,995] checkpoint created at /media/James/BigData/CountSeg_output/vOR_counting/model_123.pt\n",
      "[2019-11-10 15:43:12,270] checkpoint created at /media/James/BigData/CountSeg_output/vOR_counting/model_latest.pt\n",
      "\n",
      "--------------------------------------------------------\n",
      "\n",
      "learning rate: 2.5e-05\n",
      "learning rate: 0.0025\n",
      "stage 2 of the training: using criterion2\n"
     ]
    },
    {
     "data": {
      "application/vnd.jupyter.widget-view+json": {
       "model_id": "",
       "version_major": 2,
       "version_minor": 0
      },
      "text/plain": [
       "HBox(children=(IntProgress(value=0, description='train', max=277, style=ProgressStyle(description_width='initi…"
      ]
     },
     "metadata": {},
     "output_type": "display_data"
    },
    {
     "name": "stdout",
     "output_type": "stream",
     "text": [
      "validation start\n"
     ]
    },
    {
     "data": {
      "application/vnd.jupyter.widget-view+json": {
       "model_id": "",
       "version_major": 2,
       "version_minor": 0
      },
      "text/plain": [
       "HBox(children=(IntProgress(value=0, description='val', max=789, style=ProgressStyle(description_width='initial…"
      ]
     },
     "metadata": {},
     "output_type": "display_data"
    },
    {
     "name": "stdout",
     "output_type": "stream",
     "text": [
      "mrmse_nz: 0.998114, rmrmse_nz: 0.405871, mrmse: 0.446746, rmrmse: 0.181405 \n",
      "[2019-11-10 15:45:15,323] epoch: 124 | classification_loss: 0.6437\n",
      "[2019-11-10 15:45:16,665] checkpoint created at /media/James/BigData/CountSeg_output/vOR_counting/model_124.pt\n",
      "[2019-11-10 15:45:17,938] checkpoint created at /media/James/BigData/CountSeg_output/vOR_counting/model_latest.pt\n",
      "\n",
      "--------------------------------------------------------\n",
      "\n",
      "learning rate: 2.5e-05\n",
      "learning rate: 0.0025\n",
      "stage 2 of the training: using criterion2\n"
     ]
    },
    {
     "data": {
      "application/vnd.jupyter.widget-view+json": {
       "model_id": "",
       "version_major": 2,
       "version_minor": 0
      },
      "text/plain": [
       "HBox(children=(IntProgress(value=0, description='train', max=277, style=ProgressStyle(description_width='initi…"
      ]
     },
     "metadata": {},
     "output_type": "display_data"
    },
    {
     "name": "stdout",
     "output_type": "stream",
     "text": [
      "validation start\n"
     ]
    },
    {
     "data": {
      "application/vnd.jupyter.widget-view+json": {
       "model_id": "",
       "version_major": 2,
       "version_minor": 0
      },
      "text/plain": [
       "HBox(children=(IntProgress(value=0, description='val', max=789, style=ProgressStyle(description_width='initial…"
      ]
     },
     "metadata": {},
     "output_type": "display_data"
    },
    {
     "name": "stdout",
     "output_type": "stream",
     "text": [
      "mrmse_nz: 1.017747, rmrmse_nz: 0.422425, mrmse: 0.452209, rmrmse: 0.187658 \n",
      "[2019-11-10 15:47:20,695] epoch: 125 | classification_loss: 0.6441\n",
      "[2019-11-10 15:47:22,478] checkpoint created at /media/James/BigData/CountSeg_output/vOR_counting/model_125.pt\n",
      "[2019-11-10 15:47:23,780] checkpoint created at /media/James/BigData/CountSeg_output/vOR_counting/model_latest.pt\n",
      "\n",
      "--------------------------------------------------------\n",
      "\n",
      "learning rate: 2.5e-05\n",
      "learning rate: 0.0025\n",
      "stage 2 of the training: using criterion2\n"
     ]
    },
    {
     "data": {
      "application/vnd.jupyter.widget-view+json": {
       "model_id": "",
       "version_major": 2,
       "version_minor": 0
      },
      "text/plain": [
       "HBox(children=(IntProgress(value=0, description='train', max=277, style=ProgressStyle(description_width='initi…"
      ]
     },
     "metadata": {},
     "output_type": "display_data"
    },
    {
     "name": "stdout",
     "output_type": "stream",
     "text": [
      "validation start\n"
     ]
    },
    {
     "data": {
      "application/vnd.jupyter.widget-view+json": {
       "model_id": "",
       "version_major": 2,
       "version_minor": 0
      },
      "text/plain": [
       "HBox(children=(IntProgress(value=0, description='val', max=789, style=ProgressStyle(description_width='initial…"
      ]
     },
     "metadata": {},
     "output_type": "display_data"
    },
    {
     "name": "stdout",
     "output_type": "stream",
     "text": [
      "mrmse_nz: 0.972989, rmrmse_nz: 0.401897, mrmse: 0.434532, rmrmse: 0.179320 \n",
      "[2019-11-10 15:49:26,373] epoch: 126 | classification_loss: 0.6441\n",
      "[2019-11-10 15:49:27,807] checkpoint created at /media/James/BigData/CountSeg_output/vOR_counting/model_126.pt\n",
      "[2019-11-10 15:49:29,097] checkpoint created at /media/James/BigData/CountSeg_output/vOR_counting/model_latest.pt\n",
      "\n",
      "--------------------------------------------------------\n",
      "\n",
      "learning rate: 2.5e-05\n",
      "learning rate: 0.0025\n",
      "stage 2 of the training: using criterion2\n"
     ]
    },
    {
     "data": {
      "application/vnd.jupyter.widget-view+json": {
       "model_id": "",
       "version_major": 2,
       "version_minor": 0
      },
      "text/plain": [
       "HBox(children=(IntProgress(value=0, description='train', max=277, style=ProgressStyle(description_width='initi…"
      ]
     },
     "metadata": {},
     "output_type": "display_data"
    },
    {
     "name": "stdout",
     "output_type": "stream",
     "text": [
      "validation start\n"
     ]
    },
    {
     "data": {
      "application/vnd.jupyter.widget-view+json": {
       "model_id": "",
       "version_major": 2,
       "version_minor": 0
      },
      "text/plain": [
       "HBox(children=(IntProgress(value=0, description='val', max=789, style=ProgressStyle(description_width='initial…"
      ]
     },
     "metadata": {},
     "output_type": "display_data"
    },
    {
     "name": "stdout",
     "output_type": "stream",
     "text": [
      "mrmse_nz: 1.001783, rmrmse_nz: 0.417663, mrmse: 0.447662, rmrmse: 0.186024 \n",
      "[2019-11-10 15:51:31,149] epoch: 127 | classification_loss: 0.6441\n",
      "[2019-11-10 15:51:32,463] checkpoint created at /media/James/BigData/CountSeg_output/vOR_counting/model_127.pt\n",
      "[2019-11-10 15:51:33,720] checkpoint created at /media/James/BigData/CountSeg_output/vOR_counting/model_latest.pt\n",
      "\n",
      "--------------------------------------------------------\n",
      "\n",
      "learning rate: 2.5e-05\n",
      "learning rate: 0.0025\n",
      "stage 2 of the training: using criterion2\n"
     ]
    },
    {
     "data": {
      "application/vnd.jupyter.widget-view+json": {
       "model_id": "",
       "version_major": 2,
       "version_minor": 0
      },
      "text/plain": [
       "HBox(children=(IntProgress(value=0, description='train', max=277, style=ProgressStyle(description_width='initi…"
      ]
     },
     "metadata": {},
     "output_type": "display_data"
    },
    {
     "name": "stdout",
     "output_type": "stream",
     "text": [
      "validation start\n"
     ]
    },
    {
     "data": {
      "application/vnd.jupyter.widget-view+json": {
       "model_id": "",
       "version_major": 2,
       "version_minor": 0
      },
      "text/plain": [
       "HBox(children=(IntProgress(value=0, description='val', max=789, style=ProgressStyle(description_width='initial…"
      ]
     },
     "metadata": {},
     "output_type": "display_data"
    },
    {
     "name": "stdout",
     "output_type": "stream",
     "text": [
      "mrmse_nz: 0.984043, rmrmse_nz: 0.398972, mrmse: 0.442043, rmrmse: 0.178965 \n",
      "[2019-11-10 15:53:36,377] epoch: 128 | classification_loss: 0.6438\n",
      "[2019-11-10 15:53:37,738] checkpoint created at /media/James/BigData/CountSeg_output/vOR_counting/model_128.pt\n",
      "[2019-11-10 15:53:39,015] checkpoint created at /media/James/BigData/CountSeg_output/vOR_counting/model_latest.pt\n",
      "\n",
      "--------------------------------------------------------\n",
      "\n",
      "learning rate: 2.5e-05\n",
      "learning rate: 0.0025\n",
      "stage 2 of the training: using criterion2\n"
     ]
    },
    {
     "data": {
      "application/vnd.jupyter.widget-view+json": {
       "model_id": "",
       "version_major": 2,
       "version_minor": 0
      },
      "text/plain": [
       "HBox(children=(IntProgress(value=0, description='train', max=277, style=ProgressStyle(description_width='initi…"
      ]
     },
     "metadata": {},
     "output_type": "display_data"
    },
    {
     "name": "stdout",
     "output_type": "stream",
     "text": [
      "validation start\n"
     ]
    },
    {
     "data": {
      "application/vnd.jupyter.widget-view+json": {
       "model_id": "",
       "version_major": 2,
       "version_minor": 0
      },
      "text/plain": [
       "HBox(children=(IntProgress(value=0, description='val', max=789, style=ProgressStyle(description_width='initial…"
      ]
     },
     "metadata": {},
     "output_type": "display_data"
    },
    {
     "name": "stdout",
     "output_type": "stream",
     "text": [
      "mrmse_nz: 0.967187, rmrmse_nz: 0.399097, mrmse: 0.432912, rmrmse: 0.178129 \n",
      "[2019-11-10 15:55:41,742] epoch: 129 | classification_loss: 0.6451\n",
      "[2019-11-10 15:55:43,051] checkpoint created at /media/James/BigData/CountSeg_output/vOR_counting/model_129.pt\n",
      "[2019-11-10 15:55:44,345] checkpoint created at /media/James/BigData/CountSeg_output/vOR_counting/model_latest.pt\n",
      "\n",
      "--------------------------------------------------------\n",
      "\n",
      "learning rate: 2.5e-05\n",
      "learning rate: 0.0025\n",
      "stage 2 of the training: using criterion2\n"
     ]
    },
    {
     "data": {
      "application/vnd.jupyter.widget-view+json": {
       "model_id": "",
       "version_major": 2,
       "version_minor": 0
      },
      "text/plain": [
       "HBox(children=(IntProgress(value=0, description='train', max=277, style=ProgressStyle(description_width='initi…"
      ]
     },
     "metadata": {},
     "output_type": "display_data"
    },
    {
     "name": "stdout",
     "output_type": "stream",
     "text": [
      "validation start\n"
     ]
    },
    {
     "data": {
      "application/vnd.jupyter.widget-view+json": {
       "model_id": "",
       "version_major": 2,
       "version_minor": 0
      },
      "text/plain": [
       "HBox(children=(IntProgress(value=0, description='val', max=789, style=ProgressStyle(description_width='initial…"
      ]
     },
     "metadata": {},
     "output_type": "display_data"
    },
    {
     "name": "stdout",
     "output_type": "stream",
     "text": [
      "mrmse_nz: 0.981737, rmrmse_nz: 0.405717, mrmse: 0.436470, rmrmse: 0.180527 \n",
      "[2019-11-10 15:57:46,651] epoch: 130 | classification_loss: 0.6441\n",
      "[2019-11-10 15:57:47,994] checkpoint created at /media/James/BigData/CountSeg_output/vOR_counting/model_130.pt\n",
      "[2019-11-10 15:57:49,255] checkpoint created at /media/James/BigData/CountSeg_output/vOR_counting/model_latest.pt\n",
      "\n",
      "--------------------------------------------------------\n",
      "\n",
      "learning rate: 2.5e-05\n",
      "learning rate: 0.0025\n",
      "stage 2 of the training: using criterion2\n"
     ]
    },
    {
     "data": {
      "application/vnd.jupyter.widget-view+json": {
       "model_id": "",
       "version_major": 2,
       "version_minor": 0
      },
      "text/plain": [
       "HBox(children=(IntProgress(value=0, description='train', max=277, style=ProgressStyle(description_width='initi…"
      ]
     },
     "metadata": {},
     "output_type": "display_data"
    },
    {
     "name": "stdout",
     "output_type": "stream",
     "text": [
      "validation start\n"
     ]
    },
    {
     "data": {
      "application/vnd.jupyter.widget-view+json": {
       "model_id": "",
       "version_major": 2,
       "version_minor": 0
      },
      "text/plain": [
       "HBox(children=(IntProgress(value=0, description='val', max=789, style=ProgressStyle(description_width='initial…"
      ]
     },
     "metadata": {},
     "output_type": "display_data"
    },
    {
     "name": "stdout",
     "output_type": "stream",
     "text": [
      "mrmse_nz: 1.030521, rmrmse_nz: 0.420952, mrmse: 0.461119, rmrmse: 0.187928 \n",
      "[2019-11-10 15:59:51,039] epoch: 131 | classification_loss: 0.6437\n",
      "[2019-11-10 15:59:52,283] checkpoint created at /media/James/BigData/CountSeg_output/vOR_counting/model_131.pt\n",
      "[2019-11-10 15:59:53,509] checkpoint created at /media/James/BigData/CountSeg_output/vOR_counting/model_latest.pt\n",
      "\n",
      "--------------------------------------------------------\n",
      "\n",
      "learning rate: 2.5e-05\n",
      "learning rate: 0.0025\n",
      "stage 2 of the training: using criterion2\n"
     ]
    },
    {
     "data": {
      "application/vnd.jupyter.widget-view+json": {
       "model_id": "",
       "version_major": 2,
       "version_minor": 0
      },
      "text/plain": [
       "HBox(children=(IntProgress(value=0, description='train', max=277, style=ProgressStyle(description_width='initi…"
      ]
     },
     "metadata": {},
     "output_type": "display_data"
    },
    {
     "name": "stdout",
     "output_type": "stream",
     "text": [
      "validation start\n"
     ]
    },
    {
     "data": {
      "application/vnd.jupyter.widget-view+json": {
       "model_id": "",
       "version_major": 2,
       "version_minor": 0
      },
      "text/plain": [
       "HBox(children=(IntProgress(value=0, description='val', max=789, style=ProgressStyle(description_width='initial…"
      ]
     },
     "metadata": {},
     "output_type": "display_data"
    },
    {
     "name": "stdout",
     "output_type": "stream",
     "text": [
      "mrmse_nz: 0.976223, rmrmse_nz: 0.398214, mrmse: 0.437420, rmrmse: 0.178439 \n",
      "[2019-11-10 16:01:56,139] epoch: 132 | classification_loss: 0.6440\n",
      "[2019-11-10 16:01:57,454] checkpoint created at /media/James/BigData/CountSeg_output/vOR_counting/model_132.pt\n",
      "[2019-11-10 16:01:58,708] checkpoint created at /media/James/BigData/CountSeg_output/vOR_counting/model_latest.pt\n",
      "\n",
      "--------------------------------------------------------\n",
      "\n",
      "learning rate: 2.5e-05\n",
      "learning rate: 0.0025\n",
      "stage 2 of the training: using criterion2\n"
     ]
    },
    {
     "data": {
      "application/vnd.jupyter.widget-view+json": {
       "model_id": "",
       "version_major": 2,
       "version_minor": 0
      },
      "text/plain": [
       "HBox(children=(IntProgress(value=0, description='train', max=277, style=ProgressStyle(description_width='initi…"
      ]
     },
     "metadata": {},
     "output_type": "display_data"
    },
    {
     "name": "stdout",
     "output_type": "stream",
     "text": [
      "validation start\n"
     ]
    },
    {
     "data": {
      "application/vnd.jupyter.widget-view+json": {
       "model_id": "",
       "version_major": 2,
       "version_minor": 0
      },
      "text/plain": [
       "HBox(children=(IntProgress(value=0, description='val', max=789, style=ProgressStyle(description_width='initial…"
      ]
     },
     "metadata": {},
     "output_type": "display_data"
    },
    {
     "name": "stdout",
     "output_type": "stream",
     "text": [
      "mrmse_nz: 0.988614, rmrmse_nz: 0.406822, mrmse: 0.442981, rmrmse: 0.181768 \n",
      "[2019-11-10 16:04:01,635] epoch: 133 | classification_loss: 0.6441\n",
      "[2019-11-10 16:04:02,907] checkpoint created at /media/James/BigData/CountSeg_output/vOR_counting/model_133.pt\n",
      "[2019-11-10 16:04:04,149] checkpoint created at /media/James/BigData/CountSeg_output/vOR_counting/model_latest.pt\n",
      "\n",
      "--------------------------------------------------------\n",
      "\n",
      "learning rate: 2.5e-05\n",
      "learning rate: 0.0025\n",
      "stage 2 of the training: using criterion2\n"
     ]
    },
    {
     "data": {
      "application/vnd.jupyter.widget-view+json": {
       "model_id": "",
       "version_major": 2,
       "version_minor": 0
      },
      "text/plain": [
       "HBox(children=(IntProgress(value=0, description='train', max=277, style=ProgressStyle(description_width='initi…"
      ]
     },
     "metadata": {},
     "output_type": "display_data"
    },
    {
     "name": "stdout",
     "output_type": "stream",
     "text": [
      "validation start\n"
     ]
    },
    {
     "data": {
      "application/vnd.jupyter.widget-view+json": {
       "model_id": "",
       "version_major": 2,
       "version_minor": 0
      },
      "text/plain": [
       "HBox(children=(IntProgress(value=0, description='val', max=789, style=ProgressStyle(description_width='initial…"
      ]
     },
     "metadata": {},
     "output_type": "display_data"
    },
    {
     "name": "stdout",
     "output_type": "stream",
     "text": [
      "mrmse_nz: 0.984650, rmrmse_nz: 0.406528, mrmse: 0.441156, rmrmse: 0.181688 \n",
      "[2019-11-10 16:06:07,239] epoch: 134 | classification_loss: 0.6438\n",
      "[2019-11-10 16:06:08,584] checkpoint created at /media/James/BigData/CountSeg_output/vOR_counting/model_134.pt\n",
      "[2019-11-10 16:06:09,849] checkpoint created at /media/James/BigData/CountSeg_output/vOR_counting/model_latest.pt\n",
      "\n",
      "--------------------------------------------------------\n",
      "\n",
      "learning rate: 2.5e-05\n",
      "learning rate: 0.0025\n",
      "stage 2 of the training: using criterion2\n"
     ]
    },
    {
     "data": {
      "application/vnd.jupyter.widget-view+json": {
       "model_id": "",
       "version_major": 2,
       "version_minor": 0
      },
      "text/plain": [
       "HBox(children=(IntProgress(value=0, description='train', max=277, style=ProgressStyle(description_width='initi…"
      ]
     },
     "metadata": {},
     "output_type": "display_data"
    },
    {
     "name": "stdout",
     "output_type": "stream",
     "text": [
      "validation start\n"
     ]
    },
    {
     "data": {
      "application/vnd.jupyter.widget-view+json": {
       "model_id": "",
       "version_major": 2,
       "version_minor": 0
      },
      "text/plain": [
       "HBox(children=(IntProgress(value=0, description='val', max=789, style=ProgressStyle(description_width='initial…"
      ]
     },
     "metadata": {},
     "output_type": "display_data"
    },
    {
     "name": "stdout",
     "output_type": "stream",
     "text": [
      "mrmse_nz: 1.007827, rmrmse_nz: 0.420031, mrmse: 0.447886, rmrmse: 0.187351 \n",
      "[2019-11-10 16:08:12,831] epoch: 135 | classification_loss: 0.6436\n",
      "[2019-11-10 16:08:14,139] checkpoint created at /media/James/BigData/CountSeg_output/vOR_counting/model_135.pt\n",
      "[2019-11-10 16:08:15,442] checkpoint created at /media/James/BigData/CountSeg_output/vOR_counting/model_latest.pt\n",
      "\n",
      "--------------------------------------------------------\n",
      "\n",
      "learning rate: 2.5e-05\n",
      "learning rate: 0.0025\n",
      "stage 2 of the training: using criterion2\n"
     ]
    },
    {
     "data": {
      "application/vnd.jupyter.widget-view+json": {
       "model_id": "",
       "version_major": 2,
       "version_minor": 0
      },
      "text/plain": [
       "HBox(children=(IntProgress(value=0, description='train', max=277, style=ProgressStyle(description_width='initi…"
      ]
     },
     "metadata": {},
     "output_type": "display_data"
    },
    {
     "name": "stdout",
     "output_type": "stream",
     "text": [
      "validation start\n"
     ]
    },
    {
     "data": {
      "application/vnd.jupyter.widget-view+json": {
       "model_id": "",
       "version_major": 2,
       "version_minor": 0
      },
      "text/plain": [
       "HBox(children=(IntProgress(value=0, description='val', max=789, style=ProgressStyle(description_width='initial…"
      ]
     },
     "metadata": {},
     "output_type": "display_data"
    },
    {
     "name": "stdout",
     "output_type": "stream",
     "text": [
      "mrmse_nz: 1.009444, rmrmse_nz: 0.420458, mrmse: 0.450151, rmrmse: 0.187668 \n",
      "[2019-11-10 16:10:17,926] epoch: 136 | classification_loss: 0.6439\n",
      "[2019-11-10 16:10:19,248] checkpoint created at /media/James/BigData/CountSeg_output/vOR_counting/model_136.pt\n",
      "[2019-11-10 16:10:20,549] checkpoint created at /media/James/BigData/CountSeg_output/vOR_counting/model_latest.pt\n",
      "\n",
      "--------------------------------------------------------\n",
      "\n",
      "learning rate: 2.5e-05\n",
      "learning rate: 0.0025\n",
      "stage 2 of the training: using criterion2\n"
     ]
    },
    {
     "data": {
      "application/vnd.jupyter.widget-view+json": {
       "model_id": "",
       "version_major": 2,
       "version_minor": 0
      },
      "text/plain": [
       "HBox(children=(IntProgress(value=0, description='train', max=277, style=ProgressStyle(description_width='initi…"
      ]
     },
     "metadata": {},
     "output_type": "display_data"
    },
    {
     "name": "stdout",
     "output_type": "stream",
     "text": [
      "validation start\n"
     ]
    },
    {
     "data": {
      "application/vnd.jupyter.widget-view+json": {
       "model_id": "",
       "version_major": 2,
       "version_minor": 0
      },
      "text/plain": [
       "HBox(children=(IntProgress(value=0, description='val', max=789, style=ProgressStyle(description_width='initial…"
      ]
     },
     "metadata": {},
     "output_type": "display_data"
    },
    {
     "name": "stdout",
     "output_type": "stream",
     "text": [
      "mrmse_nz: 1.012409, rmrmse_nz: 0.414099, mrmse: 0.451916, rmrmse: 0.184890 \n",
      "[2019-11-10 16:12:22,636] epoch: 137 | classification_loss: 0.6441\n",
      "[2019-11-10 16:12:23,922] checkpoint created at /media/James/BigData/CountSeg_output/vOR_counting/model_137.pt\n",
      "[2019-11-10 16:12:25,173] checkpoint created at /media/James/BigData/CountSeg_output/vOR_counting/model_latest.pt\n",
      "\n",
      "--------------------------------------------------------\n",
      "\n",
      "learning rate: 2.5e-05\n",
      "learning rate: 0.0025\n",
      "stage 2 of the training: using criterion2\n"
     ]
    },
    {
     "data": {
      "application/vnd.jupyter.widget-view+json": {
       "model_id": "",
       "version_major": 2,
       "version_minor": 0
      },
      "text/plain": [
       "HBox(children=(IntProgress(value=0, description='train', max=277, style=ProgressStyle(description_width='initi…"
      ]
     },
     "metadata": {},
     "output_type": "display_data"
    },
    {
     "name": "stdout",
     "output_type": "stream",
     "text": [
      "validation start\n"
     ]
    },
    {
     "data": {
      "application/vnd.jupyter.widget-view+json": {
       "model_id": "",
       "version_major": 2,
       "version_minor": 0
      },
      "text/plain": [
       "HBox(children=(IntProgress(value=0, description='val', max=789, style=ProgressStyle(description_width='initial…"
      ]
     },
     "metadata": {},
     "output_type": "display_data"
    },
    {
     "name": "stdout",
     "output_type": "stream",
     "text": [
      "mrmse_nz: 1.023324, rmrmse_nz: 0.427238, mrmse: 0.453099, rmrmse: 0.190155 \n",
      "[2019-11-10 16:14:26,826] epoch: 138 | classification_loss: 0.6435\n",
      "[2019-11-10 16:14:28,170] checkpoint created at /media/James/BigData/CountSeg_output/vOR_counting/model_138.pt\n",
      "[2019-11-10 16:14:29,480] checkpoint created at /media/James/BigData/CountSeg_output/vOR_counting/model_latest.pt\n",
      "\n",
      "--------------------------------------------------------\n",
      "\n",
      "learning rate: 2.5e-05\n",
      "learning rate: 0.0025\n",
      "stage 2 of the training: using criterion2\n"
     ]
    },
    {
     "data": {
      "application/vnd.jupyter.widget-view+json": {
       "model_id": "",
       "version_major": 2,
       "version_minor": 0
      },
      "text/plain": [
       "HBox(children=(IntProgress(value=0, description='train', max=277, style=ProgressStyle(description_width='initi…"
      ]
     },
     "metadata": {},
     "output_type": "display_data"
    },
    {
     "name": "stdout",
     "output_type": "stream",
     "text": [
      "validation start\n"
     ]
    },
    {
     "data": {
      "application/vnd.jupyter.widget-view+json": {
       "model_id": "",
       "version_major": 2,
       "version_minor": 0
      },
      "text/plain": [
       "HBox(children=(IntProgress(value=0, description='val', max=789, style=ProgressStyle(description_width='initial…"
      ]
     },
     "metadata": {},
     "output_type": "display_data"
    },
    {
     "name": "stdout",
     "output_type": "stream",
     "text": [
      "mrmse_nz: 0.960561, rmrmse_nz: 0.397788, mrmse: 0.428790, rmrmse: 0.177456 \n",
      "[2019-11-10 16:16:31,778] epoch: 139 | classification_loss: 0.6440\n",
      "[2019-11-10 16:16:33,021] checkpoint created at /media/James/BigData/CountSeg_output/vOR_counting/model_139.pt\n",
      "[2019-11-10 16:16:34,312] checkpoint created at /media/James/BigData/CountSeg_output/vOR_counting/model_latest.pt\n",
      "\n",
      "--------------------------------------------------------\n",
      "\n",
      "learning rate: 2.5e-05\n",
      "learning rate: 0.0025\n",
      "stage 2 of the training: using criterion2\n"
     ]
    },
    {
     "data": {
      "application/vnd.jupyter.widget-view+json": {
       "model_id": "",
       "version_major": 2,
       "version_minor": 0
      },
      "text/plain": [
       "HBox(children=(IntProgress(value=0, description='train', max=277, style=ProgressStyle(description_width='initi…"
      ]
     },
     "metadata": {},
     "output_type": "display_data"
    },
    {
     "name": "stdout",
     "output_type": "stream",
     "text": [
      "validation start\n"
     ]
    },
    {
     "data": {
      "application/vnd.jupyter.widget-view+json": {
       "model_id": "",
       "version_major": 2,
       "version_minor": 0
      },
      "text/plain": [
       "HBox(children=(IntProgress(value=0, description='val', max=789, style=ProgressStyle(description_width='initial…"
      ]
     },
     "metadata": {},
     "output_type": "display_data"
    },
    {
     "name": "stdout",
     "output_type": "stream",
     "text": [
      "mrmse_nz: 1.011124, rmrmse_nz: 0.407664, mrmse: 0.453997, rmrmse: 0.182722 \n",
      "[2019-11-10 16:18:36,983] epoch: 140 | classification_loss: 0.6437\n",
      "[2019-11-10 16:18:38,301] checkpoint created at /media/James/BigData/CountSeg_output/vOR_counting/model_140.pt\n",
      "[2019-11-10 16:18:39,563] checkpoint created at /media/James/BigData/CountSeg_output/vOR_counting/model_latest.pt\n",
      "\n",
      "--------------------------------------------------------\n",
      "\n",
      "learning rate: 2.5e-05\n",
      "learning rate: 0.0025\n",
      "stage 2 of the training: using criterion2\n"
     ]
    },
    {
     "data": {
      "application/vnd.jupyter.widget-view+json": {
       "model_id": "",
       "version_major": 2,
       "version_minor": 0
      },
      "text/plain": [
       "HBox(children=(IntProgress(value=0, description='train', max=277, style=ProgressStyle(description_width='initi…"
      ]
     },
     "metadata": {},
     "output_type": "display_data"
    },
    {
     "name": "stdout",
     "output_type": "stream",
     "text": [
      "validation start\n"
     ]
    },
    {
     "data": {
      "application/vnd.jupyter.widget-view+json": {
       "model_id": "",
       "version_major": 2,
       "version_minor": 0
      },
      "text/plain": [
       "HBox(children=(IntProgress(value=0, description='val', max=789, style=ProgressStyle(description_width='initial…"
      ]
     },
     "metadata": {},
     "output_type": "display_data"
    },
    {
     "name": "stdout",
     "output_type": "stream",
     "text": [
      "mrmse_nz: 1.020536, rmrmse_nz: 0.420607, mrmse: 0.452492, rmrmse: 0.186741 \n",
      "[2019-11-10 16:20:41,749] epoch: 141 | classification_loss: 0.6437\n",
      "[2019-11-10 16:20:43,124] checkpoint created at /media/James/BigData/CountSeg_output/vOR_counting/model_141.pt\n",
      "[2019-11-10 16:20:44,391] checkpoint created at /media/James/BigData/CountSeg_output/vOR_counting/model_latest.pt\n",
      "\n",
      "--------------------------------------------------------\n",
      "\n",
      "learning rate: 2.5e-05\n",
      "learning rate: 0.0025\n",
      "stage 2 of the training: using criterion2\n"
     ]
    },
    {
     "data": {
      "application/vnd.jupyter.widget-view+json": {
       "model_id": "",
       "version_major": 2,
       "version_minor": 0
      },
      "text/plain": [
       "HBox(children=(IntProgress(value=0, description='train', max=277, style=ProgressStyle(description_width='initi…"
      ]
     },
     "metadata": {},
     "output_type": "display_data"
    },
    {
     "name": "stdout",
     "output_type": "stream",
     "text": [
      "validation start\n"
     ]
    },
    {
     "data": {
      "application/vnd.jupyter.widget-view+json": {
       "model_id": "",
       "version_major": 2,
       "version_minor": 0
      },
      "text/plain": [
       "HBox(children=(IntProgress(value=0, description='val', max=789, style=ProgressStyle(description_width='initial…"
      ]
     },
     "metadata": {},
     "output_type": "display_data"
    },
    {
     "name": "stdout",
     "output_type": "stream",
     "text": [
      "mrmse_nz: 0.983951, rmrmse_nz: 0.404175, mrmse: 0.440341, rmrmse: 0.180607 \n",
      "[2019-11-10 16:22:46,543] epoch: 142 | classification_loss: 0.6434\n",
      "[2019-11-10 16:22:47,851] checkpoint created at /media/James/BigData/CountSeg_output/vOR_counting/model_142.pt\n",
      "[2019-11-10 16:22:49,133] checkpoint created at /media/James/BigData/CountSeg_output/vOR_counting/model_latest.pt\n",
      "\n",
      "--------------------------------------------------------\n",
      "\n",
      "learning rate: 2.5e-05\n",
      "learning rate: 0.0025\n",
      "stage 2 of the training: using criterion2\n"
     ]
    },
    {
     "data": {
      "application/vnd.jupyter.widget-view+json": {
       "model_id": "",
       "version_major": 2,
       "version_minor": 0
      },
      "text/plain": [
       "HBox(children=(IntProgress(value=0, description='train', max=277, style=ProgressStyle(description_width='initi…"
      ]
     },
     "metadata": {},
     "output_type": "display_data"
    },
    {
     "name": "stdout",
     "output_type": "stream",
     "text": [
      "validation start\n"
     ]
    },
    {
     "data": {
      "application/vnd.jupyter.widget-view+json": {
       "model_id": "",
       "version_major": 2,
       "version_minor": 0
      },
      "text/plain": [
       "HBox(children=(IntProgress(value=0, description='val', max=789, style=ProgressStyle(description_width='initial…"
      ]
     },
     "metadata": {},
     "output_type": "display_data"
    },
    {
     "name": "stdout",
     "output_type": "stream",
     "text": [
      "mrmse_nz: 0.946623, rmrmse_nz: 0.392467, mrmse: 0.424970, rmrmse: 0.176080 \n",
      "[2019-11-10 16:24:51,951] epoch: 143 | classification_loss: 0.6434\n",
      "[2019-11-10 16:24:53,223] checkpoint created at /media/James/BigData/CountSeg_output/vOR_counting/model_143.pt\n",
      "[2019-11-10 16:24:54,467] checkpoint created at /media/James/BigData/CountSeg_output/vOR_counting/model_latest.pt\n",
      "\n",
      "--------------------------------------------------------\n",
      "\n",
      "learning rate: 2.5e-05\n",
      "learning rate: 0.0025\n",
      "stage 2 of the training: using criterion2\n"
     ]
    },
    {
     "data": {
      "application/vnd.jupyter.widget-view+json": {
       "model_id": "",
       "version_major": 2,
       "version_minor": 0
      },
      "text/plain": [
       "HBox(children=(IntProgress(value=0, description='train', max=277, style=ProgressStyle(description_width='initi…"
      ]
     },
     "metadata": {},
     "output_type": "display_data"
    },
    {
     "name": "stdout",
     "output_type": "stream",
     "text": [
      "validation start\n"
     ]
    },
    {
     "data": {
      "application/vnd.jupyter.widget-view+json": {
       "model_id": "",
       "version_major": 2,
       "version_minor": 0
      },
      "text/plain": [
       "HBox(children=(IntProgress(value=0, description='val', max=789, style=ProgressStyle(description_width='initial…"
      ]
     },
     "metadata": {},
     "output_type": "display_data"
    },
    {
     "name": "stdout",
     "output_type": "stream",
     "text": [
      "mrmse_nz: 0.980936, rmrmse_nz: 0.414135, mrmse: 0.439105, rmrmse: 0.184642 \n",
      "[2019-11-10 16:26:57,564] epoch: 144 | classification_loss: 0.6438\n",
      "[2019-11-10 16:26:58,863] checkpoint created at /media/James/BigData/CountSeg_output/vOR_counting/model_144.pt\n",
      "[2019-11-10 16:27:00,172] checkpoint created at /media/James/BigData/CountSeg_output/vOR_counting/model_latest.pt\n",
      "\n",
      "--------------------------------------------------------\n",
      "\n",
      "learning rate: 2.5e-05\n",
      "learning rate: 0.0025\n",
      "stage 2 of the training: using criterion2\n"
     ]
    },
    {
     "data": {
      "application/vnd.jupyter.widget-view+json": {
       "model_id": "",
       "version_major": 2,
       "version_minor": 0
      },
      "text/plain": [
       "HBox(children=(IntProgress(value=0, description='train', max=277, style=ProgressStyle(description_width='initi…"
      ]
     },
     "metadata": {},
     "output_type": "display_data"
    },
    {
     "name": "stdout",
     "output_type": "stream",
     "text": [
      "validation start\n"
     ]
    },
    {
     "data": {
      "application/vnd.jupyter.widget-view+json": {
       "model_id": "",
       "version_major": 2,
       "version_minor": 0
      },
      "text/plain": [
       "HBox(children=(IntProgress(value=0, description='val', max=789, style=ProgressStyle(description_width='initial…"
      ]
     },
     "metadata": {},
     "output_type": "display_data"
    },
    {
     "name": "stdout",
     "output_type": "stream",
     "text": [
      "mrmse_nz: 0.947158, rmrmse_nz: 0.398517, mrmse: 0.422430, rmrmse: 0.177724 \n",
      "[2019-11-10 16:29:03,169] epoch: 145 | classification_loss: 0.6435\n",
      "[2019-11-10 16:29:04,489] checkpoint created at /media/James/BigData/CountSeg_output/vOR_counting/model_145.pt\n",
      "[2019-11-10 16:29:05,730] checkpoint created at /media/James/BigData/CountSeg_output/vOR_counting/model_latest.pt\n",
      "\n",
      "--------------------------------------------------------\n",
      "\n",
      "learning rate: 2.5e-05\n",
      "learning rate: 0.0025\n",
      "stage 2 of the training: using criterion2\n"
     ]
    },
    {
     "data": {
      "application/vnd.jupyter.widget-view+json": {
       "model_id": "",
       "version_major": 2,
       "version_minor": 0
      },
      "text/plain": [
       "HBox(children=(IntProgress(value=0, description='train', max=277, style=ProgressStyle(description_width='initi…"
      ]
     },
     "metadata": {},
     "output_type": "display_data"
    },
    {
     "name": "stdout",
     "output_type": "stream",
     "text": [
      "validation start\n"
     ]
    },
    {
     "data": {
      "application/vnd.jupyter.widget-view+json": {
       "model_id": "",
       "version_major": 2,
       "version_minor": 0
      },
      "text/plain": [
       "HBox(children=(IntProgress(value=0, description='val', max=789, style=ProgressStyle(description_width='initial…"
      ]
     },
     "metadata": {},
     "output_type": "display_data"
    },
    {
     "name": "stdout",
     "output_type": "stream",
     "text": [
      "mrmse_nz: 0.953258, rmrmse_nz: 0.395273, mrmse: 0.425106, rmrmse: 0.176381 \n",
      "[2019-11-10 16:31:07,514] epoch: 146 | classification_loss: 0.6436\n",
      "[2019-11-10 16:31:08,825] checkpoint created at /media/James/BigData/CountSeg_output/vOR_counting/model_146.pt\n",
      "[2019-11-10 16:31:10,099] checkpoint created at /media/James/BigData/CountSeg_output/vOR_counting/model_latest.pt\n",
      "\n",
      "--------------------------------------------------------\n",
      "\n",
      "learning rate: 2.5e-05\n",
      "learning rate: 0.0025\n",
      "stage 2 of the training: using criterion2\n"
     ]
    },
    {
     "data": {
      "application/vnd.jupyter.widget-view+json": {
       "model_id": "",
       "version_major": 2,
       "version_minor": 0
      },
      "text/plain": [
       "HBox(children=(IntProgress(value=0, description='train', max=277, style=ProgressStyle(description_width='initi…"
      ]
     },
     "metadata": {},
     "output_type": "display_data"
    },
    {
     "name": "stdout",
     "output_type": "stream",
     "text": [
      "validation start\n"
     ]
    },
    {
     "data": {
      "application/vnd.jupyter.widget-view+json": {
       "model_id": "",
       "version_major": 2,
       "version_minor": 0
      },
      "text/plain": [
       "HBox(children=(IntProgress(value=0, description='val', max=789, style=ProgressStyle(description_width='initial…"
      ]
     },
     "metadata": {},
     "output_type": "display_data"
    },
    {
     "name": "stdout",
     "output_type": "stream",
     "text": [
      "mrmse_nz: 0.986521, rmrmse_nz: 0.413040, mrmse: 0.439469, rmrmse: 0.184375 \n",
      "[2019-11-10 16:33:12,474] epoch: 147 | classification_loss: 0.6435\n",
      "[2019-11-10 16:33:13,746] checkpoint created at /media/James/BigData/CountSeg_output/vOR_counting/model_147.pt\n",
      "[2019-11-10 16:33:15,022] checkpoint created at /media/James/BigData/CountSeg_output/vOR_counting/model_latest.pt\n",
      "\n",
      "--------------------------------------------------------\n",
      "\n",
      "learning rate: 2.5e-05\n",
      "learning rate: 0.0025\n",
      "stage 2 of the training: using criterion2\n"
     ]
    },
    {
     "data": {
      "application/vnd.jupyter.widget-view+json": {
       "model_id": "",
       "version_major": 2,
       "version_minor": 0
      },
      "text/plain": [
       "HBox(children=(IntProgress(value=0, description='train', max=277, style=ProgressStyle(description_width='initi…"
      ]
     },
     "metadata": {},
     "output_type": "display_data"
    },
    {
     "name": "stdout",
     "output_type": "stream",
     "text": [
      "validation start\n"
     ]
    },
    {
     "data": {
      "application/vnd.jupyter.widget-view+json": {
       "model_id": "",
       "version_major": 2,
       "version_minor": 0
      },
      "text/plain": [
       "HBox(children=(IntProgress(value=0, description='val', max=789, style=ProgressStyle(description_width='initial…"
      ]
     },
     "metadata": {},
     "output_type": "display_data"
    },
    {
     "name": "stdout",
     "output_type": "stream",
     "text": [
      "mrmse_nz: 1.007524, rmrmse_nz: 0.411557, mrmse: 0.449278, rmrmse: 0.183687 \n",
      "[2019-11-10 16:35:17,618] epoch: 148 | classification_loss: 0.6436\n",
      "[2019-11-10 16:35:18,937] checkpoint created at /media/James/BigData/CountSeg_output/vOR_counting/model_148.pt\n",
      "[2019-11-10 16:35:20,249] checkpoint created at /media/James/BigData/CountSeg_output/vOR_counting/model_latest.pt\n",
      "\n",
      "--------------------------------------------------------\n",
      "\n",
      "learning rate: 2.5e-05\n",
      "learning rate: 0.0025\n",
      "stage 2 of the training: using criterion2\n"
     ]
    },
    {
     "data": {
      "application/vnd.jupyter.widget-view+json": {
       "model_id": "",
       "version_major": 2,
       "version_minor": 0
      },
      "text/plain": [
       "HBox(children=(IntProgress(value=0, description='train', max=277, style=ProgressStyle(description_width='initi…"
      ]
     },
     "metadata": {},
     "output_type": "display_data"
    },
    {
     "name": "stdout",
     "output_type": "stream",
     "text": [
      "validation start\n"
     ]
    },
    {
     "data": {
      "application/vnd.jupyter.widget-view+json": {
       "model_id": "",
       "version_major": 2,
       "version_minor": 0
      },
      "text/plain": [
       "HBox(children=(IntProgress(value=0, description='val', max=789, style=ProgressStyle(description_width='initial…"
      ]
     },
     "metadata": {},
     "output_type": "display_data"
    },
    {
     "name": "stdout",
     "output_type": "stream",
     "text": [
      "mrmse_nz: 0.972870, rmrmse_nz: 0.399914, mrmse: 0.434363, rmrmse: 0.178472 \n",
      "[2019-11-10 16:37:22,739] epoch: 149 | classification_loss: 0.6434\n",
      "[2019-11-10 16:37:24,050] checkpoint created at /media/James/BigData/CountSeg_output/vOR_counting/model_149.pt\n",
      "[2019-11-10 16:37:25,287] checkpoint created at /media/James/BigData/CountSeg_output/vOR_counting/model_latest.pt\n",
      "\n",
      "--------------------------------------------------------\n",
      "\n",
      "learning rate: 1.25e-05\n",
      "learning rate: 0.00125\n",
      "stage 2 of the training: using criterion2\n"
     ]
    },
    {
     "data": {
      "application/vnd.jupyter.widget-view+json": {
       "model_id": "",
       "version_major": 2,
       "version_minor": 0
      },
      "text/plain": [
       "HBox(children=(IntProgress(value=0, description='train', max=277, style=ProgressStyle(description_width='initi…"
      ]
     },
     "metadata": {},
     "output_type": "display_data"
    },
    {
     "name": "stdout",
     "output_type": "stream",
     "text": [
      "validation start\n"
     ]
    },
    {
     "data": {
      "application/vnd.jupyter.widget-view+json": {
       "model_id": "",
       "version_major": 2,
       "version_minor": 0
      },
      "text/plain": [
       "HBox(children=(IntProgress(value=0, description='val', max=789, style=ProgressStyle(description_width='initial…"
      ]
     },
     "metadata": {},
     "output_type": "display_data"
    },
    {
     "name": "stdout",
     "output_type": "stream",
     "text": [
      "mrmse_nz: 0.989953, rmrmse_nz: 0.401378, mrmse: 0.443910, rmrmse: 0.179782 \n",
      "[2019-11-10 16:39:28,125] epoch: 150 | classification_loss: 0.6430\n",
      "[2019-11-10 16:39:29,436] checkpoint created at /media/James/BigData/CountSeg_output/vOR_counting/model_150.pt\n",
      "[2019-11-10 16:39:30,717] checkpoint created at /media/James/BigData/CountSeg_output/vOR_counting/model_latest.pt\n",
      "\n",
      "--------------------------------------------------------\n",
      "\n",
      "learning rate: 1.25e-05\n",
      "learning rate: 0.00125\n",
      "stage 2 of the training: using criterion2\n"
     ]
    },
    {
     "data": {
      "application/vnd.jupyter.widget-view+json": {
       "model_id": "",
       "version_major": 2,
       "version_minor": 0
      },
      "text/plain": [
       "HBox(children=(IntProgress(value=0, description='train', max=277, style=ProgressStyle(description_width='initi…"
      ]
     },
     "metadata": {},
     "output_type": "display_data"
    },
    {
     "name": "stdout",
     "output_type": "stream",
     "text": [
      "validation start\n"
     ]
    },
    {
     "data": {
      "application/vnd.jupyter.widget-view+json": {
       "model_id": "",
       "version_major": 2,
       "version_minor": 0
      },
      "text/plain": [
       "HBox(children=(IntProgress(value=0, description='val', max=789, style=ProgressStyle(description_width='initial…"
      ]
     },
     "metadata": {},
     "output_type": "display_data"
    },
    {
     "name": "stdout",
     "output_type": "stream",
     "text": [
      "mrmse_nz: 1.049614, rmrmse_nz: 0.432958, mrmse: 0.466017, rmrmse: 0.192339 \n",
      "[2019-11-10 16:41:33,186] epoch: 151 | classification_loss: 0.6433\n",
      "[2019-11-10 16:41:34,454] checkpoint created at /media/James/BigData/CountSeg_output/vOR_counting/model_151.pt\n",
      "[2019-11-10 16:41:35,746] checkpoint created at /media/James/BigData/CountSeg_output/vOR_counting/model_latest.pt\n",
      "\n",
      "--------------------------------------------------------\n",
      "\n",
      "learning rate: 1.25e-05\n",
      "learning rate: 0.00125\n",
      "stage 2 of the training: using criterion2\n"
     ]
    },
    {
     "data": {
      "application/vnd.jupyter.widget-view+json": {
       "model_id": "",
       "version_major": 2,
       "version_minor": 0
      },
      "text/plain": [
       "HBox(children=(IntProgress(value=0, description='train', max=277, style=ProgressStyle(description_width='initi…"
      ]
     },
     "metadata": {},
     "output_type": "display_data"
    },
    {
     "name": "stdout",
     "output_type": "stream",
     "text": [
      "validation start\n"
     ]
    },
    {
     "data": {
      "application/vnd.jupyter.widget-view+json": {
       "model_id": "",
       "version_major": 2,
       "version_minor": 0
      },
      "text/plain": [
       "HBox(children=(IntProgress(value=0, description='val', max=789, style=ProgressStyle(description_width='initial…"
      ]
     },
     "metadata": {},
     "output_type": "display_data"
    },
    {
     "name": "stdout",
     "output_type": "stream",
     "text": [
      "mrmse_nz: 0.995480, rmrmse_nz: 0.414885, mrmse: 0.443644, rmrmse: 0.184576 \n",
      "[2019-11-10 16:43:39,241] epoch: 152 | classification_loss: 0.6435\n",
      "[2019-11-10 16:43:40,546] checkpoint created at /media/James/BigData/CountSeg_output/vOR_counting/model_152.pt\n",
      "[2019-11-10 16:43:41,827] checkpoint created at /media/James/BigData/CountSeg_output/vOR_counting/model_latest.pt\n",
      "\n",
      "--------------------------------------------------------\n",
      "\n",
      "learning rate: 1.25e-05\n",
      "learning rate: 0.00125\n",
      "stage 2 of the training: using criterion2\n"
     ]
    },
    {
     "data": {
      "application/vnd.jupyter.widget-view+json": {
       "model_id": "",
       "version_major": 2,
       "version_minor": 0
      },
      "text/plain": [
       "HBox(children=(IntProgress(value=0, description='train', max=277, style=ProgressStyle(description_width='initi…"
      ]
     },
     "metadata": {},
     "output_type": "display_data"
    },
    {
     "name": "stdout",
     "output_type": "stream",
     "text": [
      "validation start\n"
     ]
    },
    {
     "data": {
      "application/vnd.jupyter.widget-view+json": {
       "model_id": "",
       "version_major": 2,
       "version_minor": 0
      },
      "text/plain": [
       "HBox(children=(IntProgress(value=0, description='val', max=789, style=ProgressStyle(description_width='initial…"
      ]
     },
     "metadata": {},
     "output_type": "display_data"
    },
    {
     "name": "stdout",
     "output_type": "stream",
     "text": [
      "mrmse_nz: 1.019663, rmrmse_nz: 0.430864, mrmse: 0.452989, rmrmse: 0.191822 \n",
      "[2019-11-10 16:45:44,739] epoch: 153 | classification_loss: 0.6437\n",
      "[2019-11-10 16:45:46,081] checkpoint created at /media/James/BigData/CountSeg_output/vOR_counting/model_153.pt\n",
      "[2019-11-10 16:45:47,312] checkpoint created at /media/James/BigData/CountSeg_output/vOR_counting/model_latest.pt\n",
      "\n",
      "--------------------------------------------------------\n",
      "\n",
      "learning rate: 1.25e-05\n",
      "learning rate: 0.00125\n",
      "stage 2 of the training: using criterion2\n"
     ]
    },
    {
     "data": {
      "application/vnd.jupyter.widget-view+json": {
       "model_id": "",
       "version_major": 2,
       "version_minor": 0
      },
      "text/plain": [
       "HBox(children=(IntProgress(value=0, description='train', max=277, style=ProgressStyle(description_width='initi…"
      ]
     },
     "metadata": {},
     "output_type": "display_data"
    },
    {
     "name": "stdout",
     "output_type": "stream",
     "text": [
      "validation start\n"
     ]
    },
    {
     "data": {
      "application/vnd.jupyter.widget-view+json": {
       "model_id": "",
       "version_major": 2,
       "version_minor": 0
      },
      "text/plain": [
       "HBox(children=(IntProgress(value=0, description='val', max=789, style=ProgressStyle(description_width='initial…"
      ]
     },
     "metadata": {},
     "output_type": "display_data"
    },
    {
     "name": "stdout",
     "output_type": "stream",
     "text": [
      "mrmse_nz: 0.966832, rmrmse_nz: 0.408337, mrmse: 0.430560, rmrmse: 0.181762 \n",
      "[2019-11-10 16:47:50,610] epoch: 154 | classification_loss: 0.6433\n",
      "[2019-11-10 16:47:51,946] checkpoint created at /media/James/BigData/CountSeg_output/vOR_counting/model_154.pt\n",
      "[2019-11-10 16:47:53,225] checkpoint created at /media/James/BigData/CountSeg_output/vOR_counting/model_latest.pt\n",
      "\n",
      "--------------------------------------------------------\n",
      "\n",
      "learning rate: 1.25e-05\n",
      "learning rate: 0.00125\n",
      "stage 2 of the training: using criterion2\n"
     ]
    },
    {
     "data": {
      "application/vnd.jupyter.widget-view+json": {
       "model_id": "",
       "version_major": 2,
       "version_minor": 0
      },
      "text/plain": [
       "HBox(children=(IntProgress(value=0, description='train', max=277, style=ProgressStyle(description_width='initi…"
      ]
     },
     "metadata": {},
     "output_type": "display_data"
    },
    {
     "name": "stdout",
     "output_type": "stream",
     "text": [
      "validation start\n"
     ]
    },
    {
     "data": {
      "application/vnd.jupyter.widget-view+json": {
       "model_id": "",
       "version_major": 2,
       "version_minor": 0
      },
      "text/plain": [
       "HBox(children=(IntProgress(value=0, description='val', max=789, style=ProgressStyle(description_width='initial…"
      ]
     },
     "metadata": {},
     "output_type": "display_data"
    },
    {
     "name": "stdout",
     "output_type": "stream",
     "text": [
      "mrmse_nz: 1.017436, rmrmse_nz: 0.412855, mrmse: 0.454416, rmrmse: 0.184363 \n",
      "[2019-11-10 16:49:56,508] epoch: 155 | classification_loss: 0.6431\n",
      "[2019-11-10 16:49:57,802] checkpoint created at /media/James/BigData/CountSeg_output/vOR_counting/model_155.pt\n",
      "[2019-11-10 16:49:59,101] checkpoint created at /media/James/BigData/CountSeg_output/vOR_counting/model_latest.pt\n",
      "\n",
      "--------------------------------------------------------\n",
      "\n",
      "learning rate: 1.25e-05\n",
      "learning rate: 0.00125\n",
      "stage 2 of the training: using criterion2\n"
     ]
    },
    {
     "data": {
      "application/vnd.jupyter.widget-view+json": {
       "model_id": "",
       "version_major": 2,
       "version_minor": 0
      },
      "text/plain": [
       "HBox(children=(IntProgress(value=0, description='train', max=277, style=ProgressStyle(description_width='initi…"
      ]
     },
     "metadata": {},
     "output_type": "display_data"
    },
    {
     "name": "stdout",
     "output_type": "stream",
     "text": [
      "validation start\n"
     ]
    },
    {
     "data": {
      "application/vnd.jupyter.widget-view+json": {
       "model_id": "",
       "version_major": 2,
       "version_minor": 0
      },
      "text/plain": [
       "HBox(children=(IntProgress(value=0, description='val', max=789, style=ProgressStyle(description_width='initial…"
      ]
     },
     "metadata": {},
     "output_type": "display_data"
    },
    {
     "name": "stdout",
     "output_type": "stream",
     "text": [
      "mrmse_nz: 0.953386, rmrmse_nz: 0.394247, mrmse: 0.426479, rmrmse: 0.176269 \n",
      "[2019-11-10 16:52:01,857] epoch: 156 | classification_loss: 0.6435\n",
      "[2019-11-10 16:52:03,188] checkpoint created at /media/James/BigData/CountSeg_output/vOR_counting/model_156.pt\n",
      "[2019-11-10 16:52:04,477] checkpoint created at /media/James/BigData/CountSeg_output/vOR_counting/model_latest.pt\n",
      "\n",
      "--------------------------------------------------------\n",
      "\n",
      "learning rate: 1.25e-05\n",
      "learning rate: 0.00125\n",
      "stage 2 of the training: using criterion2\n"
     ]
    },
    {
     "data": {
      "application/vnd.jupyter.widget-view+json": {
       "model_id": "",
       "version_major": 2,
       "version_minor": 0
      },
      "text/plain": [
       "HBox(children=(IntProgress(value=0, description='train', max=277, style=ProgressStyle(description_width='initi…"
      ]
     },
     "metadata": {},
     "output_type": "display_data"
    },
    {
     "name": "stdout",
     "output_type": "stream",
     "text": [
      "validation start\n"
     ]
    },
    {
     "data": {
      "application/vnd.jupyter.widget-view+json": {
       "model_id": "",
       "version_major": 2,
       "version_minor": 0
      },
      "text/plain": [
       "HBox(children=(IntProgress(value=0, description='val', max=789, style=ProgressStyle(description_width='initial…"
      ]
     },
     "metadata": {},
     "output_type": "display_data"
    },
    {
     "name": "stdout",
     "output_type": "stream",
     "text": [
      "mrmse_nz: 1.034518, rmrmse_nz: 0.421803, mrmse: 0.461650, rmrmse: 0.187965 \n",
      "[2019-11-10 16:54:07,418] epoch: 157 | classification_loss: 0.6430\n",
      "[2019-11-10 16:54:08,748] checkpoint created at /media/James/BigData/CountSeg_output/vOR_counting/model_157.pt\n",
      "[2019-11-10 16:54:10,006] checkpoint created at /media/James/BigData/CountSeg_output/vOR_counting/model_latest.pt\n",
      "\n",
      "--------------------------------------------------------\n",
      "\n",
      "learning rate: 1.25e-05\n",
      "learning rate: 0.00125\n",
      "stage 2 of the training: using criterion2\n"
     ]
    },
    {
     "data": {
      "application/vnd.jupyter.widget-view+json": {
       "model_id": "",
       "version_major": 2,
       "version_minor": 0
      },
      "text/plain": [
       "HBox(children=(IntProgress(value=0, description='train', max=277, style=ProgressStyle(description_width='initi…"
      ]
     },
     "metadata": {},
     "output_type": "display_data"
    },
    {
     "name": "stdout",
     "output_type": "stream",
     "text": [
      "validation start\n"
     ]
    },
    {
     "data": {
      "application/vnd.jupyter.widget-view+json": {
       "model_id": "",
       "version_major": 2,
       "version_minor": 0
      },
      "text/plain": [
       "HBox(children=(IntProgress(value=0, description='val', max=789, style=ProgressStyle(description_width='initial…"
      ]
     },
     "metadata": {},
     "output_type": "display_data"
    },
    {
     "name": "stdout",
     "output_type": "stream",
     "text": [
      "mrmse_nz: 0.988761, rmrmse_nz: 0.410892, mrmse: 0.439528, rmrmse: 0.183157 \n",
      "[2019-11-10 16:56:12,273] epoch: 158 | classification_loss: 0.6433\n",
      "[2019-11-10 16:56:13,542] checkpoint created at /media/James/BigData/CountSeg_output/vOR_counting/model_158.pt\n",
      "[2019-11-10 16:56:14,834] checkpoint created at /media/James/BigData/CountSeg_output/vOR_counting/model_latest.pt\n",
      "\n",
      "--------------------------------------------------------\n",
      "\n",
      "learning rate: 1.25e-05\n",
      "learning rate: 0.00125\n",
      "stage 2 of the training: using criterion2\n"
     ]
    },
    {
     "data": {
      "application/vnd.jupyter.widget-view+json": {
       "model_id": "",
       "version_major": 2,
       "version_minor": 0
      },
      "text/plain": [
       "HBox(children=(IntProgress(value=0, description='train', max=277, style=ProgressStyle(description_width='initi…"
      ]
     },
     "metadata": {},
     "output_type": "display_data"
    },
    {
     "name": "stdout",
     "output_type": "stream",
     "text": [
      "validation start\n"
     ]
    },
    {
     "data": {
      "application/vnd.jupyter.widget-view+json": {
       "model_id": "",
       "version_major": 2,
       "version_minor": 0
      },
      "text/plain": [
       "HBox(children=(IntProgress(value=0, description='val', max=789, style=ProgressStyle(description_width='initial…"
      ]
     },
     "metadata": {},
     "output_type": "display_data"
    },
    {
     "name": "stdout",
     "output_type": "stream",
     "text": [
      "mrmse_nz: 1.035278, rmrmse_nz: 0.429138, mrmse: 0.462827, rmrmse: 0.191186 \n",
      "[2019-11-10 16:58:16,757] epoch: 159 | classification_loss: 0.6432\n",
      "[2019-11-10 16:58:17,992] checkpoint created at /media/James/BigData/CountSeg_output/vOR_counting/model_159.pt\n",
      "[2019-11-10 16:58:19,258] checkpoint created at /media/James/BigData/CountSeg_output/vOR_counting/model_latest.pt\n",
      "\n",
      "--------------------------------------------------------\n",
      "\n",
      "learning rate: 1.25e-05\n",
      "learning rate: 0.00125\n",
      "stage 2 of the training: using criterion2\n"
     ]
    },
    {
     "data": {
      "application/vnd.jupyter.widget-view+json": {
       "model_id": "",
       "version_major": 2,
       "version_minor": 0
      },
      "text/plain": [
       "HBox(children=(IntProgress(value=0, description='train', max=277, style=ProgressStyle(description_width='initi…"
      ]
     },
     "metadata": {},
     "output_type": "display_data"
    },
    {
     "name": "stdout",
     "output_type": "stream",
     "text": [
      "validation start\n"
     ]
    },
    {
     "data": {
      "application/vnd.jupyter.widget-view+json": {
       "model_id": "",
       "version_major": 2,
       "version_minor": 0
      },
      "text/plain": [
       "HBox(children=(IntProgress(value=0, description='val', max=789, style=ProgressStyle(description_width='initial…"
      ]
     },
     "metadata": {},
     "output_type": "display_data"
    },
    {
     "name": "stdout",
     "output_type": "stream",
     "text": [
      "mrmse_nz: 0.989432, rmrmse_nz: 0.413342, mrmse: 0.439799, rmrmse: 0.183842 \n",
      "[2019-11-10 17:00:21,605] epoch: 160 | classification_loss: 0.6429\n",
      "[2019-11-10 17:00:22,899] checkpoint created at /media/James/BigData/CountSeg_output/vOR_counting/model_160.pt\n",
      "[2019-11-10 17:00:24,147] checkpoint created at /media/James/BigData/CountSeg_output/vOR_counting/model_latest.pt\n",
      "\n",
      "--------------------------------------------------------\n",
      "\n",
      "learning rate: 1.25e-05\n",
      "learning rate: 0.00125\n",
      "stage 2 of the training: using criterion2\n"
     ]
    },
    {
     "data": {
      "application/vnd.jupyter.widget-view+json": {
       "model_id": "",
       "version_major": 2,
       "version_minor": 0
      },
      "text/plain": [
       "HBox(children=(IntProgress(value=0, description='train', max=277, style=ProgressStyle(description_width='initi…"
      ]
     },
     "metadata": {},
     "output_type": "display_data"
    },
    {
     "name": "stdout",
     "output_type": "stream",
     "text": [
      "validation start\n"
     ]
    },
    {
     "data": {
      "application/vnd.jupyter.widget-view+json": {
       "model_id": "",
       "version_major": 2,
       "version_minor": 0
      },
      "text/plain": [
       "HBox(children=(IntProgress(value=0, description='val', max=789, style=ProgressStyle(description_width='initial…"
      ]
     },
     "metadata": {},
     "output_type": "display_data"
    },
    {
     "name": "stdout",
     "output_type": "stream",
     "text": [
      "mrmse_nz: 0.977378, rmrmse_nz: 0.407882, mrmse: 0.434602, rmrmse: 0.181751 \n",
      "[2019-11-10 17:02:26,484] epoch: 161 | classification_loss: 0.6433\n",
      "[2019-11-10 17:02:27,823] checkpoint created at /media/James/BigData/CountSeg_output/vOR_counting/model_161.pt\n",
      "[2019-11-10 17:02:29,100] checkpoint created at /media/James/BigData/CountSeg_output/vOR_counting/model_latest.pt\n",
      "\n",
      "--------------------------------------------------------\n",
      "\n",
      "learning rate: 1.25e-05\n",
      "learning rate: 0.00125\n",
      "stage 2 of the training: using criterion2\n"
     ]
    },
    {
     "data": {
      "application/vnd.jupyter.widget-view+json": {
       "model_id": "",
       "version_major": 2,
       "version_minor": 0
      },
      "text/plain": [
       "HBox(children=(IntProgress(value=0, description='train', max=277, style=ProgressStyle(description_width='initi…"
      ]
     },
     "metadata": {},
     "output_type": "display_data"
    },
    {
     "name": "stdout",
     "output_type": "stream",
     "text": [
      "validation start\n"
     ]
    },
    {
     "data": {
      "application/vnd.jupyter.widget-view+json": {
       "model_id": "",
       "version_major": 2,
       "version_minor": 0
      },
      "text/plain": [
       "HBox(children=(IntProgress(value=0, description='val', max=789, style=ProgressStyle(description_width='initial…"
      ]
     },
     "metadata": {},
     "output_type": "display_data"
    },
    {
     "name": "stdout",
     "output_type": "stream",
     "text": [
      "mrmse_nz: 0.982503, rmrmse_nz: 0.405540, mrmse: 0.440420, rmrmse: 0.181354 \n",
      "[2019-11-10 17:04:31,458] epoch: 162 | classification_loss: 0.6433\n",
      "[2019-11-10 17:04:32,797] checkpoint created at /media/James/BigData/CountSeg_output/vOR_counting/model_162.pt\n",
      "[2019-11-10 17:04:34,061] checkpoint created at /media/James/BigData/CountSeg_output/vOR_counting/model_latest.pt\n",
      "\n",
      "--------------------------------------------------------\n",
      "\n",
      "learning rate: 1.25e-05\n",
      "learning rate: 0.00125\n",
      "stage 2 of the training: using criterion2\n"
     ]
    },
    {
     "data": {
      "application/vnd.jupyter.widget-view+json": {
       "model_id": "",
       "version_major": 2,
       "version_minor": 0
      },
      "text/plain": [
       "HBox(children=(IntProgress(value=0, description='train', max=277, style=ProgressStyle(description_width='initi…"
      ]
     },
     "metadata": {},
     "output_type": "display_data"
    },
    {
     "name": "stdout",
     "output_type": "stream",
     "text": [
      "validation start\n"
     ]
    },
    {
     "data": {
      "application/vnd.jupyter.widget-view+json": {
       "model_id": "",
       "version_major": 2,
       "version_minor": 0
      },
      "text/plain": [
       "HBox(children=(IntProgress(value=0, description='val', max=789, style=ProgressStyle(description_width='initial…"
      ]
     },
     "metadata": {},
     "output_type": "display_data"
    },
    {
     "name": "stdout",
     "output_type": "stream",
     "text": [
      "mrmse_nz: 0.976134, rmrmse_nz: 0.405146, mrmse: 0.434891, rmrmse: 0.180457 \n",
      "[2019-11-10 17:06:36,995] epoch: 163 | classification_loss: 0.6433\n",
      "[2019-11-10 17:06:38,256] checkpoint created at /media/James/BigData/CountSeg_output/vOR_counting/model_163.pt\n",
      "[2019-11-10 17:06:39,492] checkpoint created at /media/James/BigData/CountSeg_output/vOR_counting/model_latest.pt\n",
      "\n",
      "--------------------------------------------------------\n",
      "\n",
      "learning rate: 1.25e-05\n",
      "learning rate: 0.00125\n",
      "stage 2 of the training: using criterion2\n"
     ]
    },
    {
     "data": {
      "application/vnd.jupyter.widget-view+json": {
       "model_id": "",
       "version_major": 2,
       "version_minor": 0
      },
      "text/plain": [
       "HBox(children=(IntProgress(value=0, description='train', max=277, style=ProgressStyle(description_width='initi…"
      ]
     },
     "metadata": {},
     "output_type": "display_data"
    },
    {
     "name": "stdout",
     "output_type": "stream",
     "text": [
      "validation start\n"
     ]
    },
    {
     "data": {
      "application/vnd.jupyter.widget-view+json": {
       "model_id": "",
       "version_major": 2,
       "version_minor": 0
      },
      "text/plain": [
       "HBox(children=(IntProgress(value=0, description='val', max=789, style=ProgressStyle(description_width='initial…"
      ]
     },
     "metadata": {},
     "output_type": "display_data"
    },
    {
     "name": "stdout",
     "output_type": "stream",
     "text": [
      "mrmse_nz: 0.921952, rmrmse_nz: 0.386489, mrmse: 0.414145, rmrmse: 0.173224 \n",
      "[2019-11-10 17:08:42,716] epoch: 164 | classification_loss: 0.6435\n",
      "[2019-11-10 17:08:44,090] checkpoint created at /media/James/BigData/CountSeg_output/vOR_counting/model_164.pt\n",
      "[2019-11-10 17:08:45,415] checkpoint created at /media/James/BigData/CountSeg_output/vOR_counting/model_latest.pt\n",
      "\n",
      "--------------------------------------------------------\n",
      "\n",
      "learning rate: 1.25e-05\n",
      "learning rate: 0.00125\n",
      "stage 2 of the training: using criterion2\n"
     ]
    },
    {
     "data": {
      "application/vnd.jupyter.widget-view+json": {
       "model_id": "",
       "version_major": 2,
       "version_minor": 0
      },
      "text/plain": [
       "HBox(children=(IntProgress(value=0, description='train', max=277, style=ProgressStyle(description_width='initi…"
      ]
     },
     "metadata": {},
     "output_type": "display_data"
    },
    {
     "name": "stdout",
     "output_type": "stream",
     "text": [
      "validation start\n"
     ]
    },
    {
     "data": {
      "application/vnd.jupyter.widget-view+json": {
       "model_id": "",
       "version_major": 2,
       "version_minor": 0
      },
      "text/plain": [
       "HBox(children=(IntProgress(value=0, description='val', max=789, style=ProgressStyle(description_width='initial…"
      ]
     },
     "metadata": {},
     "output_type": "display_data"
    },
    {
     "name": "stdout",
     "output_type": "stream",
     "text": [
      "mrmse_nz: 0.942423, rmrmse_nz: 0.400073, mrmse: 0.421562, rmrmse: 0.178989 \n",
      "[2019-11-10 17:10:48,427] epoch: 165 | classification_loss: 0.6435\n",
      "[2019-11-10 17:10:49,758] checkpoint created at /media/James/BigData/CountSeg_output/vOR_counting/model_165.pt\n",
      "[2019-11-10 17:10:51,059] checkpoint created at /media/James/BigData/CountSeg_output/vOR_counting/model_latest.pt\n",
      "\n",
      "--------------------------------------------------------\n",
      "\n",
      "learning rate: 1.25e-05\n",
      "learning rate: 0.00125\n",
      "stage 2 of the training: using criterion2\n"
     ]
    },
    {
     "data": {
      "application/vnd.jupyter.widget-view+json": {
       "model_id": "",
       "version_major": 2,
       "version_minor": 0
      },
      "text/plain": [
       "HBox(children=(IntProgress(value=0, description='train', max=277, style=ProgressStyle(description_width='initi…"
      ]
     },
     "metadata": {},
     "output_type": "display_data"
    },
    {
     "name": "stdout",
     "output_type": "stream",
     "text": [
      "validation start\n"
     ]
    },
    {
     "data": {
      "application/vnd.jupyter.widget-view+json": {
       "model_id": "",
       "version_major": 2,
       "version_minor": 0
      },
      "text/plain": [
       "HBox(children=(IntProgress(value=0, description='val', max=789, style=ProgressStyle(description_width='initial…"
      ]
     },
     "metadata": {},
     "output_type": "display_data"
    },
    {
     "name": "stdout",
     "output_type": "stream",
     "text": [
      "mrmse_nz: 0.959129, rmrmse_nz: 0.397333, mrmse: 0.430010, rmrmse: 0.177615 \n",
      "[2019-11-10 17:12:53,871] epoch: 166 | classification_loss: 0.6434\n",
      "[2019-11-10 17:12:55,192] checkpoint created at /media/James/BigData/CountSeg_output/vOR_counting/model_166.pt\n",
      "[2019-11-10 17:12:56,467] checkpoint created at /media/James/BigData/CountSeg_output/vOR_counting/model_latest.pt\n",
      "\n",
      "--------------------------------------------------------\n",
      "\n",
      "learning rate: 1.25e-05\n",
      "learning rate: 0.00125\n",
      "stage 2 of the training: using criterion2\n"
     ]
    },
    {
     "data": {
      "application/vnd.jupyter.widget-view+json": {
       "model_id": "",
       "version_major": 2,
       "version_minor": 0
      },
      "text/plain": [
       "HBox(children=(IntProgress(value=0, description='train', max=277, style=ProgressStyle(description_width='initi…"
      ]
     },
     "metadata": {},
     "output_type": "display_data"
    },
    {
     "name": "stdout",
     "output_type": "stream",
     "text": [
      "validation start\n"
     ]
    },
    {
     "data": {
      "application/vnd.jupyter.widget-view+json": {
       "model_id": "",
       "version_major": 2,
       "version_minor": 0
      },
      "text/plain": [
       "HBox(children=(IntProgress(value=0, description='val', max=789, style=ProgressStyle(description_width='initial…"
      ]
     },
     "metadata": {},
     "output_type": "display_data"
    },
    {
     "name": "stdout",
     "output_type": "stream",
     "text": [
      "mrmse_nz: 0.996596, rmrmse_nz: 0.412040, mrmse: 0.443234, rmrmse: 0.183446 \n",
      "[2019-11-10 17:14:59,613] epoch: 167 | classification_loss: 0.6431\n",
      "[2019-11-10 17:15:00,916] checkpoint created at /media/James/BigData/CountSeg_output/vOR_counting/model_167.pt\n",
      "[2019-11-10 17:15:02,198] checkpoint created at /media/James/BigData/CountSeg_output/vOR_counting/model_latest.pt\n",
      "\n",
      "--------------------------------------------------------\n",
      "\n",
      "learning rate: 1.25e-05\n",
      "learning rate: 0.00125\n",
      "stage 2 of the training: using criterion2\n"
     ]
    },
    {
     "data": {
      "application/vnd.jupyter.widget-view+json": {
       "model_id": "",
       "version_major": 2,
       "version_minor": 0
      },
      "text/plain": [
       "HBox(children=(IntProgress(value=0, description='train', max=277, style=ProgressStyle(description_width='initi…"
      ]
     },
     "metadata": {},
     "output_type": "display_data"
    },
    {
     "name": "stdout",
     "output_type": "stream",
     "text": [
      "validation start\n"
     ]
    },
    {
     "data": {
      "application/vnd.jupyter.widget-view+json": {
       "model_id": "",
       "version_major": 2,
       "version_minor": 0
      },
      "text/plain": [
       "HBox(children=(IntProgress(value=0, description='val', max=789, style=ProgressStyle(description_width='initial…"
      ]
     },
     "metadata": {},
     "output_type": "display_data"
    },
    {
     "name": "stdout",
     "output_type": "stream",
     "text": [
      "mrmse_nz: 1.011016, rmrmse_nz: 0.422969, mrmse: 0.451738, rmrmse: 0.188453 \n",
      "[2019-11-10 17:17:04,502] epoch: 168 | classification_loss: 0.6430\n",
      "[2019-11-10 17:17:05,865] checkpoint created at /media/James/BigData/CountSeg_output/vOR_counting/model_168.pt\n",
      "[2019-11-10 17:17:07,150] checkpoint created at /media/James/BigData/CountSeg_output/vOR_counting/model_latest.pt\n",
      "\n",
      "--------------------------------------------------------\n",
      "\n",
      "learning rate: 1.25e-05\n",
      "learning rate: 0.00125\n",
      "stage 2 of the training: using criterion2\n"
     ]
    },
    {
     "data": {
      "application/vnd.jupyter.widget-view+json": {
       "model_id": "",
       "version_major": 2,
       "version_minor": 0
      },
      "text/plain": [
       "HBox(children=(IntProgress(value=0, description='train', max=277, style=ProgressStyle(description_width='initi…"
      ]
     },
     "metadata": {},
     "output_type": "display_data"
    },
    {
     "name": "stdout",
     "output_type": "stream",
     "text": [
      "validation start\n"
     ]
    },
    {
     "data": {
      "application/vnd.jupyter.widget-view+json": {
       "model_id": "",
       "version_major": 2,
       "version_minor": 0
      },
      "text/plain": [
       "HBox(children=(IntProgress(value=0, description='val', max=789, style=ProgressStyle(description_width='initial…"
      ]
     },
     "metadata": {},
     "output_type": "display_data"
    },
    {
     "name": "stdout",
     "output_type": "stream",
     "text": [
      "mrmse_nz: 0.965726, rmrmse_nz: 0.401219, mrmse: 0.433253, rmrmse: 0.179972 \n",
      "[2019-11-10 17:19:09,683] epoch: 169 | classification_loss: 0.6432\n",
      "[2019-11-10 17:19:11,034] checkpoint created at /media/James/BigData/CountSeg_output/vOR_counting/model_169.pt\n",
      "[2019-11-10 17:19:12,283] checkpoint created at /media/James/BigData/CountSeg_output/vOR_counting/model_latest.pt\n",
      "\n",
      "--------------------------------------------------------\n",
      "\n",
      "learning rate: 1.25e-05\n",
      "learning rate: 0.00125\n",
      "stage 2 of the training: using criterion2\n"
     ]
    },
    {
     "data": {
      "application/vnd.jupyter.widget-view+json": {
       "model_id": "",
       "version_major": 2,
       "version_minor": 0
      },
      "text/plain": [
       "HBox(children=(IntProgress(value=0, description='train', max=277, style=ProgressStyle(description_width='initi…"
      ]
     },
     "metadata": {},
     "output_type": "display_data"
    },
    {
     "name": "stdout",
     "output_type": "stream",
     "text": [
      "validation start\n"
     ]
    },
    {
     "data": {
      "application/vnd.jupyter.widget-view+json": {
       "model_id": "",
       "version_major": 2,
       "version_minor": 0
      },
      "text/plain": [
       "HBox(children=(IntProgress(value=0, description='val', max=789, style=ProgressStyle(description_width='initial…"
      ]
     },
     "metadata": {},
     "output_type": "display_data"
    },
    {
     "name": "stdout",
     "output_type": "stream",
     "text": [
      "mrmse_nz: 0.973839, rmrmse_nz: 0.406961, mrmse: 0.434817, rmrmse: 0.181471 \n",
      "[2019-11-10 17:21:15,499] epoch: 170 | classification_loss: 0.6429\n",
      "[2019-11-10 17:21:16,819] checkpoint created at /media/James/BigData/CountSeg_output/vOR_counting/model_170.pt\n",
      "[2019-11-10 17:21:18,085] checkpoint created at /media/James/BigData/CountSeg_output/vOR_counting/model_latest.pt\n",
      "\n",
      "--------------------------------------------------------\n",
      "\n",
      "learning rate: 1.25e-05\n",
      "learning rate: 0.00125\n",
      "stage 2 of the training: using criterion2\n"
     ]
    },
    {
     "data": {
      "application/vnd.jupyter.widget-view+json": {
       "model_id": "",
       "version_major": 2,
       "version_minor": 0
      },
      "text/plain": [
       "HBox(children=(IntProgress(value=0, description='train', max=277, style=ProgressStyle(description_width='initi…"
      ]
     },
     "metadata": {},
     "output_type": "display_data"
    },
    {
     "name": "stdout",
     "output_type": "stream",
     "text": [
      "validation start\n"
     ]
    },
    {
     "data": {
      "application/vnd.jupyter.widget-view+json": {
       "model_id": "",
       "version_major": 2,
       "version_minor": 0
      },
      "text/plain": [
       "HBox(children=(IntProgress(value=0, description='val', max=789, style=ProgressStyle(description_width='initial…"
      ]
     },
     "metadata": {},
     "output_type": "display_data"
    },
    {
     "name": "stdout",
     "output_type": "stream",
     "text": [
      "mrmse_nz: 1.003483, rmrmse_nz: 0.421134, mrmse: 0.447387, rmrmse: 0.188564 \n",
      "[2019-11-10 17:23:20,643] epoch: 171 | classification_loss: 0.6435\n",
      "[2019-11-10 17:23:21,978] checkpoint created at /media/James/BigData/CountSeg_output/vOR_counting/model_171.pt\n",
      "[2019-11-10 17:23:23,258] checkpoint created at /media/James/BigData/CountSeg_output/vOR_counting/model_latest.pt\n",
      "\n",
      "--------------------------------------------------------\n",
      "\n",
      "learning rate: 1.25e-05\n",
      "learning rate: 0.00125\n",
      "stage 2 of the training: using criterion2\n"
     ]
    },
    {
     "data": {
      "application/vnd.jupyter.widget-view+json": {
       "model_id": "",
       "version_major": 2,
       "version_minor": 0
      },
      "text/plain": [
       "HBox(children=(IntProgress(value=0, description='train', max=277, style=ProgressStyle(description_width='initi…"
      ]
     },
     "metadata": {},
     "output_type": "display_data"
    },
    {
     "name": "stdout",
     "output_type": "stream",
     "text": [
      "validation start\n"
     ]
    },
    {
     "data": {
      "application/vnd.jupyter.widget-view+json": {
       "model_id": "",
       "version_major": 2,
       "version_minor": 0
      },
      "text/plain": [
       "HBox(children=(IntProgress(value=0, description='val', max=789, style=ProgressStyle(description_width='initial…"
      ]
     },
     "metadata": {},
     "output_type": "display_data"
    },
    {
     "name": "stdout",
     "output_type": "stream",
     "text": [
      "mrmse_nz: 0.944420, rmrmse_nz: 0.392962, mrmse: 0.423533, rmrmse: 0.176099 \n",
      "[2019-11-10 17:25:26,451] epoch: 172 | classification_loss: 0.6431\n",
      "[2019-11-10 17:25:27,811] checkpoint created at /media/James/BigData/CountSeg_output/vOR_counting/model_172.pt\n",
      "[2019-11-10 17:25:29,084] checkpoint created at /media/James/BigData/CountSeg_output/vOR_counting/model_latest.pt\n",
      "\n",
      "--------------------------------------------------------\n",
      "\n",
      "learning rate: 1.25e-05\n",
      "learning rate: 0.00125\n",
      "stage 2 of the training: using criterion2\n"
     ]
    },
    {
     "data": {
      "application/vnd.jupyter.widget-view+json": {
       "model_id": "",
       "version_major": 2,
       "version_minor": 0
      },
      "text/plain": [
       "HBox(children=(IntProgress(value=0, description='train', max=277, style=ProgressStyle(description_width='initi…"
      ]
     },
     "metadata": {},
     "output_type": "display_data"
    },
    {
     "name": "stdout",
     "output_type": "stream",
     "text": [
      "validation start\n"
     ]
    },
    {
     "data": {
      "application/vnd.jupyter.widget-view+json": {
       "model_id": "",
       "version_major": 2,
       "version_minor": 0
      },
      "text/plain": [
       "HBox(children=(IntProgress(value=0, description='val', max=789, style=ProgressStyle(description_width='initial…"
      ]
     },
     "metadata": {},
     "output_type": "display_data"
    },
    {
     "name": "stdout",
     "output_type": "stream",
     "text": [
      "mrmse_nz: 0.956198, rmrmse_nz: 0.396759, mrmse: 0.430856, rmrmse: 0.177991 \n",
      "[2019-11-10 17:27:31,354] epoch: 173 | classification_loss: 0.6432\n",
      "[2019-11-10 17:27:32,660] checkpoint created at /media/James/BigData/CountSeg_output/vOR_counting/model_173.pt\n",
      "[2019-11-10 17:27:33,904] checkpoint created at /media/James/BigData/CountSeg_output/vOR_counting/model_latest.pt\n",
      "\n",
      "--------------------------------------------------------\n",
      "\n",
      "learning rate: 1.25e-05\n",
      "learning rate: 0.00125\n",
      "stage 2 of the training: using criterion2\n"
     ]
    },
    {
     "data": {
      "application/vnd.jupyter.widget-view+json": {
       "model_id": "",
       "version_major": 2,
       "version_minor": 0
      },
      "text/plain": [
       "HBox(children=(IntProgress(value=0, description='train', max=277, style=ProgressStyle(description_width='initi…"
      ]
     },
     "metadata": {},
     "output_type": "display_data"
    },
    {
     "name": "stdout",
     "output_type": "stream",
     "text": [
      "validation start\n"
     ]
    },
    {
     "data": {
      "application/vnd.jupyter.widget-view+json": {
       "model_id": "",
       "version_major": 2,
       "version_minor": 0
      },
      "text/plain": [
       "HBox(children=(IntProgress(value=0, description='val', max=789, style=ProgressStyle(description_width='initial…"
      ]
     },
     "metadata": {},
     "output_type": "display_data"
    },
    {
     "name": "stdout",
     "output_type": "stream",
     "text": [
      "mrmse_nz: 1.018679, rmrmse_nz: 0.423850, mrmse: 0.456502, rmrmse: 0.189131 \n",
      "[2019-11-10 17:29:36,839] epoch: 174 | classification_loss: 0.6434\n",
      "[2019-11-10 17:29:38,199] checkpoint created at /media/James/BigData/CountSeg_output/vOR_counting/model_174.pt\n",
      "[2019-11-10 17:29:39,468] checkpoint created at /media/James/BigData/CountSeg_output/vOR_counting/model_latest.pt\n",
      "\n",
      "--------------------------------------------------------\n",
      "\n",
      "learning rate: 1.25e-05\n",
      "learning rate: 0.00125\n",
      "stage 2 of the training: using criterion2\n"
     ]
    },
    {
     "data": {
      "application/vnd.jupyter.widget-view+json": {
       "model_id": "",
       "version_major": 2,
       "version_minor": 0
      },
      "text/plain": [
       "HBox(children=(IntProgress(value=0, description='train', max=277, style=ProgressStyle(description_width='initi…"
      ]
     },
     "metadata": {},
     "output_type": "display_data"
    },
    {
     "name": "stdout",
     "output_type": "stream",
     "text": [
      "validation start\n"
     ]
    },
    {
     "data": {
      "application/vnd.jupyter.widget-view+json": {
       "model_id": "",
       "version_major": 2,
       "version_minor": 0
      },
      "text/plain": [
       "HBox(children=(IntProgress(value=0, description='val', max=789, style=ProgressStyle(description_width='initial…"
      ]
     },
     "metadata": {},
     "output_type": "display_data"
    },
    {
     "name": "stdout",
     "output_type": "stream",
     "text": [
      "mrmse_nz: 0.964708, rmrmse_nz: 0.395229, mrmse: 0.433051, rmrmse: 0.177281 \n",
      "[2019-11-10 17:31:41,953] epoch: 175 | classification_loss: 0.6433\n",
      "[2019-11-10 17:31:43,216] checkpoint created at /media/James/BigData/CountSeg_output/vOR_counting/model_175.pt\n",
      "[2019-11-10 17:31:44,492] checkpoint created at /media/James/BigData/CountSeg_output/vOR_counting/model_latest.pt\n",
      "\n",
      "--------------------------------------------------------\n",
      "\n",
      "learning rate: 1.25e-05\n",
      "learning rate: 0.00125\n",
      "stage 2 of the training: using criterion2\n"
     ]
    },
    {
     "data": {
      "application/vnd.jupyter.widget-view+json": {
       "model_id": "",
       "version_major": 2,
       "version_minor": 0
      },
      "text/plain": [
       "HBox(children=(IntProgress(value=0, description='train', max=277, style=ProgressStyle(description_width='initi…"
      ]
     },
     "metadata": {},
     "output_type": "display_data"
    },
    {
     "name": "stdout",
     "output_type": "stream",
     "text": [
      "validation start\n"
     ]
    },
    {
     "data": {
      "application/vnd.jupyter.widget-view+json": {
       "model_id": "",
       "version_major": 2,
       "version_minor": 0
      },
      "text/plain": [
       "HBox(children=(IntProgress(value=0, description='val', max=789, style=ProgressStyle(description_width='initial…"
      ]
     },
     "metadata": {},
     "output_type": "display_data"
    },
    {
     "name": "stdout",
     "output_type": "stream",
     "text": [
      "mrmse_nz: 0.974660, rmrmse_nz: 0.403517, mrmse: 0.436658, rmrmse: 0.180642 \n",
      "[2019-11-10 17:33:45,931] epoch: 176 | classification_loss: 0.6434\n",
      "[2019-11-10 17:33:47,210] checkpoint created at /media/James/BigData/CountSeg_output/vOR_counting/model_176.pt\n",
      "[2019-11-10 17:33:48,481] checkpoint created at /media/James/BigData/CountSeg_output/vOR_counting/model_latest.pt\n",
      "\n",
      "--------------------------------------------------------\n",
      "\n",
      "learning rate: 1.25e-05\n",
      "learning rate: 0.00125\n",
      "stage 2 of the training: using criterion2\n"
     ]
    },
    {
     "data": {
      "application/vnd.jupyter.widget-view+json": {
       "model_id": "",
       "version_major": 2,
       "version_minor": 0
      },
      "text/plain": [
       "HBox(children=(IntProgress(value=0, description='train', max=277, style=ProgressStyle(description_width='initi…"
      ]
     },
     "metadata": {},
     "output_type": "display_data"
    },
    {
     "name": "stdout",
     "output_type": "stream",
     "text": [
      "validation start\n"
     ]
    },
    {
     "data": {
      "application/vnd.jupyter.widget-view+json": {
       "model_id": "",
       "version_major": 2,
       "version_minor": 0
      },
      "text/plain": [
       "HBox(children=(IntProgress(value=0, description='val', max=789, style=ProgressStyle(description_width='initial…"
      ]
     },
     "metadata": {},
     "output_type": "display_data"
    },
    {
     "name": "stdout",
     "output_type": "stream",
     "text": [
      "mrmse_nz: 0.992127, rmrmse_nz: 0.411293, mrmse: 0.444903, rmrmse: 0.183889 \n",
      "[2019-11-10 17:35:50,818] epoch: 177 | classification_loss: 0.6431\n",
      "[2019-11-10 17:35:52,145] checkpoint created at /media/James/BigData/CountSeg_output/vOR_counting/model_177.pt\n",
      "[2019-11-10 17:35:53,422] checkpoint created at /media/James/BigData/CountSeg_output/vOR_counting/model_latest.pt\n",
      "\n",
      "--------------------------------------------------------\n",
      "\n",
      "learning rate: 1.25e-05\n",
      "learning rate: 0.00125\n",
      "stage 2 of the training: using criterion2\n"
     ]
    },
    {
     "data": {
      "application/vnd.jupyter.widget-view+json": {
       "model_id": "",
       "version_major": 2,
       "version_minor": 0
      },
      "text/plain": [
       "HBox(children=(IntProgress(value=0, description='train', max=277, style=ProgressStyle(description_width='initi…"
      ]
     },
     "metadata": {},
     "output_type": "display_data"
    },
    {
     "name": "stdout",
     "output_type": "stream",
     "text": [
      "validation start\n"
     ]
    },
    {
     "data": {
      "application/vnd.jupyter.widget-view+json": {
       "model_id": "",
       "version_major": 2,
       "version_minor": 0
      },
      "text/plain": [
       "HBox(children=(IntProgress(value=0, description='val', max=789, style=ProgressStyle(description_width='initial…"
      ]
     },
     "metadata": {},
     "output_type": "display_data"
    },
    {
     "name": "stdout",
     "output_type": "stream",
     "text": [
      "mrmse_nz: 0.989636, rmrmse_nz: 0.407696, mrmse: 0.441261, rmrmse: 0.181980 \n",
      "[2019-11-10 17:37:55,442] epoch: 178 | classification_loss: 0.6432\n",
      "[2019-11-10 17:37:56,798] checkpoint created at /media/James/BigData/CountSeg_output/vOR_counting/model_178.pt\n",
      "[2019-11-10 17:37:58,087] checkpoint created at /media/James/BigData/CountSeg_output/vOR_counting/model_latest.pt\n",
      "\n",
      "--------------------------------------------------------\n",
      "\n",
      "learning rate: 1.25e-05\n",
      "learning rate: 0.00125\n",
      "stage 2 of the training: using criterion2\n"
     ]
    },
    {
     "data": {
      "application/vnd.jupyter.widget-view+json": {
       "model_id": "",
       "version_major": 2,
       "version_minor": 0
      },
      "text/plain": [
       "HBox(children=(IntProgress(value=0, description='train', max=277, style=ProgressStyle(description_width='initi…"
      ]
     },
     "metadata": {},
     "output_type": "display_data"
    },
    {
     "name": "stdout",
     "output_type": "stream",
     "text": [
      "validation start\n"
     ]
    },
    {
     "data": {
      "application/vnd.jupyter.widget-view+json": {
       "model_id": "",
       "version_major": 2,
       "version_minor": 0
      },
      "text/plain": [
       "HBox(children=(IntProgress(value=0, description='val', max=789, style=ProgressStyle(description_width='initial…"
      ]
     },
     "metadata": {},
     "output_type": "display_data"
    },
    {
     "name": "stdout",
     "output_type": "stream",
     "text": [
      "mrmse_nz: 0.972454, rmrmse_nz: 0.396300, mrmse: 0.435379, rmrmse: 0.177309 \n",
      "[2019-11-10 17:40:00,282] epoch: 179 | classification_loss: 0.6433\n",
      "[2019-11-10 17:40:01,544] checkpoint created at /media/James/BigData/CountSeg_output/vOR_counting/model_179.pt\n",
      "[2019-11-10 17:40:02,814] checkpoint created at /media/James/BigData/CountSeg_output/vOR_counting/model_latest.pt\n",
      "\n",
      "--------------------------------------------------------\n",
      "\n",
      "learning rate: 1.25e-05\n",
      "learning rate: 0.00125\n",
      "stage 2 of the training: using criterion2\n"
     ]
    },
    {
     "data": {
      "application/vnd.jupyter.widget-view+json": {
       "model_id": "",
       "version_major": 2,
       "version_minor": 0
      },
      "text/plain": [
       "HBox(children=(IntProgress(value=0, description='train', max=277, style=ProgressStyle(description_width='initi…"
      ]
     },
     "metadata": {},
     "output_type": "display_data"
    },
    {
     "name": "stdout",
     "output_type": "stream",
     "text": [
      "validation start\n"
     ]
    },
    {
     "data": {
      "application/vnd.jupyter.widget-view+json": {
       "model_id": "",
       "version_major": 2,
       "version_minor": 0
      },
      "text/plain": [
       "HBox(children=(IntProgress(value=0, description='val', max=789, style=ProgressStyle(description_width='initial…"
      ]
     },
     "metadata": {},
     "output_type": "display_data"
    },
    {
     "name": "stdout",
     "output_type": "stream",
     "text": [
      "mrmse_nz: 0.960053, rmrmse_nz: 0.399932, mrmse: 0.428553, rmrmse: 0.178612 \n",
      "[2019-11-10 17:42:04,675] epoch: 180 | classification_loss: 0.6443\n",
      "[2019-11-10 17:42:06,032] checkpoint created at /media/James/BigData/CountSeg_output/vOR_counting/model_180.pt\n",
      "[2019-11-10 17:42:07,301] checkpoint created at /media/James/BigData/CountSeg_output/vOR_counting/model_latest.pt\n",
      "\n",
      "--------------------------------------------------------\n",
      "\n",
      "learning rate: 1.25e-05\n",
      "learning rate: 0.00125\n",
      "stage 2 of the training: using criterion2\n"
     ]
    },
    {
     "data": {
      "application/vnd.jupyter.widget-view+json": {
       "model_id": "",
       "version_major": 2,
       "version_minor": 0
      },
      "text/plain": [
       "HBox(children=(IntProgress(value=0, description='train', max=277, style=ProgressStyle(description_width='initi…"
      ]
     },
     "metadata": {},
     "output_type": "display_data"
    },
    {
     "name": "stdout",
     "output_type": "stream",
     "text": [
      "validation start\n"
     ]
    },
    {
     "data": {
      "application/vnd.jupyter.widget-view+json": {
       "model_id": "",
       "version_major": 2,
       "version_minor": 0
      },
      "text/plain": [
       "HBox(children=(IntProgress(value=0, description='val', max=789, style=ProgressStyle(description_width='initial…"
      ]
     },
     "metadata": {},
     "output_type": "display_data"
    },
    {
     "name": "stdout",
     "output_type": "stream",
     "text": [
      "mrmse_nz: 1.001795, rmrmse_nz: 0.418320, mrmse: 0.446107, rmrmse: 0.186044 \n",
      "[2019-11-10 17:44:09,339] epoch: 181 | classification_loss: 0.6434\n",
      "[2019-11-10 17:44:10,674] checkpoint created at /media/James/BigData/CountSeg_output/vOR_counting/model_181.pt\n",
      "[2019-11-10 17:44:11,979] checkpoint created at /media/James/BigData/CountSeg_output/vOR_counting/model_latest.pt\n",
      "\n",
      "--------------------------------------------------------\n",
      "\n",
      "learning rate: 1.25e-05\n",
      "learning rate: 0.00125\n",
      "stage 2 of the training: using criterion2\n"
     ]
    },
    {
     "data": {
      "application/vnd.jupyter.widget-view+json": {
       "model_id": "",
       "version_major": 2,
       "version_minor": 0
      },
      "text/plain": [
       "HBox(children=(IntProgress(value=0, description='train', max=277, style=ProgressStyle(description_width='initi…"
      ]
     },
     "metadata": {},
     "output_type": "display_data"
    },
    {
     "name": "stdout",
     "output_type": "stream",
     "text": [
      "validation start\n"
     ]
    },
    {
     "data": {
      "application/vnd.jupyter.widget-view+json": {
       "model_id": "",
       "version_major": 2,
       "version_minor": 0
      },
      "text/plain": [
       "HBox(children=(IntProgress(value=0, description='val', max=789, style=ProgressStyle(description_width='initial…"
      ]
     },
     "metadata": {},
     "output_type": "display_data"
    },
    {
     "name": "stdout",
     "output_type": "stream",
     "text": [
      "mrmse_nz: 0.983989, rmrmse_nz: 0.400832, mrmse: 0.441251, rmrmse: 0.179627 \n",
      "[2019-11-10 17:46:13,727] epoch: 182 | classification_loss: 0.6429\n",
      "[2019-11-10 17:46:15,069] checkpoint created at /media/James/BigData/CountSeg_output/vOR_counting/model_182.pt\n",
      "[2019-11-10 17:46:16,331] checkpoint created at /media/James/BigData/CountSeg_output/vOR_counting/model_latest.pt\n",
      "\n",
      "--------------------------------------------------------\n",
      "\n",
      "learning rate: 1.25e-05\n",
      "learning rate: 0.00125\n",
      "stage 2 of the training: using criterion2\n"
     ]
    },
    {
     "data": {
      "application/vnd.jupyter.widget-view+json": {
       "model_id": "",
       "version_major": 2,
       "version_minor": 0
      },
      "text/plain": [
       "HBox(children=(IntProgress(value=0, description='train', max=277, style=ProgressStyle(description_width='initi…"
      ]
     },
     "metadata": {},
     "output_type": "display_data"
    },
    {
     "name": "stdout",
     "output_type": "stream",
     "text": [
      "validation start\n"
     ]
    },
    {
     "data": {
      "application/vnd.jupyter.widget-view+json": {
       "model_id": "",
       "version_major": 2,
       "version_minor": 0
      },
      "text/plain": [
       "HBox(children=(IntProgress(value=0, description='val', max=789, style=ProgressStyle(description_width='initial…"
      ]
     },
     "metadata": {},
     "output_type": "display_data"
    },
    {
     "name": "stdout",
     "output_type": "stream",
     "text": [
      "mrmse_nz: 0.953986, rmrmse_nz: 0.399357, mrmse: 0.423778, rmrmse: 0.178081 \n",
      "[2019-11-10 17:48:18,669] epoch: 183 | classification_loss: 0.6435\n",
      "[2019-11-10 17:48:19,965] checkpoint created at /media/James/BigData/CountSeg_output/vOR_counting/model_183.pt\n",
      "[2019-11-10 17:48:21,244] checkpoint created at /media/James/BigData/CountSeg_output/vOR_counting/model_latest.pt\n",
      "\n",
      "--------------------------------------------------------\n",
      "\n",
      "learning rate: 1.25e-05\n",
      "learning rate: 0.00125\n",
      "stage 2 of the training: using criterion2\n"
     ]
    },
    {
     "data": {
      "application/vnd.jupyter.widget-view+json": {
       "model_id": "",
       "version_major": 2,
       "version_minor": 0
      },
      "text/plain": [
       "HBox(children=(IntProgress(value=0, description='train', max=277, style=ProgressStyle(description_width='initi…"
      ]
     },
     "metadata": {},
     "output_type": "display_data"
    },
    {
     "name": "stdout",
     "output_type": "stream",
     "text": [
      "validation start\n"
     ]
    },
    {
     "data": {
      "application/vnd.jupyter.widget-view+json": {
       "model_id": "",
       "version_major": 2,
       "version_minor": 0
      },
      "text/plain": [
       "HBox(children=(IntProgress(value=0, description='val', max=789, style=ProgressStyle(description_width='initial…"
      ]
     },
     "metadata": {},
     "output_type": "display_data"
    },
    {
     "name": "stdout",
     "output_type": "stream",
     "text": [
      "mrmse_nz: 0.985570, rmrmse_nz: 0.412571, mrmse: 0.437189, rmrmse: 0.183426 \n",
      "[2019-11-10 17:50:24,286] epoch: 184 | classification_loss: 0.6434\n",
      "[2019-11-10 17:50:25,623] checkpoint created at /media/James/BigData/CountSeg_output/vOR_counting/model_184.pt\n",
      "[2019-11-10 17:50:26,844] checkpoint created at /media/James/BigData/CountSeg_output/vOR_counting/model_latest.pt\n",
      "\n",
      "--------------------------------------------------------\n",
      "\n",
      "learning rate: 1.25e-05\n",
      "learning rate: 0.00125\n",
      "stage 2 of the training: using criterion2\n"
     ]
    },
    {
     "data": {
      "application/vnd.jupyter.widget-view+json": {
       "model_id": "",
       "version_major": 2,
       "version_minor": 0
      },
      "text/plain": [
       "HBox(children=(IntProgress(value=0, description='train', max=277, style=ProgressStyle(description_width='initi…"
      ]
     },
     "metadata": {},
     "output_type": "display_data"
    },
    {
     "name": "stdout",
     "output_type": "stream",
     "text": [
      "validation start\n"
     ]
    },
    {
     "data": {
      "application/vnd.jupyter.widget-view+json": {
       "model_id": "",
       "version_major": 2,
       "version_minor": 0
      },
      "text/plain": [
       "HBox(children=(IntProgress(value=0, description='val', max=789, style=ProgressStyle(description_width='initial…"
      ]
     },
     "metadata": {},
     "output_type": "display_data"
    },
    {
     "name": "stdout",
     "output_type": "stream",
     "text": [
      "mrmse_nz: 0.993740, rmrmse_nz: 0.405951, mrmse: 0.445195, rmrmse: 0.181712 \n",
      "[2019-11-10 17:52:30,287] epoch: 185 | classification_loss: 0.6431\n",
      "[2019-11-10 17:52:31,612] checkpoint created at /media/James/BigData/CountSeg_output/vOR_counting/model_185.pt\n",
      "[2019-11-10 17:52:32,878] checkpoint created at /media/James/BigData/CountSeg_output/vOR_counting/model_latest.pt\n",
      "\n",
      "--------------------------------------------------------\n",
      "\n",
      "learning rate: 1.25e-05\n",
      "learning rate: 0.00125\n",
      "stage 2 of the training: using criterion2\n"
     ]
    },
    {
     "data": {
      "application/vnd.jupyter.widget-view+json": {
       "model_id": "",
       "version_major": 2,
       "version_minor": 0
      },
      "text/plain": [
       "HBox(children=(IntProgress(value=0, description='train', max=277, style=ProgressStyle(description_width='initi…"
      ]
     },
     "metadata": {},
     "output_type": "display_data"
    },
    {
     "name": "stdout",
     "output_type": "stream",
     "text": [
      "validation start\n"
     ]
    },
    {
     "data": {
      "application/vnd.jupyter.widget-view+json": {
       "model_id": "",
       "version_major": 2,
       "version_minor": 0
      },
      "text/plain": [
       "HBox(children=(IntProgress(value=0, description='val', max=789, style=ProgressStyle(description_width='initial…"
      ]
     },
     "metadata": {},
     "output_type": "display_data"
    },
    {
     "name": "stdout",
     "output_type": "stream",
     "text": [
      "mrmse_nz: 1.005160, rmrmse_nz: 0.421979, mrmse: 0.446117, rmrmse: 0.188026 \n",
      "[2019-11-10 17:54:35,044] epoch: 186 | classification_loss: 0.6433\n",
      "[2019-11-10 17:54:36,367] checkpoint created at /media/James/BigData/CountSeg_output/vOR_counting/model_186.pt\n",
      "[2019-11-10 17:54:37,618] checkpoint created at /media/James/BigData/CountSeg_output/vOR_counting/model_latest.pt\n",
      "\n",
      "--------------------------------------------------------\n",
      "\n",
      "learning rate: 1.25e-05\n",
      "learning rate: 0.00125\n",
      "stage 2 of the training: using criterion2\n"
     ]
    },
    {
     "data": {
      "application/vnd.jupyter.widget-view+json": {
       "model_id": "",
       "version_major": 2,
       "version_minor": 0
      },
      "text/plain": [
       "HBox(children=(IntProgress(value=0, description='train', max=277, style=ProgressStyle(description_width='initi…"
      ]
     },
     "metadata": {},
     "output_type": "display_data"
    },
    {
     "name": "stdout",
     "output_type": "stream",
     "text": [
      "validation start\n"
     ]
    },
    {
     "data": {
      "application/vnd.jupyter.widget-view+json": {
       "model_id": "",
       "version_major": 2,
       "version_minor": 0
      },
      "text/plain": [
       "HBox(children=(IntProgress(value=0, description='val', max=789, style=ProgressStyle(description_width='initial…"
      ]
     },
     "metadata": {},
     "output_type": "display_data"
    },
    {
     "name": "stdout",
     "output_type": "stream",
     "text": [
      "mrmse_nz: 0.987464, rmrmse_nz: 0.411770, mrmse: 0.442127, rmrmse: 0.184138 \n",
      "[2019-11-10 17:56:39,397] epoch: 187 | classification_loss: 0.6429\n",
      "[2019-11-10 17:56:40,748] checkpoint created at /media/James/BigData/CountSeg_output/vOR_counting/model_187.pt\n",
      "[2019-11-10 17:56:41,998] checkpoint created at /media/James/BigData/CountSeg_output/vOR_counting/model_latest.pt\n",
      "\n",
      "--------------------------------------------------------\n",
      "\n",
      "learning rate: 1.25e-05\n",
      "learning rate: 0.00125\n",
      "stage 2 of the training: using criterion2\n"
     ]
    },
    {
     "data": {
      "application/vnd.jupyter.widget-view+json": {
       "model_id": "",
       "version_major": 2,
       "version_minor": 0
      },
      "text/plain": [
       "HBox(children=(IntProgress(value=0, description='train', max=277, style=ProgressStyle(description_width='initi…"
      ]
     },
     "metadata": {},
     "output_type": "display_data"
    },
    {
     "name": "stdout",
     "output_type": "stream",
     "text": [
      "validation start\n"
     ]
    },
    {
     "data": {
      "application/vnd.jupyter.widget-view+json": {
       "model_id": "",
       "version_major": 2,
       "version_minor": 0
      },
      "text/plain": [
       "HBox(children=(IntProgress(value=0, description='val', max=789, style=ProgressStyle(description_width='initial…"
      ]
     },
     "metadata": {},
     "output_type": "display_data"
    },
    {
     "name": "stdout",
     "output_type": "stream",
     "text": [
      "mrmse_nz: 0.976871, rmrmse_nz: 0.399566, mrmse: 0.436009, rmrmse: 0.178537 \n",
      "[2019-11-10 17:58:44,819] epoch: 188 | classification_loss: 0.6430\n",
      "[2019-11-10 17:58:46,184] checkpoint created at /media/James/BigData/CountSeg_output/vOR_counting/model_188.pt\n",
      "[2019-11-10 17:58:47,483] checkpoint created at /media/James/BigData/CountSeg_output/vOR_counting/model_latest.pt\n",
      "\n",
      "--------------------------------------------------------\n",
      "\n",
      "learning rate: 1.25e-05\n",
      "learning rate: 0.00125\n",
      "stage 2 of the training: using criterion2\n"
     ]
    },
    {
     "data": {
      "application/vnd.jupyter.widget-view+json": {
       "model_id": "",
       "version_major": 2,
       "version_minor": 0
      },
      "text/plain": [
       "HBox(children=(IntProgress(value=0, description='train', max=277, style=ProgressStyle(description_width='initi…"
      ]
     },
     "metadata": {},
     "output_type": "display_data"
    },
    {
     "name": "stdout",
     "output_type": "stream",
     "text": [
      "validation start\n"
     ]
    },
    {
     "data": {
      "application/vnd.jupyter.widget-view+json": {
       "model_id": "",
       "version_major": 2,
       "version_minor": 0
      },
      "text/plain": [
       "HBox(children=(IntProgress(value=0, description='val', max=789, style=ProgressStyle(description_width='initial…"
      ]
     },
     "metadata": {},
     "output_type": "display_data"
    },
    {
     "name": "stdout",
     "output_type": "stream",
     "text": [
      "mrmse_nz: 0.977677, rmrmse_nz: 0.414710, mrmse: 0.434619, rmrmse: 0.184720 \n",
      "[2019-11-10 18:00:49,308] epoch: 189 | classification_loss: 0.6432\n",
      "[2019-11-10 18:00:50,713] checkpoint created at /media/James/BigData/CountSeg_output/vOR_counting/model_189.pt\n",
      "[2019-11-10 18:00:51,987] checkpoint created at /media/James/BigData/CountSeg_output/vOR_counting/model_latest.pt\n",
      "\n",
      "--------------------------------------------------------\n",
      "\n",
      "learning rate: 1.25e-05\n",
      "learning rate: 0.00125\n",
      "stage 2 of the training: using criterion2\n"
     ]
    },
    {
     "data": {
      "application/vnd.jupyter.widget-view+json": {
       "model_id": "",
       "version_major": 2,
       "version_minor": 0
      },
      "text/plain": [
       "HBox(children=(IntProgress(value=0, description='train', max=277, style=ProgressStyle(description_width='initi…"
      ]
     },
     "metadata": {},
     "output_type": "display_data"
    },
    {
     "name": "stdout",
     "output_type": "stream",
     "text": [
      "validation start\n"
     ]
    },
    {
     "data": {
      "application/vnd.jupyter.widget-view+json": {
       "model_id": "",
       "version_major": 2,
       "version_minor": 0
      },
      "text/plain": [
       "HBox(children=(IntProgress(value=0, description='val', max=789, style=ProgressStyle(description_width='initial…"
      ]
     },
     "metadata": {},
     "output_type": "display_data"
    },
    {
     "name": "stdout",
     "output_type": "stream",
     "text": [
      "mrmse_nz: 0.938736, rmrmse_nz: 0.389036, mrmse: 0.421359, rmrmse: 0.174223 \n",
      "[2019-11-10 18:02:53,953] epoch: 190 | classification_loss: 0.6430\n",
      "[2019-11-10 18:02:55,303] checkpoint created at /media/James/BigData/CountSeg_output/vOR_counting/model_190.pt\n",
      "[2019-11-10 18:02:56,604] checkpoint created at /media/James/BigData/CountSeg_output/vOR_counting/model_latest.pt\n",
      "\n",
      "--------------------------------------------------------\n",
      "\n",
      "learning rate: 1.25e-05\n",
      "learning rate: 0.00125\n",
      "stage 2 of the training: using criterion2\n"
     ]
    },
    {
     "data": {
      "application/vnd.jupyter.widget-view+json": {
       "model_id": "",
       "version_major": 2,
       "version_minor": 0
      },
      "text/plain": [
       "HBox(children=(IntProgress(value=0, description='train', max=277, style=ProgressStyle(description_width='initi…"
      ]
     },
     "metadata": {},
     "output_type": "display_data"
    },
    {
     "name": "stdout",
     "output_type": "stream",
     "text": [
      "validation start\n"
     ]
    },
    {
     "data": {
      "application/vnd.jupyter.widget-view+json": {
       "model_id": "",
       "version_major": 2,
       "version_minor": 0
      },
      "text/plain": [
       "HBox(children=(IntProgress(value=0, description='val', max=789, style=ProgressStyle(description_width='initial…"
      ]
     },
     "metadata": {},
     "output_type": "display_data"
    },
    {
     "name": "stdout",
     "output_type": "stream",
     "text": [
      "mrmse_nz: 0.964270, rmrmse_nz: 0.394104, mrmse: 0.430467, rmrmse: 0.176031 \n",
      "[2019-11-10 18:04:59,065] epoch: 191 | classification_loss: 0.6430\n",
      "[2019-11-10 18:05:00,368] checkpoint created at /media/James/BigData/CountSeg_output/vOR_counting/model_191.pt\n",
      "[2019-11-10 18:05:01,676] checkpoint created at /media/James/BigData/CountSeg_output/vOR_counting/model_latest.pt\n",
      "\n",
      "--------------------------------------------------------\n",
      "\n",
      "learning rate: 1.25e-05\n",
      "learning rate: 0.00125\n",
      "stage 2 of the training: using criterion2\n"
     ]
    },
    {
     "data": {
      "application/vnd.jupyter.widget-view+json": {
       "model_id": "",
       "version_major": 2,
       "version_minor": 0
      },
      "text/plain": [
       "HBox(children=(IntProgress(value=0, description='train', max=277, style=ProgressStyle(description_width='initi…"
      ]
     },
     "metadata": {},
     "output_type": "display_data"
    },
    {
     "name": "stdout",
     "output_type": "stream",
     "text": [
      "validation start\n"
     ]
    },
    {
     "data": {
      "application/vnd.jupyter.widget-view+json": {
       "model_id": "",
       "version_major": 2,
       "version_minor": 0
      },
      "text/plain": [
       "HBox(children=(IntProgress(value=0, description='val', max=789, style=ProgressStyle(description_width='initial…"
      ]
     },
     "metadata": {},
     "output_type": "display_data"
    },
    {
     "name": "stdout",
     "output_type": "stream",
     "text": [
      "mrmse_nz: 0.987538, rmrmse_nz: 0.419745, mrmse: 0.439025, rmrmse: 0.186589 \n",
      "[2019-11-10 18:07:04,585] epoch: 192 | classification_loss: 0.6433\n",
      "[2019-11-10 18:07:05,948] checkpoint created at /media/James/BigData/CountSeg_output/vOR_counting/model_192.pt\n",
      "[2019-11-10 18:07:07,186] checkpoint created at /media/James/BigData/CountSeg_output/vOR_counting/model_latest.pt\n",
      "\n",
      "--------------------------------------------------------\n",
      "\n",
      "learning rate: 1.25e-05\n",
      "learning rate: 0.00125\n",
      "stage 2 of the training: using criterion2\n"
     ]
    },
    {
     "data": {
      "application/vnd.jupyter.widget-view+json": {
       "model_id": "",
       "version_major": 2,
       "version_minor": 0
      },
      "text/plain": [
       "HBox(children=(IntProgress(value=0, description='train', max=277, style=ProgressStyle(description_width='initi…"
      ]
     },
     "metadata": {},
     "output_type": "display_data"
    },
    {
     "name": "stdout",
     "output_type": "stream",
     "text": [
      "validation start\n"
     ]
    },
    {
     "data": {
      "application/vnd.jupyter.widget-view+json": {
       "model_id": "",
       "version_major": 2,
       "version_minor": 0
      },
      "text/plain": [
       "HBox(children=(IntProgress(value=0, description='val', max=789, style=ProgressStyle(description_width='initial…"
      ]
     },
     "metadata": {},
     "output_type": "display_data"
    },
    {
     "name": "stdout",
     "output_type": "stream",
     "text": [
      "mrmse_nz: 0.947255, rmrmse_nz: 0.399393, mrmse: 0.422555, rmrmse: 0.178207 \n",
      "[2019-11-10 18:09:08,683] epoch: 193 | classification_loss: 0.6433\n",
      "[2019-11-10 18:09:10,021] checkpoint created at /media/James/BigData/CountSeg_output/vOR_counting/model_193.pt\n",
      "[2019-11-10 18:09:11,320] checkpoint created at /media/James/BigData/CountSeg_output/vOR_counting/model_latest.pt\n",
      "\n",
      "--------------------------------------------------------\n",
      "\n",
      "learning rate: 1.25e-05\n",
      "learning rate: 0.00125\n",
      "stage 2 of the training: using criterion2\n"
     ]
    },
    {
     "data": {
      "application/vnd.jupyter.widget-view+json": {
       "model_id": "",
       "version_major": 2,
       "version_minor": 0
      },
      "text/plain": [
       "HBox(children=(IntProgress(value=0, description='train', max=277, style=ProgressStyle(description_width='initi…"
      ]
     },
     "metadata": {},
     "output_type": "display_data"
    },
    {
     "name": "stdout",
     "output_type": "stream",
     "text": [
      "validation start\n"
     ]
    },
    {
     "data": {
      "application/vnd.jupyter.widget-view+json": {
       "model_id": "",
       "version_major": 2,
       "version_minor": 0
      },
      "text/plain": [
       "HBox(children=(IntProgress(value=0, description='val', max=789, style=ProgressStyle(description_width='initial…"
      ]
     },
     "metadata": {},
     "output_type": "display_data"
    },
    {
     "name": "stdout",
     "output_type": "stream",
     "text": [
      "mrmse_nz: 0.988003, rmrmse_nz: 0.412203, mrmse: 0.439470, rmrmse: 0.183495 \n",
      "[2019-11-10 18:11:13,867] epoch: 194 | classification_loss: 0.6432\n",
      "[2019-11-10 18:11:15,161] checkpoint created at /media/James/BigData/CountSeg_output/vOR_counting/model_194.pt\n",
      "[2019-11-10 18:11:16,446] checkpoint created at /media/James/BigData/CountSeg_output/vOR_counting/model_latest.pt\n",
      "\n",
      "--------------------------------------------------------\n",
      "\n",
      "learning rate: 1.25e-05\n",
      "learning rate: 0.00125\n",
      "stage 2 of the training: using criterion2\n"
     ]
    },
    {
     "data": {
      "application/vnd.jupyter.widget-view+json": {
       "model_id": "",
       "version_major": 2,
       "version_minor": 0
      },
      "text/plain": [
       "HBox(children=(IntProgress(value=0, description='train', max=277, style=ProgressStyle(description_width='initi…"
      ]
     },
     "metadata": {},
     "output_type": "display_data"
    },
    {
     "name": "stdout",
     "output_type": "stream",
     "text": [
      "validation start\n"
     ]
    },
    {
     "data": {
      "application/vnd.jupyter.widget-view+json": {
       "model_id": "",
       "version_major": 2,
       "version_minor": 0
      },
      "text/plain": [
       "HBox(children=(IntProgress(value=0, description='val', max=789, style=ProgressStyle(description_width='initial…"
      ]
     },
     "metadata": {},
     "output_type": "display_data"
    },
    {
     "name": "stdout",
     "output_type": "stream",
     "text": [
      "mrmse_nz: 0.925976, rmrmse_nz: 0.389131, mrmse: 0.414849, rmrmse: 0.173967 \n",
      "[2019-11-10 18:13:18,909] epoch: 195 | classification_loss: 0.6431\n",
      "[2019-11-10 18:13:20,210] checkpoint created at /media/James/BigData/CountSeg_output/vOR_counting/model_195.pt\n",
      "[2019-11-10 18:13:21,483] checkpoint created at /media/James/BigData/CountSeg_output/vOR_counting/model_latest.pt\n",
      "\n",
      "--------------------------------------------------------\n",
      "\n",
      "learning rate: 1.25e-05\n",
      "learning rate: 0.00125\n",
      "stage 2 of the training: using criterion2\n"
     ]
    },
    {
     "data": {
      "application/vnd.jupyter.widget-view+json": {
       "model_id": "",
       "version_major": 2,
       "version_minor": 0
      },
      "text/plain": [
       "HBox(children=(IntProgress(value=0, description='train', max=277, style=ProgressStyle(description_width='initi…"
      ]
     },
     "metadata": {},
     "output_type": "display_data"
    },
    {
     "name": "stdout",
     "output_type": "stream",
     "text": [
      "validation start\n"
     ]
    },
    {
     "data": {
      "application/vnd.jupyter.widget-view+json": {
       "model_id": "",
       "version_major": 2,
       "version_minor": 0
      },
      "text/plain": [
       "HBox(children=(IntProgress(value=0, description='val', max=789, style=ProgressStyle(description_width='initial…"
      ]
     },
     "metadata": {},
     "output_type": "display_data"
    },
    {
     "name": "stdout",
     "output_type": "stream",
     "text": [
      "mrmse_nz: 1.003432, rmrmse_nz: 0.410399, mrmse: 0.447959, rmrmse: 0.183485 \n",
      "[2019-11-10 18:15:24,675] epoch: 196 | classification_loss: 0.6429\n",
      "[2019-11-10 18:15:26,047] checkpoint created at /media/James/BigData/CountSeg_output/vOR_counting/model_196.pt\n",
      "[2019-11-10 18:15:27,312] checkpoint created at /media/James/BigData/CountSeg_output/vOR_counting/model_latest.pt\n",
      "\n",
      "--------------------------------------------------------\n",
      "\n",
      "learning rate: 1.25e-05\n",
      "learning rate: 0.00125\n",
      "stage 2 of the training: using criterion2\n"
     ]
    },
    {
     "data": {
      "application/vnd.jupyter.widget-view+json": {
       "model_id": "",
       "version_major": 2,
       "version_minor": 0
      },
      "text/plain": [
       "HBox(children=(IntProgress(value=0, description='train', max=277, style=ProgressStyle(description_width='initi…"
      ]
     },
     "metadata": {},
     "output_type": "display_data"
    },
    {
     "name": "stdout",
     "output_type": "stream",
     "text": [
      "validation start\n"
     ]
    },
    {
     "data": {
      "application/vnd.jupyter.widget-view+json": {
       "model_id": "",
       "version_major": 2,
       "version_minor": 0
      },
      "text/plain": [
       "HBox(children=(IntProgress(value=0, description='val', max=789, style=ProgressStyle(description_width='initial…"
      ]
     },
     "metadata": {},
     "output_type": "display_data"
    },
    {
     "name": "stdout",
     "output_type": "stream",
     "text": [
      "mrmse_nz: 0.994637, rmrmse_nz: 0.420285, mrmse: 0.443309, rmrmse: 0.188111 \n",
      "[2019-11-10 18:17:29,685] epoch: 197 | classification_loss: 0.6429\n",
      "[2019-11-10 18:17:31,036] checkpoint created at /media/James/BigData/CountSeg_output/vOR_counting/model_197.pt\n",
      "[2019-11-10 18:17:32,320] checkpoint created at /media/James/BigData/CountSeg_output/vOR_counting/model_latest.pt\n",
      "\n",
      "--------------------------------------------------------\n",
      "\n",
      "learning rate: 1.25e-05\n",
      "learning rate: 0.00125\n",
      "stage 2 of the training: using criterion2\n"
     ]
    },
    {
     "data": {
      "application/vnd.jupyter.widget-view+json": {
       "model_id": "",
       "version_major": 2,
       "version_minor": 0
      },
      "text/plain": [
       "HBox(children=(IntProgress(value=0, description='train', max=277, style=ProgressStyle(description_width='initi…"
      ]
     },
     "metadata": {},
     "output_type": "display_data"
    },
    {
     "name": "stdout",
     "output_type": "stream",
     "text": [
      "validation start\n"
     ]
    },
    {
     "data": {
      "application/vnd.jupyter.widget-view+json": {
       "model_id": "",
       "version_major": 2,
       "version_minor": 0
      },
      "text/plain": [
       "HBox(children=(IntProgress(value=0, description='val', max=789, style=ProgressStyle(description_width='initial…"
      ]
     },
     "metadata": {},
     "output_type": "display_data"
    },
    {
     "name": "stdout",
     "output_type": "stream",
     "text": [
      "mrmse_nz: 0.997167, rmrmse_nz: 0.410551, mrmse: 0.445755, rmrmse: 0.183690 \n",
      "[2019-11-10 18:19:33,561] epoch: 198 | classification_loss: 0.6432\n",
      "[2019-11-10 18:19:34,899] checkpoint created at /media/James/BigData/CountSeg_output/vOR_counting/model_198.pt\n",
      "[2019-11-10 18:19:36,199] checkpoint created at /media/James/BigData/CountSeg_output/vOR_counting/model_latest.pt\n",
      "\n",
      "--------------------------------------------------------\n",
      "\n",
      "learning rate: 1.25e-05\n",
      "learning rate: 0.00125\n",
      "stage 2 of the training: using criterion2\n"
     ]
    },
    {
     "data": {
      "application/vnd.jupyter.widget-view+json": {
       "model_id": "",
       "version_major": 2,
       "version_minor": 0
      },
      "text/plain": [
       "HBox(children=(IntProgress(value=0, description='train', max=277, style=ProgressStyle(description_width='initi…"
      ]
     },
     "metadata": {},
     "output_type": "display_data"
    },
    {
     "name": "stdout",
     "output_type": "stream",
     "text": [
      "validation start\n"
     ]
    },
    {
     "data": {
      "application/vnd.jupyter.widget-view+json": {
       "model_id": "",
       "version_major": 2,
       "version_minor": 0
      },
      "text/plain": [
       "HBox(children=(IntProgress(value=0, description='val', max=789, style=ProgressStyle(description_width='initial…"
      ]
     },
     "metadata": {},
     "output_type": "display_data"
    },
    {
     "name": "stdout",
     "output_type": "stream",
     "text": [
      "mrmse_nz: 0.968184, rmrmse_nz: 0.403819, mrmse: 0.432965, rmrmse: 0.180383 \n",
      "[2019-11-10 18:21:38,343] epoch: 199 | classification_loss: 0.6428\n",
      "[2019-11-10 18:21:39,625] checkpoint created at /media/James/BigData/CountSeg_output/vOR_counting/model_199.pt\n",
      "[2019-11-10 18:21:40,932] checkpoint created at /media/James/BigData/CountSeg_output/vOR_counting/model_latest.pt\n",
      "\n",
      "--------------------------------------------------------\n",
      "\n",
      "learning rate: 6.25e-06\n",
      "learning rate: 0.000625\n",
      "stage 2 of the training: using criterion2\n"
     ]
    },
    {
     "data": {
      "application/vnd.jupyter.widget-view+json": {
       "model_id": "",
       "version_major": 2,
       "version_minor": 0
      },
      "text/plain": [
       "HBox(children=(IntProgress(value=0, description='train', max=277, style=ProgressStyle(description_width='initi…"
      ]
     },
     "metadata": {},
     "output_type": "display_data"
    },
    {
     "name": "stdout",
     "output_type": "stream",
     "text": [
      "validation start\n"
     ]
    },
    {
     "data": {
      "application/vnd.jupyter.widget-view+json": {
       "model_id": "",
       "version_major": 2,
       "version_minor": 0
      },
      "text/plain": [
       "HBox(children=(IntProgress(value=0, description='val', max=789, style=ProgressStyle(description_width='initial…"
      ]
     },
     "metadata": {},
     "output_type": "display_data"
    },
    {
     "name": "stdout",
     "output_type": "stream",
     "text": [
      "mrmse_nz: 0.968621, rmrmse_nz: 0.400680, mrmse: 0.430436, rmrmse: 0.178866 \n",
      "[2019-11-10 18:23:43,646] epoch: 200 | classification_loss: 0.6432\n",
      "[2019-11-10 18:23:44,956] checkpoint created at /media/James/BigData/CountSeg_output/vOR_counting/model_200.pt\n",
      "[2019-11-10 18:23:46,225] checkpoint created at /media/James/BigData/CountSeg_output/vOR_counting/model_latest.pt\n",
      "\n",
      "--------------------------------------------------------\n",
      "\n",
      "learning rate: 6.25e-06\n",
      "learning rate: 0.000625\n",
      "stage 2 of the training: using criterion2\n"
     ]
    },
    {
     "data": {
      "application/vnd.jupyter.widget-view+json": {
       "model_id": "",
       "version_major": 2,
       "version_minor": 0
      },
      "text/plain": [
       "HBox(children=(IntProgress(value=0, description='train', max=277, style=ProgressStyle(description_width='initi…"
      ]
     },
     "metadata": {},
     "output_type": "display_data"
    },
    {
     "name": "stdout",
     "output_type": "stream",
     "text": [
      "validation start\n"
     ]
    },
    {
     "data": {
      "application/vnd.jupyter.widget-view+json": {
       "model_id": "",
       "version_major": 2,
       "version_minor": 0
      },
      "text/plain": [
       "HBox(children=(IntProgress(value=0, description='val', max=789, style=ProgressStyle(description_width='initial…"
      ]
     },
     "metadata": {},
     "output_type": "display_data"
    },
    {
     "name": "stdout",
     "output_type": "stream",
     "text": [
      "mrmse_nz: 1.019608, rmrmse_nz: 0.420041, mrmse: 0.454807, rmrmse: 0.187539 \n",
      "[2019-11-10 18:25:48,931] epoch: 201 | classification_loss: 0.6435\n",
      "[2019-11-10 18:25:50,264] checkpoint created at /media/James/BigData/CountSeg_output/vOR_counting/model_201.pt\n",
      "[2019-11-10 18:25:51,579] checkpoint created at /media/James/BigData/CountSeg_output/vOR_counting/model_latest.pt\n",
      "\n",
      "--------------------------------------------------------\n",
      "\n",
      "learning rate: 6.25e-06\n",
      "learning rate: 0.000625\n",
      "stage 2 of the training: using criterion2\n"
     ]
    },
    {
     "data": {
      "application/vnd.jupyter.widget-view+json": {
       "model_id": "",
       "version_major": 2,
       "version_minor": 0
      },
      "text/plain": [
       "HBox(children=(IntProgress(value=0, description='train', max=277, style=ProgressStyle(description_width='initi…"
      ]
     },
     "metadata": {},
     "output_type": "display_data"
    },
    {
     "name": "stdout",
     "output_type": "stream",
     "text": [
      "validation start\n"
     ]
    },
    {
     "data": {
      "application/vnd.jupyter.widget-view+json": {
       "model_id": "",
       "version_major": 2,
       "version_minor": 0
      },
      "text/plain": [
       "HBox(children=(IntProgress(value=0, description='val', max=789, style=ProgressStyle(description_width='initial…"
      ]
     },
     "metadata": {},
     "output_type": "display_data"
    },
    {
     "name": "stdout",
     "output_type": "stream",
     "text": [
      "mrmse_nz: 0.964772, rmrmse_nz: 0.405831, mrmse: 0.427128, rmrmse: 0.180704 \n",
      "[2019-11-10 18:27:54,473] epoch: 202 | classification_loss: 0.6436\n",
      "[2019-11-10 18:27:55,789] checkpoint created at /media/James/BigData/CountSeg_output/vOR_counting/model_202.pt\n",
      "[2019-11-10 18:27:57,101] checkpoint created at /media/James/BigData/CountSeg_output/vOR_counting/model_latest.pt\n",
      "\n",
      "--------------------------------------------------------\n",
      "\n",
      "learning rate: 6.25e-06\n",
      "learning rate: 0.000625\n",
      "stage 2 of the training: using criterion2\n"
     ]
    },
    {
     "data": {
      "application/vnd.jupyter.widget-view+json": {
       "model_id": "",
       "version_major": 2,
       "version_minor": 0
      },
      "text/plain": [
       "HBox(children=(IntProgress(value=0, description='train', max=277, style=ProgressStyle(description_width='initi…"
      ]
     },
     "metadata": {},
     "output_type": "display_data"
    },
    {
     "name": "stdout",
     "output_type": "stream",
     "text": [
      "validation start\n"
     ]
    },
    {
     "data": {
      "application/vnd.jupyter.widget-view+json": {
       "model_id": "",
       "version_major": 2,
       "version_minor": 0
      },
      "text/plain": [
       "HBox(children=(IntProgress(value=0, description='val', max=789, style=ProgressStyle(description_width='initial…"
      ]
     },
     "metadata": {},
     "output_type": "display_data"
    },
    {
     "name": "stdout",
     "output_type": "stream",
     "text": [
      "mrmse_nz: 0.999195, rmrmse_nz: 0.416078, mrmse: 0.444306, rmrmse: 0.185585 \n",
      "[2019-11-10 18:30:00,103] epoch: 203 | classification_loss: 0.6435\n",
      "[2019-11-10 18:30:01,428] checkpoint created at /media/James/BigData/CountSeg_output/vOR_counting/model_203.pt\n",
      "[2019-11-10 18:30:02,702] checkpoint created at /media/James/BigData/CountSeg_output/vOR_counting/model_latest.pt\n",
      "\n",
      "--------------------------------------------------------\n",
      "\n",
      "learning rate: 6.25e-06\n",
      "learning rate: 0.000625\n",
      "stage 2 of the training: using criterion2\n"
     ]
    },
    {
     "data": {
      "application/vnd.jupyter.widget-view+json": {
       "model_id": "",
       "version_major": 2,
       "version_minor": 0
      },
      "text/plain": [
       "HBox(children=(IntProgress(value=0, description='train', max=277, style=ProgressStyle(description_width='initi…"
      ]
     },
     "metadata": {},
     "output_type": "display_data"
    },
    {
     "name": "stdout",
     "output_type": "stream",
     "text": [
      "validation start\n"
     ]
    },
    {
     "data": {
      "application/vnd.jupyter.widget-view+json": {
       "model_id": "",
       "version_major": 2,
       "version_minor": 0
      },
      "text/plain": [
       "HBox(children=(IntProgress(value=0, description='val', max=789, style=ProgressStyle(description_width='initial…"
      ]
     },
     "metadata": {},
     "output_type": "display_data"
    },
    {
     "name": "stdout",
     "output_type": "stream",
     "text": [
      "mrmse_nz: 0.972580, rmrmse_nz: 0.407682, mrmse: 0.433107, rmrmse: 0.181597 \n",
      "[2019-11-10 18:32:06,090] epoch: 204 | classification_loss: 0.6426\n",
      "[2019-11-10 18:32:07,490] checkpoint created at /media/James/BigData/CountSeg_output/vOR_counting/model_204.pt\n",
      "[2019-11-10 18:32:08,848] checkpoint created at /media/James/BigData/CountSeg_output/vOR_counting/model_latest.pt\n",
      "\n",
      "--------------------------------------------------------\n",
      "\n",
      "learning rate: 6.25e-06\n",
      "learning rate: 0.000625\n",
      "stage 2 of the training: using criterion2\n"
     ]
    },
    {
     "data": {
      "application/vnd.jupyter.widget-view+json": {
       "model_id": "",
       "version_major": 2,
       "version_minor": 0
      },
      "text/plain": [
       "HBox(children=(IntProgress(value=0, description='train', max=277, style=ProgressStyle(description_width='initi…"
      ]
     },
     "metadata": {},
     "output_type": "display_data"
    },
    {
     "name": "stdout",
     "output_type": "stream",
     "text": [
      "validation start\n"
     ]
    },
    {
     "data": {
      "application/vnd.jupyter.widget-view+json": {
       "model_id": "",
       "version_major": 2,
       "version_minor": 0
      },
      "text/plain": [
       "HBox(children=(IntProgress(value=0, description='val', max=789, style=ProgressStyle(description_width='initial…"
      ]
     },
     "metadata": {},
     "output_type": "display_data"
    },
    {
     "name": "stdout",
     "output_type": "stream",
     "text": [
      "mrmse_nz: 0.959358, rmrmse_nz: 0.401807, mrmse: 0.427722, rmrmse: 0.179697 \n",
      "[2019-11-10 18:34:11,578] epoch: 205 | classification_loss: 0.6430\n",
      "[2019-11-10 18:34:12,914] checkpoint created at /media/James/BigData/CountSeg_output/vOR_counting/model_205.pt\n",
      "[2019-11-10 18:34:14,193] checkpoint created at /media/James/BigData/CountSeg_output/vOR_counting/model_latest.pt\n",
      "\n",
      "--------------------------------------------------------\n",
      "\n",
      "learning rate: 6.25e-06\n",
      "learning rate: 0.000625\n",
      "stage 2 of the training: using criterion2\n"
     ]
    },
    {
     "data": {
      "application/vnd.jupyter.widget-view+json": {
       "model_id": "",
       "version_major": 2,
       "version_minor": 0
      },
      "text/plain": [
       "HBox(children=(IntProgress(value=0, description='train', max=277, style=ProgressStyle(description_width='initi…"
      ]
     },
     "metadata": {},
     "output_type": "display_data"
    },
    {
     "name": "stdout",
     "output_type": "stream",
     "text": [
      "validation start\n"
     ]
    },
    {
     "data": {
      "application/vnd.jupyter.widget-view+json": {
       "model_id": "",
       "version_major": 2,
       "version_minor": 0
      },
      "text/plain": [
       "HBox(children=(IntProgress(value=0, description='val', max=789, style=ProgressStyle(description_width='initial…"
      ]
     },
     "metadata": {},
     "output_type": "display_data"
    },
    {
     "name": "stdout",
     "output_type": "stream",
     "text": [
      "mrmse_nz: 0.951305, rmrmse_nz: 0.396059, mrmse: 0.426642, rmrmse: 0.177231 \n",
      "[2019-11-10 18:36:16,228] epoch: 206 | classification_loss: 0.6428\n",
      "[2019-11-10 18:36:17,585] checkpoint created at /media/James/BigData/CountSeg_output/vOR_counting/model_206.pt\n",
      "[2019-11-10 18:36:18,860] checkpoint created at /media/James/BigData/CountSeg_output/vOR_counting/model_latest.pt\n",
      "\n",
      "--------------------------------------------------------\n",
      "\n",
      "learning rate: 6.25e-06\n",
      "learning rate: 0.000625\n",
      "stage 2 of the training: using criterion2\n"
     ]
    },
    {
     "data": {
      "application/vnd.jupyter.widget-view+json": {
       "model_id": "",
       "version_major": 2,
       "version_minor": 0
      },
      "text/plain": [
       "HBox(children=(IntProgress(value=0, description='train', max=277, style=ProgressStyle(description_width='initi…"
      ]
     },
     "metadata": {},
     "output_type": "display_data"
    },
    {
     "name": "stdout",
     "output_type": "stream",
     "text": [
      "validation start\n"
     ]
    },
    {
     "data": {
      "application/vnd.jupyter.widget-view+json": {
       "model_id": "",
       "version_major": 2,
       "version_minor": 0
      },
      "text/plain": [
       "HBox(children=(IntProgress(value=0, description='val', max=789, style=ProgressStyle(description_width='initial…"
      ]
     },
     "metadata": {},
     "output_type": "display_data"
    },
    {
     "name": "stdout",
     "output_type": "stream",
     "text": [
      "mrmse_nz: 1.000466, rmrmse_nz: 0.414278, mrmse: 0.446462, rmrmse: 0.185298 \n",
      "[2019-11-10 18:38:21,377] epoch: 207 | classification_loss: 0.6429\n",
      "[2019-11-10 18:38:22,690] checkpoint created at /media/James/BigData/CountSeg_output/vOR_counting/model_207.pt\n",
      "[2019-11-10 18:38:23,983] checkpoint created at /media/James/BigData/CountSeg_output/vOR_counting/model_latest.pt\n",
      "\n",
      "--------------------------------------------------------\n",
      "\n",
      "learning rate: 6.25e-06\n",
      "learning rate: 0.000625\n",
      "stage 2 of the training: using criterion2\n"
     ]
    },
    {
     "data": {
      "application/vnd.jupyter.widget-view+json": {
       "model_id": "",
       "version_major": 2,
       "version_minor": 0
      },
      "text/plain": [
       "HBox(children=(IntProgress(value=0, description='train', max=277, style=ProgressStyle(description_width='initi…"
      ]
     },
     "metadata": {},
     "output_type": "display_data"
    },
    {
     "name": "stdout",
     "output_type": "stream",
     "text": [
      "validation start\n"
     ]
    },
    {
     "data": {
      "application/vnd.jupyter.widget-view+json": {
       "model_id": "",
       "version_major": 2,
       "version_minor": 0
      },
      "text/plain": [
       "HBox(children=(IntProgress(value=0, description='val', max=789, style=ProgressStyle(description_width='initial…"
      ]
     },
     "metadata": {},
     "output_type": "display_data"
    },
    {
     "name": "stdout",
     "output_type": "stream",
     "text": [
      "mrmse_nz: 0.960138, rmrmse_nz: 0.392859, mrmse: 0.432066, rmrmse: 0.176682 \n",
      "[2019-11-10 18:40:26,889] epoch: 208 | classification_loss: 0.6428\n",
      "[2019-11-10 18:40:28,204] checkpoint created at /media/James/BigData/CountSeg_output/vOR_counting/model_208.pt\n",
      "[2019-11-10 18:40:29,473] checkpoint created at /media/James/BigData/CountSeg_output/vOR_counting/model_latest.pt\n",
      "\n",
      "--------------------------------------------------------\n",
      "\n",
      "learning rate: 6.25e-06\n",
      "learning rate: 0.000625\n",
      "stage 2 of the training: using criterion2\n"
     ]
    },
    {
     "data": {
      "application/vnd.jupyter.widget-view+json": {
       "model_id": "",
       "version_major": 2,
       "version_minor": 0
      },
      "text/plain": [
       "HBox(children=(IntProgress(value=0, description='train', max=277, style=ProgressStyle(description_width='initi…"
      ]
     },
     "metadata": {},
     "output_type": "display_data"
    },
    {
     "name": "stdout",
     "output_type": "stream",
     "text": [
      "validation start\n"
     ]
    },
    {
     "data": {
      "application/vnd.jupyter.widget-view+json": {
       "model_id": "",
       "version_major": 2,
       "version_minor": 0
      },
      "text/plain": [
       "HBox(children=(IntProgress(value=0, description='val', max=789, style=ProgressStyle(description_width='initial…"
      ]
     },
     "metadata": {},
     "output_type": "display_data"
    },
    {
     "name": "stdout",
     "output_type": "stream",
     "text": [
      "mrmse_nz: 0.944520, rmrmse_nz: 0.393491, mrmse: 0.421076, rmrmse: 0.175652 \n",
      "[2019-11-10 18:42:32,114] epoch: 209 | classification_loss: 0.6436\n",
      "[2019-11-10 18:42:33,418] checkpoint created at /media/James/BigData/CountSeg_output/vOR_counting/model_209.pt\n",
      "[2019-11-10 18:42:34,687] checkpoint created at /media/James/BigData/CountSeg_output/vOR_counting/model_latest.pt\n",
      "\n",
      "--------------------------------------------------------\n",
      "\n",
      "learning rate: 6.25e-06\n",
      "learning rate: 0.000625\n",
      "stage 2 of the training: using criterion2\n"
     ]
    },
    {
     "data": {
      "application/vnd.jupyter.widget-view+json": {
       "model_id": "",
       "version_major": 2,
       "version_minor": 0
      },
      "text/plain": [
       "HBox(children=(IntProgress(value=0, description='train', max=277, style=ProgressStyle(description_width='initi…"
      ]
     },
     "metadata": {},
     "output_type": "display_data"
    },
    {
     "name": "stdout",
     "output_type": "stream",
     "text": [
      "validation start\n"
     ]
    },
    {
     "data": {
      "application/vnd.jupyter.widget-view+json": {
       "model_id": "",
       "version_major": 2,
       "version_minor": 0
      },
      "text/plain": [
       "HBox(children=(IntProgress(value=0, description='val', max=789, style=ProgressStyle(description_width='initial…"
      ]
     },
     "metadata": {},
     "output_type": "display_data"
    },
    {
     "name": "stdout",
     "output_type": "stream",
     "text": [
      "mrmse_nz: 0.976096, rmrmse_nz: 0.400221, mrmse: 0.436473, rmrmse: 0.178889 \n",
      "[2019-11-10 18:44:37,050] epoch: 210 | classification_loss: 0.6432\n",
      "[2019-11-10 18:44:38,328] checkpoint created at /media/James/BigData/CountSeg_output/vOR_counting/model_210.pt\n",
      "[2019-11-10 18:44:39,570] checkpoint created at /media/James/BigData/CountSeg_output/vOR_counting/model_latest.pt\n",
      "\n",
      "--------------------------------------------------------\n",
      "\n",
      "learning rate: 6.25e-06\n",
      "learning rate: 0.000625\n",
      "stage 2 of the training: using criterion2\n"
     ]
    },
    {
     "data": {
      "application/vnd.jupyter.widget-view+json": {
       "model_id": "",
       "version_major": 2,
       "version_minor": 0
      },
      "text/plain": [
       "HBox(children=(IntProgress(value=0, description='train', max=277, style=ProgressStyle(description_width='initi…"
      ]
     },
     "metadata": {},
     "output_type": "display_data"
    },
    {
     "name": "stdout",
     "output_type": "stream",
     "text": [
      "validation start\n"
     ]
    },
    {
     "data": {
      "application/vnd.jupyter.widget-view+json": {
       "model_id": "",
       "version_major": 2,
       "version_minor": 0
      },
      "text/plain": [
       "HBox(children=(IntProgress(value=0, description='val', max=789, style=ProgressStyle(description_width='initial…"
      ]
     },
     "metadata": {},
     "output_type": "display_data"
    },
    {
     "name": "stdout",
     "output_type": "stream",
     "text": [
      "mrmse_nz: 0.994929, rmrmse_nz: 0.412797, mrmse: 0.443091, rmrmse: 0.184007 \n",
      "[2019-11-10 18:46:42,090] epoch: 211 | classification_loss: 0.6427\n",
      "[2019-11-10 18:46:43,436] checkpoint created at /media/James/BigData/CountSeg_output/vOR_counting/model_211.pt\n",
      "[2019-11-10 18:46:44,695] checkpoint created at /media/James/BigData/CountSeg_output/vOR_counting/model_latest.pt\n",
      "\n",
      "--------------------------------------------------------\n",
      "\n",
      "learning rate: 6.25e-06\n",
      "learning rate: 0.000625\n",
      "stage 2 of the training: using criterion2\n"
     ]
    },
    {
     "data": {
      "application/vnd.jupyter.widget-view+json": {
       "model_id": "",
       "version_major": 2,
       "version_minor": 0
      },
      "text/plain": [
       "HBox(children=(IntProgress(value=0, description='train', max=277, style=ProgressStyle(description_width='initi…"
      ]
     },
     "metadata": {},
     "output_type": "display_data"
    },
    {
     "name": "stdout",
     "output_type": "stream",
     "text": [
      "validation start\n"
     ]
    },
    {
     "data": {
      "application/vnd.jupyter.widget-view+json": {
       "model_id": "",
       "version_major": 2,
       "version_minor": 0
      },
      "text/plain": [
       "HBox(children=(IntProgress(value=0, description='val', max=789, style=ProgressStyle(description_width='initial…"
      ]
     },
     "metadata": {},
     "output_type": "display_data"
    },
    {
     "name": "stdout",
     "output_type": "stream",
     "text": [
      "mrmse_nz: 0.981892, rmrmse_nz: 0.405529, mrmse: 0.439216, rmrmse: 0.181269 \n",
      "[2019-11-10 18:48:47,279] epoch: 212 | classification_loss: 0.6428\n",
      "[2019-11-10 18:48:48,561] checkpoint created at /media/James/BigData/CountSeg_output/vOR_counting/model_212.pt\n",
      "[2019-11-10 18:48:49,808] checkpoint created at /media/James/BigData/CountSeg_output/vOR_counting/model_latest.pt\n",
      "\n",
      "--------------------------------------------------------\n",
      "\n",
      "learning rate: 6.25e-06\n",
      "learning rate: 0.000625\n",
      "stage 2 of the training: using criterion2\n"
     ]
    },
    {
     "data": {
      "application/vnd.jupyter.widget-view+json": {
       "model_id": "",
       "version_major": 2,
       "version_minor": 0
      },
      "text/plain": [
       "HBox(children=(IntProgress(value=0, description='train', max=277, style=ProgressStyle(description_width='initi…"
      ]
     },
     "metadata": {},
     "output_type": "display_data"
    },
    {
     "name": "stdout",
     "output_type": "stream",
     "text": [
      "validation start\n"
     ]
    },
    {
     "data": {
      "application/vnd.jupyter.widget-view+json": {
       "model_id": "",
       "version_major": 2,
       "version_minor": 0
      },
      "text/plain": [
       "HBox(children=(IntProgress(value=0, description='val', max=789, style=ProgressStyle(description_width='initial…"
      ]
     },
     "metadata": {},
     "output_type": "display_data"
    },
    {
     "name": "stdout",
     "output_type": "stream",
     "text": [
      "mrmse_nz: 0.933110, rmrmse_nz: 0.390649, mrmse: 0.418807, rmrmse: 0.175138 \n",
      "[2019-11-10 18:50:52,801] epoch: 213 | classification_loss: 0.6426\n",
      "[2019-11-10 18:50:54,138] checkpoint created at /media/James/BigData/CountSeg_output/vOR_counting/model_213.pt\n",
      "[2019-11-10 18:50:55,430] checkpoint created at /media/James/BigData/CountSeg_output/vOR_counting/model_latest.pt\n",
      "\n",
      "--------------------------------------------------------\n",
      "\n",
      "learning rate: 6.25e-06\n",
      "learning rate: 0.000625\n",
      "stage 2 of the training: using criterion2\n"
     ]
    },
    {
     "data": {
      "application/vnd.jupyter.widget-view+json": {
       "model_id": "",
       "version_major": 2,
       "version_minor": 0
      },
      "text/plain": [
       "HBox(children=(IntProgress(value=0, description='train', max=277, style=ProgressStyle(description_width='initi…"
      ]
     },
     "metadata": {},
     "output_type": "display_data"
    },
    {
     "name": "stdout",
     "output_type": "stream",
     "text": [
      "validation start\n"
     ]
    },
    {
     "data": {
      "application/vnd.jupyter.widget-view+json": {
       "model_id": "",
       "version_major": 2,
       "version_minor": 0
      },
      "text/plain": [
       "HBox(children=(IntProgress(value=0, description='val', max=789, style=ProgressStyle(description_width='initial…"
      ]
     },
     "metadata": {},
     "output_type": "display_data"
    },
    {
     "name": "stdout",
     "output_type": "stream",
     "text": [
      "mrmse_nz: 0.990158, rmrmse_nz: 0.401970, mrmse: 0.443009, rmrmse: 0.179722 \n",
      "[2019-11-10 18:52:58,436] epoch: 214 | classification_loss: 0.6430\n",
      "[2019-11-10 18:52:59,710] checkpoint created at /media/James/BigData/CountSeg_output/vOR_counting/model_214.pt\n",
      "[2019-11-10 18:53:01,004] checkpoint created at /media/James/BigData/CountSeg_output/vOR_counting/model_latest.pt\n",
      "\n",
      "--------------------------------------------------------\n",
      "\n",
      "learning rate: 6.25e-06\n",
      "learning rate: 0.000625\n",
      "stage 2 of the training: using criterion2\n"
     ]
    },
    {
     "data": {
      "application/vnd.jupyter.widget-view+json": {
       "model_id": "",
       "version_major": 2,
       "version_minor": 0
      },
      "text/plain": [
       "HBox(children=(IntProgress(value=0, description='train', max=277, style=ProgressStyle(description_width='initi…"
      ]
     },
     "metadata": {},
     "output_type": "display_data"
    },
    {
     "name": "stdout",
     "output_type": "stream",
     "text": [
      "validation start\n"
     ]
    },
    {
     "data": {
      "application/vnd.jupyter.widget-view+json": {
       "model_id": "",
       "version_major": 2,
       "version_minor": 0
      },
      "text/plain": [
       "HBox(children=(IntProgress(value=0, description='val', max=789, style=ProgressStyle(description_width='initial…"
      ]
     },
     "metadata": {},
     "output_type": "display_data"
    },
    {
     "name": "stdout",
     "output_type": "stream",
     "text": [
      "mrmse_nz: 0.942180, rmrmse_nz: 0.399213, mrmse: 0.422081, rmrmse: 0.178504 \n",
      "[2019-11-10 18:55:03,840] epoch: 215 | classification_loss: 0.6435\n",
      "[2019-11-10 18:55:05,107] checkpoint created at /media/James/BigData/CountSeg_output/vOR_counting/model_215.pt\n",
      "[2019-11-10 18:55:06,333] checkpoint created at /media/James/BigData/CountSeg_output/vOR_counting/model_latest.pt\n",
      "\n",
      "--------------------------------------------------------\n",
      "\n",
      "learning rate: 6.25e-06\n",
      "learning rate: 0.000625\n",
      "stage 2 of the training: using criterion2\n"
     ]
    },
    {
     "data": {
      "application/vnd.jupyter.widget-view+json": {
       "model_id": "",
       "version_major": 2,
       "version_minor": 0
      },
      "text/plain": [
       "HBox(children=(IntProgress(value=0, description='train', max=277, style=ProgressStyle(description_width='initi…"
      ]
     },
     "metadata": {},
     "output_type": "display_data"
    },
    {
     "name": "stdout",
     "output_type": "stream",
     "text": [
      "validation start\n"
     ]
    },
    {
     "data": {
      "application/vnd.jupyter.widget-view+json": {
       "model_id": "",
       "version_major": 2,
       "version_minor": 0
      },
      "text/plain": [
       "HBox(children=(IntProgress(value=0, description='val', max=789, style=ProgressStyle(description_width='initial…"
      ]
     },
     "metadata": {},
     "output_type": "display_data"
    },
    {
     "name": "stdout",
     "output_type": "stream",
     "text": [
      "mrmse_nz: 1.003647, rmrmse_nz: 0.416261, mrmse: 0.450049, rmrmse: 0.185825 \n",
      "[2019-11-10 18:57:08,964] epoch: 216 | classification_loss: 0.6427\n",
      "[2019-11-10 18:57:10,281] checkpoint created at /media/James/BigData/CountSeg_output/vOR_counting/model_216.pt\n",
      "[2019-11-10 18:57:11,541] checkpoint created at /media/James/BigData/CountSeg_output/vOR_counting/model_latest.pt\n",
      "\n",
      "--------------------------------------------------------\n",
      "\n",
      "learning rate: 6.25e-06\n",
      "learning rate: 0.000625\n",
      "stage 2 of the training: using criterion2\n"
     ]
    },
    {
     "data": {
      "application/vnd.jupyter.widget-view+json": {
       "model_id": "",
       "version_major": 2,
       "version_minor": 0
      },
      "text/plain": [
       "HBox(children=(IntProgress(value=0, description='train', max=277, style=ProgressStyle(description_width='initi…"
      ]
     },
     "metadata": {},
     "output_type": "display_data"
    },
    {
     "name": "stdout",
     "output_type": "stream",
     "text": [
      "validation start\n"
     ]
    },
    {
     "data": {
      "application/vnd.jupyter.widget-view+json": {
       "model_id": "",
       "version_major": 2,
       "version_minor": 0
      },
      "text/plain": [
       "HBox(children=(IntProgress(value=0, description='val', max=789, style=ProgressStyle(description_width='initial…"
      ]
     },
     "metadata": {},
     "output_type": "display_data"
    },
    {
     "name": "stdout",
     "output_type": "stream",
     "text": [
      "mrmse_nz: 0.986865, rmrmse_nz: 0.404198, mrmse: 0.440391, rmrmse: 0.180565 \n",
      "[2019-11-10 18:59:14,523] epoch: 217 | classification_loss: 0.6431\n",
      "[2019-11-10 18:59:15,865] checkpoint created at /media/James/BigData/CountSeg_output/vOR_counting/model_217.pt\n",
      "[2019-11-10 18:59:17,172] checkpoint created at /media/James/BigData/CountSeg_output/vOR_counting/model_latest.pt\n",
      "\n",
      "--------------------------------------------------------\n",
      "\n",
      "learning rate: 6.25e-06\n",
      "learning rate: 0.000625\n",
      "stage 2 of the training: using criterion2\n"
     ]
    },
    {
     "data": {
      "application/vnd.jupyter.widget-view+json": {
       "model_id": "",
       "version_major": 2,
       "version_minor": 0
      },
      "text/plain": [
       "HBox(children=(IntProgress(value=0, description='train', max=277, style=ProgressStyle(description_width='initi…"
      ]
     },
     "metadata": {},
     "output_type": "display_data"
    },
    {
     "name": "stdout",
     "output_type": "stream",
     "text": [
      "validation start\n"
     ]
    },
    {
     "data": {
      "application/vnd.jupyter.widget-view+json": {
       "model_id": "",
       "version_major": 2,
       "version_minor": 0
      },
      "text/plain": [
       "HBox(children=(IntProgress(value=0, description='val', max=789, style=ProgressStyle(description_width='initial…"
      ]
     },
     "metadata": {},
     "output_type": "display_data"
    },
    {
     "name": "stdout",
     "output_type": "stream",
     "text": [
      "mrmse_nz: 0.983495, rmrmse_nz: 0.408108, mrmse: 0.441271, rmrmse: 0.182356 \n",
      "[2019-11-10 19:01:20,254] epoch: 218 | classification_loss: 0.6428\n",
      "[2019-11-10 19:01:21,543] checkpoint created at /media/James/BigData/CountSeg_output/vOR_counting/model_218.pt\n",
      "[2019-11-10 19:01:22,803] checkpoint created at /media/James/BigData/CountSeg_output/vOR_counting/model_latest.pt\n",
      "\n",
      "--------------------------------------------------------\n",
      "\n",
      "learning rate: 6.25e-06\n",
      "learning rate: 0.000625\n",
      "stage 2 of the training: using criterion2\n"
     ]
    },
    {
     "data": {
      "application/vnd.jupyter.widget-view+json": {
       "model_id": "",
       "version_major": 2,
       "version_minor": 0
      },
      "text/plain": [
       "HBox(children=(IntProgress(value=0, description='train', max=277, style=ProgressStyle(description_width='initi…"
      ]
     },
     "metadata": {},
     "output_type": "display_data"
    },
    {
     "name": "stdout",
     "output_type": "stream",
     "text": [
      "validation start\n"
     ]
    },
    {
     "data": {
      "application/vnd.jupyter.widget-view+json": {
       "model_id": "",
       "version_major": 2,
       "version_minor": 0
      },
      "text/plain": [
       "HBox(children=(IntProgress(value=0, description='val', max=789, style=ProgressStyle(description_width='initial…"
      ]
     },
     "metadata": {},
     "output_type": "display_data"
    },
    {
     "name": "stdout",
     "output_type": "stream",
     "text": [
      "mrmse_nz: 0.945150, rmrmse_nz: 0.391591, mrmse: 0.422272, rmrmse: 0.174980 \n",
      "[2019-11-10 19:03:25,662] epoch: 219 | classification_loss: 0.6432\n",
      "[2019-11-10 19:03:26,954] checkpoint created at /media/James/BigData/CountSeg_output/vOR_counting/model_219.pt\n",
      "[2019-11-10 19:03:28,201] checkpoint created at /media/James/BigData/CountSeg_output/vOR_counting/model_latest.pt\n",
      "\n",
      "--------------------------------------------------------\n",
      "\n",
      "learning rate: 6.25e-06\n",
      "learning rate: 0.000625\n",
      "stage 2 of the training: using criterion2\n"
     ]
    },
    {
     "data": {
      "application/vnd.jupyter.widget-view+json": {
       "model_id": "",
       "version_major": 2,
       "version_minor": 0
      },
      "text/plain": [
       "HBox(children=(IntProgress(value=0, description='train', max=277, style=ProgressStyle(description_width='initi…"
      ]
     },
     "metadata": {},
     "output_type": "display_data"
    },
    {
     "name": "stdout",
     "output_type": "stream",
     "text": [
      "validation start\n"
     ]
    },
    {
     "data": {
      "application/vnd.jupyter.widget-view+json": {
       "model_id": "",
       "version_major": 2,
       "version_minor": 0
      },
      "text/plain": [
       "HBox(children=(IntProgress(value=0, description='val', max=789, style=ProgressStyle(description_width='initial…"
      ]
     },
     "metadata": {},
     "output_type": "display_data"
    },
    {
     "name": "stdout",
     "output_type": "stream",
     "text": [
      "mrmse_nz: 0.950392, rmrmse_nz: 0.391938, mrmse: 0.425737, rmrmse: 0.175605 \n",
      "[2019-11-10 19:05:30,879] epoch: 220 | classification_loss: 0.6428\n",
      "[2019-11-10 19:05:32,195] checkpoint created at /media/James/BigData/CountSeg_output/vOR_counting/model_220.pt\n",
      "[2019-11-10 19:05:33,490] checkpoint created at /media/James/BigData/CountSeg_output/vOR_counting/model_latest.pt\n",
      "\n",
      "--------------------------------------------------------\n",
      "\n",
      "learning rate: 6.25e-06\n",
      "learning rate: 0.000625\n",
      "stage 2 of the training: using criterion2\n"
     ]
    },
    {
     "data": {
      "application/vnd.jupyter.widget-view+json": {
       "model_id": "",
       "version_major": 2,
       "version_minor": 0
      },
      "text/plain": [
       "HBox(children=(IntProgress(value=0, description='train', max=277, style=ProgressStyle(description_width='initi…"
      ]
     },
     "metadata": {},
     "output_type": "display_data"
    },
    {
     "name": "stdout",
     "output_type": "stream",
     "text": [
      "validation start\n"
     ]
    },
    {
     "data": {
      "application/vnd.jupyter.widget-view+json": {
       "model_id": "",
       "version_major": 2,
       "version_minor": 0
      },
      "text/plain": [
       "HBox(children=(IntProgress(value=0, description='val', max=789, style=ProgressStyle(description_width='initial…"
      ]
     },
     "metadata": {},
     "output_type": "display_data"
    },
    {
     "name": "stdout",
     "output_type": "stream",
     "text": [
      "mrmse_nz: 0.998804, rmrmse_nz: 0.411542, mrmse: 0.445074, rmrmse: 0.183828 \n",
      "[2019-11-10 19:07:36,344] epoch: 221 | classification_loss: 0.6428\n",
      "[2019-11-10 19:07:37,711] checkpoint created at /media/James/BigData/CountSeg_output/vOR_counting/model_221.pt\n",
      "[2019-11-10 19:07:38,978] checkpoint created at /media/James/BigData/CountSeg_output/vOR_counting/model_latest.pt\n",
      "\n",
      "--------------------------------------------------------\n",
      "\n",
      "learning rate: 6.25e-06\n",
      "learning rate: 0.000625\n",
      "stage 2 of the training: using criterion2\n"
     ]
    },
    {
     "data": {
      "application/vnd.jupyter.widget-view+json": {
       "model_id": "",
       "version_major": 2,
       "version_minor": 0
      },
      "text/plain": [
       "HBox(children=(IntProgress(value=0, description='train', max=277, style=ProgressStyle(description_width='initi…"
      ]
     },
     "metadata": {},
     "output_type": "display_data"
    },
    {
     "name": "stdout",
     "output_type": "stream",
     "text": [
      "validation start\n"
     ]
    },
    {
     "data": {
      "application/vnd.jupyter.widget-view+json": {
       "model_id": "",
       "version_major": 2,
       "version_minor": 0
      },
      "text/plain": [
       "HBox(children=(IntProgress(value=0, description='val', max=789, style=ProgressStyle(description_width='initial…"
      ]
     },
     "metadata": {},
     "output_type": "display_data"
    },
    {
     "name": "stdout",
     "output_type": "stream",
     "text": [
      "mrmse_nz: 0.947894, rmrmse_nz: 0.393111, mrmse: 0.423744, rmrmse: 0.176237 \n",
      "[2019-11-10 19:09:41,513] epoch: 222 | classification_loss: 0.6428\n",
      "[2019-11-10 19:09:42,740] checkpoint created at /media/James/BigData/CountSeg_output/vOR_counting/model_222.pt\n",
      "[2019-11-10 19:09:44,001] checkpoint created at /media/James/BigData/CountSeg_output/vOR_counting/model_latest.pt\n",
      "\n",
      "--------------------------------------------------------\n",
      "\n",
      "learning rate: 6.25e-06\n",
      "learning rate: 0.000625\n",
      "stage 2 of the training: using criterion2\n"
     ]
    },
    {
     "data": {
      "application/vnd.jupyter.widget-view+json": {
       "model_id": "",
       "version_major": 2,
       "version_minor": 0
      },
      "text/plain": [
       "HBox(children=(IntProgress(value=0, description='train', max=277, style=ProgressStyle(description_width='initi…"
      ]
     },
     "metadata": {},
     "output_type": "display_data"
    },
    {
     "name": "stdout",
     "output_type": "stream",
     "text": [
      "validation start\n"
     ]
    },
    {
     "data": {
      "application/vnd.jupyter.widget-view+json": {
       "model_id": "",
       "version_major": 2,
       "version_minor": 0
      },
      "text/plain": [
       "HBox(children=(IntProgress(value=0, description='val', max=789, style=ProgressStyle(description_width='initial…"
      ]
     },
     "metadata": {},
     "output_type": "display_data"
    },
    {
     "name": "stdout",
     "output_type": "stream",
     "text": [
      "mrmse_nz: 0.978361, rmrmse_nz: 0.409122, mrmse: 0.436222, rmrmse: 0.182763 \n",
      "[2019-11-10 19:11:46,624] epoch: 223 | classification_loss: 0.6427\n",
      "[2019-11-10 19:11:47,916] checkpoint created at /media/James/BigData/CountSeg_output/vOR_counting/model_223.pt\n",
      "[2019-11-10 19:11:49,201] checkpoint created at /media/James/BigData/CountSeg_output/vOR_counting/model_latest.pt\n",
      "\n",
      "--------------------------------------------------------\n",
      "\n",
      "learning rate: 6.25e-06\n",
      "learning rate: 0.000625\n",
      "stage 2 of the training: using criterion2\n"
     ]
    },
    {
     "data": {
      "application/vnd.jupyter.widget-view+json": {
       "model_id": "",
       "version_major": 2,
       "version_minor": 0
      },
      "text/plain": [
       "HBox(children=(IntProgress(value=0, description='train', max=277, style=ProgressStyle(description_width='initi…"
      ]
     },
     "metadata": {},
     "output_type": "display_data"
    },
    {
     "name": "stdout",
     "output_type": "stream",
     "text": [
      "validation start\n"
     ]
    },
    {
     "data": {
      "application/vnd.jupyter.widget-view+json": {
       "model_id": "",
       "version_major": 2,
       "version_minor": 0
      },
      "text/plain": [
       "HBox(children=(IntProgress(value=0, description='val', max=789, style=ProgressStyle(description_width='initial…"
      ]
     },
     "metadata": {},
     "output_type": "display_data"
    },
    {
     "name": "stdout",
     "output_type": "stream",
     "text": [
      "mrmse_nz: 0.962271, rmrmse_nz: 0.398975, mrmse: 0.429381, rmrmse: 0.178032 \n",
      "[2019-11-10 19:13:51,921] epoch: 224 | classification_loss: 0.6425\n",
      "[2019-11-10 19:13:53,192] checkpoint created at /media/James/BigData/CountSeg_output/vOR_counting/model_224.pt\n",
      "[2019-11-10 19:13:54,486] checkpoint created at /media/James/BigData/CountSeg_output/vOR_counting/model_latest.pt\n",
      "\n",
      "--------------------------------------------------------\n",
      "\n",
      "learning rate: 6.25e-06\n",
      "learning rate: 0.000625\n",
      "stage 2 of the training: using criterion2\n"
     ]
    },
    {
     "data": {
      "application/vnd.jupyter.widget-view+json": {
       "model_id": "",
       "version_major": 2,
       "version_minor": 0
      },
      "text/plain": [
       "HBox(children=(IntProgress(value=0, description='train', max=277, style=ProgressStyle(description_width='initi…"
      ]
     },
     "metadata": {},
     "output_type": "display_data"
    },
    {
     "name": "stdout",
     "output_type": "stream",
     "text": [
      "validation start\n"
     ]
    },
    {
     "data": {
      "application/vnd.jupyter.widget-view+json": {
       "model_id": "",
       "version_major": 2,
       "version_minor": 0
      },
      "text/plain": [
       "HBox(children=(IntProgress(value=0, description='val', max=789, style=ProgressStyle(description_width='initial…"
      ]
     },
     "metadata": {},
     "output_type": "display_data"
    },
    {
     "name": "stdout",
     "output_type": "stream",
     "text": [
      "mrmse_nz: 0.992602, rmrmse_nz: 0.405649, mrmse: 0.443328, rmrmse: 0.181069 \n",
      "[2019-11-10 19:15:56,598] epoch: 225 | classification_loss: 0.6428\n",
      "[2019-11-10 19:15:57,953] checkpoint created at /media/James/BigData/CountSeg_output/vOR_counting/model_225.pt\n",
      "[2019-11-10 19:15:59,211] checkpoint created at /media/James/BigData/CountSeg_output/vOR_counting/model_latest.pt\n",
      "\n",
      "--------------------------------------------------------\n",
      "\n",
      "learning rate: 6.25e-06\n",
      "learning rate: 0.000625\n",
      "stage 2 of the training: using criterion2\n"
     ]
    },
    {
     "data": {
      "application/vnd.jupyter.widget-view+json": {
       "model_id": "",
       "version_major": 2,
       "version_minor": 0
      },
      "text/plain": [
       "HBox(children=(IntProgress(value=0, description='train', max=277, style=ProgressStyle(description_width='initi…"
      ]
     },
     "metadata": {},
     "output_type": "display_data"
    },
    {
     "name": "stdout",
     "output_type": "stream",
     "text": [
      "validation start\n"
     ]
    },
    {
     "data": {
      "application/vnd.jupyter.widget-view+json": {
       "model_id": "",
       "version_major": 2,
       "version_minor": 0
      },
      "text/plain": [
       "HBox(children=(IntProgress(value=0, description='val', max=789, style=ProgressStyle(description_width='initial…"
      ]
     },
     "metadata": {},
     "output_type": "display_data"
    },
    {
     "name": "stdout",
     "output_type": "stream",
     "text": [
      "mrmse_nz: 0.979471, rmrmse_nz: 0.401829, mrmse: 0.436861, rmrmse: 0.179468 \n",
      "[2019-11-10 19:18:01,378] epoch: 226 | classification_loss: 0.6428\n",
      "[2019-11-10 19:18:02,706] checkpoint created at /media/James/BigData/CountSeg_output/vOR_counting/model_226.pt\n",
      "[2019-11-10 19:18:03,955] checkpoint created at /media/James/BigData/CountSeg_output/vOR_counting/model_latest.pt\n",
      "\n",
      "--------------------------------------------------------\n",
      "\n",
      "learning rate: 6.25e-06\n",
      "learning rate: 0.000625\n",
      "stage 2 of the training: using criterion2\n"
     ]
    },
    {
     "data": {
      "application/vnd.jupyter.widget-view+json": {
       "model_id": "",
       "version_major": 2,
       "version_minor": 0
      },
      "text/plain": [
       "HBox(children=(IntProgress(value=0, description='train', max=277, style=ProgressStyle(description_width='initi…"
      ]
     },
     "metadata": {},
     "output_type": "display_data"
    },
    {
     "name": "stdout",
     "output_type": "stream",
     "text": [
      "validation start\n"
     ]
    },
    {
     "data": {
      "application/vnd.jupyter.widget-view+json": {
       "model_id": "",
       "version_major": 2,
       "version_minor": 0
      },
      "text/plain": [
       "HBox(children=(IntProgress(value=0, description='val', max=789, style=ProgressStyle(description_width='initial…"
      ]
     },
     "metadata": {},
     "output_type": "display_data"
    },
    {
     "name": "stdout",
     "output_type": "stream",
     "text": [
      "mrmse_nz: 0.961468, rmrmse_nz: 0.401717, mrmse: 0.429049, rmrmse: 0.179298 \n",
      "[2019-11-10 19:20:06,718] epoch: 227 | classification_loss: 0.6428\n",
      "[2019-11-10 19:20:08,025] checkpoint created at /media/James/BigData/CountSeg_output/vOR_counting/model_227.pt\n",
      "[2019-11-10 19:20:09,283] checkpoint created at /media/James/BigData/CountSeg_output/vOR_counting/model_latest.pt\n",
      "\n",
      "--------------------------------------------------------\n",
      "\n",
      "learning rate: 6.25e-06\n",
      "learning rate: 0.000625\n",
      "stage 2 of the training: using criterion2\n"
     ]
    },
    {
     "data": {
      "application/vnd.jupyter.widget-view+json": {
       "model_id": "",
       "version_major": 2,
       "version_minor": 0
      },
      "text/plain": [
       "HBox(children=(IntProgress(value=0, description='train', max=277, style=ProgressStyle(description_width='initi…"
      ]
     },
     "metadata": {},
     "output_type": "display_data"
    },
    {
     "name": "stdout",
     "output_type": "stream",
     "text": [
      "validation start\n"
     ]
    },
    {
     "data": {
      "application/vnd.jupyter.widget-view+json": {
       "model_id": "",
       "version_major": 2,
       "version_minor": 0
      },
      "text/plain": [
       "HBox(children=(IntProgress(value=0, description='val', max=789, style=ProgressStyle(description_width='initial…"
      ]
     },
     "metadata": {},
     "output_type": "display_data"
    },
    {
     "name": "stdout",
     "output_type": "stream",
     "text": [
      "mrmse_nz: 0.984385, rmrmse_nz: 0.402781, mrmse: 0.439562, rmrmse: 0.179804 \n",
      "[2019-11-10 19:22:12,630] epoch: 228 | classification_loss: 0.6428\n",
      "[2019-11-10 19:22:14,047] checkpoint created at /media/James/BigData/CountSeg_output/vOR_counting/model_228.pt\n",
      "[2019-11-10 19:22:15,305] checkpoint created at /media/James/BigData/CountSeg_output/vOR_counting/model_latest.pt\n",
      "\n",
      "--------------------------------------------------------\n",
      "\n",
      "learning rate: 6.25e-06\n",
      "learning rate: 0.000625\n",
      "stage 2 of the training: using criterion2\n"
     ]
    },
    {
     "data": {
      "application/vnd.jupyter.widget-view+json": {
       "model_id": "",
       "version_major": 2,
       "version_minor": 0
      },
      "text/plain": [
       "HBox(children=(IntProgress(value=0, description='train', max=277, style=ProgressStyle(description_width='initi…"
      ]
     },
     "metadata": {},
     "output_type": "display_data"
    },
    {
     "name": "stdout",
     "output_type": "stream",
     "text": [
      "validation start\n"
     ]
    },
    {
     "data": {
      "application/vnd.jupyter.widget-view+json": {
       "model_id": "",
       "version_major": 2,
       "version_minor": 0
      },
      "text/plain": [
       "HBox(children=(IntProgress(value=0, description='val', max=789, style=ProgressStyle(description_width='initial…"
      ]
     },
     "metadata": {},
     "output_type": "display_data"
    },
    {
     "name": "stdout",
     "output_type": "stream",
     "text": [
      "mrmse_nz: 1.057967, rmrmse_nz: 0.433738, mrmse: 0.470590, rmrmse: 0.192985 \n",
      "[2019-11-10 19:24:17,395] epoch: 229 | classification_loss: 0.6427\n",
      "[2019-11-10 19:24:18,765] checkpoint created at /media/James/BigData/CountSeg_output/vOR_counting/model_229.pt\n",
      "[2019-11-10 19:24:20,083] checkpoint created at /media/James/BigData/CountSeg_output/vOR_counting/model_latest.pt\n",
      "\n",
      "--------------------------------------------------------\n",
      "\n",
      "learning rate: 6.25e-06\n",
      "learning rate: 0.000625\n",
      "stage 2 of the training: using criterion2\n"
     ]
    },
    {
     "data": {
      "application/vnd.jupyter.widget-view+json": {
       "model_id": "",
       "version_major": 2,
       "version_minor": 0
      },
      "text/plain": [
       "HBox(children=(IntProgress(value=0, description='train', max=277, style=ProgressStyle(description_width='initi…"
      ]
     },
     "metadata": {},
     "output_type": "display_data"
    },
    {
     "name": "stdout",
     "output_type": "stream",
     "text": [
      "validation start\n"
     ]
    },
    {
     "data": {
      "application/vnd.jupyter.widget-view+json": {
       "model_id": "",
       "version_major": 2,
       "version_minor": 0
      },
      "text/plain": [
       "HBox(children=(IntProgress(value=0, description='val', max=789, style=ProgressStyle(description_width='initial…"
      ]
     },
     "metadata": {},
     "output_type": "display_data"
    },
    {
     "name": "stdout",
     "output_type": "stream",
     "text": [
      "mrmse_nz: 0.963069, rmrmse_nz: 0.399402, mrmse: 0.429615, rmrmse: 0.178514 \n",
      "[2019-11-10 19:26:22,367] epoch: 230 | classification_loss: 0.6428\n",
      "[2019-11-10 19:26:23,674] checkpoint created at /media/James/BigData/CountSeg_output/vOR_counting/model_230.pt\n",
      "[2019-11-10 19:26:24,938] checkpoint created at /media/James/BigData/CountSeg_output/vOR_counting/model_latest.pt\n",
      "\n",
      "--------------------------------------------------------\n",
      "\n",
      "learning rate: 6.25e-06\n",
      "learning rate: 0.000625\n",
      "stage 2 of the training: using criterion2\n"
     ]
    },
    {
     "data": {
      "application/vnd.jupyter.widget-view+json": {
       "model_id": "",
       "version_major": 2,
       "version_minor": 0
      },
      "text/plain": [
       "HBox(children=(IntProgress(value=0, description='train', max=277, style=ProgressStyle(description_width='initi…"
      ]
     },
     "metadata": {},
     "output_type": "display_data"
    },
    {
     "name": "stdout",
     "output_type": "stream",
     "text": [
      "validation start\n"
     ]
    },
    {
     "data": {
      "application/vnd.jupyter.widget-view+json": {
       "model_id": "",
       "version_major": 2,
       "version_minor": 0
      },
      "text/plain": [
       "HBox(children=(IntProgress(value=0, description='val', max=789, style=ProgressStyle(description_width='initial…"
      ]
     },
     "metadata": {},
     "output_type": "display_data"
    },
    {
     "name": "stdout",
     "output_type": "stream",
     "text": [
      "mrmse_nz: 0.990595, rmrmse_nz: 0.405668, mrmse: 0.444213, rmrmse: 0.182013 \n",
      "[2019-11-10 19:28:27,487] epoch: 231 | classification_loss: 0.6426\n",
      "[2019-11-10 19:28:28,789] checkpoint created at /media/James/BigData/CountSeg_output/vOR_counting/model_231.pt\n",
      "[2019-11-10 19:28:30,012] checkpoint created at /media/James/BigData/CountSeg_output/vOR_counting/model_latest.pt\n",
      "\n",
      "--------------------------------------------------------\n",
      "\n",
      "learning rate: 6.25e-06\n",
      "learning rate: 0.000625\n",
      "stage 2 of the training: using criterion2\n"
     ]
    },
    {
     "data": {
      "application/vnd.jupyter.widget-view+json": {
       "model_id": "",
       "version_major": 2,
       "version_minor": 0
      },
      "text/plain": [
       "HBox(children=(IntProgress(value=0, description='train', max=277, style=ProgressStyle(description_width='initi…"
      ]
     },
     "metadata": {},
     "output_type": "display_data"
    },
    {
     "name": "stdout",
     "output_type": "stream",
     "text": [
      "validation start\n"
     ]
    },
    {
     "data": {
      "application/vnd.jupyter.widget-view+json": {
       "model_id": "",
       "version_major": 2,
       "version_minor": 0
      },
      "text/plain": [
       "HBox(children=(IntProgress(value=0, description='val', max=789, style=ProgressStyle(description_width='initial…"
      ]
     },
     "metadata": {},
     "output_type": "display_data"
    },
    {
     "name": "stdout",
     "output_type": "stream",
     "text": [
      "mrmse_nz: 0.934189, rmrmse_nz: 0.395427, mrmse: 0.415693, rmrmse: 0.176798 \n",
      "[2019-11-10 19:30:32,838] epoch: 232 | classification_loss: 0.6426\n",
      "[2019-11-10 19:30:34,195] checkpoint created at /media/James/BigData/CountSeg_output/vOR_counting/model_232.pt\n",
      "[2019-11-10 19:30:35,472] checkpoint created at /media/James/BigData/CountSeg_output/vOR_counting/model_latest.pt\n",
      "\n",
      "--------------------------------------------------------\n",
      "\n",
      "learning rate: 6.25e-06\n",
      "learning rate: 0.000625\n",
      "stage 2 of the training: using criterion2\n"
     ]
    },
    {
     "data": {
      "application/vnd.jupyter.widget-view+json": {
       "model_id": "",
       "version_major": 2,
       "version_minor": 0
      },
      "text/plain": [
       "HBox(children=(IntProgress(value=0, description='train', max=277, style=ProgressStyle(description_width='initi…"
      ]
     },
     "metadata": {},
     "output_type": "display_data"
    },
    {
     "name": "stdout",
     "output_type": "stream",
     "text": [
      "validation start\n"
     ]
    },
    {
     "data": {
      "application/vnd.jupyter.widget-view+json": {
       "model_id": "",
       "version_major": 2,
       "version_minor": 0
      },
      "text/plain": [
       "HBox(children=(IntProgress(value=0, description='val', max=789, style=ProgressStyle(description_width='initial…"
      ]
     },
     "metadata": {},
     "output_type": "display_data"
    },
    {
     "name": "stdout",
     "output_type": "stream",
     "text": [
      "mrmse_nz: 0.935480, rmrmse_nz: 0.394040, mrmse: 0.419689, rmrmse: 0.176309 \n",
      "[2019-11-10 19:32:37,436] epoch: 233 | classification_loss: 0.6426\n",
      "[2019-11-10 19:32:38,709] checkpoint created at /media/James/BigData/CountSeg_output/vOR_counting/model_233.pt\n",
      "[2019-11-10 19:32:39,941] checkpoint created at /media/James/BigData/CountSeg_output/vOR_counting/model_latest.pt\n",
      "\n",
      "--------------------------------------------------------\n",
      "\n",
      "learning rate: 6.25e-06\n",
      "learning rate: 0.000625\n",
      "stage 2 of the training: using criterion2\n"
     ]
    },
    {
     "data": {
      "application/vnd.jupyter.widget-view+json": {
       "model_id": "",
       "version_major": 2,
       "version_minor": 0
      },
      "text/plain": [
       "HBox(children=(IntProgress(value=0, description='train', max=277, style=ProgressStyle(description_width='initi…"
      ]
     },
     "metadata": {},
     "output_type": "display_data"
    },
    {
     "name": "stdout",
     "output_type": "stream",
     "text": [
      "validation start\n"
     ]
    },
    {
     "data": {
      "application/vnd.jupyter.widget-view+json": {
       "model_id": "",
       "version_major": 2,
       "version_minor": 0
      },
      "text/plain": [
       "HBox(children=(IntProgress(value=0, description='val', max=789, style=ProgressStyle(description_width='initial…"
      ]
     },
     "metadata": {},
     "output_type": "display_data"
    },
    {
     "name": "stdout",
     "output_type": "stream",
     "text": [
      "mrmse_nz: 0.956883, rmrmse_nz: 0.393819, mrmse: 0.429415, rmrmse: 0.176510 \n",
      "[2019-11-10 19:34:42,506] epoch: 234 | classification_loss: 0.6429\n",
      "[2019-11-10 19:34:43,830] checkpoint created at /media/James/BigData/CountSeg_output/vOR_counting/model_234.pt\n",
      "[2019-11-10 19:34:45,127] checkpoint created at /media/James/BigData/CountSeg_output/vOR_counting/model_latest.pt\n",
      "\n",
      "--------------------------------------------------------\n",
      "\n",
      "learning rate: 6.25e-06\n",
      "learning rate: 0.000625\n",
      "stage 2 of the training: using criterion2\n"
     ]
    },
    {
     "data": {
      "application/vnd.jupyter.widget-view+json": {
       "model_id": "",
       "version_major": 2,
       "version_minor": 0
      },
      "text/plain": [
       "HBox(children=(IntProgress(value=0, description='train', max=277, style=ProgressStyle(description_width='initi…"
      ]
     },
     "metadata": {},
     "output_type": "display_data"
    },
    {
     "name": "stdout",
     "output_type": "stream",
     "text": [
      "validation start\n"
     ]
    },
    {
     "data": {
      "application/vnd.jupyter.widget-view+json": {
       "model_id": "",
       "version_major": 2,
       "version_minor": 0
      },
      "text/plain": [
       "HBox(children=(IntProgress(value=0, description='val', max=789, style=ProgressStyle(description_width='initial…"
      ]
     },
     "metadata": {},
     "output_type": "display_data"
    },
    {
     "name": "stdout",
     "output_type": "stream",
     "text": [
      "mrmse_nz: 0.976983, rmrmse_nz: 0.404713, mrmse: 0.435756, rmrmse: 0.180723 \n",
      "[2019-11-10 19:36:48,027] epoch: 235 | classification_loss: 0.6424\n",
      "[2019-11-10 19:36:49,335] checkpoint created at /media/James/BigData/CountSeg_output/vOR_counting/model_235.pt\n",
      "[2019-11-10 19:36:50,601] checkpoint created at /media/James/BigData/CountSeg_output/vOR_counting/model_latest.pt\n",
      "\n",
      "--------------------------------------------------------\n",
      "\n",
      "learning rate: 6.25e-06\n",
      "learning rate: 0.000625\n",
      "stage 2 of the training: using criterion2\n"
     ]
    },
    {
     "data": {
      "application/vnd.jupyter.widget-view+json": {
       "model_id": "",
       "version_major": 2,
       "version_minor": 0
      },
      "text/plain": [
       "HBox(children=(IntProgress(value=0, description='train', max=277, style=ProgressStyle(description_width='initi…"
      ]
     },
     "metadata": {},
     "output_type": "display_data"
    },
    {
     "name": "stdout",
     "output_type": "stream",
     "text": [
      "validation start\n"
     ]
    },
    {
     "data": {
      "application/vnd.jupyter.widget-view+json": {
       "model_id": "",
       "version_major": 2,
       "version_minor": 0
      },
      "text/plain": [
       "HBox(children=(IntProgress(value=0, description='val', max=789, style=ProgressStyle(description_width='initial…"
      ]
     },
     "metadata": {},
     "output_type": "display_data"
    },
    {
     "name": "stdout",
     "output_type": "stream",
     "text": [
      "mrmse_nz: 0.987715, rmrmse_nz: 0.411256, mrmse: 0.442998, rmrmse: 0.183753 \n",
      "[2019-11-10 19:38:53,214] epoch: 236 | classification_loss: 0.6428\n",
      "[2019-11-10 19:38:54,561] checkpoint created at /media/James/BigData/CountSeg_output/vOR_counting/model_236.pt\n",
      "[2019-11-10 19:38:55,856] checkpoint created at /media/James/BigData/CountSeg_output/vOR_counting/model_latest.pt\n",
      "\n",
      "--------------------------------------------------------\n",
      "\n",
      "learning rate: 6.25e-06\n",
      "learning rate: 0.000625\n",
      "stage 2 of the training: using criterion2\n"
     ]
    },
    {
     "data": {
      "application/vnd.jupyter.widget-view+json": {
       "model_id": "",
       "version_major": 2,
       "version_minor": 0
      },
      "text/plain": [
       "HBox(children=(IntProgress(value=0, description='train', max=277, style=ProgressStyle(description_width='initi…"
      ]
     },
     "metadata": {},
     "output_type": "display_data"
    },
    {
     "name": "stdout",
     "output_type": "stream",
     "text": [
      "validation start\n"
     ]
    },
    {
     "data": {
      "application/vnd.jupyter.widget-view+json": {
       "model_id": "",
       "version_major": 2,
       "version_minor": 0
      },
      "text/plain": [
       "HBox(children=(IntProgress(value=0, description='val', max=789, style=ProgressStyle(description_width='initial…"
      ]
     },
     "metadata": {},
     "output_type": "display_data"
    },
    {
     "name": "stdout",
     "output_type": "stream",
     "text": [
      "mrmse_nz: 0.975103, rmrmse_nz: 0.410557, mrmse: 0.436427, rmrmse: 0.183353 \n",
      "[2019-11-10 19:40:57,500] epoch: 237 | classification_loss: 0.6426\n",
      "[2019-11-10 19:40:58,827] checkpoint created at /media/James/BigData/CountSeg_output/vOR_counting/model_237.pt\n",
      "[2019-11-10 19:41:00,093] checkpoint created at /media/James/BigData/CountSeg_output/vOR_counting/model_latest.pt\n",
      "\n",
      "--------------------------------------------------------\n",
      "\n",
      "learning rate: 6.25e-06\n",
      "learning rate: 0.000625\n",
      "stage 2 of the training: using criterion2\n"
     ]
    },
    {
     "data": {
      "application/vnd.jupyter.widget-view+json": {
       "model_id": "",
       "version_major": 2,
       "version_minor": 0
      },
      "text/plain": [
       "HBox(children=(IntProgress(value=0, description='train', max=277, style=ProgressStyle(description_width='initi…"
      ]
     },
     "metadata": {},
     "output_type": "display_data"
    },
    {
     "name": "stdout",
     "output_type": "stream",
     "text": [
      "validation start\n"
     ]
    },
    {
     "data": {
      "application/vnd.jupyter.widget-view+json": {
       "model_id": "",
       "version_major": 2,
       "version_minor": 0
      },
      "text/plain": [
       "HBox(children=(IntProgress(value=0, description='val', max=789, style=ProgressStyle(description_width='initial…"
      ]
     },
     "metadata": {},
     "output_type": "display_data"
    },
    {
     "name": "stdout",
     "output_type": "stream",
     "text": [
      "mrmse_nz: 0.965704, rmrmse_nz: 0.398751, mrmse: 0.432478, rmrmse: 0.178484 \n",
      "[2019-11-10 19:43:02,406] epoch: 238 | classification_loss: 0.6426\n",
      "[2019-11-10 19:43:03,757] checkpoint created at /media/James/BigData/CountSeg_output/vOR_counting/model_238.pt\n",
      "[2019-11-10 19:43:05,061] checkpoint created at /media/James/BigData/CountSeg_output/vOR_counting/model_latest.pt\n",
      "\n",
      "--------------------------------------------------------\n",
      "\n",
      "learning rate: 6.25e-06\n",
      "learning rate: 0.000625\n",
      "stage 2 of the training: using criterion2\n"
     ]
    },
    {
     "data": {
      "application/vnd.jupyter.widget-view+json": {
       "model_id": "",
       "version_major": 2,
       "version_minor": 0
      },
      "text/plain": [
       "HBox(children=(IntProgress(value=0, description='train', max=277, style=ProgressStyle(description_width='initi…"
      ]
     },
     "metadata": {},
     "output_type": "display_data"
    },
    {
     "name": "stdout",
     "output_type": "stream",
     "text": [
      "validation start\n"
     ]
    },
    {
     "data": {
      "application/vnd.jupyter.widget-view+json": {
       "model_id": "",
       "version_major": 2,
       "version_minor": 0
      },
      "text/plain": [
       "HBox(children=(IntProgress(value=0, description='val', max=789, style=ProgressStyle(description_width='initial…"
      ]
     },
     "metadata": {},
     "output_type": "display_data"
    },
    {
     "name": "stdout",
     "output_type": "stream",
     "text": [
      "mrmse_nz: 0.947801, rmrmse_nz: 0.405343, mrmse: 0.422264, rmrmse: 0.180651 \n",
      "[2019-11-10 19:45:06,851] epoch: 239 | classification_loss: 0.6431\n",
      "[2019-11-10 19:45:08,099] checkpoint created at /media/James/BigData/CountSeg_output/vOR_counting/model_239.pt\n",
      "[2019-11-10 19:45:09,392] checkpoint created at /media/James/BigData/CountSeg_output/vOR_counting/model_latest.pt\n",
      "\n",
      "--------------------------------------------------------\n",
      "\n",
      "learning rate: 6.25e-06\n",
      "learning rate: 0.000625\n",
      "stage 2 of the training: using criterion2\n"
     ]
    },
    {
     "data": {
      "application/vnd.jupyter.widget-view+json": {
       "model_id": "",
       "version_major": 2,
       "version_minor": 0
      },
      "text/plain": [
       "HBox(children=(IntProgress(value=0, description='train', max=277, style=ProgressStyle(description_width='initi…"
      ]
     },
     "metadata": {},
     "output_type": "display_data"
    },
    {
     "name": "stdout",
     "output_type": "stream",
     "text": [
      "validation start\n"
     ]
    },
    {
     "data": {
      "application/vnd.jupyter.widget-view+json": {
       "model_id": "",
       "version_major": 2,
       "version_minor": 0
      },
      "text/plain": [
       "HBox(children=(IntProgress(value=0, description='val', max=789, style=ProgressStyle(description_width='initial…"
      ]
     },
     "metadata": {},
     "output_type": "display_data"
    },
    {
     "name": "stdout",
     "output_type": "stream",
     "text": [
      "mrmse_nz: 0.981051, rmrmse_nz: 0.416032, mrmse: 0.437651, rmrmse: 0.185822 \n",
      "[2019-11-10 19:47:11,951] epoch: 240 | classification_loss: 0.6430\n",
      "[2019-11-10 19:47:13,286] checkpoint created at /media/James/BigData/CountSeg_output/vOR_counting/model_240.pt\n",
      "[2019-11-10 19:47:14,541] checkpoint created at /media/James/BigData/CountSeg_output/vOR_counting/model_latest.pt\n",
      "\n",
      "--------------------------------------------------------\n",
      "\n",
      "learning rate: 6.25e-06\n",
      "learning rate: 0.000625\n",
      "stage 2 of the training: using criterion2\n"
     ]
    },
    {
     "data": {
      "application/vnd.jupyter.widget-view+json": {
       "model_id": "",
       "version_major": 2,
       "version_minor": 0
      },
      "text/plain": [
       "HBox(children=(IntProgress(value=0, description='train', max=277, style=ProgressStyle(description_width='initi…"
      ]
     },
     "metadata": {},
     "output_type": "display_data"
    },
    {
     "name": "stdout",
     "output_type": "stream",
     "text": [
      "validation start\n"
     ]
    },
    {
     "data": {
      "application/vnd.jupyter.widget-view+json": {
       "model_id": "",
       "version_major": 2,
       "version_minor": 0
      },
      "text/plain": [
       "HBox(children=(IntProgress(value=0, description='val', max=789, style=ProgressStyle(description_width='initial…"
      ]
     },
     "metadata": {},
     "output_type": "display_data"
    },
    {
     "name": "stdout",
     "output_type": "stream",
     "text": [
      "mrmse_nz: 0.981172, rmrmse_nz: 0.406311, mrmse: 0.439363, rmrmse: 0.181787 \n",
      "[2019-11-10 19:49:17,618] epoch: 241 | classification_loss: 0.6427\n",
      "[2019-11-10 19:49:18,948] checkpoint created at /media/James/BigData/CountSeg_output/vOR_counting/model_241.pt\n",
      "[2019-11-10 19:49:20,250] checkpoint created at /media/James/BigData/CountSeg_output/vOR_counting/model_latest.pt\n",
      "\n",
      "--------------------------------------------------------\n",
      "\n",
      "learning rate: 6.25e-06\n",
      "learning rate: 0.000625\n",
      "stage 2 of the training: using criterion2\n"
     ]
    },
    {
     "data": {
      "application/vnd.jupyter.widget-view+json": {
       "model_id": "",
       "version_major": 2,
       "version_minor": 0
      },
      "text/plain": [
       "HBox(children=(IntProgress(value=0, description='train', max=277, style=ProgressStyle(description_width='initi…"
      ]
     },
     "metadata": {},
     "output_type": "display_data"
    },
    {
     "name": "stdout",
     "output_type": "stream",
     "text": [
      "validation start\n"
     ]
    },
    {
     "data": {
      "application/vnd.jupyter.widget-view+json": {
       "model_id": "",
       "version_major": 2,
       "version_minor": 0
      },
      "text/plain": [
       "HBox(children=(IntProgress(value=0, description='val', max=789, style=ProgressStyle(description_width='initial…"
      ]
     },
     "metadata": {},
     "output_type": "display_data"
    },
    {
     "name": "stdout",
     "output_type": "stream",
     "text": [
      "mrmse_nz: 1.004152, rmrmse_nz: 0.412849, mrmse: 0.449236, rmrmse: 0.184700 \n",
      "[2019-11-10 19:51:23,104] epoch: 242 | classification_loss: 0.6425\n",
      "[2019-11-10 19:51:24,406] checkpoint created at /media/James/BigData/CountSeg_output/vOR_counting/model_242.pt\n",
      "[2019-11-10 19:51:25,633] checkpoint created at /media/James/BigData/CountSeg_output/vOR_counting/model_latest.pt\n",
      "\n",
      "--------------------------------------------------------\n",
      "\n",
      "learning rate: 6.25e-06\n",
      "learning rate: 0.000625\n",
      "stage 2 of the training: using criterion2\n"
     ]
    },
    {
     "data": {
      "application/vnd.jupyter.widget-view+json": {
       "model_id": "",
       "version_major": 2,
       "version_minor": 0
      },
      "text/plain": [
       "HBox(children=(IntProgress(value=0, description='train', max=277, style=ProgressStyle(description_width='initi…"
      ]
     },
     "metadata": {},
     "output_type": "display_data"
    },
    {
     "name": "stdout",
     "output_type": "stream",
     "text": [
      "validation start\n"
     ]
    },
    {
     "data": {
      "application/vnd.jupyter.widget-view+json": {
       "model_id": "",
       "version_major": 2,
       "version_minor": 0
      },
      "text/plain": [
       "HBox(children=(IntProgress(value=0, description='val', max=789, style=ProgressStyle(description_width='initial…"
      ]
     },
     "metadata": {},
     "output_type": "display_data"
    },
    {
     "name": "stdout",
     "output_type": "stream",
     "text": [
      "mrmse_nz: 0.973286, rmrmse_nz: 0.412079, mrmse: 0.434199, rmrmse: 0.184411 \n",
      "[2019-11-10 19:53:27,667] epoch: 243 | classification_loss: 0.6430\n",
      "[2019-11-10 19:53:29,015] checkpoint created at /media/James/BigData/CountSeg_output/vOR_counting/model_243.pt\n",
      "[2019-11-10 19:53:30,297] checkpoint created at /media/James/BigData/CountSeg_output/vOR_counting/model_latest.pt\n",
      "\n",
      "--------------------------------------------------------\n",
      "\n",
      "learning rate: 6.25e-06\n",
      "learning rate: 0.000625\n",
      "stage 2 of the training: using criterion2\n"
     ]
    },
    {
     "data": {
      "application/vnd.jupyter.widget-view+json": {
       "model_id": "",
       "version_major": 2,
       "version_minor": 0
      },
      "text/plain": [
       "HBox(children=(IntProgress(value=0, description='train', max=277, style=ProgressStyle(description_width='initi…"
      ]
     },
     "metadata": {},
     "output_type": "display_data"
    },
    {
     "name": "stdout",
     "output_type": "stream",
     "text": [
      "validation start\n"
     ]
    },
    {
     "data": {
      "application/vnd.jupyter.widget-view+json": {
       "model_id": "",
       "version_major": 2,
       "version_minor": 0
      },
      "text/plain": [
       "HBox(children=(IntProgress(value=0, description='val', max=789, style=ProgressStyle(description_width='initial…"
      ]
     },
     "metadata": {},
     "output_type": "display_data"
    },
    {
     "name": "stdout",
     "output_type": "stream",
     "text": [
      "mrmse_nz: 0.958899, rmrmse_nz: 0.400696, mrmse: 0.428042, rmrmse: 0.179185 \n",
      "[2019-11-10 19:55:33,008] epoch: 244 | classification_loss: 0.6433\n",
      "[2019-11-10 19:55:34,334] checkpoint created at /media/James/BigData/CountSeg_output/vOR_counting/model_244.pt\n",
      "[2019-11-10 19:55:35,634] checkpoint created at /media/James/BigData/CountSeg_output/vOR_counting/model_latest.pt\n",
      "\n",
      "--------------------------------------------------------\n",
      "\n",
      "learning rate: 6.25e-06\n",
      "learning rate: 0.000625\n",
      "stage 2 of the training: using criterion2\n"
     ]
    },
    {
     "data": {
      "application/vnd.jupyter.widget-view+json": {
       "model_id": "",
       "version_major": 2,
       "version_minor": 0
      },
      "text/plain": [
       "HBox(children=(IntProgress(value=0, description='train', max=277, style=ProgressStyle(description_width='initi…"
      ]
     },
     "metadata": {},
     "output_type": "display_data"
    },
    {
     "name": "stdout",
     "output_type": "stream",
     "text": [
      "validation start\n"
     ]
    },
    {
     "data": {
      "application/vnd.jupyter.widget-view+json": {
       "model_id": "",
       "version_major": 2,
       "version_minor": 0
      },
      "text/plain": [
       "HBox(children=(IntProgress(value=0, description='val', max=789, style=ProgressStyle(description_width='initial…"
      ]
     },
     "metadata": {},
     "output_type": "display_data"
    },
    {
     "name": "stdout",
     "output_type": "stream",
     "text": [
      "mrmse_nz: 0.983673, rmrmse_nz: 0.413927, mrmse: 0.439502, rmrmse: 0.184580 \n",
      "[2019-11-10 19:57:38,079] epoch: 245 | classification_loss: 0.6429\n",
      "[2019-11-10 19:57:39,416] checkpoint created at /media/James/BigData/CountSeg_output/vOR_counting/model_245.pt\n",
      "[2019-11-10 19:57:40,688] checkpoint created at /media/James/BigData/CountSeg_output/vOR_counting/model_latest.pt\n",
      "\n",
      "--------------------------------------------------------\n",
      "\n",
      "learning rate: 6.25e-06\n",
      "learning rate: 0.000625\n",
      "stage 2 of the training: using criterion2\n"
     ]
    },
    {
     "data": {
      "application/vnd.jupyter.widget-view+json": {
       "model_id": "",
       "version_major": 2,
       "version_minor": 0
      },
      "text/plain": [
       "HBox(children=(IntProgress(value=0, description='train', max=277, style=ProgressStyle(description_width='initi…"
      ]
     },
     "metadata": {},
     "output_type": "display_data"
    },
    {
     "name": "stdout",
     "output_type": "stream",
     "text": [
      "validation start\n"
     ]
    },
    {
     "data": {
      "application/vnd.jupyter.widget-view+json": {
       "model_id": "",
       "version_major": 2,
       "version_minor": 0
      },
      "text/plain": [
       "HBox(children=(IntProgress(value=0, description='val', max=789, style=ProgressStyle(description_width='initial…"
      ]
     },
     "metadata": {},
     "output_type": "display_data"
    },
    {
     "name": "stdout",
     "output_type": "stream",
     "text": [
      "mrmse_nz: 0.958283, rmrmse_nz: 0.403436, mrmse: 0.430338, rmrmse: 0.180566 \n",
      "[2019-11-10 19:59:43,168] epoch: 246 | classification_loss: 0.6429\n",
      "[2019-11-10 19:59:44,527] checkpoint created at /media/James/BigData/CountSeg_output/vOR_counting/model_246.pt\n",
      "[2019-11-10 19:59:45,825] checkpoint created at /media/James/BigData/CountSeg_output/vOR_counting/model_latest.pt\n",
      "\n",
      "--------------------------------------------------------\n",
      "\n",
      "learning rate: 6.25e-06\n",
      "learning rate: 0.000625\n",
      "stage 2 of the training: using criterion2\n"
     ]
    },
    {
     "data": {
      "application/vnd.jupyter.widget-view+json": {
       "model_id": "",
       "version_major": 2,
       "version_minor": 0
      },
      "text/plain": [
       "HBox(children=(IntProgress(value=0, description='train', max=277, style=ProgressStyle(description_width='initi…"
      ]
     },
     "metadata": {},
     "output_type": "display_data"
    },
    {
     "name": "stdout",
     "output_type": "stream",
     "text": [
      "validation start\n"
     ]
    },
    {
     "data": {
      "application/vnd.jupyter.widget-view+json": {
       "model_id": "",
       "version_major": 2,
       "version_minor": 0
      },
      "text/plain": [
       "HBox(children=(IntProgress(value=0, description='val', max=789, style=ProgressStyle(description_width='initial…"
      ]
     },
     "metadata": {},
     "output_type": "display_data"
    },
    {
     "name": "stdout",
     "output_type": "stream",
     "text": [
      "mrmse_nz: 0.976383, rmrmse_nz: 0.403145, mrmse: 0.437135, rmrmse: 0.180332 \n",
      "[2019-11-10 20:01:48,453] epoch: 247 | classification_loss: 0.6426\n",
      "[2019-11-10 20:01:49,726] checkpoint created at /media/James/BigData/CountSeg_output/vOR_counting/model_247.pt\n",
      "[2019-11-10 20:01:51,015] checkpoint created at /media/James/BigData/CountSeg_output/vOR_counting/model_latest.pt\n",
      "\n",
      "--------------------------------------------------------\n",
      "\n",
      "learning rate: 6.25e-06\n",
      "learning rate: 0.000625\n",
      "stage 2 of the training: using criterion2\n"
     ]
    },
    {
     "data": {
      "application/vnd.jupyter.widget-view+json": {
       "model_id": "",
       "version_major": 2,
       "version_minor": 0
      },
      "text/plain": [
       "HBox(children=(IntProgress(value=0, description='train', max=277, style=ProgressStyle(description_width='initi…"
      ]
     },
     "metadata": {},
     "output_type": "display_data"
    },
    {
     "name": "stdout",
     "output_type": "stream",
     "text": [
      "validation start\n"
     ]
    },
    {
     "data": {
      "application/vnd.jupyter.widget-view+json": {
       "model_id": "",
       "version_major": 2,
       "version_minor": 0
      },
      "text/plain": [
       "HBox(children=(IntProgress(value=0, description='val', max=789, style=ProgressStyle(description_width='initial…"
      ]
     },
     "metadata": {},
     "output_type": "display_data"
    },
    {
     "name": "stdout",
     "output_type": "stream",
     "text": [
      "mrmse_nz: 0.956322, rmrmse_nz: 0.408732, mrmse: 0.425161, rmrmse: 0.182862 \n",
      "[2019-11-10 20:03:53,321] epoch: 248 | classification_loss: 0.6430\n",
      "[2019-11-10 20:03:54,658] checkpoint created at /media/James/BigData/CountSeg_output/vOR_counting/model_248.pt\n",
      "[2019-11-10 20:03:55,891] checkpoint created at /media/James/BigData/CountSeg_output/vOR_counting/model_latest.pt\n",
      "\n",
      "--------------------------------------------------------\n",
      "\n",
      "learning rate: 6.25e-06\n",
      "learning rate: 0.000625\n",
      "stage 2 of the training: using criterion2\n"
     ]
    },
    {
     "data": {
      "application/vnd.jupyter.widget-view+json": {
       "model_id": "",
       "version_major": 2,
       "version_minor": 0
      },
      "text/plain": [
       "HBox(children=(IntProgress(value=0, description='train', max=277, style=ProgressStyle(description_width='initi…"
      ]
     },
     "metadata": {},
     "output_type": "display_data"
    },
    {
     "name": "stdout",
     "output_type": "stream",
     "text": [
      "validation start\n"
     ]
    },
    {
     "data": {
      "application/vnd.jupyter.widget-view+json": {
       "model_id": "",
       "version_major": 2,
       "version_minor": 0
      },
      "text/plain": [
       "HBox(children=(IntProgress(value=0, description='val', max=789, style=ProgressStyle(description_width='initial…"
      ]
     },
     "metadata": {},
     "output_type": "display_data"
    },
    {
     "name": "stdout",
     "output_type": "stream",
     "text": [
      "mrmse_nz: 0.990036, rmrmse_nz: 0.410340, mrmse: 0.444634, rmrmse: 0.183621 \n",
      "[2019-11-10 20:05:59,063] epoch: 249 | classification_loss: 0.6429\n",
      "[2019-11-10 20:06:00,378] checkpoint created at /media/James/BigData/CountSeg_output/vOR_counting/model_249.pt\n",
      "[2019-11-10 20:06:01,644] checkpoint created at /media/James/BigData/CountSeg_output/vOR_counting/model_latest.pt\n",
      "\n",
      "--------------------------------------------------------\n",
      "\n",
      "learning rate: 3.125e-06\n",
      "learning rate: 0.0003125\n",
      "stage 2 of the training: using criterion2\n"
     ]
    },
    {
     "data": {
      "application/vnd.jupyter.widget-view+json": {
       "model_id": "",
       "version_major": 2,
       "version_minor": 0
      },
      "text/plain": [
       "HBox(children=(IntProgress(value=0, description='train', max=277, style=ProgressStyle(description_width='initi…"
      ]
     },
     "metadata": {},
     "output_type": "display_data"
    },
    {
     "name": "stdout",
     "output_type": "stream",
     "text": [
      "validation start\n"
     ]
    },
    {
     "data": {
      "application/vnd.jupyter.widget-view+json": {
       "model_id": "",
       "version_major": 2,
       "version_minor": 0
      },
      "text/plain": [
       "HBox(children=(IntProgress(value=0, description='val', max=789, style=ProgressStyle(description_width='initial…"
      ]
     },
     "metadata": {},
     "output_type": "display_data"
    },
    {
     "name": "stdout",
     "output_type": "stream",
     "text": [
      "mrmse_nz: 0.991717, rmrmse_nz: 0.421147, mrmse: 0.444782, rmrmse: 0.188313 \n",
      "[2019-11-10 20:08:04,719] epoch: 250 | classification_loss: 0.6430\n",
      "[2019-11-10 20:08:06,506] checkpoint created at /media/James/BigData/CountSeg_output/vOR_counting/model_250.pt\n",
      "[2019-11-10 20:08:07,789] checkpoint created at /media/James/BigData/CountSeg_output/vOR_counting/model_latest.pt\n",
      "\n",
      "--------------------------------------------------------\n",
      "\n",
      "learning rate: 3.125e-06\n",
      "learning rate: 0.0003125\n",
      "stage 2 of the training: using criterion2\n"
     ]
    },
    {
     "data": {
      "application/vnd.jupyter.widget-view+json": {
       "model_id": "",
       "version_major": 2,
       "version_minor": 0
      },
      "text/plain": [
       "HBox(children=(IntProgress(value=0, description='train', max=277, style=ProgressStyle(description_width='initi…"
      ]
     },
     "metadata": {},
     "output_type": "display_data"
    },
    {
     "name": "stdout",
     "output_type": "stream",
     "text": [
      "validation start\n"
     ]
    },
    {
     "data": {
      "application/vnd.jupyter.widget-view+json": {
       "model_id": "",
       "version_major": 2,
       "version_minor": 0
      },
      "text/plain": [
       "HBox(children=(IntProgress(value=0, description='val', max=789, style=ProgressStyle(description_width='initial…"
      ]
     },
     "metadata": {},
     "output_type": "display_data"
    },
    {
     "name": "stdout",
     "output_type": "stream",
     "text": [
      "mrmse_nz: 0.931790, rmrmse_nz: 0.388997, mrmse: 0.419368, rmrmse: 0.174740 \n",
      "[2019-11-10 20:10:10,565] epoch: 251 | classification_loss: 0.6427\n",
      "[2019-11-10 20:10:11,893] checkpoint created at /media/James/BigData/CountSeg_output/vOR_counting/model_251.pt\n",
      "[2019-11-10 20:10:13,162] checkpoint created at /media/James/BigData/CountSeg_output/vOR_counting/model_latest.pt\n",
      "\n",
      "--------------------------------------------------------\n",
      "\n",
      "learning rate: 3.125e-06\n",
      "learning rate: 0.0003125\n",
      "stage 2 of the training: using criterion2\n"
     ]
    },
    {
     "data": {
      "application/vnd.jupyter.widget-view+json": {
       "model_id": "",
       "version_major": 2,
       "version_minor": 0
      },
      "text/plain": [
       "HBox(children=(IntProgress(value=0, description='train', max=277, style=ProgressStyle(description_width='initi…"
      ]
     },
     "metadata": {},
     "output_type": "display_data"
    },
    {
     "name": "stdout",
     "output_type": "stream",
     "text": [
      "validation start\n"
     ]
    },
    {
     "data": {
      "application/vnd.jupyter.widget-view+json": {
       "model_id": "",
       "version_major": 2,
       "version_minor": 0
      },
      "text/plain": [
       "HBox(children=(IntProgress(value=0, description='val', max=789, style=ProgressStyle(description_width='initial…"
      ]
     },
     "metadata": {},
     "output_type": "display_data"
    },
    {
     "name": "stdout",
     "output_type": "stream",
     "text": [
      "mrmse_nz: 0.946599, rmrmse_nz: 0.404563, mrmse: 0.420748, rmrmse: 0.180863 \n",
      "[2019-11-10 20:12:16,256] epoch: 252 | classification_loss: 0.6431\n",
      "[2019-11-10 20:12:17,592] checkpoint created at /media/James/BigData/CountSeg_output/vOR_counting/model_252.pt\n",
      "[2019-11-10 20:12:18,910] checkpoint created at /media/James/BigData/CountSeg_output/vOR_counting/model_latest.pt\n",
      "\n",
      "--------------------------------------------------------\n",
      "\n",
      "learning rate: 3.125e-06\n",
      "learning rate: 0.0003125\n",
      "stage 2 of the training: using criterion2\n"
     ]
    },
    {
     "data": {
      "application/vnd.jupyter.widget-view+json": {
       "model_id": "",
       "version_major": 2,
       "version_minor": 0
      },
      "text/plain": [
       "HBox(children=(IntProgress(value=0, description='train', max=277, style=ProgressStyle(description_width='initi…"
      ]
     },
     "metadata": {},
     "output_type": "display_data"
    },
    {
     "name": "stdout",
     "output_type": "stream",
     "text": [
      "validation start\n"
     ]
    },
    {
     "data": {
      "application/vnd.jupyter.widget-view+json": {
       "model_id": "",
       "version_major": 2,
       "version_minor": 0
      },
      "text/plain": [
       "HBox(children=(IntProgress(value=0, description='val', max=789, style=ProgressStyle(description_width='initial…"
      ]
     },
     "metadata": {},
     "output_type": "display_data"
    },
    {
     "name": "stdout",
     "output_type": "stream",
     "text": [
      "mrmse_nz: 0.991344, rmrmse_nz: 0.412499, mrmse: 0.442414, rmrmse: 0.184213 \n",
      "[2019-11-10 20:14:20,315] epoch: 253 | classification_loss: 0.6430\n",
      "[2019-11-10 20:14:21,600] checkpoint created at /media/James/BigData/CountSeg_output/vOR_counting/model_253.pt\n",
      "[2019-11-10 20:14:22,895] checkpoint created at /media/James/BigData/CountSeg_output/vOR_counting/model_latest.pt\n",
      "\n",
      "--------------------------------------------------------\n",
      "\n",
      "learning rate: 3.125e-06\n",
      "learning rate: 0.0003125\n",
      "stage 2 of the training: using criterion2\n"
     ]
    },
    {
     "data": {
      "application/vnd.jupyter.widget-view+json": {
       "model_id": "",
       "version_major": 2,
       "version_minor": 0
      },
      "text/plain": [
       "HBox(children=(IntProgress(value=0, description='train', max=277, style=ProgressStyle(description_width='initi…"
      ]
     },
     "metadata": {},
     "output_type": "display_data"
    },
    {
     "name": "stdout",
     "output_type": "stream",
     "text": [
      "validation start\n"
     ]
    },
    {
     "data": {
      "application/vnd.jupyter.widget-view+json": {
       "model_id": "",
       "version_major": 2,
       "version_minor": 0
      },
      "text/plain": [
       "HBox(children=(IntProgress(value=0, description='val', max=789, style=ProgressStyle(description_width='initial…"
      ]
     },
     "metadata": {},
     "output_type": "display_data"
    },
    {
     "name": "stdout",
     "output_type": "stream",
     "text": [
      "mrmse_nz: 1.011068, rmrmse_nz: 0.423421, mrmse: 0.452118, rmrmse: 0.188794 \n",
      "[2019-11-10 20:16:25,209] epoch: 254 | classification_loss: 0.6427\n",
      "[2019-11-10 20:16:26,535] checkpoint created at /media/James/BigData/CountSeg_output/vOR_counting/model_254.pt\n",
      "[2019-11-10 20:16:27,839] checkpoint created at /media/James/BigData/CountSeg_output/vOR_counting/model_latest.pt\n",
      "\n",
      "--------------------------------------------------------\n",
      "\n",
      "learning rate: 3.125e-06\n",
      "learning rate: 0.0003125\n",
      "stage 2 of the training: using criterion2\n"
     ]
    },
    {
     "data": {
      "application/vnd.jupyter.widget-view+json": {
       "model_id": "",
       "version_major": 2,
       "version_minor": 0
      },
      "text/plain": [
       "HBox(children=(IntProgress(value=0, description='train', max=277, style=ProgressStyle(description_width='initi…"
      ]
     },
     "metadata": {},
     "output_type": "display_data"
    },
    {
     "name": "stdout",
     "output_type": "stream",
     "text": [
      "validation start\n"
     ]
    },
    {
     "data": {
      "application/vnd.jupyter.widget-view+json": {
       "model_id": "",
       "version_major": 2,
       "version_minor": 0
      },
      "text/plain": [
       "HBox(children=(IntProgress(value=0, description='val', max=789, style=ProgressStyle(description_width='initial…"
      ]
     },
     "metadata": {},
     "output_type": "display_data"
    },
    {
     "name": "stdout",
     "output_type": "stream",
     "text": [
      "mrmse_nz: 0.973675, rmrmse_nz: 0.408115, mrmse: 0.435498, rmrmse: 0.182110 \n",
      "[2019-11-10 20:18:30,621] epoch: 255 | classification_loss: 0.6426\n",
      "[2019-11-10 20:18:31,893] checkpoint created at /media/James/BigData/CountSeg_output/vOR_counting/model_255.pt\n",
      "[2019-11-10 20:18:33,156] checkpoint created at /media/James/BigData/CountSeg_output/vOR_counting/model_latest.pt\n",
      "\n",
      "--------------------------------------------------------\n",
      "\n",
      "learning rate: 3.125e-06\n",
      "learning rate: 0.0003125\n",
      "stage 2 of the training: using criterion2\n"
     ]
    },
    {
     "data": {
      "application/vnd.jupyter.widget-view+json": {
       "model_id": "",
       "version_major": 2,
       "version_minor": 0
      },
      "text/plain": [
       "HBox(children=(IntProgress(value=0, description='train', max=277, style=ProgressStyle(description_width='initi…"
      ]
     },
     "metadata": {},
     "output_type": "display_data"
    },
    {
     "name": "stdout",
     "output_type": "stream",
     "text": [
      "validation start\n"
     ]
    },
    {
     "data": {
      "application/vnd.jupyter.widget-view+json": {
       "model_id": "",
       "version_major": 2,
       "version_minor": 0
      },
      "text/plain": [
       "HBox(children=(IntProgress(value=0, description='val', max=789, style=ProgressStyle(description_width='initial…"
      ]
     },
     "metadata": {},
     "output_type": "display_data"
    },
    {
     "name": "stdout",
     "output_type": "stream",
     "text": [
      "mrmse_nz: 0.978269, rmrmse_nz: 0.414871, mrmse: 0.436828, rmrmse: 0.185185 \n",
      "[2019-11-10 20:20:35,388] epoch: 256 | classification_loss: 0.6427\n",
      "[2019-11-10 20:20:36,771] checkpoint created at /media/James/BigData/CountSeg_output/vOR_counting/model_256.pt\n",
      "[2019-11-10 20:20:38,039] checkpoint created at /media/James/BigData/CountSeg_output/vOR_counting/model_latest.pt\n",
      "\n",
      "--------------------------------------------------------\n",
      "\n",
      "learning rate: 3.125e-06\n",
      "learning rate: 0.0003125\n",
      "stage 2 of the training: using criterion2\n"
     ]
    },
    {
     "data": {
      "application/vnd.jupyter.widget-view+json": {
       "model_id": "",
       "version_major": 2,
       "version_minor": 0
      },
      "text/plain": [
       "HBox(children=(IntProgress(value=0, description='train', max=277, style=ProgressStyle(description_width='initi…"
      ]
     },
     "metadata": {},
     "output_type": "display_data"
    },
    {
     "name": "stdout",
     "output_type": "stream",
     "text": [
      "validation start\n"
     ]
    },
    {
     "data": {
      "application/vnd.jupyter.widget-view+json": {
       "model_id": "",
       "version_major": 2,
       "version_minor": 0
      },
      "text/plain": [
       "HBox(children=(IntProgress(value=0, description='val', max=789, style=ProgressStyle(description_width='initial…"
      ]
     },
     "metadata": {},
     "output_type": "display_data"
    },
    {
     "name": "stdout",
     "output_type": "stream",
     "text": [
      "mrmse_nz: 0.957882, rmrmse_nz: 0.404792, mrmse: 0.425959, rmrmse: 0.180672 \n",
      "[2019-11-10 20:22:39,886] epoch: 257 | classification_loss: 0.6427\n",
      "[2019-11-10 20:22:41,230] checkpoint created at /media/James/BigData/CountSeg_output/vOR_counting/model_257.pt\n",
      "[2019-11-10 20:22:42,520] checkpoint created at /media/James/BigData/CountSeg_output/vOR_counting/model_latest.pt\n",
      "\n",
      "--------------------------------------------------------\n",
      "\n",
      "learning rate: 3.125e-06\n",
      "learning rate: 0.0003125\n",
      "stage 2 of the training: using criterion2\n"
     ]
    },
    {
     "data": {
      "application/vnd.jupyter.widget-view+json": {
       "model_id": "",
       "version_major": 2,
       "version_minor": 0
      },
      "text/plain": [
       "HBox(children=(IntProgress(value=0, description='train', max=277, style=ProgressStyle(description_width='initi…"
      ]
     },
     "metadata": {},
     "output_type": "display_data"
    },
    {
     "name": "stdout",
     "output_type": "stream",
     "text": [
      "validation start\n"
     ]
    },
    {
     "data": {
      "application/vnd.jupyter.widget-view+json": {
       "model_id": "",
       "version_major": 2,
       "version_minor": 0
      },
      "text/plain": [
       "HBox(children=(IntProgress(value=0, description='val', max=789, style=ProgressStyle(description_width='initial…"
      ]
     },
     "metadata": {},
     "output_type": "display_data"
    },
    {
     "name": "stdout",
     "output_type": "stream",
     "text": [
      "mrmse_nz: 0.967525, rmrmse_nz: 0.424785, mrmse: 0.429414, rmrmse: 0.188974 \n",
      "[2019-11-10 20:24:45,073] epoch: 258 | classification_loss: 0.6430\n",
      "[2019-11-10 20:24:46,425] checkpoint created at /media/James/BigData/CountSeg_output/vOR_counting/model_258.pt\n",
      "[2019-11-10 20:24:47,725] checkpoint created at /media/James/BigData/CountSeg_output/vOR_counting/model_latest.pt\n",
      "\n",
      "--------------------------------------------------------\n",
      "\n",
      "learning rate: 3.125e-06\n",
      "learning rate: 0.0003125\n",
      "stage 2 of the training: using criterion2\n"
     ]
    },
    {
     "data": {
      "application/vnd.jupyter.widget-view+json": {
       "model_id": "",
       "version_major": 2,
       "version_minor": 0
      },
      "text/plain": [
       "HBox(children=(IntProgress(value=0, description='train', max=277, style=ProgressStyle(description_width='initi…"
      ]
     },
     "metadata": {},
     "output_type": "display_data"
    },
    {
     "name": "stdout",
     "output_type": "stream",
     "text": [
      "validation start\n"
     ]
    },
    {
     "data": {
      "application/vnd.jupyter.widget-view+json": {
       "model_id": "",
       "version_major": 2,
       "version_minor": 0
      },
      "text/plain": [
       "HBox(children=(IntProgress(value=0, description='val', max=789, style=ProgressStyle(description_width='initial…"
      ]
     },
     "metadata": {},
     "output_type": "display_data"
    },
    {
     "name": "stdout",
     "output_type": "stream",
     "text": [
      "mrmse_nz: 0.941076, rmrmse_nz: 0.391587, mrmse: 0.423523, rmrmse: 0.175953 \n",
      "[2019-11-10 20:26:50,197] epoch: 259 | classification_loss: 0.6428\n",
      "[2019-11-10 20:26:51,483] checkpoint created at /media/James/BigData/CountSeg_output/vOR_counting/model_259.pt\n",
      "[2019-11-10 20:26:52,742] checkpoint created at /media/James/BigData/CountSeg_output/vOR_counting/model_latest.pt\n",
      "\n",
      "--------------------------------------------------------\n",
      "\n",
      "learning rate: 3.125e-06\n",
      "learning rate: 0.0003125\n",
      "stage 2 of the training: using criterion2\n"
     ]
    },
    {
     "data": {
      "application/vnd.jupyter.widget-view+json": {
       "model_id": "",
       "version_major": 2,
       "version_minor": 0
      },
      "text/plain": [
       "HBox(children=(IntProgress(value=0, description='train', max=277, style=ProgressStyle(description_width='initi…"
      ]
     },
     "metadata": {},
     "output_type": "display_data"
    },
    {
     "name": "stdout",
     "output_type": "stream",
     "text": [
      "validation start\n"
     ]
    },
    {
     "data": {
      "application/vnd.jupyter.widget-view+json": {
       "model_id": "",
       "version_major": 2,
       "version_minor": 0
      },
      "text/plain": [
       "HBox(children=(IntProgress(value=0, description='val', max=789, style=ProgressStyle(description_width='initial…"
      ]
     },
     "metadata": {},
     "output_type": "display_data"
    },
    {
     "name": "stdout",
     "output_type": "stream",
     "text": [
      "mrmse_nz: 0.940837, rmrmse_nz: 0.386950, mrmse: 0.424422, rmrmse: 0.174058 \n",
      "[2019-11-10 20:28:55,471] epoch: 260 | classification_loss: 0.6427\n",
      "[2019-11-10 20:28:56,822] checkpoint created at /media/James/BigData/CountSeg_output/vOR_counting/model_260.pt\n",
      "[2019-11-10 20:28:58,057] checkpoint created at /media/James/BigData/CountSeg_output/vOR_counting/model_latest.pt\n",
      "\n",
      "--------------------------------------------------------\n",
      "\n",
      "learning rate: 3.125e-06\n",
      "learning rate: 0.0003125\n",
      "stage 2 of the training: using criterion2\n"
     ]
    },
    {
     "data": {
      "application/vnd.jupyter.widget-view+json": {
       "model_id": "",
       "version_major": 2,
       "version_minor": 0
      },
      "text/plain": [
       "HBox(children=(IntProgress(value=0, description='train', max=277, style=ProgressStyle(description_width='initi…"
      ]
     },
     "metadata": {},
     "output_type": "display_data"
    },
    {
     "name": "stdout",
     "output_type": "stream",
     "text": [
      "validation start\n"
     ]
    },
    {
     "data": {
      "application/vnd.jupyter.widget-view+json": {
       "model_id": "",
       "version_major": 2,
       "version_minor": 0
      },
      "text/plain": [
       "HBox(children=(IntProgress(value=0, description='val', max=789, style=ProgressStyle(description_width='initial…"
      ]
     },
     "metadata": {},
     "output_type": "display_data"
    },
    {
     "name": "stdout",
     "output_type": "stream",
     "text": [
      "mrmse_nz: 0.993002, rmrmse_nz: 0.411023, mrmse: 0.442673, rmrmse: 0.183320 \n",
      "[2019-11-10 20:30:59,913] epoch: 261 | classification_loss: 0.6429\n",
      "[2019-11-10 20:31:01,308] checkpoint created at /media/James/BigData/CountSeg_output/vOR_counting/model_261.pt\n",
      "[2019-11-10 20:31:02,614] checkpoint created at /media/James/BigData/CountSeg_output/vOR_counting/model_latest.pt\n",
      "\n",
      "--------------------------------------------------------\n",
      "\n",
      "learning rate: 3.125e-06\n",
      "learning rate: 0.0003125\n",
      "stage 2 of the training: using criterion2\n"
     ]
    },
    {
     "data": {
      "application/vnd.jupyter.widget-view+json": {
       "model_id": "",
       "version_major": 2,
       "version_minor": 0
      },
      "text/plain": [
       "HBox(children=(IntProgress(value=0, description='train', max=277, style=ProgressStyle(description_width='initi…"
      ]
     },
     "metadata": {},
     "output_type": "display_data"
    },
    {
     "name": "stdout",
     "output_type": "stream",
     "text": [
      "validation start\n"
     ]
    },
    {
     "data": {
      "application/vnd.jupyter.widget-view+json": {
       "model_id": "",
       "version_major": 2,
       "version_minor": 0
      },
      "text/plain": [
       "HBox(children=(IntProgress(value=0, description='val', max=789, style=ProgressStyle(description_width='initial…"
      ]
     },
     "metadata": {},
     "output_type": "display_data"
    },
    {
     "name": "stdout",
     "output_type": "stream",
     "text": [
      "mrmse_nz: 0.956621, rmrmse_nz: 0.401025, mrmse: 0.427366, rmrmse: 0.179237 \n",
      "[2019-11-10 20:33:03,429] epoch: 262 | classification_loss: 0.6427\n",
      "[2019-11-10 20:33:04,763] checkpoint created at /media/James/BigData/CountSeg_output/vOR_counting/model_262.pt\n",
      "[2019-11-10 20:33:06,025] checkpoint created at /media/James/BigData/CountSeg_output/vOR_counting/model_latest.pt\n",
      "\n",
      "--------------------------------------------------------\n",
      "\n",
      "learning rate: 3.125e-06\n",
      "learning rate: 0.0003125\n",
      "stage 2 of the training: using criterion2\n"
     ]
    },
    {
     "data": {
      "application/vnd.jupyter.widget-view+json": {
       "model_id": "",
       "version_major": 2,
       "version_minor": 0
      },
      "text/plain": [
       "HBox(children=(IntProgress(value=0, description='train', max=277, style=ProgressStyle(description_width='initi…"
      ]
     },
     "metadata": {},
     "output_type": "display_data"
    },
    {
     "name": "stdout",
     "output_type": "stream",
     "text": [
      "validation start\n"
     ]
    },
    {
     "data": {
      "application/vnd.jupyter.widget-view+json": {
       "model_id": "",
       "version_major": 2,
       "version_minor": 0
      },
      "text/plain": [
       "HBox(children=(IntProgress(value=0, description='val', max=789, style=ProgressStyle(description_width='initial…"
      ]
     },
     "metadata": {},
     "output_type": "display_data"
    },
    {
     "name": "stdout",
     "output_type": "stream",
     "text": [
      "mrmse_nz: 0.989891, rmrmse_nz: 0.406299, mrmse: 0.443496, rmrmse: 0.182003 \n",
      "[2019-11-10 20:35:07,857] epoch: 263 | classification_loss: 0.6425\n",
      "[2019-11-10 20:35:09,135] checkpoint created at /media/James/BigData/CountSeg_output/vOR_counting/model_263.pt\n",
      "[2019-11-10 20:35:10,366] checkpoint created at /media/James/BigData/CountSeg_output/vOR_counting/model_latest.pt\n",
      "\n",
      "--------------------------------------------------------\n",
      "\n",
      "learning rate: 3.125e-06\n",
      "learning rate: 0.0003125\n",
      "stage 2 of the training: using criterion2\n"
     ]
    },
    {
     "data": {
      "application/vnd.jupyter.widget-view+json": {
       "model_id": "",
       "version_major": 2,
       "version_minor": 0
      },
      "text/plain": [
       "HBox(children=(IntProgress(value=0, description='train', max=277, style=ProgressStyle(description_width='initi…"
      ]
     },
     "metadata": {},
     "output_type": "display_data"
    },
    {
     "name": "stdout",
     "output_type": "stream",
     "text": [
      "validation start\n"
     ]
    },
    {
     "data": {
      "application/vnd.jupyter.widget-view+json": {
       "model_id": "",
       "version_major": 2,
       "version_minor": 0
      },
      "text/plain": [
       "HBox(children=(IntProgress(value=0, description='val', max=789, style=ProgressStyle(description_width='initial…"
      ]
     },
     "metadata": {},
     "output_type": "display_data"
    },
    {
     "name": "stdout",
     "output_type": "stream",
     "text": [
      "mrmse_nz: 0.971533, rmrmse_nz: 0.398262, mrmse: 0.435167, rmrmse: 0.178230 \n",
      "[2019-11-10 20:37:12,759] epoch: 264 | classification_loss: 0.6427\n",
      "[2019-11-10 20:37:14,091] checkpoint created at /media/James/BigData/CountSeg_output/vOR_counting/model_264.pt\n",
      "[2019-11-10 20:37:15,366] checkpoint created at /media/James/BigData/CountSeg_output/vOR_counting/model_latest.pt\n",
      "\n",
      "--------------------------------------------------------\n",
      "\n",
      "learning rate: 3.125e-06\n",
      "learning rate: 0.0003125\n",
      "stage 2 of the training: using criterion2\n"
     ]
    },
    {
     "data": {
      "application/vnd.jupyter.widget-view+json": {
       "model_id": "",
       "version_major": 2,
       "version_minor": 0
      },
      "text/plain": [
       "HBox(children=(IntProgress(value=0, description='train', max=277, style=ProgressStyle(description_width='initi…"
      ]
     },
     "metadata": {},
     "output_type": "display_data"
    },
    {
     "name": "stdout",
     "output_type": "stream",
     "text": [
      "validation start\n"
     ]
    },
    {
     "data": {
      "application/vnd.jupyter.widget-view+json": {
       "model_id": "",
       "version_major": 2,
       "version_minor": 0
      },
      "text/plain": [
       "HBox(children=(IntProgress(value=0, description='val', max=789, style=ProgressStyle(description_width='initial…"
      ]
     },
     "metadata": {},
     "output_type": "display_data"
    },
    {
     "name": "stdout",
     "output_type": "stream",
     "text": [
      "mrmse_nz: 0.967811, rmrmse_nz: 0.403945, mrmse: 0.430954, rmrmse: 0.180273 \n",
      "[2019-11-10 20:39:18,013] epoch: 265 | classification_loss: 0.6426\n",
      "[2019-11-10 20:39:19,295] checkpoint created at /media/James/BigData/CountSeg_output/vOR_counting/model_265.pt\n",
      "[2019-11-10 20:39:20,611] checkpoint created at /media/James/BigData/CountSeg_output/vOR_counting/model_latest.pt\n",
      "\n",
      "--------------------------------------------------------\n",
      "\n",
      "learning rate: 3.125e-06\n",
      "learning rate: 0.0003125\n",
      "stage 2 of the training: using criterion2\n"
     ]
    },
    {
     "data": {
      "application/vnd.jupyter.widget-view+json": {
       "model_id": "",
       "version_major": 2,
       "version_minor": 0
      },
      "text/plain": [
       "HBox(children=(IntProgress(value=0, description='train', max=277, style=ProgressStyle(description_width='initi…"
      ]
     },
     "metadata": {},
     "output_type": "display_data"
    },
    {
     "name": "stdout",
     "output_type": "stream",
     "text": [
      "validation start\n"
     ]
    },
    {
     "data": {
      "application/vnd.jupyter.widget-view+json": {
       "model_id": "",
       "version_major": 2,
       "version_minor": 0
      },
      "text/plain": [
       "HBox(children=(IntProgress(value=0, description='val', max=789, style=ProgressStyle(description_width='initial…"
      ]
     },
     "metadata": {},
     "output_type": "display_data"
    },
    {
     "name": "stdout",
     "output_type": "stream",
     "text": [
      "mrmse_nz: 0.956635, rmrmse_nz: 0.401409, mrmse: 0.429163, rmrmse: 0.179495 \n",
      "[2019-11-10 20:41:23,491] epoch: 266 | classification_loss: 0.6426\n",
      "[2019-11-10 20:41:24,811] checkpoint created at /media/James/BigData/CountSeg_output/vOR_counting/model_266.pt\n",
      "[2019-11-10 20:41:26,105] checkpoint created at /media/James/BigData/CountSeg_output/vOR_counting/model_latest.pt\n",
      "\n",
      "--------------------------------------------------------\n",
      "\n",
      "learning rate: 3.125e-06\n",
      "learning rate: 0.0003125\n",
      "stage 2 of the training: using criterion2\n"
     ]
    },
    {
     "data": {
      "application/vnd.jupyter.widget-view+json": {
       "model_id": "",
       "version_major": 2,
       "version_minor": 0
      },
      "text/plain": [
       "HBox(children=(IntProgress(value=0, description='train', max=277, style=ProgressStyle(description_width='initi…"
      ]
     },
     "metadata": {},
     "output_type": "display_data"
    },
    {
     "name": "stdout",
     "output_type": "stream",
     "text": [
      "validation start\n"
     ]
    },
    {
     "data": {
      "application/vnd.jupyter.widget-view+json": {
       "model_id": "",
       "version_major": 2,
       "version_minor": 0
      },
      "text/plain": [
       "HBox(children=(IntProgress(value=0, description='val', max=789, style=ProgressStyle(description_width='initial…"
      ]
     },
     "metadata": {},
     "output_type": "display_data"
    },
    {
     "name": "stdout",
     "output_type": "stream",
     "text": [
      "mrmse_nz: 0.990464, rmrmse_nz: 0.405948, mrmse: 0.444055, rmrmse: 0.182008 \n",
      "[2019-11-10 20:43:28,949] epoch: 267 | classification_loss: 0.6425\n",
      "[2019-11-10 20:43:30,276] checkpoint created at /media/James/BigData/CountSeg_output/vOR_counting/model_267.pt\n",
      "[2019-11-10 20:43:31,565] checkpoint created at /media/James/BigData/CountSeg_output/vOR_counting/model_latest.pt\n",
      "\n",
      "--------------------------------------------------------\n",
      "\n",
      "learning rate: 3.125e-06\n",
      "learning rate: 0.0003125\n",
      "stage 2 of the training: using criterion2\n"
     ]
    },
    {
     "data": {
      "application/vnd.jupyter.widget-view+json": {
       "model_id": "",
       "version_major": 2,
       "version_minor": 0
      },
      "text/plain": [
       "HBox(children=(IntProgress(value=0, description='train', max=277, style=ProgressStyle(description_width='initi…"
      ]
     },
     "metadata": {},
     "output_type": "display_data"
    },
    {
     "name": "stdout",
     "output_type": "stream",
     "text": [
      "validation start\n"
     ]
    },
    {
     "data": {
      "application/vnd.jupyter.widget-view+json": {
       "model_id": "",
       "version_major": 2,
       "version_minor": 0
      },
      "text/plain": [
       "HBox(children=(IntProgress(value=0, description='val', max=789, style=ProgressStyle(description_width='initial…"
      ]
     },
     "metadata": {},
     "output_type": "display_data"
    },
    {
     "name": "stdout",
     "output_type": "stream",
     "text": [
      "mrmse_nz: 0.963360, rmrmse_nz: 0.410068, mrmse: 0.429311, rmrmse: 0.182987 \n",
      "[2019-11-10 20:45:34,404] epoch: 268 | classification_loss: 0.6425\n",
      "[2019-11-10 20:45:35,735] checkpoint created at /media/James/BigData/CountSeg_output/vOR_counting/model_268.pt\n",
      "[2019-11-10 20:45:36,983] checkpoint created at /media/James/BigData/CountSeg_output/vOR_counting/model_latest.pt\n",
      "\n",
      "--------------------------------------------------------\n",
      "\n",
      "learning rate: 3.125e-06\n",
      "learning rate: 0.0003125\n",
      "stage 2 of the training: using criterion2\n"
     ]
    },
    {
     "data": {
      "application/vnd.jupyter.widget-view+json": {
       "model_id": "",
       "version_major": 2,
       "version_minor": 0
      },
      "text/plain": [
       "HBox(children=(IntProgress(value=0, description='train', max=277, style=ProgressStyle(description_width='initi…"
      ]
     },
     "metadata": {},
     "output_type": "display_data"
    },
    {
     "name": "stdout",
     "output_type": "stream",
     "text": [
      "validation start\n"
     ]
    },
    {
     "data": {
      "application/vnd.jupyter.widget-view+json": {
       "model_id": "",
       "version_major": 2,
       "version_minor": 0
      },
      "text/plain": [
       "HBox(children=(IntProgress(value=0, description='val', max=789, style=ProgressStyle(description_width='initial…"
      ]
     },
     "metadata": {},
     "output_type": "display_data"
    },
    {
     "name": "stdout",
     "output_type": "stream",
     "text": [
      "mrmse_nz: 0.992691, rmrmse_nz: 0.412550, mrmse: 0.444977, rmrmse: 0.184351 \n",
      "[2019-11-10 20:47:40,356] epoch: 269 | classification_loss: 0.6430\n",
      "[2019-11-10 20:47:41,667] checkpoint created at /media/James/BigData/CountSeg_output/vOR_counting/model_269.pt\n",
      "[2019-11-10 20:47:42,957] checkpoint created at /media/James/BigData/CountSeg_output/vOR_counting/model_latest.pt\n",
      "\n",
      "--------------------------------------------------------\n",
      "\n",
      "learning rate: 3.125e-06\n",
      "learning rate: 0.0003125\n",
      "stage 2 of the training: using criterion2\n"
     ]
    },
    {
     "data": {
      "application/vnd.jupyter.widget-view+json": {
       "model_id": "",
       "version_major": 2,
       "version_minor": 0
      },
      "text/plain": [
       "HBox(children=(IntProgress(value=0, description='train', max=277, style=ProgressStyle(description_width='initi…"
      ]
     },
     "metadata": {},
     "output_type": "display_data"
    },
    {
     "name": "stdout",
     "output_type": "stream",
     "text": [
      "validation start\n"
     ]
    },
    {
     "data": {
      "application/vnd.jupyter.widget-view+json": {
       "model_id": "",
       "version_major": 2,
       "version_minor": 0
      },
      "text/plain": [
       "HBox(children=(IntProgress(value=0, description='val', max=789, style=ProgressStyle(description_width='initial…"
      ]
     },
     "metadata": {},
     "output_type": "display_data"
    },
    {
     "name": "stdout",
     "output_type": "stream",
     "text": [
      "mrmse_nz: 0.924712, rmrmse_nz: 0.388453, mrmse: 0.414138, rmrmse: 0.174158 \n",
      "[2019-11-10 20:49:45,801] epoch: 270 | classification_loss: 0.6427\n",
      "[2019-11-10 20:49:47,128] checkpoint created at /media/James/BigData/CountSeg_output/vOR_counting/model_270.pt\n",
      "[2019-11-10 20:49:48,410] checkpoint created at /media/James/BigData/CountSeg_output/vOR_counting/model_latest.pt\n",
      "\n",
      "--------------------------------------------------------\n",
      "\n",
      "learning rate: 3.125e-06\n",
      "learning rate: 0.0003125\n",
      "stage 2 of the training: using criterion2\n"
     ]
    },
    {
     "data": {
      "application/vnd.jupyter.widget-view+json": {
       "model_id": "",
       "version_major": 2,
       "version_minor": 0
      },
      "text/plain": [
       "HBox(children=(IntProgress(value=0, description='train', max=277, style=ProgressStyle(description_width='initi…"
      ]
     },
     "metadata": {},
     "output_type": "display_data"
    },
    {
     "name": "stdout",
     "output_type": "stream",
     "text": [
      "validation start\n"
     ]
    },
    {
     "data": {
      "application/vnd.jupyter.widget-view+json": {
       "model_id": "",
       "version_major": 2,
       "version_minor": 0
      },
      "text/plain": [
       "HBox(children=(IntProgress(value=0, description='val', max=789, style=ProgressStyle(description_width='initial…"
      ]
     },
     "metadata": {},
     "output_type": "display_data"
    },
    {
     "name": "stdout",
     "output_type": "stream",
     "text": [
      "mrmse_nz: 1.022530, rmrmse_nz: 0.427084, mrmse: 0.457884, rmrmse: 0.190526 \n",
      "[2019-11-10 20:51:50,578] epoch: 271 | classification_loss: 0.6427\n",
      "[2019-11-10 20:51:51,828] checkpoint created at /media/James/BigData/CountSeg_output/vOR_counting/model_271.pt\n",
      "[2019-11-10 20:51:53,073] checkpoint created at /media/James/BigData/CountSeg_output/vOR_counting/model_latest.pt\n",
      "\n",
      "--------------------------------------------------------\n",
      "\n",
      "learning rate: 3.125e-06\n",
      "learning rate: 0.0003125\n",
      "stage 2 of the training: using criterion2\n"
     ]
    },
    {
     "data": {
      "application/vnd.jupyter.widget-view+json": {
       "model_id": "",
       "version_major": 2,
       "version_minor": 0
      },
      "text/plain": [
       "HBox(children=(IntProgress(value=0, description='train', max=277, style=ProgressStyle(description_width='initi…"
      ]
     },
     "metadata": {},
     "output_type": "display_data"
    },
    {
     "name": "stdout",
     "output_type": "stream",
     "text": [
      "validation start\n"
     ]
    },
    {
     "data": {
      "application/vnd.jupyter.widget-view+json": {
       "model_id": "",
       "version_major": 2,
       "version_minor": 0
      },
      "text/plain": [
       "HBox(children=(IntProgress(value=0, description='val', max=789, style=ProgressStyle(description_width='initial…"
      ]
     },
     "metadata": {},
     "output_type": "display_data"
    },
    {
     "name": "stdout",
     "output_type": "stream",
     "text": [
      "mrmse_nz: 0.982010, rmrmse_nz: 0.404239, mrmse: 0.438068, rmrmse: 0.180449 \n",
      "[2019-11-10 20:53:55,678] epoch: 272 | classification_loss: 0.6429\n",
      "[2019-11-10 20:53:57,019] checkpoint created at /media/James/BigData/CountSeg_output/vOR_counting/model_272.pt\n",
      "[2019-11-10 20:53:58,328] checkpoint created at /media/James/BigData/CountSeg_output/vOR_counting/model_latest.pt\n",
      "\n",
      "--------------------------------------------------------\n",
      "\n",
      "learning rate: 3.125e-06\n",
      "learning rate: 0.0003125\n",
      "stage 2 of the training: using criterion2\n"
     ]
    },
    {
     "data": {
      "application/vnd.jupyter.widget-view+json": {
       "model_id": "",
       "version_major": 2,
       "version_minor": 0
      },
      "text/plain": [
       "HBox(children=(IntProgress(value=0, description='train', max=277, style=ProgressStyle(description_width='initi…"
      ]
     },
     "metadata": {},
     "output_type": "display_data"
    },
    {
     "name": "stdout",
     "output_type": "stream",
     "text": [
      "validation start\n"
     ]
    },
    {
     "data": {
      "application/vnd.jupyter.widget-view+json": {
       "model_id": "",
       "version_major": 2,
       "version_minor": 0
      },
      "text/plain": [
       "HBox(children=(IntProgress(value=0, description='val', max=789, style=ProgressStyle(description_width='initial…"
      ]
     },
     "metadata": {},
     "output_type": "display_data"
    },
    {
     "name": "stdout",
     "output_type": "stream",
     "text": [
      "mrmse_nz: 0.996842, rmrmse_nz: 0.408706, mrmse: 0.445038, rmrmse: 0.182613 \n",
      "[2019-11-10 20:56:00,208] epoch: 273 | classification_loss: 0.6425\n",
      "[2019-11-10 20:56:01,558] checkpoint created at /media/James/BigData/CountSeg_output/vOR_counting/model_273.pt\n",
      "[2019-11-10 20:56:02,866] checkpoint created at /media/James/BigData/CountSeg_output/vOR_counting/model_latest.pt\n",
      "\n",
      "--------------------------------------------------------\n",
      "\n",
      "learning rate: 3.125e-06\n",
      "learning rate: 0.0003125\n",
      "stage 2 of the training: using criterion2\n"
     ]
    },
    {
     "data": {
      "application/vnd.jupyter.widget-view+json": {
       "model_id": "",
       "version_major": 2,
       "version_minor": 0
      },
      "text/plain": [
       "HBox(children=(IntProgress(value=0, description='train', max=277, style=ProgressStyle(description_width='initi…"
      ]
     },
     "metadata": {},
     "output_type": "display_data"
    },
    {
     "name": "stdout",
     "output_type": "stream",
     "text": [
      "validation start\n"
     ]
    },
    {
     "data": {
      "application/vnd.jupyter.widget-view+json": {
       "model_id": "",
       "version_major": 2,
       "version_minor": 0
      },
      "text/plain": [
       "HBox(children=(IntProgress(value=0, description='val', max=789, style=ProgressStyle(description_width='initial…"
      ]
     },
     "metadata": {},
     "output_type": "display_data"
    },
    {
     "name": "stdout",
     "output_type": "stream",
     "text": [
      "mrmse_nz: 0.958524, rmrmse_nz: 0.411696, mrmse: 0.425832, rmrmse: 0.183797 \n",
      "[2019-11-10 20:58:04,737] epoch: 274 | classification_loss: 0.6446\n",
      "[2019-11-10 20:58:06,044] checkpoint created at /media/James/BigData/CountSeg_output/vOR_counting/model_274.pt\n",
      "[2019-11-10 20:58:07,282] checkpoint created at /media/James/BigData/CountSeg_output/vOR_counting/model_latest.pt\n",
      "\n",
      "--------------------------------------------------------\n",
      "\n",
      "learning rate: 3.125e-06\n",
      "learning rate: 0.0003125\n",
      "stage 2 of the training: using criterion2\n"
     ]
    },
    {
     "data": {
      "application/vnd.jupyter.widget-view+json": {
       "model_id": "",
       "version_major": 2,
       "version_minor": 0
      },
      "text/plain": [
       "HBox(children=(IntProgress(value=0, description='train', max=277, style=ProgressStyle(description_width='initi…"
      ]
     },
     "metadata": {},
     "output_type": "display_data"
    },
    {
     "name": "stdout",
     "output_type": "stream",
     "text": [
      "validation start\n"
     ]
    },
    {
     "data": {
      "application/vnd.jupyter.widget-view+json": {
       "model_id": "",
       "version_major": 2,
       "version_minor": 0
      },
      "text/plain": [
       "HBox(children=(IntProgress(value=0, description='val', max=789, style=ProgressStyle(description_width='initial…"
      ]
     },
     "metadata": {},
     "output_type": "display_data"
    },
    {
     "name": "stdout",
     "output_type": "stream",
     "text": [
      "mrmse_nz: 0.971129, rmrmse_nz: 0.404298, mrmse: 0.433902, rmrmse: 0.180952 \n",
      "[2019-11-10 21:00:10,094] epoch: 275 | classification_loss: 0.6427\n",
      "[2019-11-10 21:00:11,388] checkpoint created at /media/James/BigData/CountSeg_output/vOR_counting/model_275.pt\n",
      "[2019-11-10 21:00:12,725] checkpoint created at /media/James/BigData/CountSeg_output/vOR_counting/model_latest.pt\n",
      "\n",
      "--------------------------------------------------------\n",
      "\n",
      "learning rate: 3.125e-06\n",
      "learning rate: 0.0003125\n",
      "stage 2 of the training: using criterion2\n"
     ]
    },
    {
     "data": {
      "application/vnd.jupyter.widget-view+json": {
       "model_id": "",
       "version_major": 2,
       "version_minor": 0
      },
      "text/plain": [
       "HBox(children=(IntProgress(value=0, description='train', max=277, style=ProgressStyle(description_width='initi…"
      ]
     },
     "metadata": {},
     "output_type": "display_data"
    },
    {
     "name": "stdout",
     "output_type": "stream",
     "text": [
      "validation start\n"
     ]
    },
    {
     "data": {
      "application/vnd.jupyter.widget-view+json": {
       "model_id": "",
       "version_major": 2,
       "version_minor": 0
      },
      "text/plain": [
       "HBox(children=(IntProgress(value=0, description='val', max=789, style=ProgressStyle(description_width='initial…"
      ]
     },
     "metadata": {},
     "output_type": "display_data"
    },
    {
     "name": "stdout",
     "output_type": "stream",
     "text": [
      "mrmse_nz: 0.968029, rmrmse_nz: 0.398024, mrmse: 0.431903, rmrmse: 0.177755 \n",
      "[2019-11-10 21:02:15,076] epoch: 276 | classification_loss: 0.6423\n",
      "[2019-11-10 21:02:16,416] checkpoint created at /media/James/BigData/CountSeg_output/vOR_counting/model_276.pt\n",
      "[2019-11-10 21:02:17,710] checkpoint created at /media/James/BigData/CountSeg_output/vOR_counting/model_latest.pt\n",
      "\n",
      "--------------------------------------------------------\n",
      "\n",
      "learning rate: 3.125e-06\n",
      "learning rate: 0.0003125\n",
      "stage 2 of the training: using criterion2\n"
     ]
    },
    {
     "data": {
      "application/vnd.jupyter.widget-view+json": {
       "model_id": "",
       "version_major": 2,
       "version_minor": 0
      },
      "text/plain": [
       "HBox(children=(IntProgress(value=0, description='train', max=277, style=ProgressStyle(description_width='initi…"
      ]
     },
     "metadata": {},
     "output_type": "display_data"
    },
    {
     "name": "stdout",
     "output_type": "stream",
     "text": [
      "validation start\n"
     ]
    },
    {
     "data": {
      "application/vnd.jupyter.widget-view+json": {
       "model_id": "",
       "version_major": 2,
       "version_minor": 0
      },
      "text/plain": [
       "HBox(children=(IntProgress(value=0, description='val', max=789, style=ProgressStyle(description_width='initial…"
      ]
     },
     "metadata": {},
     "output_type": "display_data"
    },
    {
     "name": "stdout",
     "output_type": "stream",
     "text": [
      "mrmse_nz: 1.044543, rmrmse_nz: 0.436452, mrmse: 0.466709, rmrmse: 0.194762 \n",
      "[2019-11-10 21:04:20,252] epoch: 277 | classification_loss: 0.6427\n",
      "[2019-11-10 21:04:21,575] checkpoint created at /media/James/BigData/CountSeg_output/vOR_counting/model_277.pt\n",
      "[2019-11-10 21:04:22,842] checkpoint created at /media/James/BigData/CountSeg_output/vOR_counting/model_latest.pt\n",
      "\n",
      "--------------------------------------------------------\n",
      "\n",
      "learning rate: 3.125e-06\n",
      "learning rate: 0.0003125\n",
      "stage 2 of the training: using criterion2\n"
     ]
    },
    {
     "data": {
      "application/vnd.jupyter.widget-view+json": {
       "model_id": "",
       "version_major": 2,
       "version_minor": 0
      },
      "text/plain": [
       "HBox(children=(IntProgress(value=0, description='train', max=277, style=ProgressStyle(description_width='initi…"
      ]
     },
     "metadata": {},
     "output_type": "display_data"
    },
    {
     "name": "stdout",
     "output_type": "stream",
     "text": [
      "validation start\n"
     ]
    },
    {
     "data": {
      "application/vnd.jupyter.widget-view+json": {
       "model_id": "",
       "version_major": 2,
       "version_minor": 0
      },
      "text/plain": [
       "HBox(children=(IntProgress(value=0, description='val', max=789, style=ProgressStyle(description_width='initial…"
      ]
     },
     "metadata": {},
     "output_type": "display_data"
    },
    {
     "name": "stdout",
     "output_type": "stream",
     "text": [
      "mrmse_nz: 0.973058, rmrmse_nz: 0.413760, mrmse: 0.434090, rmrmse: 0.184427 \n",
      "[2019-11-10 21:06:25,462] epoch: 278 | classification_loss: 0.6427\n",
      "[2019-11-10 21:06:26,804] checkpoint created at /media/James/BigData/CountSeg_output/vOR_counting/model_278.pt\n",
      "[2019-11-10 21:06:28,063] checkpoint created at /media/James/BigData/CountSeg_output/vOR_counting/model_latest.pt\n",
      "\n",
      "--------------------------------------------------------\n",
      "\n",
      "learning rate: 3.125e-06\n",
      "learning rate: 0.0003125\n",
      "stage 2 of the training: using criterion2\n"
     ]
    },
    {
     "data": {
      "application/vnd.jupyter.widget-view+json": {
       "model_id": "",
       "version_major": 2,
       "version_minor": 0
      },
      "text/plain": [
       "HBox(children=(IntProgress(value=0, description='train', max=277, style=ProgressStyle(description_width='initi…"
      ]
     },
     "metadata": {},
     "output_type": "display_data"
    },
    {
     "name": "stdout",
     "output_type": "stream",
     "text": [
      "validation start\n"
     ]
    },
    {
     "data": {
      "application/vnd.jupyter.widget-view+json": {
       "model_id": "",
       "version_major": 2,
       "version_minor": 0
      },
      "text/plain": [
       "HBox(children=(IntProgress(value=0, description='val', max=789, style=ProgressStyle(description_width='initial…"
      ]
     },
     "metadata": {},
     "output_type": "display_data"
    },
    {
     "name": "stdout",
     "output_type": "stream",
     "text": [
      "mrmse_nz: 0.960269, rmrmse_nz: 0.401985, mrmse: 0.432434, rmrmse: 0.180443 \n",
      "[2019-11-10 21:08:30,225] epoch: 279 | classification_loss: 0.6428\n",
      "[2019-11-10 21:08:31,529] checkpoint created at /media/James/BigData/CountSeg_output/vOR_counting/model_279.pt\n",
      "[2019-11-10 21:08:32,811] checkpoint created at /media/James/BigData/CountSeg_output/vOR_counting/model_latest.pt\n",
      "\n",
      "--------------------------------------------------------\n",
      "\n",
      "learning rate: 3.125e-06\n",
      "learning rate: 0.0003125\n",
      "stage 2 of the training: using criterion2\n"
     ]
    },
    {
     "data": {
      "application/vnd.jupyter.widget-view+json": {
       "model_id": "",
       "version_major": 2,
       "version_minor": 0
      },
      "text/plain": [
       "HBox(children=(IntProgress(value=0, description='train', max=277, style=ProgressStyle(description_width='initi…"
      ]
     },
     "metadata": {},
     "output_type": "display_data"
    },
    {
     "name": "stdout",
     "output_type": "stream",
     "text": [
      "validation start\n"
     ]
    },
    {
     "data": {
      "application/vnd.jupyter.widget-view+json": {
       "model_id": "",
       "version_major": 2,
       "version_minor": 0
      },
      "text/plain": [
       "HBox(children=(IntProgress(value=0, description='val', max=789, style=ProgressStyle(description_width='initial…"
      ]
     },
     "metadata": {},
     "output_type": "display_data"
    },
    {
     "name": "stdout",
     "output_type": "stream",
     "text": [
      "mrmse_nz: 0.975293, rmrmse_nz: 0.416570, mrmse: 0.435499, rmrmse: 0.185491 \n",
      "[2019-11-10 21:10:35,537] epoch: 280 | classification_loss: 0.6425\n",
      "[2019-11-10 21:10:36,890] checkpoint created at /media/James/BigData/CountSeg_output/vOR_counting/model_280.pt\n",
      "[2019-11-10 21:10:38,126] checkpoint created at /media/James/BigData/CountSeg_output/vOR_counting/model_latest.pt\n",
      "\n",
      "--------------------------------------------------------\n",
      "\n",
      "learning rate: 3.125e-06\n",
      "learning rate: 0.0003125\n",
      "stage 2 of the training: using criterion2\n"
     ]
    },
    {
     "data": {
      "application/vnd.jupyter.widget-view+json": {
       "model_id": "",
       "version_major": 2,
       "version_minor": 0
      },
      "text/plain": [
       "HBox(children=(IntProgress(value=0, description='train', max=277, style=ProgressStyle(description_width='initi…"
      ]
     },
     "metadata": {},
     "output_type": "display_data"
    },
    {
     "name": "stdout",
     "output_type": "stream",
     "text": [
      "validation start\n"
     ]
    },
    {
     "data": {
      "application/vnd.jupyter.widget-view+json": {
       "model_id": "",
       "version_major": 2,
       "version_minor": 0
      },
      "text/plain": [
       "HBox(children=(IntProgress(value=0, description='val', max=789, style=ProgressStyle(description_width='initial…"
      ]
     },
     "metadata": {},
     "output_type": "display_data"
    },
    {
     "name": "stdout",
     "output_type": "stream",
     "text": [
      "mrmse_nz: 0.961835, rmrmse_nz: 0.398378, mrmse: 0.430787, rmrmse: 0.178259 \n",
      "[2019-11-10 21:12:40,463] epoch: 281 | classification_loss: 0.6425\n",
      "[2019-11-10 21:12:41,740] checkpoint created at /media/James/BigData/CountSeg_output/vOR_counting/model_281.pt\n",
      "[2019-11-10 21:12:42,979] checkpoint created at /media/James/BigData/CountSeg_output/vOR_counting/model_latest.pt\n",
      "\n",
      "--------------------------------------------------------\n",
      "\n",
      "learning rate: 3.125e-06\n",
      "learning rate: 0.0003125\n",
      "stage 2 of the training: using criterion2\n"
     ]
    },
    {
     "data": {
      "application/vnd.jupyter.widget-view+json": {
       "model_id": "",
       "version_major": 2,
       "version_minor": 0
      },
      "text/plain": [
       "HBox(children=(IntProgress(value=0, description='train', max=277, style=ProgressStyle(description_width='initi…"
      ]
     },
     "metadata": {},
     "output_type": "display_data"
    },
    {
     "name": "stdout",
     "output_type": "stream",
     "text": [
      "validation start\n"
     ]
    },
    {
     "data": {
      "application/vnd.jupyter.widget-view+json": {
       "model_id": "",
       "version_major": 2,
       "version_minor": 0
      },
      "text/plain": [
       "HBox(children=(IntProgress(value=0, description='val', max=789, style=ProgressStyle(description_width='initial…"
      ]
     },
     "metadata": {},
     "output_type": "display_data"
    },
    {
     "name": "stdout",
     "output_type": "stream",
     "text": [
      "mrmse_nz: 0.935609, rmrmse_nz: 0.394282, mrmse: 0.416857, rmrmse: 0.176482 \n",
      "[2019-11-10 21:14:45,881] epoch: 282 | classification_loss: 0.6434\n",
      "[2019-11-10 21:14:47,216] checkpoint created at /media/James/BigData/CountSeg_output/vOR_counting/model_282.pt\n",
      "[2019-11-10 21:14:48,501] checkpoint created at /media/James/BigData/CountSeg_output/vOR_counting/model_latest.pt\n",
      "\n",
      "--------------------------------------------------------\n",
      "\n",
      "learning rate: 3.125e-06\n",
      "learning rate: 0.0003125\n",
      "stage 2 of the training: using criterion2\n"
     ]
    },
    {
     "data": {
      "application/vnd.jupyter.widget-view+json": {
       "model_id": "",
       "version_major": 2,
       "version_minor": 0
      },
      "text/plain": [
       "HBox(children=(IntProgress(value=0, description='train', max=277, style=ProgressStyle(description_width='initi…"
      ]
     },
     "metadata": {},
     "output_type": "display_data"
    },
    {
     "name": "stdout",
     "output_type": "stream",
     "text": [
      "validation start\n"
     ]
    },
    {
     "data": {
      "application/vnd.jupyter.widget-view+json": {
       "model_id": "",
       "version_major": 2,
       "version_minor": 0
      },
      "text/plain": [
       "HBox(children=(IntProgress(value=0, description='val', max=789, style=ProgressStyle(description_width='initial…"
      ]
     },
     "metadata": {},
     "output_type": "display_data"
    },
    {
     "name": "stdout",
     "output_type": "stream",
     "text": [
      "mrmse_nz: 0.980041, rmrmse_nz: 0.399611, mrmse: 0.439725, rmrmse: 0.179132 \n",
      "[2019-11-10 21:16:51,025] epoch: 283 | classification_loss: 0.6426\n",
      "[2019-11-10 21:16:52,324] checkpoint created at /media/James/BigData/CountSeg_output/vOR_counting/model_283.pt\n",
      "[2019-11-10 21:16:53,640] checkpoint created at /media/James/BigData/CountSeg_output/vOR_counting/model_latest.pt\n",
      "\n",
      "--------------------------------------------------------\n",
      "\n",
      "learning rate: 3.125e-06\n",
      "learning rate: 0.0003125\n",
      "stage 2 of the training: using criterion2\n"
     ]
    },
    {
     "data": {
      "application/vnd.jupyter.widget-view+json": {
       "model_id": "",
       "version_major": 2,
       "version_minor": 0
      },
      "text/plain": [
       "HBox(children=(IntProgress(value=0, description='train', max=277, style=ProgressStyle(description_width='initi…"
      ]
     },
     "metadata": {},
     "output_type": "display_data"
    },
    {
     "name": "stdout",
     "output_type": "stream",
     "text": [
      "validation start\n"
     ]
    },
    {
     "data": {
      "application/vnd.jupyter.widget-view+json": {
       "model_id": "",
       "version_major": 2,
       "version_minor": 0
      },
      "text/plain": [
       "HBox(children=(IntProgress(value=0, description='val', max=789, style=ProgressStyle(description_width='initial…"
      ]
     },
     "metadata": {},
     "output_type": "display_data"
    },
    {
     "name": "stdout",
     "output_type": "stream",
     "text": [
      "mrmse_nz: 1.002883, rmrmse_nz: 0.420095, mrmse: 0.448869, rmrmse: 0.187482 \n",
      "[2019-11-10 21:18:55,396] epoch: 284 | classification_loss: 0.6426\n",
      "[2019-11-10 21:18:56,725] checkpoint created at /media/James/BigData/CountSeg_output/vOR_counting/model_284.pt\n",
      "[2019-11-10 21:18:58,007] checkpoint created at /media/James/BigData/CountSeg_output/vOR_counting/model_latest.pt\n",
      "\n",
      "--------------------------------------------------------\n",
      "\n",
      "learning rate: 3.125e-06\n",
      "learning rate: 0.0003125\n",
      "stage 2 of the training: using criterion2\n"
     ]
    },
    {
     "data": {
      "application/vnd.jupyter.widget-view+json": {
       "model_id": "",
       "version_major": 2,
       "version_minor": 0
      },
      "text/plain": [
       "HBox(children=(IntProgress(value=0, description='train', max=277, style=ProgressStyle(description_width='initi…"
      ]
     },
     "metadata": {},
     "output_type": "display_data"
    },
    {
     "name": "stdout",
     "output_type": "stream",
     "text": [
      "validation start\n"
     ]
    },
    {
     "data": {
      "application/vnd.jupyter.widget-view+json": {
       "model_id": "",
       "version_major": 2,
       "version_minor": 0
      },
      "text/plain": [
       "HBox(children=(IntProgress(value=0, description='val', max=789, style=ProgressStyle(description_width='initial…"
      ]
     },
     "metadata": {},
     "output_type": "display_data"
    },
    {
     "name": "stdout",
     "output_type": "stream",
     "text": [
      "mrmse_nz: 0.963283, rmrmse_nz: 0.393659, mrmse: 0.434369, rmrmse: 0.177073 \n",
      "[2019-11-10 21:20:59,229] epoch: 285 | classification_loss: 0.6431\n",
      "[2019-11-10 21:21:00,592] checkpoint created at /media/James/BigData/CountSeg_output/vOR_counting/model_285.pt\n",
      "[2019-11-10 21:21:01,891] checkpoint created at /media/James/BigData/CountSeg_output/vOR_counting/model_latest.pt\n",
      "\n",
      "--------------------------------------------------------\n",
      "\n",
      "learning rate: 3.125e-06\n",
      "learning rate: 0.0003125\n",
      "stage 2 of the training: using criterion2\n"
     ]
    },
    {
     "data": {
      "application/vnd.jupyter.widget-view+json": {
       "model_id": "",
       "version_major": 2,
       "version_minor": 0
      },
      "text/plain": [
       "HBox(children=(IntProgress(value=0, description='train', max=277, style=ProgressStyle(description_width='initi…"
      ]
     },
     "metadata": {},
     "output_type": "display_data"
    },
    {
     "name": "stdout",
     "output_type": "stream",
     "text": [
      "validation start\n"
     ]
    },
    {
     "data": {
      "application/vnd.jupyter.widget-view+json": {
       "model_id": "",
       "version_major": 2,
       "version_minor": 0
      },
      "text/plain": [
       "HBox(children=(IntProgress(value=0, description='val', max=789, style=ProgressStyle(description_width='initial…"
      ]
     },
     "metadata": {},
     "output_type": "display_data"
    },
    {
     "name": "stdout",
     "output_type": "stream",
     "text": [
      "mrmse_nz: 0.972923, rmrmse_nz: 0.405256, mrmse: 0.435674, rmrmse: 0.181201 \n",
      "[2019-11-10 21:23:04,032] epoch: 286 | classification_loss: 0.6426\n",
      "[2019-11-10 21:23:05,335] checkpoint created at /media/James/BigData/CountSeg_output/vOR_counting/model_286.pt\n",
      "[2019-11-10 21:23:06,572] checkpoint created at /media/James/BigData/CountSeg_output/vOR_counting/model_latest.pt\n",
      "\n",
      "--------------------------------------------------------\n",
      "\n",
      "learning rate: 3.125e-06\n",
      "learning rate: 0.0003125\n",
      "stage 2 of the training: using criterion2\n"
     ]
    },
    {
     "data": {
      "application/vnd.jupyter.widget-view+json": {
       "model_id": "",
       "version_major": 2,
       "version_minor": 0
      },
      "text/plain": [
       "HBox(children=(IntProgress(value=0, description='train', max=277, style=ProgressStyle(description_width='initi…"
      ]
     },
     "metadata": {},
     "output_type": "display_data"
    },
    {
     "name": "stdout",
     "output_type": "stream",
     "text": [
      "validation start\n"
     ]
    },
    {
     "data": {
      "application/vnd.jupyter.widget-view+json": {
       "model_id": "",
       "version_major": 2,
       "version_minor": 0
      },
      "text/plain": [
       "HBox(children=(IntProgress(value=0, description='val', max=789, style=ProgressStyle(description_width='initial…"
      ]
     },
     "metadata": {},
     "output_type": "display_data"
    },
    {
     "name": "stdout",
     "output_type": "stream",
     "text": [
      "mrmse_nz: 0.944988, rmrmse_nz: 0.389479, mrmse: 0.424153, rmrmse: 0.174569 \n",
      "[2019-11-10 21:25:08,595] epoch: 287 | classification_loss: 0.6425\n",
      "[2019-11-10 21:25:09,881] checkpoint created at /media/James/BigData/CountSeg_output/vOR_counting/model_287.pt\n",
      "[2019-11-10 21:25:11,135] checkpoint created at /media/James/BigData/CountSeg_output/vOR_counting/model_latest.pt\n",
      "\n",
      "--------------------------------------------------------\n",
      "\n",
      "learning rate: 3.125e-06\n",
      "learning rate: 0.0003125\n",
      "stage 2 of the training: using criterion2\n"
     ]
    },
    {
     "data": {
      "application/vnd.jupyter.widget-view+json": {
       "model_id": "",
       "version_major": 2,
       "version_minor": 0
      },
      "text/plain": [
       "HBox(children=(IntProgress(value=0, description='train', max=277, style=ProgressStyle(description_width='initi…"
      ]
     },
     "metadata": {},
     "output_type": "display_data"
    },
    {
     "name": "stdout",
     "output_type": "stream",
     "text": [
      "validation start\n"
     ]
    },
    {
     "data": {
      "application/vnd.jupyter.widget-view+json": {
       "model_id": "",
       "version_major": 2,
       "version_minor": 0
      },
      "text/plain": [
       "HBox(children=(IntProgress(value=0, description='val', max=789, style=ProgressStyle(description_width='initial…"
      ]
     },
     "metadata": {},
     "output_type": "display_data"
    },
    {
     "name": "stdout",
     "output_type": "stream",
     "text": [
      "mrmse_nz: 0.978011, rmrmse_nz: 0.404528, mrmse: 0.436503, rmrmse: 0.180631 \n",
      "[2019-11-10 21:27:14,099] epoch: 288 | classification_loss: 0.6426\n",
      "[2019-11-10 21:27:15,400] checkpoint created at /media/James/BigData/CountSeg_output/vOR_counting/model_288.pt\n",
      "[2019-11-10 21:27:16,593] checkpoint created at /media/James/BigData/CountSeg_output/vOR_counting/model_latest.pt\n",
      "\n",
      "--------------------------------------------------------\n",
      "\n",
      "learning rate: 3.125e-06\n",
      "learning rate: 0.0003125\n",
      "stage 2 of the training: using criterion2\n"
     ]
    },
    {
     "data": {
      "application/vnd.jupyter.widget-view+json": {
       "model_id": "",
       "version_major": 2,
       "version_minor": 0
      },
      "text/plain": [
       "HBox(children=(IntProgress(value=0, description='train', max=277, style=ProgressStyle(description_width='initi…"
      ]
     },
     "metadata": {},
     "output_type": "display_data"
    },
    {
     "name": "stdout",
     "output_type": "stream",
     "text": [
      "validation start\n"
     ]
    },
    {
     "data": {
      "application/vnd.jupyter.widget-view+json": {
       "model_id": "",
       "version_major": 2,
       "version_minor": 0
      },
      "text/plain": [
       "HBox(children=(IntProgress(value=0, description='val', max=789, style=ProgressStyle(description_width='initial…"
      ]
     },
     "metadata": {},
     "output_type": "display_data"
    },
    {
     "name": "stdout",
     "output_type": "stream",
     "text": [
      "mrmse_nz: 0.966807, rmrmse_nz: 0.401852, mrmse: 0.431852, rmrmse: 0.179686 \n",
      "[2019-11-10 21:29:18,758] epoch: 289 | classification_loss: 0.6427\n",
      "[2019-11-10 21:29:20,136] checkpoint created at /media/James/BigData/CountSeg_output/vOR_counting/model_289.pt\n",
      "[2019-11-10 21:29:21,422] checkpoint created at /media/James/BigData/CountSeg_output/vOR_counting/model_latest.pt\n",
      "\n",
      "--------------------------------------------------------\n",
      "\n",
      "learning rate: 3.125e-06\n",
      "learning rate: 0.0003125\n",
      "stage 2 of the training: using criterion2\n"
     ]
    },
    {
     "data": {
      "application/vnd.jupyter.widget-view+json": {
       "model_id": "",
       "version_major": 2,
       "version_minor": 0
      },
      "text/plain": [
       "HBox(children=(IntProgress(value=0, description='train', max=277, style=ProgressStyle(description_width='initi…"
      ]
     },
     "metadata": {},
     "output_type": "display_data"
    },
    {
     "name": "stdout",
     "output_type": "stream",
     "text": [
      "validation start\n"
     ]
    },
    {
     "data": {
      "application/vnd.jupyter.widget-view+json": {
       "model_id": "",
       "version_major": 2,
       "version_minor": 0
      },
      "text/plain": [
       "HBox(children=(IntProgress(value=0, description='val', max=789, style=ProgressStyle(description_width='initial…"
      ]
     },
     "metadata": {},
     "output_type": "display_data"
    },
    {
     "name": "stdout",
     "output_type": "stream",
     "text": [
      "mrmse_nz: 0.985952, rmrmse_nz: 0.409187, mrmse: 0.442137, rmrmse: 0.182830 \n",
      "[2019-11-10 21:31:23,465] epoch: 290 | classification_loss: 0.6424\n",
      "[2019-11-10 21:31:24,837] checkpoint created at /media/James/BigData/CountSeg_output/vOR_counting/model_290.pt\n",
      "[2019-11-10 21:31:26,118] checkpoint created at /media/James/BigData/CountSeg_output/vOR_counting/model_latest.pt\n",
      "\n",
      "--------------------------------------------------------\n",
      "\n",
      "learning rate: 3.125e-06\n",
      "learning rate: 0.0003125\n",
      "stage 2 of the training: using criterion2\n"
     ]
    },
    {
     "data": {
      "application/vnd.jupyter.widget-view+json": {
       "model_id": "",
       "version_major": 2,
       "version_minor": 0
      },
      "text/plain": [
       "HBox(children=(IntProgress(value=0, description='train', max=277, style=ProgressStyle(description_width='initi…"
      ]
     },
     "metadata": {},
     "output_type": "display_data"
    },
    {
     "name": "stdout",
     "output_type": "stream",
     "text": [
      "validation start\n"
     ]
    },
    {
     "data": {
      "application/vnd.jupyter.widget-view+json": {
       "model_id": "",
       "version_major": 2,
       "version_minor": 0
      },
      "text/plain": [
       "HBox(children=(IntProgress(value=0, description='val', max=789, style=ProgressStyle(description_width='initial…"
      ]
     },
     "metadata": {},
     "output_type": "display_data"
    },
    {
     "name": "stdout",
     "output_type": "stream",
     "text": [
      "mrmse_nz: 0.968537, rmrmse_nz: 0.405992, mrmse: 0.432208, rmrmse: 0.181275 \n",
      "[2019-11-10 21:33:28,174] epoch: 291 | classification_loss: 0.6427\n",
      "[2019-11-10 21:33:29,478] checkpoint created at /media/James/BigData/CountSeg_output/vOR_counting/model_291.pt\n",
      "[2019-11-10 21:33:30,758] checkpoint created at /media/James/BigData/CountSeg_output/vOR_counting/model_latest.pt\n",
      "\n",
      "--------------------------------------------------------\n",
      "\n",
      "learning rate: 3.125e-06\n",
      "learning rate: 0.0003125\n",
      "stage 2 of the training: using criterion2\n"
     ]
    },
    {
     "data": {
      "application/vnd.jupyter.widget-view+json": {
       "model_id": "",
       "version_major": 2,
       "version_minor": 0
      },
      "text/plain": [
       "HBox(children=(IntProgress(value=0, description='train', max=277, style=ProgressStyle(description_width='initi…"
      ]
     },
     "metadata": {},
     "output_type": "display_data"
    },
    {
     "name": "stdout",
     "output_type": "stream",
     "text": [
      "validation start\n"
     ]
    },
    {
     "data": {
      "application/vnd.jupyter.widget-view+json": {
       "model_id": "",
       "version_major": 2,
       "version_minor": 0
      },
      "text/plain": [
       "HBox(children=(IntProgress(value=0, description='val', max=789, style=ProgressStyle(description_width='initial…"
      ]
     },
     "metadata": {},
     "output_type": "display_data"
    },
    {
     "name": "stdout",
     "output_type": "stream",
     "text": [
      "mrmse_nz: 0.968426, rmrmse_nz: 0.402874, mrmse: 0.433811, rmrmse: 0.180526 \n",
      "[2019-11-10 21:35:33,121] epoch: 292 | classification_loss: 0.6424\n",
      "[2019-11-10 21:35:34,450] checkpoint created at /media/James/BigData/CountSeg_output/vOR_counting/model_292.pt\n",
      "[2019-11-10 21:35:35,704] checkpoint created at /media/James/BigData/CountSeg_output/vOR_counting/model_latest.pt\n",
      "\n",
      "--------------------------------------------------------\n",
      "\n",
      "learning rate: 3.125e-06\n",
      "learning rate: 0.0003125\n",
      "stage 2 of the training: using criterion2\n"
     ]
    },
    {
     "data": {
      "application/vnd.jupyter.widget-view+json": {
       "model_id": "",
       "version_major": 2,
       "version_minor": 0
      },
      "text/plain": [
       "HBox(children=(IntProgress(value=0, description='train', max=277, style=ProgressStyle(description_width='initi…"
      ]
     },
     "metadata": {},
     "output_type": "display_data"
    },
    {
     "name": "stdout",
     "output_type": "stream",
     "text": [
      "validation start\n"
     ]
    },
    {
     "data": {
      "application/vnd.jupyter.widget-view+json": {
       "model_id": "",
       "version_major": 2,
       "version_minor": 0
      },
      "text/plain": [
       "HBox(children=(IntProgress(value=0, description='val', max=789, style=ProgressStyle(description_width='initial…"
      ]
     },
     "metadata": {},
     "output_type": "display_data"
    },
    {
     "name": "stdout",
     "output_type": "stream",
     "text": [
      "mrmse_nz: 0.948429, rmrmse_nz: 0.399546, mrmse: 0.424188, rmrmse: 0.178601 \n",
      "[2019-11-10 21:37:37,910] epoch: 293 | classification_loss: 0.6427\n",
      "[2019-11-10 21:37:39,238] checkpoint created at /media/James/BigData/CountSeg_output/vOR_counting/model_293.pt\n",
      "[2019-11-10 21:37:40,527] checkpoint created at /media/James/BigData/CountSeg_output/vOR_counting/model_latest.pt\n",
      "\n",
      "--------------------------------------------------------\n",
      "\n",
      "learning rate: 3.125e-06\n",
      "learning rate: 0.0003125\n",
      "stage 2 of the training: using criterion2\n"
     ]
    },
    {
     "data": {
      "application/vnd.jupyter.widget-view+json": {
       "model_id": "",
       "version_major": 2,
       "version_minor": 0
      },
      "text/plain": [
       "HBox(children=(IntProgress(value=0, description='train', max=277, style=ProgressStyle(description_width='initi…"
      ]
     },
     "metadata": {},
     "output_type": "display_data"
    },
    {
     "name": "stdout",
     "output_type": "stream",
     "text": [
      "validation start\n"
     ]
    },
    {
     "data": {
      "application/vnd.jupyter.widget-view+json": {
       "model_id": "",
       "version_major": 2,
       "version_minor": 0
      },
      "text/plain": [
       "HBox(children=(IntProgress(value=0, description='val', max=789, style=ProgressStyle(description_width='initial…"
      ]
     },
     "metadata": {},
     "output_type": "display_data"
    },
    {
     "name": "stdout",
     "output_type": "stream",
     "text": [
      "mrmse_nz: 0.961518, rmrmse_nz: 0.394405, mrmse: 0.431804, rmrmse: 0.176889 \n",
      "[2019-11-10 21:39:42,223] epoch: 294 | classification_loss: 0.6427\n",
      "[2019-11-10 21:39:43,573] checkpoint created at /media/James/BigData/CountSeg_output/vOR_counting/model_294.pt\n",
      "[2019-11-10 21:39:44,811] checkpoint created at /media/James/BigData/CountSeg_output/vOR_counting/model_latest.pt\n",
      "\n",
      "--------------------------------------------------------\n",
      "\n",
      "learning rate: 3.125e-06\n",
      "learning rate: 0.0003125\n",
      "stage 2 of the training: using criterion2\n"
     ]
    },
    {
     "data": {
      "application/vnd.jupyter.widget-view+json": {
       "model_id": "",
       "version_major": 2,
       "version_minor": 0
      },
      "text/plain": [
       "HBox(children=(IntProgress(value=0, description='train', max=277, style=ProgressStyle(description_width='initi…"
      ]
     },
     "metadata": {},
     "output_type": "display_data"
    },
    {
     "name": "stdout",
     "output_type": "stream",
     "text": [
      "validation start\n"
     ]
    },
    {
     "data": {
      "application/vnd.jupyter.widget-view+json": {
       "model_id": "",
       "version_major": 2,
       "version_minor": 0
      },
      "text/plain": [
       "HBox(children=(IntProgress(value=0, description='val', max=789, style=ProgressStyle(description_width='initial…"
      ]
     },
     "metadata": {},
     "output_type": "display_data"
    },
    {
     "name": "stdout",
     "output_type": "stream",
     "text": [
      "mrmse_nz: 0.995144, rmrmse_nz: 0.410771, mrmse: 0.443008, rmrmse: 0.182950 \n",
      "[2019-11-10 21:41:46,425] epoch: 295 | classification_loss: 0.6425\n",
      "[2019-11-10 21:41:47,704] checkpoint created at /media/James/BigData/CountSeg_output/vOR_counting/model_295.pt\n",
      "[2019-11-10 21:41:48,981] checkpoint created at /media/James/BigData/CountSeg_output/vOR_counting/model_latest.pt\n",
      "\n",
      "--------------------------------------------------------\n",
      "\n",
      "learning rate: 3.125e-06\n",
      "learning rate: 0.0003125\n",
      "stage 2 of the training: using criterion2\n"
     ]
    },
    {
     "data": {
      "application/vnd.jupyter.widget-view+json": {
       "model_id": "",
       "version_major": 2,
       "version_minor": 0
      },
      "text/plain": [
       "HBox(children=(IntProgress(value=0, description='train', max=277, style=ProgressStyle(description_width='initi…"
      ]
     },
     "metadata": {},
     "output_type": "display_data"
    },
    {
     "name": "stdout",
     "output_type": "stream",
     "text": [
      "validation start\n"
     ]
    },
    {
     "data": {
      "application/vnd.jupyter.widget-view+json": {
       "model_id": "",
       "version_major": 2,
       "version_minor": 0
      },
      "text/plain": [
       "HBox(children=(IntProgress(value=0, description='val', max=789, style=ProgressStyle(description_width='initial…"
      ]
     },
     "metadata": {},
     "output_type": "display_data"
    },
    {
     "name": "stdout",
     "output_type": "stream",
     "text": [
      "mrmse_nz: 0.931636, rmrmse_nz: 0.407328, mrmse: 0.415436, rmrmse: 0.181715 \n",
      "[2019-11-10 21:43:51,267] epoch: 296 | classification_loss: 0.6428\n",
      "[2019-11-10 21:43:52,614] checkpoint created at /media/James/BigData/CountSeg_output/vOR_counting/model_296.pt\n",
      "[2019-11-10 21:43:53,900] checkpoint created at /media/James/BigData/CountSeg_output/vOR_counting/model_latest.pt\n",
      "\n",
      "--------------------------------------------------------\n",
      "\n",
      "learning rate: 3.125e-06\n",
      "learning rate: 0.0003125\n",
      "stage 2 of the training: using criterion2\n"
     ]
    },
    {
     "data": {
      "application/vnd.jupyter.widget-view+json": {
       "model_id": "",
       "version_major": 2,
       "version_minor": 0
      },
      "text/plain": [
       "HBox(children=(IntProgress(value=0, description='train', max=277, style=ProgressStyle(description_width='initi…"
      ]
     },
     "metadata": {},
     "output_type": "display_data"
    },
    {
     "name": "stdout",
     "output_type": "stream",
     "text": [
      "validation start\n"
     ]
    },
    {
     "data": {
      "application/vnd.jupyter.widget-view+json": {
       "model_id": "",
       "version_major": 2,
       "version_minor": 0
      },
      "text/plain": [
       "HBox(children=(IntProgress(value=0, description='val', max=789, style=ProgressStyle(description_width='initial…"
      ]
     },
     "metadata": {},
     "output_type": "display_data"
    },
    {
     "name": "stdout",
     "output_type": "stream",
     "text": [
      "mrmse_nz: 0.973692, rmrmse_nz: 0.413412, mrmse: 0.434952, rmrmse: 0.184155 \n",
      "[2019-11-10 21:45:56,315] epoch: 297 | classification_loss: 0.6425\n",
      "[2019-11-10 21:45:57,609] checkpoint created at /media/James/BigData/CountSeg_output/vOR_counting/model_297.pt\n",
      "[2019-11-10 21:45:58,935] checkpoint created at /media/James/BigData/CountSeg_output/vOR_counting/model_latest.pt\n",
      "\n",
      "--------------------------------------------------------\n",
      "\n",
      "learning rate: 3.125e-06\n",
      "learning rate: 0.0003125\n",
      "stage 2 of the training: using criterion2\n"
     ]
    },
    {
     "data": {
      "application/vnd.jupyter.widget-view+json": {
       "model_id": "",
       "version_major": 2,
       "version_minor": 0
      },
      "text/plain": [
       "HBox(children=(IntProgress(value=0, description='train', max=277, style=ProgressStyle(description_width='initi…"
      ]
     },
     "metadata": {},
     "output_type": "display_data"
    },
    {
     "name": "stdout",
     "output_type": "stream",
     "text": [
      "validation start\n"
     ]
    },
    {
     "data": {
      "application/vnd.jupyter.widget-view+json": {
       "model_id": "",
       "version_major": 2,
       "version_minor": 0
      },
      "text/plain": [
       "HBox(children=(IntProgress(value=0, description='val', max=789, style=ProgressStyle(description_width='initial…"
      ]
     },
     "metadata": {},
     "output_type": "display_data"
    },
    {
     "name": "stdout",
     "output_type": "stream",
     "text": [
      "mrmse_nz: 0.955212, rmrmse_nz: 0.406277, mrmse: 0.428174, rmrmse: 0.181822 \n",
      "[2019-11-10 21:48:01,593] epoch: 298 | classification_loss: 0.6426\n",
      "[2019-11-10 21:48:02,912] checkpoint created at /media/James/BigData/CountSeg_output/vOR_counting/model_298.pt\n",
      "[2019-11-10 21:48:04,278] checkpoint created at /media/James/BigData/CountSeg_output/vOR_counting/model_latest.pt\n",
      "\n",
      "--------------------------------------------------------\n",
      "\n",
      "learning rate: 3.125e-06\n",
      "learning rate: 0.0003125\n",
      "stage 2 of the training: using criterion2\n"
     ]
    },
    {
     "data": {
      "application/vnd.jupyter.widget-view+json": {
       "model_id": "",
       "version_major": 2,
       "version_minor": 0
      },
      "text/plain": [
       "HBox(children=(IntProgress(value=0, description='train', max=277, style=ProgressStyle(description_width='initi…"
      ]
     },
     "metadata": {},
     "output_type": "display_data"
    },
    {
     "name": "stdout",
     "output_type": "stream",
     "text": [
      "validation start\n"
     ]
    },
    {
     "data": {
      "application/vnd.jupyter.widget-view+json": {
       "model_id": "",
       "version_major": 2,
       "version_minor": 0
      },
      "text/plain": [
       "HBox(children=(IntProgress(value=0, description='val', max=789, style=ProgressStyle(description_width='initial…"
      ]
     },
     "metadata": {},
     "output_type": "display_data"
    },
    {
     "name": "stdout",
     "output_type": "stream",
     "text": [
      "mrmse_nz: 1.017832, rmrmse_nz: 0.416397, mrmse: 0.453901, rmrmse: 0.185881 \n",
      "[2019-11-10 21:50:07,245] epoch: 299 | classification_loss: 0.6428\n",
      "[2019-11-10 21:50:08,514] checkpoint created at /media/James/BigData/CountSeg_output/vOR_counting/model_299.pt\n"
     ]
    },
    {
     "name": "stderr",
     "output_type": "stream",
     "text": [
      "All finished. (10 hours, 25 minutes, 33 seconds)\n"
     ]
    },
    {
     "name": "stdout",
     "output_type": "stream",
     "text": [
      "[2019-11-10 21:50:09,776] checkpoint created at /media/James/BigData/CountSeg_output/vOR_counting/model_latest.pt\n",
      "\n",
      "--------------------------------------------------------\n",
      "\n",
      "\n"
     ]
    }
   ],
   "source": [
    "%matplotlib inline\n",
    "\n",
    "import warnings\n",
    "warnings.filterwarnings(\"ignore\")\n",
    "\n",
    "import os\n",
    "os.environ['CUDA_VISIBLE_DEVICES'] = '0' \n",
    "import json\n",
    "\n",
    "import torch\n",
    "import torch.nn as nn\n",
    "import torch.nn.functional as F\n",
    "import PIL.Image\n",
    "import numpy as np\n",
    "import matplotlib.pyplot as plt\n",
    "from scipy.io import loadmat\n",
    "from scipy.misc import imresize\n",
    "\n",
    "### Access PRM through [Nest](https://github.com/ZhouYanzhao/Nest)\n",
    "\n",
    "from nest import modules, run_tasks\n",
    "\n",
    "### Train a PRM-augmented classification network using image-level labels\n",
    "\n",
    "run_tasks('./config_counting_virtual_OR.yml')"
   ]
  },
  {
   "cell_type": "code",
   "execution_count": null,
   "metadata": {},
   "outputs": [],
   "source": []
  }
 ],
 "metadata": {
  "kernelspec": {
   "display_name": "PRM kernel",
   "language": "python",
   "name": "prm"
  },
  "language_info": {
   "codemirror_mode": {
    "name": "ipython",
    "version": 3
   },
   "file_extension": ".py",
   "mimetype": "text/x-python",
   "name": "python",
   "nbconvert_exporter": "python",
   "pygments_lexer": "ipython3",
   "version": "3.6.8"
  },
  "ssap_exp_config": {
   "error_alert": "Error Occurs!",
   "initial": [],
   "max_iteration": 1,
   "recv_id": "",
   "running": [],
   "summary": [],
   "version": "1.1.1"
  }
 },
 "nbformat": 4,
 "nbformat_minor": 1
}
