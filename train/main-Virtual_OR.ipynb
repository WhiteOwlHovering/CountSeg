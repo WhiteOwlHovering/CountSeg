{
 "cells": [
  {
   "cell_type": "markdown",
   "metadata": {},
   "source": [
    "## Weakly Supervised Instance Segmentation using Class Peak Response \n",
    "### Training code"
   ]
  },
  {
   "cell_type": "code",
   "execution_count": 1,
   "metadata": {
    "scrolled": true
   },
   "outputs": [
    {
     "name": "stdout",
     "output_type": "stream",
     "text": [
      "loading annotations into memory...\n",
      "Done (t=0.01s)\n",
      "creating index...\n",
      "index created!\n",
      "self.image_labels [(1, array([0., 3., 1., 2., 2., 2., 2., 2., 1., 0.])), (2, array([0., 0., 0., 0., 0., 0., 0., 0., 1., 0.])), (3, array([0., 1., 0., 0., 0., 0., 0., 0., 1., 0.])), (4, array([0., 0., 0., 0., 0., 0., 1., 0., 1., 0.])), (5, array([0., 0., 0., 0., 1., 0., 0., 0., 1., 0.])), (6, array([0., 0., 1., 0., 0., 0., 0., 0., 1., 0.])), (7, array([0., 0., 0., 0., 0., 1., 0., 0., 1., 0.])), (8, array([0., 0., 0., 1., 0., 0., 0., 0., 1., 0.])), (9, array([0., 1., 0., 0., 0., 0., 0., 0., 1., 0.])), (10, array([0., 0., 0., 0., 0., 0., 0., 1., 1., 0.])), (11, array([0., 1., 0., 0., 0., 0., 0., 0., 1., 0.])), (12, array([0., 1., 0., 0., 0., 1., 0., 0., 1., 0.])), (13, array([0., 1., 0., 0., 0., 0., 0., 1., 1., 0.])), (14, array([0., 0., 0., 0., 0., 0., 1., 0., 1., 0.])), (15, array([0., 0., 0., 0., 0., 1., 1., 0., 1., 0.])), (16, array([0., 0., 0., 1., 0., 0., 1., 0., 1., 0.])), (17, array([0., 0., 0., 0., 1., 0., 0., 0., 1., 0.])), (18, array([0., 1., 0., 0., 1., 0., 0., 0., 1., 0.])), (19, array([0., 0., 0., 0., 1., 0., 1., 0., 1., 0.])), (20, array([0., 0., 0., 0., 2., 0., 0., 0., 1., 0.]))]\n",
      "20\n",
      "loading annotations into memory...\n",
      "Done (t=0.01s)\n",
      "creating index...\n",
      "index created!\n",
      "self.image_labels [(1, array([0., 3., 1., 2., 2., 2., 2., 2., 1., 0.])), (2, array([0., 0., 0., 0., 0., 0., 0., 0., 1., 0.])), (3, array([0., 1., 0., 0., 0., 0., 0., 0., 1., 0.])), (4, array([0., 0., 0., 0., 0., 0., 1., 0., 1., 0.])), (5, array([0., 0., 0., 0., 1., 0., 0., 0., 1., 0.])), (6, array([0., 0., 1., 0., 0., 0., 0., 0., 1., 0.])), (7, array([0., 0., 0., 0., 0., 1., 0., 0., 1., 0.])), (8, array([0., 0., 0., 1., 0., 0., 0., 0., 1., 0.])), (9, array([0., 1., 0., 0., 0., 0., 0., 0., 1., 0.])), (10, array([0., 0., 0., 0., 0., 0., 0., 1., 1., 0.])), (11, array([0., 1., 0., 0., 0., 0., 0., 0., 1., 0.])), (12, array([0., 1., 0., 0., 0., 1., 0., 0., 1., 0.])), (13, array([0., 1., 0., 0., 0., 0., 0., 1., 1., 0.])), (14, array([0., 0., 0., 0., 0., 0., 1., 0., 1., 0.])), (15, array([0., 0., 0., 0., 0., 1., 1., 0., 1., 0.])), (16, array([0., 0., 0., 1., 0., 0., 1., 0., 1., 0.])), (17, array([0., 0., 0., 0., 1., 0., 0., 0., 1., 0.])), (18, array([0., 1., 0., 0., 1., 0., 0., 0., 1., 0.])), (19, array([0., 0., 0., 0., 1., 0., 1., 0., 1., 0.])), (20, array([0., 0., 0., 0., 2., 0., 0., 0., 1., 0.]))]\n",
      "10\n",
      "<function PeakResponseMapping._median_filter at 0x7f8772a148c8>\n",
      "addedmodule5\n",
      "enable_peak_stimulation on\n",
      "[2019-11-03 20:02:08,360] _name: network_trainer\n",
      "data_loaders:\n",
      "  _name: fetch_data\n",
      "  dataset: \n",
      "    _name: virtual_OR_classification\n",
      "    data_dir: ../../../../../../../media/James/BigData/Virtual_OR_Dataset/     \n",
      "    year: 2019\n",
      "  batch_size: 16\n",
      "  num_workers: 4\n",
      "  dataloader_flag: counting    ##control how to load data\n",
      "  transform:\n",
      "    _name: image_transform\n",
      "    image_size: [448, 448]\n",
      "    mean: [0.485, 0.456, 0.406]\n",
      "    std: [0.229, 0.224, 0.225]\n",
      "  train_augmentation:\n",
      "    horizontal_flip: 0.5\n",
      "  test_batch_size: 1          ## only support test batch of 1\n",
      "  train_splits:\n",
      "    - train\n",
      "  test_splits:\n",
      "    - val\n",
      "model:\n",
      "  _name: peak_response_mapping\n",
      "  backbone:\n",
      "    _name: fc_resnet50\n",
      "    channels: 30\n",
      "  win_size: 3\n",
      "  sub_pixel_locating_factor: 1\n",
      "  enable_peak_stimulation: true\n",
      "  peak_stimulation: addedmodule5\n",
      "criterion1:\n",
      "  _name: class_reg_loss98_6                ## loss used in the first stage of the algorithm\n",
      "criterion2:\n",
      "  _name: class_reg_loss96_7_6               ## loss used in the second stage of the algorithm\n",
      "optimizer:\n",
      "  _name: sgd_optimizer\n",
      "  lr: 0.01\n",
      "  momentum: 0.9\n",
      "  weight_decay: 1.0e-4\n",
      "parameter:\n",
      "  _name: finetune\n",
      "  base_lr: 0.01\n",
      "  groups:\n",
      "    'features': 0.01\n",
      "meters:\n",
      "  loss:\n",
      "    _name: loss_meter\n",
      "max_epoch: 300\n",
      "device: cuda\n",
      "epoch_stage1: 20\n",
      "train_method: joint_train\n",
      "path_history: ./coco_counting        ## path for saving checkpoints and training history\n",
      "hooks:\n",
      "  on_start:\n",
      "    -\n",
      "      _name: print_state\n",
      "      formats:\n",
      "        - '@CONFIG'\n",
      "        - 'Model: {model}'\n",
      "      join_str: '\\n'\n",
      "  on_end_epoch: \n",
      "    - \n",
      "      _name: print_state\n",
      "      formats:\n",
      "        - 'epoch: {epoch_idx}'\n",
      "        - 'classification_loss: {metrics[train_loss]:.4f}'\n",
      "  save_checkpoints: \n",
      "    -\n",
      "      _name: checkpoint\n",
      "      save_step: -1     ## save checkpoint step, negative step means not saving\n",
      "Model: DataParallel(\n",
      "  (module): PeakResponseMapping(\n",
      "    (backbond): FC_ResNet(\n",
      "      (features): Sequential(\n",
      "        (0): Conv2d(3, 64, kernel_size=(7, 7), stride=(2, 2), padding=(3, 3), bias=False)\n",
      "        (1): BatchNorm2d(64, eps=1e-05, momentum=0.1, affine=True, track_running_stats=True)\n",
      "        (2): ReLU(inplace)\n",
      "        (3): MaxPool2d(kernel_size=3, stride=2, padding=1, dilation=1, ceil_mode=False)\n",
      "        (4): Sequential(\n",
      "          (0): Bottleneck(\n",
      "            (conv1): Conv2d(64, 64, kernel_size=(1, 1), stride=(1, 1), bias=False)\n",
      "            (bn1): BatchNorm2d(64, eps=1e-05, momentum=0.1, affine=True, track_running_stats=True)\n",
      "            (conv2): Conv2d(64, 64, kernel_size=(3, 3), stride=(1, 1), padding=(1, 1), bias=False)\n",
      "            (bn2): BatchNorm2d(64, eps=1e-05, momentum=0.1, affine=True, track_running_stats=True)\n",
      "            (conv3): Conv2d(64, 256, kernel_size=(1, 1), stride=(1, 1), bias=False)\n",
      "            (bn3): BatchNorm2d(256, eps=1e-05, momentum=0.1, affine=True, track_running_stats=True)\n",
      "            (relu): ReLU(inplace)\n",
      "            (downsample): Sequential(\n",
      "              (0): Conv2d(64, 256, kernel_size=(1, 1), stride=(1, 1), bias=False)\n",
      "              (1): BatchNorm2d(256, eps=1e-05, momentum=0.1, affine=True, track_running_stats=True)\n",
      "            )\n",
      "          )\n",
      "          (1): Bottleneck(\n",
      "            (conv1): Conv2d(256, 64, kernel_size=(1, 1), stride=(1, 1), bias=False)\n",
      "            (bn1): BatchNorm2d(64, eps=1e-05, momentum=0.1, affine=True, track_running_stats=True)\n",
      "            (conv2): Conv2d(64, 64, kernel_size=(3, 3), stride=(1, 1), padding=(1, 1), bias=False)\n",
      "            (bn2): BatchNorm2d(64, eps=1e-05, momentum=0.1, affine=True, track_running_stats=True)\n",
      "            (conv3): Conv2d(64, 256, kernel_size=(1, 1), stride=(1, 1), bias=False)\n",
      "            (bn3): BatchNorm2d(256, eps=1e-05, momentum=0.1, affine=True, track_running_stats=True)\n",
      "            (relu): ReLU(inplace)\n",
      "          )\n",
      "          (2): Bottleneck(\n",
      "            (conv1): Conv2d(256, 64, kernel_size=(1, 1), stride=(1, 1), bias=False)\n",
      "            (bn1): BatchNorm2d(64, eps=1e-05, momentum=0.1, affine=True, track_running_stats=True)\n",
      "            (conv2): Conv2d(64, 64, kernel_size=(3, 3), stride=(1, 1), padding=(1, 1), bias=False)\n",
      "            (bn2): BatchNorm2d(64, eps=1e-05, momentum=0.1, affine=True, track_running_stats=True)\n",
      "            (conv3): Conv2d(64, 256, kernel_size=(1, 1), stride=(1, 1), bias=False)\n",
      "            (bn3): BatchNorm2d(256, eps=1e-05, momentum=0.1, affine=True, track_running_stats=True)\n",
      "            (relu): ReLU(inplace)\n",
      "          )\n",
      "        )\n",
      "        (5): Sequential(\n",
      "          (0): Bottleneck(\n",
      "            (conv1): Conv2d(256, 128, kernel_size=(1, 1), stride=(1, 1), bias=False)\n",
      "            (bn1): BatchNorm2d(128, eps=1e-05, momentum=0.1, affine=True, track_running_stats=True)\n",
      "            (conv2): Conv2d(128, 128, kernel_size=(3, 3), stride=(2, 2), padding=(1, 1), bias=False)\n",
      "            (bn2): BatchNorm2d(128, eps=1e-05, momentum=0.1, affine=True, track_running_stats=True)\n",
      "            (conv3): Conv2d(128, 512, kernel_size=(1, 1), stride=(1, 1), bias=False)\n",
      "            (bn3): BatchNorm2d(512, eps=1e-05, momentum=0.1, affine=True, track_running_stats=True)\n",
      "            (relu): ReLU(inplace)\n",
      "            (downsample): Sequential(\n",
      "              (0): Conv2d(256, 512, kernel_size=(1, 1), stride=(2, 2), bias=False)\n",
      "              (1): BatchNorm2d(512, eps=1e-05, momentum=0.1, affine=True, track_running_stats=True)\n",
      "            )\n",
      "          )\n",
      "          (1): Bottleneck(\n",
      "            (conv1): Conv2d(512, 128, kernel_size=(1, 1), stride=(1, 1), bias=False)\n",
      "            (bn1): BatchNorm2d(128, eps=1e-05, momentum=0.1, affine=True, track_running_stats=True)\n",
      "            (conv2): Conv2d(128, 128, kernel_size=(3, 3), stride=(1, 1), padding=(1, 1), bias=False)\n",
      "            (bn2): BatchNorm2d(128, eps=1e-05, momentum=0.1, affine=True, track_running_stats=True)\n",
      "            (conv3): Conv2d(128, 512, kernel_size=(1, 1), stride=(1, 1), bias=False)\n",
      "            (bn3): BatchNorm2d(512, eps=1e-05, momentum=0.1, affine=True, track_running_stats=True)\n",
      "            (relu): ReLU(inplace)\n",
      "          )\n",
      "          (2): Bottleneck(\n",
      "            (conv1): Conv2d(512, 128, kernel_size=(1, 1), stride=(1, 1), bias=False)\n",
      "            (bn1): BatchNorm2d(128, eps=1e-05, momentum=0.1, affine=True, track_running_stats=True)\n",
      "            (conv2): Conv2d(128, 128, kernel_size=(3, 3), stride=(1, 1), padding=(1, 1), bias=False)\n",
      "            (bn2): BatchNorm2d(128, eps=1e-05, momentum=0.1, affine=True, track_running_stats=True)\n",
      "            (conv3): Conv2d(128, 512, kernel_size=(1, 1), stride=(1, 1), bias=False)\n",
      "            (bn3): BatchNorm2d(512, eps=1e-05, momentum=0.1, affine=True, track_running_stats=True)\n",
      "            (relu): ReLU(inplace)\n",
      "          )\n",
      "          (3): Bottleneck(\n",
      "            (conv1): Conv2d(512, 128, kernel_size=(1, 1), stride=(1, 1), bias=False)\n",
      "            (bn1): BatchNorm2d(128, eps=1e-05, momentum=0.1, affine=True, track_running_stats=True)\n",
      "            (conv2): Conv2d(128, 128, kernel_size=(3, 3), stride=(1, 1), padding=(1, 1), bias=False)\n",
      "            (bn2): BatchNorm2d(128, eps=1e-05, momentum=0.1, affine=True, track_running_stats=True)\n",
      "            (conv3): Conv2d(128, 512, kernel_size=(1, 1), stride=(1, 1), bias=False)\n",
      "            (bn3): BatchNorm2d(512, eps=1e-05, momentum=0.1, affine=True, track_running_stats=True)\n",
      "            (relu): ReLU(inplace)\n",
      "          )\n",
      "        )\n",
      "        (6): Sequential(\n",
      "          (0): Bottleneck(\n",
      "            (conv1): Conv2d(512, 256, kernel_size=(1, 1), stride=(1, 1), bias=False)\n",
      "            (bn1): BatchNorm2d(256, eps=1e-05, momentum=0.1, affine=True, track_running_stats=True)\n",
      "            (conv2): Conv2d(256, 256, kernel_size=(3, 3), stride=(2, 2), padding=(1, 1), bias=False)\n",
      "            (bn2): BatchNorm2d(256, eps=1e-05, momentum=0.1, affine=True, track_running_stats=True)\n",
      "            (conv3): Conv2d(256, 1024, kernel_size=(1, 1), stride=(1, 1), bias=False)\n",
      "            (bn3): BatchNorm2d(1024, eps=1e-05, momentum=0.1, affine=True, track_running_stats=True)\n",
      "            (relu): ReLU(inplace)\n",
      "            (downsample): Sequential(\n",
      "              (0): Conv2d(512, 1024, kernel_size=(1, 1), stride=(2, 2), bias=False)\n",
      "              (1): BatchNorm2d(1024, eps=1e-05, momentum=0.1, affine=True, track_running_stats=True)\n",
      "            )\n",
      "          )\n",
      "          (1): Bottleneck(\n",
      "            (conv1): Conv2d(1024, 256, kernel_size=(1, 1), stride=(1, 1), bias=False)\n",
      "            (bn1): BatchNorm2d(256, eps=1e-05, momentum=0.1, affine=True, track_running_stats=True)\n",
      "            (conv2): Conv2d(256, 256, kernel_size=(3, 3), stride=(1, 1), padding=(1, 1), bias=False)\n",
      "            (bn2): BatchNorm2d(256, eps=1e-05, momentum=0.1, affine=True, track_running_stats=True)\n",
      "            (conv3): Conv2d(256, 1024, kernel_size=(1, 1), stride=(1, 1), bias=False)\n",
      "            (bn3): BatchNorm2d(1024, eps=1e-05, momentum=0.1, affine=True, track_running_stats=True)\n",
      "            (relu): ReLU(inplace)\n",
      "          )\n",
      "          (2): Bottleneck(\n",
      "            (conv1): Conv2d(1024, 256, kernel_size=(1, 1), stride=(1, 1), bias=False)\n",
      "            (bn1): BatchNorm2d(256, eps=1e-05, momentum=0.1, affine=True, track_running_stats=True)\n",
      "            (conv2): Conv2d(256, 256, kernel_size=(3, 3), stride=(1, 1), padding=(1, 1), bias=False)\n",
      "            (bn2): BatchNorm2d(256, eps=1e-05, momentum=0.1, affine=True, track_running_stats=True)\n",
      "            (conv3): Conv2d(256, 1024, kernel_size=(1, 1), stride=(1, 1), bias=False)\n",
      "            (bn3): BatchNorm2d(1024, eps=1e-05, momentum=0.1, affine=True, track_running_stats=True)\n",
      "            (relu): ReLU(inplace)\n",
      "          )\n",
      "          (3): Bottleneck(\n",
      "            (conv1): Conv2d(1024, 256, kernel_size=(1, 1), stride=(1, 1), bias=False)\n",
      "            (bn1): BatchNorm2d(256, eps=1e-05, momentum=0.1, affine=True, track_running_stats=True)\n",
      "            (conv2): Conv2d(256, 256, kernel_size=(3, 3), stride=(1, 1), padding=(1, 1), bias=False)\n",
      "            (bn2): BatchNorm2d(256, eps=1e-05, momentum=0.1, affine=True, track_running_stats=True)\n",
      "            (conv3): Conv2d(256, 1024, kernel_size=(1, 1), stride=(1, 1), bias=False)\n",
      "            (bn3): BatchNorm2d(1024, eps=1e-05, momentum=0.1, affine=True, track_running_stats=True)\n",
      "            (relu): ReLU(inplace)\n",
      "          )\n",
      "          (4): Bottleneck(\n",
      "            (conv1): Conv2d(1024, 256, kernel_size=(1, 1), stride=(1, 1), bias=False)\n",
      "            (bn1): BatchNorm2d(256, eps=1e-05, momentum=0.1, affine=True, track_running_stats=True)\n",
      "            (conv2): Conv2d(256, 256, kernel_size=(3, 3), stride=(1, 1), padding=(1, 1), bias=False)\n",
      "            (bn2): BatchNorm2d(256, eps=1e-05, momentum=0.1, affine=True, track_running_stats=True)\n",
      "            (conv3): Conv2d(256, 1024, kernel_size=(1, 1), stride=(1, 1), bias=False)\n",
      "            (bn3): BatchNorm2d(1024, eps=1e-05, momentum=0.1, affine=True, track_running_stats=True)\n",
      "            (relu): ReLU(inplace)\n",
      "          )\n",
      "          (5): Bottleneck(\n",
      "            (conv1): Conv2d(1024, 256, kernel_size=(1, 1), stride=(1, 1), bias=False)\n",
      "            (bn1): BatchNorm2d(256, eps=1e-05, momentum=0.1, affine=True, track_running_stats=True)\n",
      "            (conv2): Conv2d(256, 256, kernel_size=(3, 3), stride=(1, 1), padding=(1, 1), bias=False)\n",
      "            (bn2): BatchNorm2d(256, eps=1e-05, momentum=0.1, affine=True, track_running_stats=True)\n",
      "            (conv3): Conv2d(256, 1024, kernel_size=(1, 1), stride=(1, 1), bias=False)\n",
      "            (bn3): BatchNorm2d(1024, eps=1e-05, momentum=0.1, affine=True, track_running_stats=True)\n",
      "            (relu): ReLU(inplace)\n",
      "          )\n",
      "        )\n",
      "        (7): Sequential(\n",
      "          (0): Bottleneck(\n",
      "            (conv1): Conv2d(1024, 512, kernel_size=(1, 1), stride=(1, 1), bias=False)\n",
      "            (bn1): BatchNorm2d(512, eps=1e-05, momentum=0.1, affine=True, track_running_stats=True)\n",
      "            (conv2): Conv2d(512, 512, kernel_size=(3, 3), stride=(2, 2), padding=(1, 1), bias=False)\n",
      "            (bn2): BatchNorm2d(512, eps=1e-05, momentum=0.1, affine=True, track_running_stats=True)\n",
      "            (conv3): Conv2d(512, 2048, kernel_size=(1, 1), stride=(1, 1), bias=False)\n",
      "            (bn3): BatchNorm2d(2048, eps=1e-05, momentum=0.1, affine=True, track_running_stats=True)\n",
      "            (relu): ReLU(inplace)\n",
      "            (downsample): Sequential(\n",
      "              (0): Conv2d(1024, 2048, kernel_size=(1, 1), stride=(2, 2), bias=False)\n",
      "              (1): BatchNorm2d(2048, eps=1e-05, momentum=0.1, affine=True, track_running_stats=True)\n",
      "            )\n",
      "          )\n",
      "          (1): Bottleneck(\n",
      "            (conv1): Conv2d(2048, 512, kernel_size=(1, 1), stride=(1, 1), bias=False)\n",
      "            (bn1): BatchNorm2d(512, eps=1e-05, momentum=0.1, affine=True, track_running_stats=True)\n",
      "            (conv2): Conv2d(512, 512, kernel_size=(3, 3), stride=(1, 1), padding=(1, 1), bias=False)\n",
      "            (bn2): BatchNorm2d(512, eps=1e-05, momentum=0.1, affine=True, track_running_stats=True)\n",
      "            (conv3): Conv2d(512, 2048, kernel_size=(1, 1), stride=(1, 1), bias=False)\n",
      "            (bn3): BatchNorm2d(2048, eps=1e-05, momentum=0.1, affine=True, track_running_stats=True)\n",
      "            (relu): ReLU(inplace)\n",
      "          )\n",
      "          (2): Bottleneck(\n",
      "            (conv1): Conv2d(2048, 512, kernel_size=(1, 1), stride=(1, 1), bias=False)\n",
      "            (bn1): BatchNorm2d(512, eps=1e-05, momentum=0.1, affine=True, track_running_stats=True)\n",
      "            (conv2): Conv2d(512, 512, kernel_size=(3, 3), stride=(1, 1), padding=(1, 1), bias=False)\n",
      "            (bn2): BatchNorm2d(512, eps=1e-05, momentum=0.1, affine=True, track_running_stats=True)\n",
      "            (conv3): Conv2d(512, 2048, kernel_size=(1, 1), stride=(1, 1), bias=False)\n",
      "            (bn3): BatchNorm2d(2048, eps=1e-05, momentum=0.1, affine=True, track_running_stats=True)\n",
      "            (relu): ReLU(inplace)\n",
      "          )\n",
      "        )\n",
      "      )\n",
      "      (classifier): Sequential(\n",
      "        (0): Conv2d(2048, 30, kernel_size=(1, 1), stride=(1, 1))\n",
      "      )\n",
      "    )\n",
      "    (addedmodule): Addedmodule(\n",
      "      (branch1): Sequential(\n",
      "        (0): BatchNorm2d(15, eps=1e-05, momentum=0.1, affine=True, track_running_stats=True)\n",
      "        (1): ReLU(inplace)\n",
      "        (2): Conv2d(15, 10, kernel_size=(1, 1), stride=(1, 1))\n",
      "      )\n",
      "      (branch2): Sequential(\n",
      "        (0): BatchNorm2d(15, eps=1e-05, momentum=0.1, affine=True, track_running_stats=True)\n",
      "        (1): ReLU(inplace)\n",
      "        (2): Conv2d(15, 10, kernel_size=(1, 1), stride=(1, 1))\n",
      "      )\n",
      "    )\n",
      "    (jointable): Jointable()\n",
      "  )\n",
      ")\n"
     ]
    },
    {
     "data": {
      "application/vnd.jupyter.widget-view+json": {
       "model_id": "91fe0c7735c548bda9f469d0404fb3e5",
       "version_major": 2,
       "version_minor": 0
      },
      "text/plain": [
       "HBox(children=(IntProgress(value=0, max=300), HTML(value='')))"
      ]
     },
     "metadata": {},
     "output_type": "display_data"
    },
    {
     "name": "stdout",
     "output_type": "stream",
     "text": [
      "learning rate: 0.0001\n",
      "learning rate: 0.01\n",
      "stage 1 of the training: using criterion1\n"
     ]
    },
    {
     "data": {
      "application/vnd.jupyter.widget-view+json": {
       "model_id": "",
       "version_major": 2,
       "version_minor": 0
      },
      "text/plain": [
       "HBox(children=(IntProgress(value=0, description='train', max=2, style=ProgressStyle(description_width='initial…"
      ]
     },
     "metadata": {},
     "output_type": "display_data"
    },
    {
     "name": "stdout",
     "output_type": "stream",
     "text": [
      "validation start\n"
     ]
    },
    {
     "data": {
      "application/vnd.jupyter.widget-view+json": {
       "model_id": "",
       "version_major": 2,
       "version_minor": 0
      },
      "text/plain": [
       "HBox(children=(IntProgress(value=0, description='val', max=10, style=ProgressStyle(description_width='initial'…"
      ]
     },
     "metadata": {},
     "output_type": "display_data"
    },
    {
     "name": "stdout",
     "output_type": "stream",
     "text": [
      "mrmse_nz: nan, rmrmse_nz: nan, mrmse: 0.603156, rmrmse: 0.373429 \n",
      "[2019-11-03 20:02:18,949] epoch: 0 | classification_loss: 2.5262\n",
      "[2019-11-03 20:02:20,073] checkpoint created at /home/James/Documents/CountSeg/train/coco_counting/model_latest.pt\n",
      "[2019-11-03 20:02:21,486] checkpoint created at /home/James/Documents/CountSeg/train/coco_counting/model_rmrmse.pt\n",
      "\n",
      "--------------------------------------------------------\n",
      "\n",
      "learning rate: 0.0001\n",
      "learning rate: 0.01\n",
      "stage 1 of the training: using criterion1\n"
     ]
    },
    {
     "data": {
      "application/vnd.jupyter.widget-view+json": {
       "model_id": "",
       "version_major": 2,
       "version_minor": 0
      },
      "text/plain": [
       "HBox(children=(IntProgress(value=0, description='train', max=2, style=ProgressStyle(description_width='initial…"
      ]
     },
     "metadata": {},
     "output_type": "display_data"
    },
    {
     "name": "stdout",
     "output_type": "stream",
     "text": [
      "validation start\n"
     ]
    },
    {
     "data": {
      "application/vnd.jupyter.widget-view+json": {
       "model_id": "",
       "version_major": 2,
       "version_minor": 0
      },
      "text/plain": [
       "HBox(children=(IntProgress(value=0, description='val', max=10, style=ProgressStyle(description_width='initial'…"
      ]
     },
     "metadata": {},
     "output_type": "display_data"
    },
    {
     "name": "stdout",
     "output_type": "stream",
     "text": [
      "mrmse_nz: nan, rmrmse_nz: nan, mrmse: 0.603156, rmrmse: 0.373429 \n",
      "[2019-11-03 20:02:23,739] epoch: 1 | classification_loss: 2.4213\n",
      "[2019-11-03 20:02:24,869] checkpoint created at /home/James/Documents/CountSeg/train/coco_counting/model_latest.pt\n",
      "\n",
      "--------------------------------------------------------\n",
      "\n",
      "learning rate: 0.0001\n",
      "learning rate: 0.01\n",
      "stage 1 of the training: using criterion1\n"
     ]
    },
    {
     "data": {
      "application/vnd.jupyter.widget-view+json": {
       "model_id": "",
       "version_major": 2,
       "version_minor": 0
      },
      "text/plain": [
       "HBox(children=(IntProgress(value=0, description='train', max=2, style=ProgressStyle(description_width='initial…"
      ]
     },
     "metadata": {},
     "output_type": "display_data"
    },
    {
     "name": "stdout",
     "output_type": "stream",
     "text": [
      "validation start\n"
     ]
    },
    {
     "data": {
      "application/vnd.jupyter.widget-view+json": {
       "model_id": "",
       "version_major": 2,
       "version_minor": 0
      },
      "text/plain": [
       "HBox(children=(IntProgress(value=0, description='val', max=10, style=ProgressStyle(description_width='initial'…"
      ]
     },
     "metadata": {},
     "output_type": "display_data"
    },
    {
     "name": "stdout",
     "output_type": "stream",
     "text": [
      "mrmse_nz: nan, rmrmse_nz: nan, mrmse: 0.603156, rmrmse: 0.373429 \n",
      "[2019-11-03 20:02:27,264] epoch: 2 | classification_loss: 2.2453\n",
      "[2019-11-03 20:02:28,535] checkpoint created at /home/James/Documents/CountSeg/train/coco_counting/model_latest.pt\n",
      "\n",
      "--------------------------------------------------------\n",
      "\n",
      "learning rate: 0.0001\n",
      "learning rate: 0.01\n",
      "stage 1 of the training: using criterion1\n"
     ]
    },
    {
     "data": {
      "application/vnd.jupyter.widget-view+json": {
       "model_id": "",
       "version_major": 2,
       "version_minor": 0
      },
      "text/plain": [
       "HBox(children=(IntProgress(value=0, description='train', max=2, style=ProgressStyle(description_width='initial…"
      ]
     },
     "metadata": {},
     "output_type": "display_data"
    },
    {
     "name": "stdout",
     "output_type": "stream",
     "text": [
      "validation start\n"
     ]
    },
    {
     "data": {
      "application/vnd.jupyter.widget-view+json": {
       "model_id": "",
       "version_major": 2,
       "version_minor": 0
      },
      "text/plain": [
       "HBox(children=(IntProgress(value=0, description='val', max=10, style=ProgressStyle(description_width='initial'…"
      ]
     },
     "metadata": {},
     "output_type": "display_data"
    },
    {
     "name": "stdout",
     "output_type": "stream",
     "text": [
      "mrmse_nz: nan, rmrmse_nz: nan, mrmse: 0.603156, rmrmse: 0.373429 \n",
      "[2019-11-03 20:02:30,828] epoch: 3 | classification_loss: 1.9046\n",
      "[2019-11-03 20:02:32,177] checkpoint created at /home/James/Documents/CountSeg/train/coco_counting/model_latest.pt\n",
      "\n",
      "--------------------------------------------------------\n",
      "\n",
      "learning rate: 0.0001\n",
      "learning rate: 0.01\n",
      "stage 1 of the training: using criterion1\n"
     ]
    },
    {
     "data": {
      "application/vnd.jupyter.widget-view+json": {
       "model_id": "",
       "version_major": 2,
       "version_minor": 0
      },
      "text/plain": [
       "HBox(children=(IntProgress(value=0, description='train', max=2, style=ProgressStyle(description_width='initial…"
      ]
     },
     "metadata": {},
     "output_type": "display_data"
    },
    {
     "name": "stdout",
     "output_type": "stream",
     "text": [
      "validation start\n"
     ]
    },
    {
     "data": {
      "application/vnd.jupyter.widget-view+json": {
       "model_id": "",
       "version_major": 2,
       "version_minor": 0
      },
      "text/plain": [
       "HBox(children=(IntProgress(value=0, description='val', max=10, style=ProgressStyle(description_width='initial'…"
      ]
     },
     "metadata": {},
     "output_type": "display_data"
    },
    {
     "name": "stdout",
     "output_type": "stream",
     "text": [
      "mrmse_nz: nan, rmrmse_nz: nan, mrmse: 0.603156, rmrmse: 0.373429 \n",
      "[2019-11-03 20:02:34,407] epoch: 4 | classification_loss: 1.8032\n",
      "[2019-11-03 20:02:35,516] checkpoint created at /home/James/Documents/CountSeg/train/coco_counting/model_latest.pt\n",
      "\n",
      "--------------------------------------------------------\n",
      "\n",
      "learning rate: 0.0001\n",
      "learning rate: 0.01\n",
      "stage 1 of the training: using criterion1\n"
     ]
    },
    {
     "data": {
      "application/vnd.jupyter.widget-view+json": {
       "model_id": "",
       "version_major": 2,
       "version_minor": 0
      },
      "text/plain": [
       "HBox(children=(IntProgress(value=0, description='train', max=2, style=ProgressStyle(description_width='initial…"
      ]
     },
     "metadata": {},
     "output_type": "display_data"
    },
    {
     "name": "stdout",
     "output_type": "stream",
     "text": [
      "validation start\n"
     ]
    },
    {
     "data": {
      "application/vnd.jupyter.widget-view+json": {
       "model_id": "",
       "version_major": 2,
       "version_minor": 0
      },
      "text/plain": [
       "HBox(children=(IntProgress(value=0, description='val', max=10, style=ProgressStyle(description_width='initial'…"
      ]
     },
     "metadata": {},
     "output_type": "display_data"
    },
    {
     "name": "stdout",
     "output_type": "stream",
     "text": [
      "mrmse_nz: nan, rmrmse_nz: nan, mrmse: 0.598024, rmrmse: 0.369801 \n",
      "[2019-11-03 20:02:37,705] epoch: 5 | classification_loss: 1.5647\n",
      "[2019-11-03 20:02:38,931] checkpoint created at /home/James/Documents/CountSeg/train/coco_counting/model_latest.pt\n",
      "[2019-11-03 20:02:40,509] checkpoint created at /home/James/Documents/CountSeg/train/coco_counting/model_rmrmse.pt\n",
      "\n",
      "--------------------------------------------------------\n",
      "\n",
      "learning rate: 0.0001\n",
      "learning rate: 0.01\n",
      "stage 1 of the training: using criterion1\n"
     ]
    },
    {
     "data": {
      "application/vnd.jupyter.widget-view+json": {
       "model_id": "",
       "version_major": 2,
       "version_minor": 0
      },
      "text/plain": [
       "HBox(children=(IntProgress(value=0, description='train', max=2, style=ProgressStyle(description_width='initial…"
      ]
     },
     "metadata": {},
     "output_type": "display_data"
    },
    {
     "name": "stdout",
     "output_type": "stream",
     "text": [
      "validation start\n"
     ]
    },
    {
     "data": {
      "application/vnd.jupyter.widget-view+json": {
       "model_id": "",
       "version_major": 2,
       "version_minor": 0
      },
      "text/plain": [
       "HBox(children=(IntProgress(value=0, description='val', max=10, style=ProgressStyle(description_width='initial'…"
      ]
     },
     "metadata": {},
     "output_type": "display_data"
    },
    {
     "name": "stdout",
     "output_type": "stream",
     "text": [
      "mrmse_nz: nan, rmrmse_nz: nan, mrmse: 0.503156, rmrmse: 0.302719 \n",
      "[2019-11-03 20:02:42,741] epoch: 6 | classification_loss: 1.3949\n",
      "[2019-11-03 20:02:43,913] checkpoint created at /home/James/Documents/CountSeg/train/coco_counting/model_latest.pt\n",
      "[2019-11-03 20:02:45,273] checkpoint created at /home/James/Documents/CountSeg/train/coco_counting/model_rmrmse.pt\n",
      "\n",
      "--------------------------------------------------------\n",
      "\n",
      "learning rate: 0.0001\n",
      "learning rate: 0.01\n",
      "stage 1 of the training: using criterion1\n"
     ]
    },
    {
     "data": {
      "application/vnd.jupyter.widget-view+json": {
       "model_id": "",
       "version_major": 2,
       "version_minor": 0
      },
      "text/plain": [
       "HBox(children=(IntProgress(value=0, description='train', max=2, style=ProgressStyle(description_width='initial…"
      ]
     },
     "metadata": {},
     "output_type": "display_data"
    },
    {
     "name": "stdout",
     "output_type": "stream",
     "text": [
      "validation start\n"
     ]
    },
    {
     "data": {
      "application/vnd.jupyter.widget-view+json": {
       "model_id": "",
       "version_major": 2,
       "version_minor": 0
      },
      "text/plain": [
       "HBox(children=(IntProgress(value=0, description='val', max=10, style=ProgressStyle(description_width='initial'…"
      ]
     },
     "metadata": {},
     "output_type": "display_data"
    },
    {
     "name": "stdout",
     "output_type": "stream",
     "text": [
      "mrmse_nz: nan, rmrmse_nz: nan, mrmse: 0.503156, rmrmse: 0.302719 \n",
      "[2019-11-03 20:02:47,503] epoch: 7 | classification_loss: 1.2523\n",
      "[2019-11-03 20:02:48,547] checkpoint created at /home/James/Documents/CountSeg/train/coco_counting/model_latest.pt\n",
      "\n",
      "--------------------------------------------------------\n",
      "\n",
      "learning rate: 0.0001\n",
      "learning rate: 0.01\n",
      "stage 1 of the training: using criterion1\n"
     ]
    },
    {
     "data": {
      "application/vnd.jupyter.widget-view+json": {
       "model_id": "",
       "version_major": 2,
       "version_minor": 0
      },
      "text/plain": [
       "HBox(children=(IntProgress(value=0, description='train', max=2, style=ProgressStyle(description_width='initial…"
      ]
     },
     "metadata": {},
     "output_type": "display_data"
    },
    {
     "name": "stdout",
     "output_type": "stream",
     "text": [
      "validation start\n"
     ]
    },
    {
     "data": {
      "application/vnd.jupyter.widget-view+json": {
       "model_id": "",
       "version_major": 2,
       "version_minor": 0
      },
      "text/plain": [
       "HBox(children=(IntProgress(value=0, description='val', max=10, style=ProgressStyle(description_width='initial'…"
      ]
     },
     "metadata": {},
     "output_type": "display_data"
    },
    {
     "name": "stdout",
     "output_type": "stream",
     "text": [
      "mrmse_nz: nan, rmrmse_nz: nan, mrmse: 0.503156, rmrmse: 0.302719 \n",
      "[2019-11-03 20:02:50,808] epoch: 8 | classification_loss: 1.1027\n",
      "[2019-11-03 20:02:51,884] checkpoint created at /home/James/Documents/CountSeg/train/coco_counting/model_latest.pt\n",
      "\n",
      "--------------------------------------------------------\n",
      "\n",
      "learning rate: 0.0001\n",
      "learning rate: 0.01\n",
      "stage 1 of the training: using criterion1\n"
     ]
    },
    {
     "data": {
      "application/vnd.jupyter.widget-view+json": {
       "model_id": "",
       "version_major": 2,
       "version_minor": 0
      },
      "text/plain": [
       "HBox(children=(IntProgress(value=0, description='train', max=2, style=ProgressStyle(description_width='initial…"
      ]
     },
     "metadata": {},
     "output_type": "display_data"
    },
    {
     "name": "stdout",
     "output_type": "stream",
     "text": [
      "validation start\n"
     ]
    },
    {
     "data": {
      "application/vnd.jupyter.widget-view+json": {
       "model_id": "",
       "version_major": 2,
       "version_minor": 0
      },
      "text/plain": [
       "HBox(children=(IntProgress(value=0, description='val', max=10, style=ProgressStyle(description_width='initial'…"
      ]
     },
     "metadata": {},
     "output_type": "display_data"
    },
    {
     "name": "stdout",
     "output_type": "stream",
     "text": [
      "mrmse_nz: nan, rmrmse_nz: nan, mrmse: 0.503156, rmrmse: 0.302719 \n",
      "[2019-11-03 20:02:54,143] epoch: 9 | classification_loss: 0.9863\n",
      "[2019-11-03 20:02:55,366] checkpoint created at /home/James/Documents/CountSeg/train/coco_counting/model_latest.pt\n",
      "\n",
      "--------------------------------------------------------\n",
      "\n",
      "learning rate: 0.0001\n",
      "learning rate: 0.01\n",
      "stage 1 of the training: using criterion1\n"
     ]
    },
    {
     "data": {
      "application/vnd.jupyter.widget-view+json": {
       "model_id": "64fca878bb1047ee86bbb00cdc66ffe2",
       "version_major": 2,
       "version_minor": 0
      },
      "text/plain": [
       "HBox(children=(IntProgress(value=0, description='train', max=2, style=ProgressStyle(description_width='initial…"
      ]
     },
     "metadata": {},
     "output_type": "display_data"
    },
    {
     "name": "stderr",
     "output_type": "stream",
     "text": [
      "Processing is canceled by user.\n",
      "Process Process-84:\n",
      "Process Process-82:\n",
      "Process Process-83:\n",
      "Process Process-81:\n",
      "Traceback (most recent call last):\n",
      "Traceback (most recent call last):\n",
      "  File \"/home/James/.conda/envs/PRM/lib/python3.6/multiprocessing/process.py\", line 258, in _bootstrap\n",
      "    self.run()\n",
      "  File \"/home/James/.conda/envs/PRM/lib/python3.6/multiprocessing/process.py\", line 258, in _bootstrap\n",
      "    self.run()\n",
      "Traceback (most recent call last):\n",
      "Traceback (most recent call last):\n",
      "  File \"/home/James/.conda/envs/PRM/lib/python3.6/multiprocessing/process.py\", line 93, in run\n",
      "    self._target(*self._args, **self._kwargs)\n",
      "  File \"/home/James/.conda/envs/PRM/lib/python3.6/multiprocessing/process.py\", line 93, in run\n",
      "    self._target(*self._args, **self._kwargs)\n",
      "  File \"/home/James/.conda/envs/PRM/lib/python3.6/site-packages/torch/utils/data/dataloader.py\", line 96, in _worker_loop\n",
      "    r = index_queue.get(timeout=MANAGER_STATUS_CHECK_INTERVAL)\n",
      "  File \"/home/James/.conda/envs/PRM/lib/python3.6/multiprocessing/process.py\", line 258, in _bootstrap\n",
      "    self.run()\n",
      "  File \"/home/James/.conda/envs/PRM/lib/python3.6/multiprocessing/process.py\", line 258, in _bootstrap\n",
      "    self.run()\n",
      "  File \"/home/James/.conda/envs/PRM/lib/python3.6/site-packages/torch/utils/data/dataloader.py\", line 96, in _worker_loop\n",
      "    r = index_queue.get(timeout=MANAGER_STATUS_CHECK_INTERVAL)\n",
      "  File \"/home/James/.conda/envs/PRM/lib/python3.6/multiprocessing/queues.py\", line 104, in get\n",
      "    if not self._poll(timeout):\n",
      "  File \"/home/James/.conda/envs/PRM/lib/python3.6/multiprocessing/process.py\", line 93, in run\n",
      "    self._target(*self._args, **self._kwargs)\n",
      "  File \"/home/James/.conda/envs/PRM/lib/python3.6/multiprocessing/queues.py\", line 104, in get\n",
      "    if not self._poll(timeout):\n",
      "  File \"/home/James/.conda/envs/PRM/lib/python3.6/multiprocessing/process.py\", line 93, in run\n",
      "    self._target(*self._args, **self._kwargs)\n",
      "  File \"/home/James/.conda/envs/PRM/lib/python3.6/multiprocessing/connection.py\", line 257, in poll\n",
      "    return self._poll(timeout)\n",
      "  File \"/home/James/.conda/envs/PRM/lib/python3.6/multiprocessing/connection.py\", line 257, in poll\n",
      "    return self._poll(timeout)\n",
      "  File \"/home/James/.conda/envs/PRM/lib/python3.6/site-packages/torch/utils/data/dataloader.py\", line 106, in _worker_loop\n",
      "    samples = collate_fn([dataset[i] for i in batch_indices])\n",
      "  File \"/home/James/.conda/envs/PRM/lib/python3.6/site-packages/torch/utils/data/dataloader.py\", line 96, in _worker_loop\n",
      "    r = index_queue.get(timeout=MANAGER_STATUS_CHECK_INTERVAL)\n",
      "  File \"/home/James/.conda/envs/PRM/lib/python3.6/multiprocessing/connection.py\", line 414, in _poll\n",
      "    r = wait([self], timeout)\n",
      "  File \"/home/James/.conda/envs/PRM/lib/python3.6/multiprocessing/connection.py\", line 414, in _poll\n",
      "    r = wait([self], timeout)\n",
      "  File \"/home/James/.conda/envs/PRM/lib/python3.6/site-packages/torch/utils/data/dataloader.py\", line 106, in <listcomp>\n",
      "    samples = collate_fn([dataset[i] for i in batch_indices])\n",
      "  File \"/home/James/.conda/envs/PRM/lib/python3.6/multiprocessing/connection.py\", line 911, in wait\n",
      "    ready = selector.select(timeout)\n",
      "  File \"/home/James/.conda/envs/PRM/lib/python3.6/multiprocessing/queues.py\", line 104, in get\n",
      "    if not self._poll(timeout):\n",
      "  File \"/home/James/.conda/envs/PRM/lib/python3.6/multiprocessing/connection.py\", line 911, in wait\n",
      "    ready = selector.select(timeout)\n",
      "  File \"/home/James/Documents/CountSeg/Nest-pytorch/install/datasets.py\", line 483, in __getitem__\n",
      "    img = self.transform(img)\n",
      "  File \"/home/James/.conda/envs/PRM/lib/python3.6/selectors.py\", line 376, in select\n",
      "    fd_event_list = self._poll.poll(timeout)\n",
      "  File \"/home/James/.conda/envs/PRM/lib/python3.6/multiprocessing/connection.py\", line 257, in poll\n",
      "    return self._poll(timeout)\n",
      "  File \"/home/James/.conda/envs/PRM/lib/python3.6/selectors.py\", line 376, in select\n",
      "    fd_event_list = self._poll.poll(timeout)\n",
      "  File \"/home/James/.conda/envs/PRM/lib/python3.6/site-packages/torchvision/transforms/transforms.py\", line 49, in __call__\n",
      "    img = t(img)\n",
      "KeyboardInterrupt\n",
      "KeyboardInterrupt\n",
      "  File \"/home/James/.conda/envs/PRM/lib/python3.6/multiprocessing/connection.py\", line 414, in _poll\n",
      "    r = wait([self], timeout)\n",
      "  File \"/home/James/.conda/envs/PRM/lib/python3.6/site-packages/torchvision/transforms/transforms.py\", line 175, in __call__\n",
      "    return F.resize(img, self.size, self.interpolation)\n",
      "  File \"/home/James/.conda/envs/PRM/lib/python3.6/site-packages/torchvision/transforms/functional.py\", line 206, in resize\n",
      "    return img.resize(size[::-1], interpolation)\n",
      "  File \"/home/James/.conda/envs/PRM/lib/python3.6/site-packages/PIL/Image.py\", line 1819, in resize\n",
      "    return self._new(self.im.resize(size, resample, box))\n",
      "KeyboardInterrupt\n",
      "  File \"/home/James/.conda/envs/PRM/lib/python3.6/multiprocessing/connection.py\", line 911, in wait\n",
      "    ready = selector.select(timeout)\n",
      "  File \"/home/James/.conda/envs/PRM/lib/python3.6/selectors.py\", line 376, in select\n",
      "    fd_event_list = self._poll.poll(timeout)\n",
      "KeyboardInterrupt\n"
     ]
    }
   ],
   "source": [
    "%matplotlib inline\n",
    "\n",
    "import warnings\n",
    "warnings.filterwarnings(\"ignore\")\n",
    "\n",
    "import os\n",
    "os.environ['CUDA_VISIBLE_DEVICES'] = '0'#'6,7'\n",
    "import json\n",
    "\n",
    "import torch\n",
    "import torch.nn as nn\n",
    "import torch.nn.functional as F\n",
    "import PIL.Image\n",
    "import numpy as np\n",
    "import matplotlib.pyplot as plt\n",
    "from scipy.io import loadmat\n",
    "from scipy.misc import imresize\n",
    "\n",
    "### Access PRM through [Nest](https://github.com/ZhouYanzhao/Nest)\n",
    "\n",
    "from nest import modules, run_tasks\n",
    "\n",
    "### Train a PRM-augmented classification network using image-level labels\n",
    "\n",
    "run_tasks('./config_counting_virtual_OR.yml')"
   ]
  },
  {
   "cell_type": "code",
   "execution_count": null,
   "metadata": {},
   "outputs": [],
   "source": []
  }
 ],
 "metadata": {
  "kernelspec": {
   "display_name": "Python 3",
   "language": "python",
   "name": "python3"
  },
  "language_info": {
   "codemirror_mode": {
    "name": "ipython",
    "version": 3
   },
   "file_extension": ".py",
   "mimetype": "text/x-python",
   "name": "python",
   "nbconvert_exporter": "python",
   "pygments_lexer": "ipython3",
   "version": "3.6.8"
  },
  "ssap_exp_config": {
   "error_alert": "Error Occurs!",
   "initial": [],
   "max_iteration": 1,
   "recv_id": "",
   "running": [],
   "summary": [],
   "version": "1.1.1"
  }
 },
 "nbformat": 4,
 "nbformat_minor": 1
}
